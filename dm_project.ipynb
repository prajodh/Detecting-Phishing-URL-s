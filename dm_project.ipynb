{
 "cells": [
  {
   "cell_type": "markdown",
   "id": "e9de9b85-e407-4f10-b1eb-3d6f5d2f45a8",
   "metadata": {},
   "source": [
    "# Data Extraction"
   ]
  },
  {
   "cell_type": "code",
   "execution_count": 1,
   "id": "c30d6455-b7e0-4d8b-9930-7cbfe1d9c0e9",
   "metadata": {
    "id": "c30d6455-b7e0-4d8b-9930-7cbfe1d9c0e9"
   },
   "outputs": [],
   "source": [
    "import numpy as np\n",
    "import pandas as pd"
   ]
  },
  {
   "cell_type": "code",
   "execution_count": 2,
   "id": "e3197c24-31ae-4259-8fd2-3a3ec9d8d230",
   "metadata": {
    "id": "e3197c24-31ae-4259-8fd2-3a3ec9d8d230"
   },
   "outputs": [],
   "source": [
    "data = pd.read_excel('malicious_phish.xlsb')"
   ]
  },
  {
   "cell_type": "code",
   "execution_count": 3,
   "id": "0b09a4cc-4b23-498a-9960-1b66932e8aa4",
   "metadata": {},
   "outputs": [
    {
     "data": {
      "text/html": [
       "<div>\n",
       "<style scoped>\n",
       "    .dataframe tbody tr th:only-of-type {\n",
       "        vertical-align: middle;\n",
       "    }\n",
       "\n",
       "    .dataframe tbody tr th {\n",
       "        vertical-align: top;\n",
       "    }\n",
       "\n",
       "    .dataframe thead th {\n",
       "        text-align: right;\n",
       "    }\n",
       "</style>\n",
       "<table border=\"1\" class=\"dataframe\">\n",
       "  <thead>\n",
       "    <tr style=\"text-align: right;\">\n",
       "      <th></th>\n",
       "      <th>url</th>\n",
       "      <th>type</th>\n",
       "    </tr>\n",
       "  </thead>\n",
       "  <tbody>\n",
       "    <tr>\n",
       "      <th>0</th>\n",
       "      <td>br-icloud.com.br</td>\n",
       "      <td>phishing</td>\n",
       "    </tr>\n",
       "    <tr>\n",
       "      <th>1</th>\n",
       "      <td>mp3raid.com/music/krizz_kaliko.html</td>\n",
       "      <td>benign</td>\n",
       "    </tr>\n",
       "    <tr>\n",
       "      <th>2</th>\n",
       "      <td>bopsecrets.org/rexroth/cr/1.htm</td>\n",
       "      <td>benign</td>\n",
       "    </tr>\n",
       "    <tr>\n",
       "      <th>3</th>\n",
       "      <td>http://www.garage-pirenne.be/index.php?option=...</td>\n",
       "      <td>defacement</td>\n",
       "    </tr>\n",
       "    <tr>\n",
       "      <th>4</th>\n",
       "      <td>http://adventure-nicaragua.net/index.php?optio...</td>\n",
       "      <td>defacement</td>\n",
       "    </tr>\n",
       "  </tbody>\n",
       "</table>\n",
       "</div>"
      ],
      "text/plain": [
       "                                                 url        type\n",
       "0                                   br-icloud.com.br    phishing\n",
       "1                mp3raid.com/music/krizz_kaliko.html      benign\n",
       "2                    bopsecrets.org/rexroth/cr/1.htm      benign\n",
       "3  http://www.garage-pirenne.be/index.php?option=...  defacement\n",
       "4  http://adventure-nicaragua.net/index.php?optio...  defacement"
      ]
     },
     "execution_count": 3,
     "metadata": {},
     "output_type": "execute_result"
    }
   ],
   "source": [
    "data.head()"
   ]
  },
  {
   "cell_type": "code",
   "execution_count": 4,
   "id": "9b2b4906-1afe-4d28-9191-a55859f8aec8",
   "metadata": {
    "id": "9b2b4906-1afe-4d28-9191-a55859f8aec8"
   },
   "outputs": [
    {
     "name": "stdout",
     "output_type": "stream",
     "text": [
      "<class 'pandas.core.frame.DataFrame'>\n",
      "RangeIndex: 651191 entries, 0 to 651190\n",
      "Data columns (total 2 columns):\n",
      " #   Column  Non-Null Count   Dtype \n",
      "---  ------  --------------   ----- \n",
      " 0   url     651191 non-null  object\n",
      " 1   type    651191 non-null  object\n",
      "dtypes: object(2)\n",
      "memory usage: 9.9+ MB\n"
     ]
    }
   ],
   "source": [
    "data.info()"
   ]
  },
  {
   "cell_type": "code",
   "execution_count": 5,
   "id": "19bc940e-aa22-4e09-a61f-f7c87c259138",
   "metadata": {
    "id": "19bc940e-aa22-4e09-a61f-f7c87c259138"
   },
   "outputs": [],
   "source": [
    "def count_dot(x):\n",
    "    count = 0\n",
    "    for i in x:\n",
    "        if i == \".\":\n",
    "            count+=1\n",
    "    return count\n",
    "\n",
    "\n",
    "data[\"qty_dot\"] = data[\"url\"].apply(count_dot)\n"
   ]
  },
  {
   "cell_type": "code",
   "execution_count": 6,
   "id": "1168e05d-2033-4938-bf1c-11c346889ced",
   "metadata": {
    "id": "1168e05d-2033-4938-bf1c-11c346889ced"
   },
   "outputs": [],
   "source": [
    "def count_hyphen(x):\n",
    "    count = 0\n",
    "    for i in x:\n",
    "        if i == \"-\":\n",
    "            count+=1\n",
    "    return count\n",
    "\n",
    "\n",
    "data[\"qty_hyphen\"] = data[\"url\"].apply(count_hyphen)\n"
   ]
  },
  {
   "cell_type": "code",
   "execution_count": 7,
   "id": "c7e7188f-6966-496e-ad6f-047b7f2243f8",
   "metadata": {
    "id": "c7e7188f-6966-496e-ad6f-047b7f2243f8"
   },
   "outputs": [],
   "source": [
    "def count_underline(x):\n",
    "    count = 0\n",
    "    for i in x:\n",
    "        if i == \"_\":\n",
    "            count+=1\n",
    "    return count\n",
    "\n",
    "\n",
    "data[\"qty_underline\"] = data[\"url\"].apply(count_underline)"
   ]
  },
  {
   "cell_type": "code",
   "execution_count": 8,
   "id": "b15a85be-d1b6-4962-92b4-b39a983d3757",
   "metadata": {
    "id": "b15a85be-d1b6-4962-92b4-b39a983d3757"
   },
   "outputs": [],
   "source": [
    "def count_slash(x):\n",
    "    count = 0\n",
    "    for i in x:\n",
    "        if i == \"/\":\n",
    "            count+=1\n",
    "    return count\n",
    "\n",
    "\n",
    "data[\"qty_slash\"] = data[\"url\"].apply(count_slash)"
   ]
  },
  {
   "cell_type": "code",
   "execution_count": 9,
   "id": "ce782573-01fb-4aac-894f-5cf4b5f2f6bb",
   "metadata": {
    "id": "ce782573-01fb-4aac-894f-5cf4b5f2f6bb"
   },
   "outputs": [],
   "source": [
    "def count_questionmark(x):\n",
    "    count = 0\n",
    "    for i in x:\n",
    "        if i == \"?\":\n",
    "            count+=1\n",
    "    return count\n",
    "\n",
    "\n",
    "data[\"qty_questionmark\"] = data[\"url\"].apply(count_questionmark)"
   ]
  },
  {
   "cell_type": "code",
   "execution_count": 10,
   "id": "90857994-3381-4982-8188-0a4b2f52c846",
   "metadata": {
    "id": "90857994-3381-4982-8188-0a4b2f52c846"
   },
   "outputs": [],
   "source": [
    "def count_equalto(x):\n",
    "    count = 0\n",
    "    for i in x:\n",
    "        if i == \"=\":\n",
    "            count+=1\n",
    "    return count\n",
    "\n",
    "\n",
    "data[\"qty_equalto\"] = data[\"url\"].apply(count_equalto)"
   ]
  },
  {
   "cell_type": "code",
   "execution_count": 11,
   "id": "61410d73-cee2-4c3d-9a13-adb0443729e9",
   "metadata": {
    "id": "61410d73-cee2-4c3d-9a13-adb0443729e9"
   },
   "outputs": [],
   "source": [
    "def count_at(x):\n",
    "    count = 0\n",
    "    for i in x:\n",
    "        if i == \"@\":\n",
    "            count+=1\n",
    "    return count\n",
    "\n",
    "\n",
    "data[\"qty_at\"] = data[\"url\"].apply(count_at)"
   ]
  },
  {
   "cell_type": "code",
   "execution_count": 12,
   "id": "569a81b8-9efb-4f12-a98f-d23f0f0d4516",
   "metadata": {
    "id": "569a81b8-9efb-4f12-a98f-d23f0f0d4516"
   },
   "outputs": [],
   "source": [
    "def count_and(x):\n",
    "    count = 0\n",
    "    for i in x:\n",
    "        if i == \"&\":\n",
    "            count+=1\n",
    "    return count\n",
    "\n",
    "\n",
    "data[\"qty_and\"] = data[\"url\"].apply(count_and)"
   ]
  },
  {
   "cell_type": "code",
   "execution_count": 13,
   "id": "aebb9833-ed84-43e0-8f1d-8bc87b7e5f32",
   "metadata": {
    "id": "aebb9833-ed84-43e0-8f1d-8bc87b7e5f32"
   },
   "outputs": [],
   "source": [
    "def count_exclamation(x):\n",
    "    count = 0\n",
    "    for i in x:\n",
    "        if i == \"!\":\n",
    "            count+=1\n",
    "    return count\n",
    "\n",
    "\n",
    "data[\"qty_exclamation\"] = data[\"url\"].apply(count_exclamation)"
   ]
  },
  {
   "cell_type": "code",
   "execution_count": 14,
   "id": "8fb0a417-ad05-4d0f-99ce-47c5ac066216",
   "metadata": {
    "id": "8fb0a417-ad05-4d0f-99ce-47c5ac066216"
   },
   "outputs": [],
   "source": [
    "def count_space(x):\n",
    "    count = 0\n",
    "    for i in x:\n",
    "        if i == \" \":\n",
    "            count+=1\n",
    "    return count\n",
    "\n",
    "\n",
    "data[\"qty_space\"] = data[\"url\"].apply(count_space)"
   ]
  },
  {
   "cell_type": "code",
   "execution_count": 15,
   "id": "174f7aa5-1dec-4b3f-9ec1-46832db35f14",
   "metadata": {
    "id": "174f7aa5-1dec-4b3f-9ec1-46832db35f14"
   },
   "outputs": [],
   "source": [
    "data[\"url_length\"] = data[\"url\"].apply(len)"
   ]
  },
  {
   "cell_type": "code",
   "execution_count": 16,
   "id": "ab3aedc1-e172-41cf-b40d-e57c1f9c9adb",
   "metadata": {
    "id": "ab3aedc1-e172-41cf-b40d-e57c1f9c9adb"
   },
   "outputs": [],
   "source": [
    "def count_hostname(x):\n",
    "    s = x.split(\"/\")[0]\n",
    "    if s == \"http:\" or s == \"https:\":\n",
    "      s = x.split(\"/\")[2]\n",
    "    return len(s)\n",
    "\n",
    "data[\"qty_hostname\"] = data[\"url\"].apply(count_hostname)"
   ]
  },
  {
   "cell_type": "code",
   "execution_count": 17,
   "id": "e7AlM4YbiE-E",
   "metadata": {
    "id": "e7AlM4YbiE-E"
   },
   "outputs": [],
   "source": [
    "def domain_name(x):\n",
    "    s = x.split(\"/\")[0]\n",
    "    if s == \"http:\" or s == \"https:\":\n",
    "      s = x.split(\"/\")[2]\n",
    "    ans = s.split(\".\")[-1].split(\":\")[0]\n",
    "    if ans.isnumeric():\n",
    "      return \"local_host\"\n",
    "    return ans\n",
    "\n",
    "data[\"domain_name\"] = data[\"url\"].apply(domain_name)"
   ]
  },
  {
   "cell_type": "code",
   "execution_count": 18,
   "id": "CfkhxAMss9X2",
   "metadata": {
    "id": "CfkhxAMss9X2"
   },
   "outputs": [],
   "source": [
    "def count_or(x):\n",
    "    count = 0\n",
    "    for i in x:\n",
    "        if i == \"|\":\n",
    "            count+=1\n",
    "    return count\n",
    "\n",
    "\n",
    "data[\"qty_or\"] = data[\"url\"].apply(count_or)"
   ]
  },
  {
   "cell_type": "code",
   "execution_count": 19,
   "id": "ykRe7gd4tZBH",
   "metadata": {
    "id": "ykRe7gd4tZBH"
   },
   "outputs": [],
   "source": [
    "def count_tilde(x):\n",
    "    count = 0\n",
    "    for i in x:\n",
    "        if i == \"`\":\n",
    "            count+=1\n",
    "    return count\n",
    "\n",
    "\n",
    "data[\"qty_tilde\"] = data[\"url\"].apply(count_tilde)"
   ]
  },
  {
   "cell_type": "code",
   "execution_count": 20,
   "id": "lGw4Brjrt6L_",
   "metadata": {
    "id": "lGw4Brjrt6L_"
   },
   "outputs": [],
   "source": [
    "def count_comma(x):\n",
    "    count = 0\n",
    "    for i in x:\n",
    "        if i == \",\":\n",
    "            count+=1\n",
    "    return count\n",
    "\n",
    "\n",
    "data[\"qty_comma\"] = data[\"url\"].apply(count_comma)"
   ]
  },
  {
   "cell_type": "code",
   "execution_count": 21,
   "id": "4HvdwnfFuDnE",
   "metadata": {
    "id": "4HvdwnfFuDnE"
   },
   "outputs": [],
   "source": [
    "def count_plus(x):\n",
    "    count = 0\n",
    "    for i in x:\n",
    "        if i == \"+\":\n",
    "            count+=1\n",
    "    return count\n",
    "\n",
    "\n",
    "data[\"qty_plus\"] = data[\"url\"].apply(count_plus)"
   ]
  },
  {
   "cell_type": "code",
   "execution_count": 22,
   "id": "veks4kMduMNi",
   "metadata": {
    "id": "veks4kMduMNi"
   },
   "outputs": [],
   "source": [
    "def count_asterisk(x):\n",
    "    count = 0\n",
    "    for i in x:\n",
    "        if i == \"*\":\n",
    "            count+=1\n",
    "    return count\n",
    "\n",
    "\n",
    "data[\"qty_asterisk\"] = data[\"url\"].apply(count_asterisk)"
   ]
  },
  {
   "cell_type": "code",
   "execution_count": 23,
   "id": "y96ggp74vkeD",
   "metadata": {
    "id": "y96ggp74vkeD"
   },
   "outputs": [],
   "source": [
    "def count_hashtag(x):\n",
    "    count = 0\n",
    "    for i in x:\n",
    "        if i == \"#\":\n",
    "            count+=1\n",
    "    return count\n",
    "\n",
    "\n",
    "data[\"qty_hashtag\"] = data[\"url\"].apply(count_hashtag)"
   ]
  },
  {
   "cell_type": "code",
   "execution_count": 24,
   "id": "WEatHOYivyTw",
   "metadata": {
    "id": "WEatHOYivyTw"
   },
   "outputs": [],
   "source": [
    "def count_dollar(x):\n",
    "    count = 0\n",
    "    for i in x:\n",
    "        if i == \"$\":\n",
    "            count+=1\n",
    "    return count\n",
    "\n",
    "\n",
    "data[\"qty_dollar\"] = data[\"url\"].apply(count_dollar)"
   ]
  },
  {
   "cell_type": "code",
   "execution_count": 25,
   "id": "in6nQl9dwHKc",
   "metadata": {
    "id": "in6nQl9dwHKc"
   },
   "outputs": [],
   "source": [
    "def count_percent(x):\n",
    "    count = 0\n",
    "    for i in x:\n",
    "        if i == \"%\":\n",
    "            count+=1\n",
    "    return count\n",
    "\n",
    "\n",
    "data[\"qty_percent\"] = data[\"url\"].apply(count_percent)"
   ]
  },
  {
   "cell_type": "code",
   "execution_count": 26,
   "id": "OgtGBAjNxBfy",
   "metadata": {
    "id": "OgtGBAjNxBfy"
   },
   "outputs": [],
   "source": [
    "def count_hostname_dot(x):\n",
    "    s = x.split(\"/\")[0]\n",
    "    if s == \"http:\" or s == \"https:\":\n",
    "      s = x.split(\"/\")[2]\n",
    "    count = 0\n",
    "    for i in s:\n",
    "        if i == \".\":\n",
    "            count+=1\n",
    "    return count\n",
    "\n",
    "data[\"qty_dot_hostname\"] = data[\"url\"].apply(count_hostname_dot)"
   ]
  },
  {
   "cell_type": "code",
   "execution_count": 27,
   "id": "fd631c34-7618-4507-a826-64130e88573f",
   "metadata": {},
   "outputs": [],
   "source": [
    "def count_hostname_hyphen(x):\n",
    "    s = x.split(\"/\")[0]\n",
    "    if s == \"http:\" or s == \"https:\":\n",
    "      s = x.split(\"/\")[2]\n",
    "    count = 0\n",
    "    for i in s:\n",
    "        if i == \"-\":\n",
    "            count+=1\n",
    "    return count\n",
    "\n",
    "data[\"qty_hyphen_hostname\"] = data[\"url\"].apply(count_hostname_hyphen)"
   ]
  },
  {
   "cell_type": "code",
   "execution_count": 28,
   "id": "9fd61f76-4150-4c91-a9f4-46d5361b2fb5",
   "metadata": {},
   "outputs": [],
   "source": [
    "def count_hostname_underline(x):\n",
    "    s = x.split(\"/\")[0]\n",
    "    if s == \"http:\" or s == \"https:\":\n",
    "      s = x.split(\"/\")[2]\n",
    "    count = 0\n",
    "    for i in s:\n",
    "        if i == \"_\":\n",
    "            count+=1\n",
    "    return count\n",
    "\n",
    "data[\"qty_underline_hostname\"] = data[\"url\"].apply(count_hostname_underline)"
   ]
  },
  {
   "cell_type": "code",
   "execution_count": 29,
   "id": "216143ce-bcbe-442f-8726-81c2ac83be28",
   "metadata": {},
   "outputs": [],
   "source": [
    "def count_hostname_questionmark(x):\n",
    "    s = x.split(\"/\")[0]\n",
    "    if s == \"http:\" or s == \"https:\":\n",
    "      s = x.split(\"/\")[2]\n",
    "    count = 0\n",
    "    for i in s:\n",
    "        if i == \"?\":\n",
    "            count+=1\n",
    "    return count\n",
    "\n",
    "data[\"qty_questionmark_hostname\"] = data[\"url\"].apply(count_hostname_questionmark)"
   ]
  },
  {
   "cell_type": "code",
   "execution_count": 30,
   "id": "94884b3b-0be1-4d95-93bf-d73e9a1dab02",
   "metadata": {},
   "outputs": [],
   "source": [
    "def count_hostname_equal(x):\n",
    "    s = x.split(\"/\")[0]\n",
    "    if s == \"http:\" or s == \"https:\":\n",
    "      s = x.split(\"/\")[2]\n",
    "    count = 0\n",
    "    for i in s:\n",
    "        if i == \"=\":\n",
    "            count+=1\n",
    "    return count\n",
    "\n",
    "data[\"qty_equal_hostname\"] = data[\"url\"].apply(count_hostname_equal)"
   ]
  },
  {
   "cell_type": "code",
   "execution_count": 31,
   "id": "3374e35a-9c46-48f4-a5ac-c42eb67b0969",
   "metadata": {},
   "outputs": [],
   "source": [
    "def count_hostname_at(x):\n",
    "    s = x.split(\"/\")[0]\n",
    "    if s == \"http:\" or s == \"https:\":\n",
    "      s = x.split(\"/\")[2]\n",
    "    count = 0\n",
    "    for i in s:\n",
    "        if i == \"@\":\n",
    "            count+=1\n",
    "    return count\n",
    "\n",
    "data[\"qty_at_hostname\"] = data[\"url\"].apply(count_hostname_at)"
   ]
  },
  {
   "cell_type": "code",
   "execution_count": 32,
   "id": "8cc683c5-90f7-4207-aa25-49c918bce139",
   "metadata": {},
   "outputs": [],
   "source": [
    "def count_hostname_and(x):\n",
    "    s = x.split(\"/\")[0]\n",
    "    if s == \"http:\" or s == \"https:\":\n",
    "      s = x.split(\"/\")[2]\n",
    "    count = 0\n",
    "    for i in s:\n",
    "        if i == \"&\":\n",
    "            count+=1\n",
    "    return count\n",
    "\n",
    "data[\"qty_and_hostname\"] = data[\"url\"].apply(count_hostname_and)"
   ]
  },
  {
   "cell_type": "code",
   "execution_count": 33,
   "id": "ef1b887d-f29e-4a4a-9418-14a4f62eb7bd",
   "metadata": {
    "colab": {
     "base_uri": "https://localhost:8080/"
    },
    "id": "ef1b887d-f29e-4a4a-9418-14a4f62eb7bd",
    "outputId": "c14d1814-9d30-4a56-966d-e9de88d2dcdc"
   },
   "outputs": [
    {
     "name": "stdout",
     "output_type": "stream",
     "text": [
      "<class 'pandas.core.frame.DataFrame'>\n",
      "RangeIndex: 651191 entries, 0 to 651190\n",
      "Data columns (total 30 columns):\n",
      " #   Column                     Non-Null Count   Dtype \n",
      "---  ------                     --------------   ----- \n",
      " 0   url                        651191 non-null  object\n",
      " 1   type                       651191 non-null  object\n",
      " 2   qty_dot                    651191 non-null  int64 \n",
      " 3   qty_hyphen                 651191 non-null  int64 \n",
      " 4   qty_underline              651191 non-null  int64 \n",
      " 5   qty_slash                  651191 non-null  int64 \n",
      " 6   qty_questionmark           651191 non-null  int64 \n",
      " 7   qty_equalto                651191 non-null  int64 \n",
      " 8   qty_at                     651191 non-null  int64 \n",
      " 9   qty_and                    651191 non-null  int64 \n",
      " 10  qty_exclamation            651191 non-null  int64 \n",
      " 11  qty_space                  651191 non-null  int64 \n",
      " 12  url_length                 651191 non-null  int64 \n",
      " 13  qty_hostname               651191 non-null  int64 \n",
      " 14  domain_name                651191 non-null  object\n",
      " 15  qty_or                     651191 non-null  int64 \n",
      " 16  qty_tilde                  651191 non-null  int64 \n",
      " 17  qty_comma                  651191 non-null  int64 \n",
      " 18  qty_plus                   651191 non-null  int64 \n",
      " 19  qty_asterisk               651191 non-null  int64 \n",
      " 20  qty_hashtag                651191 non-null  int64 \n",
      " 21  qty_dollar                 651191 non-null  int64 \n",
      " 22  qty_percent                651191 non-null  int64 \n",
      " 23  qty_dot_hostname           651191 non-null  int64 \n",
      " 24  qty_hyphen_hostname        651191 non-null  int64 \n",
      " 25  qty_underline_hostname     651191 non-null  int64 \n",
      " 26  qty_questionmark_hostname  651191 non-null  int64 \n",
      " 27  qty_equal_hostname         651191 non-null  int64 \n",
      " 28  qty_at_hostname            651191 non-null  int64 \n",
      " 29  qty_and_hostname           651191 non-null  int64 \n",
      "dtypes: int64(27), object(3)\n",
      "memory usage: 149.0+ MB\n"
     ]
    }
   ],
   "source": [
    "data.info()"
   ]
  },
  {
   "cell_type": "code",
   "execution_count": 34,
   "id": "6UDurjMHh4L9",
   "metadata": {
    "colab": {
     "base_uri": "https://localhost:8080/",
     "height": 1000
    },
    "id": "6UDurjMHh4L9",
    "outputId": "b9283628-c4db-48f7-e626-9fd90943041a"
   },
   "outputs": [
    {
     "data": {
      "text/html": [
       "<div>\n",
       "<style scoped>\n",
       "    .dataframe tbody tr th:only-of-type {\n",
       "        vertical-align: middle;\n",
       "    }\n",
       "\n",
       "    .dataframe tbody tr th {\n",
       "        vertical-align: top;\n",
       "    }\n",
       "\n",
       "    .dataframe thead th {\n",
       "        text-align: right;\n",
       "    }\n",
       "</style>\n",
       "<table border=\"1\" class=\"dataframe\">\n",
       "  <thead>\n",
       "    <tr style=\"text-align: right;\">\n",
       "      <th></th>\n",
       "      <th>url</th>\n",
       "      <th>type</th>\n",
       "      <th>qty_dot</th>\n",
       "      <th>qty_hyphen</th>\n",
       "      <th>qty_underline</th>\n",
       "      <th>qty_slash</th>\n",
       "      <th>qty_questionmark</th>\n",
       "      <th>qty_equalto</th>\n",
       "      <th>qty_at</th>\n",
       "      <th>qty_and</th>\n",
       "      <th>...</th>\n",
       "      <th>qty_hashtag</th>\n",
       "      <th>qty_dollar</th>\n",
       "      <th>qty_percent</th>\n",
       "      <th>qty_dot_hostname</th>\n",
       "      <th>qty_hyphen_hostname</th>\n",
       "      <th>qty_underline_hostname</th>\n",
       "      <th>qty_questionmark_hostname</th>\n",
       "      <th>qty_equal_hostname</th>\n",
       "      <th>qty_at_hostname</th>\n",
       "      <th>qty_and_hostname</th>\n",
       "    </tr>\n",
       "  </thead>\n",
       "  <tbody>\n",
       "    <tr>\n",
       "      <th>0</th>\n",
       "      <td>br-icloud.com.br</td>\n",
       "      <td>phishing</td>\n",
       "      <td>2</td>\n",
       "      <td>1</td>\n",
       "      <td>0</td>\n",
       "      <td>0</td>\n",
       "      <td>0</td>\n",
       "      <td>0</td>\n",
       "      <td>0</td>\n",
       "      <td>0</td>\n",
       "      <td>...</td>\n",
       "      <td>0</td>\n",
       "      <td>0</td>\n",
       "      <td>0</td>\n",
       "      <td>2</td>\n",
       "      <td>1</td>\n",
       "      <td>0</td>\n",
       "      <td>0</td>\n",
       "      <td>0</td>\n",
       "      <td>0</td>\n",
       "      <td>0</td>\n",
       "    </tr>\n",
       "    <tr>\n",
       "      <th>1</th>\n",
       "      <td>mp3raid.com/music/krizz_kaliko.html</td>\n",
       "      <td>benign</td>\n",
       "      <td>2</td>\n",
       "      <td>0</td>\n",
       "      <td>1</td>\n",
       "      <td>2</td>\n",
       "      <td>0</td>\n",
       "      <td>0</td>\n",
       "      <td>0</td>\n",
       "      <td>0</td>\n",
       "      <td>...</td>\n",
       "      <td>0</td>\n",
       "      <td>0</td>\n",
       "      <td>0</td>\n",
       "      <td>1</td>\n",
       "      <td>0</td>\n",
       "      <td>0</td>\n",
       "      <td>0</td>\n",
       "      <td>0</td>\n",
       "      <td>0</td>\n",
       "      <td>0</td>\n",
       "    </tr>\n",
       "    <tr>\n",
       "      <th>2</th>\n",
       "      <td>bopsecrets.org/rexroth/cr/1.htm</td>\n",
       "      <td>benign</td>\n",
       "      <td>2</td>\n",
       "      <td>0</td>\n",
       "      <td>0</td>\n",
       "      <td>3</td>\n",
       "      <td>0</td>\n",
       "      <td>0</td>\n",
       "      <td>0</td>\n",
       "      <td>0</td>\n",
       "      <td>...</td>\n",
       "      <td>0</td>\n",
       "      <td>0</td>\n",
       "      <td>0</td>\n",
       "      <td>1</td>\n",
       "      <td>0</td>\n",
       "      <td>0</td>\n",
       "      <td>0</td>\n",
       "      <td>0</td>\n",
       "      <td>0</td>\n",
       "      <td>0</td>\n",
       "    </tr>\n",
       "    <tr>\n",
       "      <th>3</th>\n",
       "      <td>http://www.garage-pirenne.be/index.php?option=...</td>\n",
       "      <td>defacement</td>\n",
       "      <td>3</td>\n",
       "      <td>1</td>\n",
       "      <td>2</td>\n",
       "      <td>3</td>\n",
       "      <td>1</td>\n",
       "      <td>4</td>\n",
       "      <td>0</td>\n",
       "      <td>3</td>\n",
       "      <td>...</td>\n",
       "      <td>0</td>\n",
       "      <td>0</td>\n",
       "      <td>0</td>\n",
       "      <td>2</td>\n",
       "      <td>1</td>\n",
       "      <td>0</td>\n",
       "      <td>0</td>\n",
       "      <td>0</td>\n",
       "      <td>0</td>\n",
       "      <td>0</td>\n",
       "    </tr>\n",
       "    <tr>\n",
       "      <th>4</th>\n",
       "      <td>http://adventure-nicaragua.net/index.php?optio...</td>\n",
       "      <td>defacement</td>\n",
       "      <td>2</td>\n",
       "      <td>1</td>\n",
       "      <td>1</td>\n",
       "      <td>3</td>\n",
       "      <td>1</td>\n",
       "      <td>3</td>\n",
       "      <td>0</td>\n",
       "      <td>2</td>\n",
       "      <td>...</td>\n",
       "      <td>0</td>\n",
       "      <td>0</td>\n",
       "      <td>0</td>\n",
       "      <td>1</td>\n",
       "      <td>1</td>\n",
       "      <td>0</td>\n",
       "      <td>0</td>\n",
       "      <td>0</td>\n",
       "      <td>0</td>\n",
       "      <td>0</td>\n",
       "    </tr>\n",
       "    <tr>\n",
       "      <th>5</th>\n",
       "      <td>http://buzzfil.net/m/show-art/ils-etaient-loin...</td>\n",
       "      <td>benign</td>\n",
       "      <td>2</td>\n",
       "      <td>16</td>\n",
       "      <td>0</td>\n",
       "      <td>5</td>\n",
       "      <td>0</td>\n",
       "      <td>0</td>\n",
       "      <td>0</td>\n",
       "      <td>0</td>\n",
       "      <td>...</td>\n",
       "      <td>0</td>\n",
       "      <td>0</td>\n",
       "      <td>0</td>\n",
       "      <td>1</td>\n",
       "      <td>0</td>\n",
       "      <td>0</td>\n",
       "      <td>0</td>\n",
       "      <td>0</td>\n",
       "      <td>0</td>\n",
       "      <td>0</td>\n",
       "    </tr>\n",
       "    <tr>\n",
       "      <th>6</th>\n",
       "      <td>espn.go.com/nba/player/_/id/3457/brandon-rush</td>\n",
       "      <td>benign</td>\n",
       "      <td>2</td>\n",
       "      <td>1</td>\n",
       "      <td>1</td>\n",
       "      <td>6</td>\n",
       "      <td>0</td>\n",
       "      <td>0</td>\n",
       "      <td>0</td>\n",
       "      <td>0</td>\n",
       "      <td>...</td>\n",
       "      <td>0</td>\n",
       "      <td>0</td>\n",
       "      <td>0</td>\n",
       "      <td>2</td>\n",
       "      <td>0</td>\n",
       "      <td>0</td>\n",
       "      <td>0</td>\n",
       "      <td>0</td>\n",
       "      <td>0</td>\n",
       "      <td>0</td>\n",
       "    </tr>\n",
       "    <tr>\n",
       "      <th>7</th>\n",
       "      <td>yourbittorrent.com/?q=anthony-hamilton-soulife</td>\n",
       "      <td>benign</td>\n",
       "      <td>1</td>\n",
       "      <td>2</td>\n",
       "      <td>0</td>\n",
       "      <td>1</td>\n",
       "      <td>1</td>\n",
       "      <td>1</td>\n",
       "      <td>0</td>\n",
       "      <td>0</td>\n",
       "      <td>...</td>\n",
       "      <td>0</td>\n",
       "      <td>0</td>\n",
       "      <td>0</td>\n",
       "      <td>1</td>\n",
       "      <td>0</td>\n",
       "      <td>0</td>\n",
       "      <td>0</td>\n",
       "      <td>0</td>\n",
       "      <td>0</td>\n",
       "      <td>0</td>\n",
       "    </tr>\n",
       "    <tr>\n",
       "      <th>8</th>\n",
       "      <td>http://www.pashminaonline.com/pure-pashminas</td>\n",
       "      <td>defacement</td>\n",
       "      <td>2</td>\n",
       "      <td>1</td>\n",
       "      <td>0</td>\n",
       "      <td>3</td>\n",
       "      <td>0</td>\n",
       "      <td>0</td>\n",
       "      <td>0</td>\n",
       "      <td>0</td>\n",
       "      <td>...</td>\n",
       "      <td>0</td>\n",
       "      <td>0</td>\n",
       "      <td>0</td>\n",
       "      <td>2</td>\n",
       "      <td>0</td>\n",
       "      <td>0</td>\n",
       "      <td>0</td>\n",
       "      <td>0</td>\n",
       "      <td>0</td>\n",
       "      <td>0</td>\n",
       "    </tr>\n",
       "    <tr>\n",
       "      <th>9</th>\n",
       "      <td>allmusic.com/album/crazy-from-the-heat-r16990</td>\n",
       "      <td>benign</td>\n",
       "      <td>1</td>\n",
       "      <td>4</td>\n",
       "      <td>0</td>\n",
       "      <td>2</td>\n",
       "      <td>0</td>\n",
       "      <td>0</td>\n",
       "      <td>0</td>\n",
       "      <td>0</td>\n",
       "      <td>...</td>\n",
       "      <td>0</td>\n",
       "      <td>0</td>\n",
       "      <td>0</td>\n",
       "      <td>1</td>\n",
       "      <td>0</td>\n",
       "      <td>0</td>\n",
       "      <td>0</td>\n",
       "      <td>0</td>\n",
       "      <td>0</td>\n",
       "      <td>0</td>\n",
       "    </tr>\n",
       "    <tr>\n",
       "      <th>10</th>\n",
       "      <td>corporationwiki.com/Ohio/Columbus/frank-s-bens...</td>\n",
       "      <td>benign</td>\n",
       "      <td>2</td>\n",
       "      <td>3</td>\n",
       "      <td>0</td>\n",
       "      <td>3</td>\n",
       "      <td>0</td>\n",
       "      <td>0</td>\n",
       "      <td>0</td>\n",
       "      <td>0</td>\n",
       "      <td>...</td>\n",
       "      <td>0</td>\n",
       "      <td>0</td>\n",
       "      <td>0</td>\n",
       "      <td>1</td>\n",
       "      <td>0</td>\n",
       "      <td>0</td>\n",
       "      <td>0</td>\n",
       "      <td>0</td>\n",
       "      <td>0</td>\n",
       "      <td>0</td>\n",
       "    </tr>\n",
       "    <tr>\n",
       "      <th>11</th>\n",
       "      <td>http://www.ikenmijnkunst.nl/index.php/expositi...</td>\n",
       "      <td>defacement</td>\n",
       "      <td>3</td>\n",
       "      <td>1</td>\n",
       "      <td>0</td>\n",
       "      <td>5</td>\n",
       "      <td>0</td>\n",
       "      <td>0</td>\n",
       "      <td>0</td>\n",
       "      <td>0</td>\n",
       "      <td>...</td>\n",
       "      <td>0</td>\n",
       "      <td>0</td>\n",
       "      <td>0</td>\n",
       "      <td>2</td>\n",
       "      <td>0</td>\n",
       "      <td>0</td>\n",
       "      <td>0</td>\n",
       "      <td>0</td>\n",
       "      <td>0</td>\n",
       "      <td>0</td>\n",
       "    </tr>\n",
       "    <tr>\n",
       "      <th>12</th>\n",
       "      <td>myspace.com/video/vid/30602581</td>\n",
       "      <td>benign</td>\n",
       "      <td>1</td>\n",
       "      <td>0</td>\n",
       "      <td>0</td>\n",
       "      <td>3</td>\n",
       "      <td>0</td>\n",
       "      <td>0</td>\n",
       "      <td>0</td>\n",
       "      <td>0</td>\n",
       "      <td>...</td>\n",
       "      <td>0</td>\n",
       "      <td>0</td>\n",
       "      <td>0</td>\n",
       "      <td>1</td>\n",
       "      <td>0</td>\n",
       "      <td>0</td>\n",
       "      <td>0</td>\n",
       "      <td>0</td>\n",
       "      <td>0</td>\n",
       "      <td>0</td>\n",
       "    </tr>\n",
       "    <tr>\n",
       "      <th>13</th>\n",
       "      <td>http://www.lebensmittel-ueberwachung.de/index....</td>\n",
       "      <td>defacement</td>\n",
       "      <td>4</td>\n",
       "      <td>1</td>\n",
       "      <td>0</td>\n",
       "      <td>4</td>\n",
       "      <td>0</td>\n",
       "      <td>0</td>\n",
       "      <td>0</td>\n",
       "      <td>0</td>\n",
       "      <td>...</td>\n",
       "      <td>0</td>\n",
       "      <td>0</td>\n",
       "      <td>0</td>\n",
       "      <td>2</td>\n",
       "      <td>1</td>\n",
       "      <td>0</td>\n",
       "      <td>0</td>\n",
       "      <td>0</td>\n",
       "      <td>0</td>\n",
       "      <td>0</td>\n",
       "    </tr>\n",
       "    <tr>\n",
       "      <th>14</th>\n",
       "      <td>http://www.szabadmunkaero.hu/cimoldal.html?sta...</td>\n",
       "      <td>defacement</td>\n",
       "      <td>3</td>\n",
       "      <td>0</td>\n",
       "      <td>0</td>\n",
       "      <td>3</td>\n",
       "      <td>1</td>\n",
       "      <td>1</td>\n",
       "      <td>0</td>\n",
       "      <td>0</td>\n",
       "      <td>...</td>\n",
       "      <td>0</td>\n",
       "      <td>0</td>\n",
       "      <td>0</td>\n",
       "      <td>2</td>\n",
       "      <td>0</td>\n",
       "      <td>0</td>\n",
       "      <td>0</td>\n",
       "      <td>0</td>\n",
       "      <td>0</td>\n",
       "      <td>0</td>\n",
       "    </tr>\n",
       "    <tr>\n",
       "      <th>15</th>\n",
       "      <td>http://larcadelcarnevale.com/catalogo/palloncini</td>\n",
       "      <td>defacement</td>\n",
       "      <td>1</td>\n",
       "      <td>0</td>\n",
       "      <td>0</td>\n",
       "      <td>4</td>\n",
       "      <td>0</td>\n",
       "      <td>0</td>\n",
       "      <td>0</td>\n",
       "      <td>0</td>\n",
       "      <td>...</td>\n",
       "      <td>0</td>\n",
       "      <td>0</td>\n",
       "      <td>0</td>\n",
       "      <td>1</td>\n",
       "      <td>0</td>\n",
       "      <td>0</td>\n",
       "      <td>0</td>\n",
       "      <td>0</td>\n",
       "      <td>0</td>\n",
       "      <td>0</td>\n",
       "    </tr>\n",
       "    <tr>\n",
       "      <th>16</th>\n",
       "      <td>quickfacts.census.gov/qfd/maps/iowa_map.html</td>\n",
       "      <td>benign</td>\n",
       "      <td>3</td>\n",
       "      <td>0</td>\n",
       "      <td>1</td>\n",
       "      <td>3</td>\n",
       "      <td>0</td>\n",
       "      <td>0</td>\n",
       "      <td>0</td>\n",
       "      <td>0</td>\n",
       "      <td>...</td>\n",
       "      <td>0</td>\n",
       "      <td>0</td>\n",
       "      <td>0</td>\n",
       "      <td>2</td>\n",
       "      <td>0</td>\n",
       "      <td>0</td>\n",
       "      <td>0</td>\n",
       "      <td>0</td>\n",
       "      <td>0</td>\n",
       "      <td>0</td>\n",
       "    </tr>\n",
       "    <tr>\n",
       "      <th>17</th>\n",
       "      <td>nugget.ca/ArticleDisplay.aspx?archive=true&amp;e=1...</td>\n",
       "      <td>benign</td>\n",
       "      <td>2</td>\n",
       "      <td>0</td>\n",
       "      <td>0</td>\n",
       "      <td>1</td>\n",
       "      <td>1</td>\n",
       "      <td>2</td>\n",
       "      <td>0</td>\n",
       "      <td>1</td>\n",
       "      <td>...</td>\n",
       "      <td>0</td>\n",
       "      <td>0</td>\n",
       "      <td>0</td>\n",
       "      <td>1</td>\n",
       "      <td>0</td>\n",
       "      <td>0</td>\n",
       "      <td>0</td>\n",
       "      <td>0</td>\n",
       "      <td>0</td>\n",
       "      <td>0</td>\n",
       "    </tr>\n",
       "    <tr>\n",
       "      <th>18</th>\n",
       "      <td>uk.linkedin.com/pub/steve-rubenstein/8/718/755</td>\n",
       "      <td>benign</td>\n",
       "      <td>2</td>\n",
       "      <td>1</td>\n",
       "      <td>0</td>\n",
       "      <td>5</td>\n",
       "      <td>0</td>\n",
       "      <td>0</td>\n",
       "      <td>0</td>\n",
       "      <td>0</td>\n",
       "      <td>...</td>\n",
       "      <td>0</td>\n",
       "      <td>0</td>\n",
       "      <td>0</td>\n",
       "      <td>2</td>\n",
       "      <td>0</td>\n",
       "      <td>0</td>\n",
       "      <td>0</td>\n",
       "      <td>0</td>\n",
       "      <td>0</td>\n",
       "      <td>0</td>\n",
       "    </tr>\n",
       "    <tr>\n",
       "      <th>19</th>\n",
       "      <td>http://www.vnic.co/khach-hang.html</td>\n",
       "      <td>defacement</td>\n",
       "      <td>3</td>\n",
       "      <td>1</td>\n",
       "      <td>0</td>\n",
       "      <td>3</td>\n",
       "      <td>0</td>\n",
       "      <td>0</td>\n",
       "      <td>0</td>\n",
       "      <td>0</td>\n",
       "      <td>...</td>\n",
       "      <td>0</td>\n",
       "      <td>0</td>\n",
       "      <td>0</td>\n",
       "      <td>2</td>\n",
       "      <td>0</td>\n",
       "      <td>0</td>\n",
       "      <td>0</td>\n",
       "      <td>0</td>\n",
       "      <td>0</td>\n",
       "      <td>0</td>\n",
       "    </tr>\n",
       "    <tr>\n",
       "      <th>20</th>\n",
       "      <td>baseball-reference.com/players/h/harrige01.shtml</td>\n",
       "      <td>benign</td>\n",
       "      <td>2</td>\n",
       "      <td>1</td>\n",
       "      <td>0</td>\n",
       "      <td>3</td>\n",
       "      <td>0</td>\n",
       "      <td>0</td>\n",
       "      <td>0</td>\n",
       "      <td>0</td>\n",
       "      <td>...</td>\n",
       "      <td>0</td>\n",
       "      <td>0</td>\n",
       "      <td>0</td>\n",
       "      <td>1</td>\n",
       "      <td>1</td>\n",
       "      <td>0</td>\n",
       "      <td>0</td>\n",
       "      <td>0</td>\n",
       "      <td>0</td>\n",
       "      <td>0</td>\n",
       "    </tr>\n",
       "    <tr>\n",
       "      <th>21</th>\n",
       "      <td>signin.eby.de.zukruygxctzmmqi.civpro.co.za</td>\n",
       "      <td>phishing</td>\n",
       "      <td>6</td>\n",
       "      <td>0</td>\n",
       "      <td>0</td>\n",
       "      <td>0</td>\n",
       "      <td>0</td>\n",
       "      <td>0</td>\n",
       "      <td>0</td>\n",
       "      <td>0</td>\n",
       "      <td>...</td>\n",
       "      <td>0</td>\n",
       "      <td>0</td>\n",
       "      <td>0</td>\n",
       "      <td>6</td>\n",
       "      <td>0</td>\n",
       "      <td>0</td>\n",
       "      <td>0</td>\n",
       "      <td>0</td>\n",
       "      <td>0</td>\n",
       "      <td>0</td>\n",
       "    </tr>\n",
       "    <tr>\n",
       "      <th>22</th>\n",
       "      <td>192.com/atoz/people/oakley/patrick/</td>\n",
       "      <td>benign</td>\n",
       "      <td>1</td>\n",
       "      <td>0</td>\n",
       "      <td>0</td>\n",
       "      <td>5</td>\n",
       "      <td>0</td>\n",
       "      <td>0</td>\n",
       "      <td>0</td>\n",
       "      <td>0</td>\n",
       "      <td>...</td>\n",
       "      <td>0</td>\n",
       "      <td>0</td>\n",
       "      <td>0</td>\n",
       "      <td>1</td>\n",
       "      <td>0</td>\n",
       "      <td>0</td>\n",
       "      <td>0</td>\n",
       "      <td>0</td>\n",
       "      <td>0</td>\n",
       "      <td>0</td>\n",
       "    </tr>\n",
       "    <tr>\n",
       "      <th>23</th>\n",
       "      <td>nytimes.com/1998/03/29/style/cuttings-oh-that-...</td>\n",
       "      <td>benign</td>\n",
       "      <td>2</td>\n",
       "      <td>6</td>\n",
       "      <td>0</td>\n",
       "      <td>5</td>\n",
       "      <td>0</td>\n",
       "      <td>0</td>\n",
       "      <td>0</td>\n",
       "      <td>0</td>\n",
       "      <td>...</td>\n",
       "      <td>0</td>\n",
       "      <td>0</td>\n",
       "      <td>0</td>\n",
       "      <td>1</td>\n",
       "      <td>0</td>\n",
       "      <td>0</td>\n",
       "      <td>0</td>\n",
       "      <td>0</td>\n",
       "      <td>0</td>\n",
       "      <td>0</td>\n",
       "    </tr>\n",
       "    <tr>\n",
       "      <th>24</th>\n",
       "      <td>escholarship.org/uc/item/5xt4952c</td>\n",
       "      <td>benign</td>\n",
       "      <td>1</td>\n",
       "      <td>0</td>\n",
       "      <td>0</td>\n",
       "      <td>3</td>\n",
       "      <td>0</td>\n",
       "      <td>0</td>\n",
       "      <td>0</td>\n",
       "      <td>0</td>\n",
       "      <td>...</td>\n",
       "      <td>0</td>\n",
       "      <td>0</td>\n",
       "      <td>0</td>\n",
       "      <td>1</td>\n",
       "      <td>0</td>\n",
       "      <td>0</td>\n",
       "      <td>0</td>\n",
       "      <td>0</td>\n",
       "      <td>0</td>\n",
       "      <td>0</td>\n",
       "    </tr>\n",
       "    <tr>\n",
       "      <th>25</th>\n",
       "      <td>songfacts.com/detail.php?id=13410</td>\n",
       "      <td>benign</td>\n",
       "      <td>2</td>\n",
       "      <td>0</td>\n",
       "      <td>0</td>\n",
       "      <td>1</td>\n",
       "      <td>1</td>\n",
       "      <td>1</td>\n",
       "      <td>0</td>\n",
       "      <td>0</td>\n",
       "      <td>...</td>\n",
       "      <td>0</td>\n",
       "      <td>0</td>\n",
       "      <td>0</td>\n",
       "      <td>1</td>\n",
       "      <td>0</td>\n",
       "      <td>0</td>\n",
       "      <td>0</td>\n",
       "      <td>0</td>\n",
       "      <td>0</td>\n",
       "      <td>0</td>\n",
       "    </tr>\n",
       "    <tr>\n",
       "      <th>26</th>\n",
       "      <td>casamanana.org/education/blba/</td>\n",
       "      <td>benign</td>\n",
       "      <td>1</td>\n",
       "      <td>0</td>\n",
       "      <td>0</td>\n",
       "      <td>3</td>\n",
       "      <td>0</td>\n",
       "      <td>0</td>\n",
       "      <td>0</td>\n",
       "      <td>0</td>\n",
       "      <td>...</td>\n",
       "      <td>0</td>\n",
       "      <td>0</td>\n",
       "      <td>0</td>\n",
       "      <td>1</td>\n",
       "      <td>0</td>\n",
       "      <td>0</td>\n",
       "      <td>0</td>\n",
       "      <td>0</td>\n",
       "      <td>0</td>\n",
       "      <td>0</td>\n",
       "    </tr>\n",
       "    <tr>\n",
       "      <th>27</th>\n",
       "      <td>http://hollywoodlife.com/2014/05/01/rihanna-ih...</td>\n",
       "      <td>benign</td>\n",
       "      <td>1</td>\n",
       "      <td>6</td>\n",
       "      <td>0</td>\n",
       "      <td>7</td>\n",
       "      <td>0</td>\n",
       "      <td>0</td>\n",
       "      <td>0</td>\n",
       "      <td>0</td>\n",
       "      <td>...</td>\n",
       "      <td>0</td>\n",
       "      <td>0</td>\n",
       "      <td>0</td>\n",
       "      <td>1</td>\n",
       "      <td>0</td>\n",
       "      <td>0</td>\n",
       "      <td>0</td>\n",
       "      <td>0</td>\n",
       "      <td>0</td>\n",
       "      <td>0</td>\n",
       "    </tr>\n",
       "    <tr>\n",
       "      <th>28</th>\n",
       "      <td>http://www.marketingbyinternet.com/mo/e56508df...</td>\n",
       "      <td>phishing</td>\n",
       "      <td>2</td>\n",
       "      <td>0</td>\n",
       "      <td>0</td>\n",
       "      <td>5</td>\n",
       "      <td>0</td>\n",
       "      <td>0</td>\n",
       "      <td>0</td>\n",
       "      <td>0</td>\n",
       "      <td>...</td>\n",
       "      <td>0</td>\n",
       "      <td>0</td>\n",
       "      <td>0</td>\n",
       "      <td>2</td>\n",
       "      <td>0</td>\n",
       "      <td>0</td>\n",
       "      <td>0</td>\n",
       "      <td>0</td>\n",
       "      <td>0</td>\n",
       "      <td>0</td>\n",
       "    </tr>\n",
       "    <tr>\n",
       "      <th>29</th>\n",
       "      <td>en.wikipedia.org/wiki/North_Dakota</td>\n",
       "      <td>benign</td>\n",
       "      <td>2</td>\n",
       "      <td>0</td>\n",
       "      <td>1</td>\n",
       "      <td>2</td>\n",
       "      <td>0</td>\n",
       "      <td>0</td>\n",
       "      <td>0</td>\n",
       "      <td>0</td>\n",
       "      <td>...</td>\n",
       "      <td>0</td>\n",
       "      <td>0</td>\n",
       "      <td>0</td>\n",
       "      <td>2</td>\n",
       "      <td>0</td>\n",
       "      <td>0</td>\n",
       "      <td>0</td>\n",
       "      <td>0</td>\n",
       "      <td>0</td>\n",
       "      <td>0</td>\n",
       "    </tr>\n",
       "  </tbody>\n",
       "</table>\n",
       "<p>30 rows × 30 columns</p>\n",
       "</div>"
      ],
      "text/plain": [
       "                                                  url        type  qty_dot  \\\n",
       "0                                    br-icloud.com.br    phishing        2   \n",
       "1                 mp3raid.com/music/krizz_kaliko.html      benign        2   \n",
       "2                     bopsecrets.org/rexroth/cr/1.htm      benign        2   \n",
       "3   http://www.garage-pirenne.be/index.php?option=...  defacement        3   \n",
       "4   http://adventure-nicaragua.net/index.php?optio...  defacement        2   \n",
       "5   http://buzzfil.net/m/show-art/ils-etaient-loin...      benign        2   \n",
       "6       espn.go.com/nba/player/_/id/3457/brandon-rush      benign        2   \n",
       "7      yourbittorrent.com/?q=anthony-hamilton-soulife      benign        1   \n",
       "8        http://www.pashminaonline.com/pure-pashminas  defacement        2   \n",
       "9       allmusic.com/album/crazy-from-the-heat-r16990      benign        1   \n",
       "10  corporationwiki.com/Ohio/Columbus/frank-s-bens...      benign        2   \n",
       "11  http://www.ikenmijnkunst.nl/index.php/expositi...  defacement        3   \n",
       "12                     myspace.com/video/vid/30602581      benign        1   \n",
       "13  http://www.lebensmittel-ueberwachung.de/index....  defacement        4   \n",
       "14  http://www.szabadmunkaero.hu/cimoldal.html?sta...  defacement        3   \n",
       "15   http://larcadelcarnevale.com/catalogo/palloncini  defacement        1   \n",
       "16       quickfacts.census.gov/qfd/maps/iowa_map.html      benign        3   \n",
       "17  nugget.ca/ArticleDisplay.aspx?archive=true&e=1...      benign        2   \n",
       "18     uk.linkedin.com/pub/steve-rubenstein/8/718/755      benign        2   \n",
       "19                 http://www.vnic.co/khach-hang.html  defacement        3   \n",
       "20   baseball-reference.com/players/h/harrige01.shtml      benign        2   \n",
       "21         signin.eby.de.zukruygxctzmmqi.civpro.co.za    phishing        6   \n",
       "22                192.com/atoz/people/oakley/patrick/      benign        1   \n",
       "23  nytimes.com/1998/03/29/style/cuttings-oh-that-...      benign        2   \n",
       "24                  escholarship.org/uc/item/5xt4952c      benign        1   \n",
       "25                  songfacts.com/detail.php?id=13410      benign        2   \n",
       "26                     casamanana.org/education/blba/      benign        1   \n",
       "27  http://hollywoodlife.com/2014/05/01/rihanna-ih...      benign        1   \n",
       "28  http://www.marketingbyinternet.com/mo/e56508df...    phishing        2   \n",
       "29                 en.wikipedia.org/wiki/North_Dakota      benign        2   \n",
       "\n",
       "    qty_hyphen  qty_underline  qty_slash  qty_questionmark  qty_equalto  \\\n",
       "0            1              0          0                 0            0   \n",
       "1            0              1          2                 0            0   \n",
       "2            0              0          3                 0            0   \n",
       "3            1              2          3                 1            4   \n",
       "4            1              1          3                 1            3   \n",
       "5           16              0          5                 0            0   \n",
       "6            1              1          6                 0            0   \n",
       "7            2              0          1                 1            1   \n",
       "8            1              0          3                 0            0   \n",
       "9            4              0          2                 0            0   \n",
       "10           3              0          3                 0            0   \n",
       "11           1              0          5                 0            0   \n",
       "12           0              0          3                 0            0   \n",
       "13           1              0          4                 0            0   \n",
       "14           0              0          3                 1            1   \n",
       "15           0              0          4                 0            0   \n",
       "16           0              1          3                 0            0   \n",
       "17           0              0          1                 1            2   \n",
       "18           1              0          5                 0            0   \n",
       "19           1              0          3                 0            0   \n",
       "20           1              0          3                 0            0   \n",
       "21           0              0          0                 0            0   \n",
       "22           0              0          5                 0            0   \n",
       "23           6              0          5                 0            0   \n",
       "24           0              0          3                 0            0   \n",
       "25           0              0          1                 1            1   \n",
       "26           0              0          3                 0            0   \n",
       "27           6              0          7                 0            0   \n",
       "28           0              0          5                 0            0   \n",
       "29           0              1          2                 0            0   \n",
       "\n",
       "    qty_at  qty_and  ...  qty_hashtag  qty_dollar  qty_percent  \\\n",
       "0        0        0  ...            0           0            0   \n",
       "1        0        0  ...            0           0            0   \n",
       "2        0        0  ...            0           0            0   \n",
       "3        0        3  ...            0           0            0   \n",
       "4        0        2  ...            0           0            0   \n",
       "5        0        0  ...            0           0            0   \n",
       "6        0        0  ...            0           0            0   \n",
       "7        0        0  ...            0           0            0   \n",
       "8        0        0  ...            0           0            0   \n",
       "9        0        0  ...            0           0            0   \n",
       "10       0        0  ...            0           0            0   \n",
       "11       0        0  ...            0           0            0   \n",
       "12       0        0  ...            0           0            0   \n",
       "13       0        0  ...            0           0            0   \n",
       "14       0        0  ...            0           0            0   \n",
       "15       0        0  ...            0           0            0   \n",
       "16       0        0  ...            0           0            0   \n",
       "17       0        1  ...            0           0            0   \n",
       "18       0        0  ...            0           0            0   \n",
       "19       0        0  ...            0           0            0   \n",
       "20       0        0  ...            0           0            0   \n",
       "21       0        0  ...            0           0            0   \n",
       "22       0        0  ...            0           0            0   \n",
       "23       0        0  ...            0           0            0   \n",
       "24       0        0  ...            0           0            0   \n",
       "25       0        0  ...            0           0            0   \n",
       "26       0        0  ...            0           0            0   \n",
       "27       0        0  ...            0           0            0   \n",
       "28       0        0  ...            0           0            0   \n",
       "29       0        0  ...            0           0            0   \n",
       "\n",
       "    qty_dot_hostname qty_hyphen_hostname  qty_underline_hostname  \\\n",
       "0                  2                   1                       0   \n",
       "1                  1                   0                       0   \n",
       "2                  1                   0                       0   \n",
       "3                  2                   1                       0   \n",
       "4                  1                   1                       0   \n",
       "5                  1                   0                       0   \n",
       "6                  2                   0                       0   \n",
       "7                  1                   0                       0   \n",
       "8                  2                   0                       0   \n",
       "9                  1                   0                       0   \n",
       "10                 1                   0                       0   \n",
       "11                 2                   0                       0   \n",
       "12                 1                   0                       0   \n",
       "13                 2                   1                       0   \n",
       "14                 2                   0                       0   \n",
       "15                 1                   0                       0   \n",
       "16                 2                   0                       0   \n",
       "17                 1                   0                       0   \n",
       "18                 2                   0                       0   \n",
       "19                 2                   0                       0   \n",
       "20                 1                   1                       0   \n",
       "21                 6                   0                       0   \n",
       "22                 1                   0                       0   \n",
       "23                 1                   0                       0   \n",
       "24                 1                   0                       0   \n",
       "25                 1                   0                       0   \n",
       "26                 1                   0                       0   \n",
       "27                 1                   0                       0   \n",
       "28                 2                   0                       0   \n",
       "29                 2                   0                       0   \n",
       "\n",
       "    qty_questionmark_hostname  qty_equal_hostname  qty_at_hostname  \\\n",
       "0                           0                   0                0   \n",
       "1                           0                   0                0   \n",
       "2                           0                   0                0   \n",
       "3                           0                   0                0   \n",
       "4                           0                   0                0   \n",
       "5                           0                   0                0   \n",
       "6                           0                   0                0   \n",
       "7                           0                   0                0   \n",
       "8                           0                   0                0   \n",
       "9                           0                   0                0   \n",
       "10                          0                   0                0   \n",
       "11                          0                   0                0   \n",
       "12                          0                   0                0   \n",
       "13                          0                   0                0   \n",
       "14                          0                   0                0   \n",
       "15                          0                   0                0   \n",
       "16                          0                   0                0   \n",
       "17                          0                   0                0   \n",
       "18                          0                   0                0   \n",
       "19                          0                   0                0   \n",
       "20                          0                   0                0   \n",
       "21                          0                   0                0   \n",
       "22                          0                   0                0   \n",
       "23                          0                   0                0   \n",
       "24                          0                   0                0   \n",
       "25                          0                   0                0   \n",
       "26                          0                   0                0   \n",
       "27                          0                   0                0   \n",
       "28                          0                   0                0   \n",
       "29                          0                   0                0   \n",
       "\n",
       "    qty_and_hostname  \n",
       "0                  0  \n",
       "1                  0  \n",
       "2                  0  \n",
       "3                  0  \n",
       "4                  0  \n",
       "5                  0  \n",
       "6                  0  \n",
       "7                  0  \n",
       "8                  0  \n",
       "9                  0  \n",
       "10                 0  \n",
       "11                 0  \n",
       "12                 0  \n",
       "13                 0  \n",
       "14                 0  \n",
       "15                 0  \n",
       "16                 0  \n",
       "17                 0  \n",
       "18                 0  \n",
       "19                 0  \n",
       "20                 0  \n",
       "21                 0  \n",
       "22                 0  \n",
       "23                 0  \n",
       "24                 0  \n",
       "25                 0  \n",
       "26                 0  \n",
       "27                 0  \n",
       "28                 0  \n",
       "29                 0  \n",
       "\n",
       "[30 rows x 30 columns]"
      ]
     },
     "execution_count": 34,
     "metadata": {},
     "output_type": "execute_result"
    }
   ],
   "source": [
    "data.head(30)"
   ]
  },
  {
   "cell_type": "markdown",
   "id": "848dd881-3e4c-49de-aae1-70d068e66f37",
   "metadata": {
    "id": "GFySSZV2w-Jj"
   },
   "source": [
    "# EDA"
   ]
  },
  {
   "cell_type": "code",
   "execution_count": 39,
   "id": "TXC3rS-Ix_nS",
   "metadata": {
    "colab": {
     "base_uri": "https://localhost:8080/",
     "height": 787
    },
    "id": "TXC3rS-Ix_nS",
    "outputId": "5b8d1b90-e14d-4610-a362-8ac1b245f77c"
   },
   "outputs": [
    {
     "data": {
      "image/png": "[encoded data removed]",
      "text/plain": [
       "<Figure size 864x345.6 with 1 Axes>"
      ]
     },
     "metadata": {
      "needs_background": "light"
     },
     "output_type": "display_data"
    }
   ],
   "source": [
    "from matplotlib import pyplot as plt\n",
    "import seaborn as sns\n",
    "\n",
    "figsize = (12, 1.2 * len(data['type'].unique()))\n",
    "plt.figure(figsize=figsize)\n",
    "\n",
    "data_ = data[[\"qty_dot\", \"type\"]].sample(n=10000, random_state=1)\n",
    "\n",
    "sns.violinplot(data=data_, x='qty_dot', y='type', inner='stick', palette='Dark2')\n",
    "sns.despine(top=True, right=True, bottom=True, left=True)\n",
    "\n",
    "plt.savefig('dot.png', format='png') \n",
    "plt.show()\n"
   ]
  },
  {
   "cell_type": "code",
   "execution_count": 36,
   "id": "pORfqU-Lx_G6",
   "metadata": {
    "id": "pORfqU-Lx_G6"
   },
   "outputs": [
    {
     "data": {
      "image/png": "[encoded data removed]",
      "text/plain": [
       "<Figure size 864x345.6 with 1 Axes>"
      ]
     },
     "metadata": {
      "needs_background": "light"
     },
     "output_type": "display_data"
    }
   ],
   "source": [
    "figsize = (12, 1.2 * len(data['type'].unique()))\n",
    "plt.figure(figsize=figsize)\n",
    "data_ = data[[\"qty_hyphen\", \"type\"]].sample(n=10000, random_state=1)\n",
    "sns.violinplot(data = data_, x='qty_hyphen', y='type', inner='stick', palette='Dark2')\n",
    "sns.despine(top=True, right=True, bottom=True, left=True)"
   ]
  },
  {
   "cell_type": "code",
   "execution_count": 44,
   "id": "SKW5Ca-hx-qK",
   "metadata": {
    "id": "SKW5Ca-hx-qK"
   },
   "outputs": [
    {
     "data": {
      "image/png": "[encoded data removed]",
      "text/plain": [
       "<Figure size 864x345.6 with 1 Axes>"
      ]
     },
     "metadata": {
      "needs_background": "light"
     },
     "output_type": "display_data"
    }
   ],
   "source": [
    "figsize = (12, 1.2 * len(data['type'].unique()))\n",
    "plt.figure(figsize=figsize)\n",
    "data_ = data[[\"qty_underline\", \"type\"]].sample(n=10000, random_state=1)\n",
    "sns.violinplot(data = data_, x='qty_underline', y='type', inner='stick', palette='Dark2')\n",
    "sns.despine(top=True, right=True, bottom=True, left=True)\n",
    "plt.savefig('line.png', format='png') \n"
   ]
  },
  {
   "cell_type": "code",
   "execution_count": 40,
   "id": "gVezB9m9x-JU",
   "metadata": {
    "id": "gVezB9m9x-JU"
   },
   "outputs": [
    {
     "data": {
      "image/png": "[encoded data removed]",
      "text/plain": [
       "<Figure size 864x345.6 with 1 Axes>"
      ]
     },
     "metadata": {
      "needs_background": "light"
     },
     "output_type": "display_data"
    }
   ],
   "source": [
    "figsize = (12, 1.2 * len(data['type'].unique()))\n",
    "plt.figure(figsize=figsize)\n",
    "data_ = data[[\"qty_slash\", \"type\"]].sample(n=10000, random_state=1)\n",
    "sns.violinplot(data = data_, x='qty_slash', y='type', inner='stick', palette='Dark2')\n",
    "sns.despine(top=True, right=True, bottom=True, left=True)\n",
    "plt.savefig('slash.png', format='png') "
   ]
  },
  {
   "cell_type": "code",
   "execution_count": 42,
   "id": "6bf6ed52-ac93-4750-9201-20e0668f28d5",
   "metadata": {},
   "outputs": [],
   "source": [
    "data_plot = data.sample(n = 10000, random_state = 1)"
   ]
  },
  {
   "cell_type": "code",
   "execution_count": 40,
   "id": "IqzuafdHx4Ck",
   "metadata": {
    "id": "IqzuafdHx4Ck"
   },
   "outputs": [
    {
     "data": {
      "image/png": "[encoded data removed]",
      "text/plain": [
       "<Figure size 432x288 with 1 Axes>"
      ]
     },
     "metadata": {
      "needs_background": "light"
     },
     "output_type": "display_data"
    }
   ],
   "source": [
    "data_plot.plot(kind='scatter', x='qty_slash', y='qty_questionmark', s=32, alpha=.8)\n",
    "plt.gca().spines[['top', 'right',]].set_visible(False)"
   ]
  },
  {
   "cell_type": "code",
   "execution_count": 41,
   "id": "DdOVa922x3oU",
   "metadata": {
    "id": "DdOVa922x3oU"
   },
   "outputs": [
    {
     "data": {
      "image/png": "[encoded data removed]",
      "text/plain": [
       "<Figure size 432x288 with 1 Axes>"
      ]
     },
     "metadata": {
      "needs_background": "light"
     },
     "output_type": "display_data"
    }
   ],
   "source": [
    "data_plot.plot(kind='scatter', x='qty_underline', y='qty_slash', s=32, alpha=.8)\n",
    "plt.gca().spines[['top', 'right',]].set_visible(False)"
   ]
  },
  {
   "cell_type": "code",
   "execution_count": 42,
   "id": "Kt4XlLV7x3Kz",
   "metadata": {
    "id": "Kt4XlLV7x3Kz"
   },
   "outputs": [
    {
     "data": {
      "image/png": "[encoded data removed]",
      "text/plain": [
       "<Figure size 432x288 with 1 Axes>"
      ]
     },
     "metadata": {
      "needs_background": "light"
     },
     "output_type": "display_data"
    }
   ],
   "source": [
    "data_plot.plot(kind='scatter', x='qty_hyphen', y='qty_underline', s=32, alpha=.8)\n",
    "plt.gca().spines[['top', 'right',]].set_visible(False)"
   ]
  },
  {
   "cell_type": "code",
   "execution_count": 43,
   "id": "nmBpReDax2xh",
   "metadata": {
    "id": "nmBpReDax2xh"
   },
   "outputs": [
    {
     "data": {
      "image/png": "[encoded data removed]",
      "text/plain": [
       "<Figure size 432x288 with 1 Axes>"
      ]
     },
     "metadata": {
      "needs_background": "light"
     },
     "output_type": "display_data"
    }
   ],
   "source": [
    "data_plot.plot(kind='scatter', x='qty_dot', y='qty_hyphen', s=32, alpha=.8)\n",
    "plt.gca().spines[['top', 'right',]].set_visible(False)"
   ]
  },
  {
   "cell_type": "code",
   "execution_count": 43,
   "id": "ZoNl8QSQx2Iv",
   "metadata": {
    "id": "ZoNl8QSQx2Iv"
   },
   "outputs": [
    {
     "data": {
      "image/png": "[encoded data removed]",
      "text/plain": [
       "<Figure size 432x288 with 1 Axes>"
      ]
     },
     "metadata": {
      "needs_background": "light"
     },
     "output_type": "display_data"
    }
   ],
   "source": [
    "data_plot.groupby('type').size().plot(kind='barh', color=sns.palettes.mpl_palette('Dark2'))\n",
    "plt.gca().spines[['top', 'right',]].set_visible(False)\n",
    "plt.savefig('bar.png', format='png') "
   ]
  },
  {
   "cell_type": "code",
   "execution_count": 45,
   "id": "XXcB_tNsx1X5",
   "metadata": {
    "id": "XXcB_tNsx1X5"
   },
   "outputs": [
    {
     "data": {
      "image/png": "[encoded data removed]",
      "text/plain": [
       "<Figure size 432x288 with 1 Axes>"
      ]
     },
     "metadata": {
      "needs_background": "light"
     },
     "output_type": "display_data"
    }
   ],
   "source": [
    "data_plot['qty_slash'].plot(kind='hist', bins=20, title='qty_slash')\n",
    "plt.gca().spines[['top', 'right',]].set_visible(False)"
   ]
  },
  {
   "cell_type": "code",
   "execution_count": 46,
   "id": "tK55jUOvx04W",
   "metadata": {
    "id": "tK55jUOvx04W"
   },
   "outputs": [
    {
     "data": {
      "image/png": "[encoded data removed]",
      "text/plain": [
       "<Figure size 432x288 with 1 Axes>"
      ]
     },
     "metadata": {
      "needs_background": "light"
     },
     "output_type": "display_data"
    }
   ],
   "source": [
    "data_plot['qty_underline'].plot(kind='hist', bins=20, title='qty_underline')\n",
    "plt.gca().spines[['top', 'right',]].set_visible(False)"
   ]
  },
  {
   "cell_type": "code",
   "execution_count": 47,
   "id": "I8p9w8lUx0OO",
   "metadata": {
    "id": "I8p9w8lUx0OO"
   },
   "outputs": [
    {
     "data": {
      "image/png": "[encoded data removed]",
      "text/plain": [
       "<Figure size 432x288 with 1 Axes>"
      ]
     },
     "metadata": {
      "needs_background": "light"
     },
     "output_type": "display_data"
    }
   ],
   "source": [
    "data_plot['qty_hyphen'].plot(kind='hist', bins=20, title='qty_hyphen')\n",
    "plt.gca().spines[['top', 'right',]].set_visible(False)"
   ]
  },
  {
   "cell_type": "code",
   "execution_count": 48,
   "id": "XJmn-kqHxy8e",
   "metadata": {
    "id": "XJmn-kqHxy8e"
   },
   "outputs": [
    {
     "data": {
      "image/png": "[encoded data removed]",
      "text/plain": [
       "<Figure size 432x288 with 1 Axes>"
      ]
     },
     "metadata": {
      "needs_background": "light"
     },
     "output_type": "display_data"
    }
   ],
   "source": [
    "data_plot['qty_dot'].plot(kind='hist', bins=20, title='qty_dot')\n",
    "plt.gca().spines[['top', 'right',]].set_visible(False)"
   ]
  },
  {
   "cell_type": "code",
   "execution_count": 49,
   "id": "33648601-ab91-4308-8717-b4fe3a8bc6f4",
   "metadata": {},
   "outputs": [
    {
     "data": {
      "text/plain": [
       "Index(['url', 'type', 'qty_dot', 'qty_hyphen', 'qty_underline', 'qty_slash',\n",
       "       'qty_questionmark', 'qty_equalto', 'qty_at', 'qty_and',\n",
       "       'qty_exclamation', 'qty_space', 'url_length', 'qty_hostname',\n",
       "       'domain_name', 'qty_or', 'qty_tilde', 'qty_comma', 'qty_plus',\n",
       "       'qty_asterisk', 'qty_hashtag', 'qty_dollar', 'qty_percent',\n",
       "       'qty_dot_hostname', 'qty_hyphen_hostname', 'qty_underline_hostname',\n",
       "       'qty_questionmark_hostname', 'qty_equal_hostname', 'qty_at_hostname',\n",
       "       'qty_and_hostname'],\n",
       "      dtype='object')"
      ]
     },
     "execution_count": 49,
     "metadata": {},
     "output_type": "execute_result"
    }
   ],
   "source": [
    "data.columns"
   ]
  },
  {
   "cell_type": "code",
   "execution_count": 50,
   "id": "a0883add-4e2c-4d71-9e03-8a1eedce33d7",
   "metadata": {},
   "outputs": [
    {
     "name": "stdout",
     "output_type": "stream",
     "text": [
      "<class 'pandas.core.frame.DataFrame'>\n",
      "RangeIndex: 651191 entries, 0 to 651190\n",
      "Data columns (total 30 columns):\n",
      " #   Column                     Non-Null Count   Dtype \n",
      "---  ------                     --------------   ----- \n",
      " 0   url                        651191 non-null  object\n",
      " 1   type                       651191 non-null  object\n",
      " 2   qty_dot                    651191 non-null  int64 \n",
      " 3   qty_hyphen                 651191 non-null  int64 \n",
      " 4   qty_underline              651191 non-null  int64 \n",
      " 5   qty_slash                  651191 non-null  int64 \n",
      " 6   qty_questionmark           651191 non-null  int64 \n",
      " 7   qty_equalto                651191 non-null  int64 \n",
      " 8   qty_at                     651191 non-null  int64 \n",
      " 9   qty_and                    651191 non-null  int64 \n",
      " 10  qty_exclamation            651191 non-null  int64 \n",
      " 11  qty_space                  651191 non-null  int64 \n",
      " 12  url_length                 651191 non-null  int64 \n",
      " 13  qty_hostname               651191 non-null  int64 \n",
      " 14  domain_name                651191 non-null  object\n",
      " 15  qty_or                     651191 non-null  int64 \n",
      " 16  qty_tilde                  651191 non-null  int64 \n",
      " 17  qty_comma                  651191 non-null  int64 \n",
      " 18  qty_plus                   651191 non-null  int64 \n",
      " 19  qty_asterisk               651191 non-null  int64 \n",
      " 20  qty_hashtag                651191 non-null  int64 \n",
      " 21  qty_dollar                 651191 non-null  int64 \n",
      " 22  qty_percent                651191 non-null  int64 \n",
      " 23  qty_dot_hostname           651191 non-null  int64 \n",
      " 24  qty_hyphen_hostname        651191 non-null  int64 \n",
      " 25  qty_underline_hostname     651191 non-null  int64 \n",
      " 26  qty_questionmark_hostname  651191 non-null  int64 \n",
      " 27  qty_equal_hostname         651191 non-null  int64 \n",
      " 28  qty_at_hostname            651191 non-null  int64 \n",
      " 29  qty_and_hostname           651191 non-null  int64 \n",
      "dtypes: int64(27), object(3)\n",
      "memory usage: 149.0+ MB\n"
     ]
    }
   ],
   "source": [
    "data.info()"
   ]
  },
  {
   "cell_type": "markdown",
   "id": "ef1b6a28-83aa-4309-9336-3b4e9286b346",
   "metadata": {},
   "source": [
    "# sample without replacement"
   ]
  },
  {
   "cell_type": "code",
   "execution_count": 51,
   "id": "cbb5c5c5-a4f7-4f92-9bbb-343ead22097d",
   "metadata": {},
   "outputs": [],
   "source": [
    "data_random_sample_without_replacement = data.sample(n = 50000, random_state = 42)"
   ]
  },
  {
   "cell_type": "code",
   "execution_count": 52,
   "id": "4e74dcad-86e9-43c5-98ab-288be63a7806",
   "metadata": {},
   "outputs": [],
   "source": [
    "one_hot_encoded_data = pd.get_dummies(data_random_sample_without_replacement['domain_name'], drop_first = True)\n",
    "data_random_sample_without_replacement.drop('domain_name',inplace = True, axis = 1)\n",
    "data_random_sample_without_replacement = pd.concat([data_random_sample_without_replacement,one_hot_encoded_data], axis = 1)"
   ]
  },
  {
   "cell_type": "code",
   "execution_count": 53,
   "id": "dcd1a1b3-bfd7-4191-a033-5a6774b24269",
   "metadata": {},
   "outputs": [],
   "source": [
    "X = data_random_sample_without_replacement.drop([\"url\",\"type\"], axis = 1)\n",
    "y = data_random_sample_without_replacement[\"type\"]"
   ]
  },
  {
   "cell_type": "code",
   "execution_count": 54,
   "id": "Ve_TPYkSmIJi",
   "metadata": {
    "id": "Ve_TPYkSmIJi"
   },
   "outputs": [
    {
     "name": "stdout",
     "output_type": "stream",
     "text": [
      "Best Hyperparameters: {'classifier': GradientBoostingClassifier(n_estimators=200), 'classifier__n_estimators': 200}\n",
      "Best Estimator: Pipeline(steps=[('std', MinMaxScaler()),\n",
      "                ('classifier', GradientBoostingClassifier(n_estimators=200))])\n",
      "The time taken to select best estimator using this instance of GridsearchcV is 363.732816696167\n",
      "Test Accuracy: 0.8634\n"
     ]
    }
   ],
   "source": [
    "from sklearn.model_selection import GridSearchCV\n",
    "from sklearn.ensemble import GradientBoostingClassifier\n",
    "from sklearn.linear_model import LogisticRegression\n",
    "from sklearn.svm import SVC\n",
    "from sklearn.pipeline import Pipeline\n",
    "from sklearn.model_selection import train_test_split\n",
    "from sklearn.preprocessing import MinMaxScaler\n",
    "import time\n",
    "\n",
    "X_train, X_test, y_train, y_test = train_test_split(X, y, test_size=0.2, random_state=42)\n",
    "\n",
    "pipeline = Pipeline([\n",
    "    ('std', MinMaxScaler()),\n",
    "    ('classifier', GradientBoostingClassifier())\n",
    "])\n",
    "\n",
    "param_grids = [\n",
    "    {\n",
    "        'classifier': [GradientBoostingClassifier()],\n",
    "        'classifier__n_estimators': [50, 100, 200],\n",
    "    },\n",
    "    {\n",
    "        'classifier': [SVC()],\n",
    "        'classifier__C': [0.1, 1, 10],\n",
    "    },\n",
    "    {\n",
    "        'classifier': [LogisticRegression(solver = \"liblinear\")],\n",
    "        'classifier__penalty': ['l1', 'l2'],\n",
    "    }\n",
    "]\n",
    "\n",
    "grid_search = GridSearchCV(estimator=pipeline, param_grid=param_grids, cv=3, n_jobs = -5)\n",
    "t_start = time.time()\n",
    "grid_search.fit(X_train, y_train)\n",
    "t_end = time.time()\n",
    "\n",
    "print(\"Best Hyperparameters:\", grid_search.best_params_)\n",
    "print(\"Best Estimator:\", grid_search.best_estimator_)\n",
    "print(f\"The time taken to select best estimator using this instance of GridsearchcV is {t_end - t_start}\")\n",
    "accuracy = grid_search.best_estimator_.score(X_test, y_test)\n",
    "print(\"Test Accuracy:\", accuracy)"
   ]
  },
  {
   "cell_type": "code",
   "execution_count": 55,
   "id": "05865198-6086-480b-8a0c-df28c31ba728",
   "metadata": {},
   "outputs": [
    {
     "name": "stdout",
     "output_type": "stream",
     "text": [
      "[[6342   97    3  182]\n",
      " [ 226 1130    0   96]\n",
      " [ 129   18  326   27]\n",
      " [ 513   67    8  836]]\n",
      "              precision    recall  f1-score   support\n",
      "\n",
      "      benign       0.88      0.96      0.92      6624\n",
      "  defacement       0.86      0.78      0.82      1452\n",
      "     malware       0.97      0.65      0.78       500\n",
      "    phishing       0.73      0.59      0.65      1424\n",
      "\n",
      "    accuracy                           0.86     10000\n",
      "   macro avg       0.86      0.74      0.79     10000\n",
      "weighted avg       0.86      0.86      0.86     10000\n",
      "\n"
     ]
    }
   ],
   "source": [
    "from sklearn.metrics import classification_report, confusion_matrix\n",
    "\n",
    "y_pred = grid_search.best_estimator_.predict(X_test)\n",
    "confusion_matrix_ = confusion_matrix(y_test, y_pred)\n",
    "classification_report_ = classification_report(y_test, y_pred)\n",
    "print(confusion_matrix_)\n",
    "print(classification_report_)"
   ]
  },
  {
   "cell_type": "code",
   "execution_count": 56,
   "id": "748d9ac9-542d-451c-8986-10d4b35172e8",
   "metadata": {},
   "outputs": [
    {
     "data": {
      "text/plain": [
       "<AxesSubplot:>"
      ]
     },
     "execution_count": 56,
     "metadata": {},
     "output_type": "execute_result"
    },
    {
     "data": {
      "image/png": "[encoded data removed]",
      "text/plain": [
       "<Figure size 432x288 with 2 Axes>"
      ]
     },
     "metadata": {
      "needs_background": "light"
     },
     "output_type": "display_data"
    }
   ],
   "source": [
    "import seaborn as sns\n",
    "\n",
    "sns.heatmap(confusion_matrix_ ,annot = True)"
   ]
  },
  {
   "cell_type": "code",
   "execution_count": 57,
   "id": "33733fe7-2009-4b3e-af36-e03a753a0e7b",
   "metadata": {},
   "outputs": [
    {
     "name": "stdout",
     "output_type": "stream",
     "text": [
      "The time taken to select best parameters for gradientBoosting Classifier using this instance of GridsearchcV is 1440.5700974464417\n",
      "Best Hyperparameters: {'classifier__learning_rate': 0.2, 'classifier__max_depth': 7, 'classifier__min_samples_split': 2, 'classifier__n_estimators': 200}\n",
      "Test Accuracy: 0.8634\n"
     ]
    }
   ],
   "source": [
    "from sklearn.model_selection import GridSearchCV\n",
    "from sklearn.ensemble import GradientBoostingClassifier\n",
    "from sklearn.linear_model import LogisticRegression\n",
    "from sklearn.svm import SVC\n",
    "from sklearn.pipeline import Pipeline\n",
    "from sklearn.model_selection import train_test_split\n",
    "from sklearn.preprocessing import MinMaxScaler\n",
    "import time\n",
    "\n",
    "\n",
    "X_train, X_test, y_train, y_test = train_test_split(X, y, test_size=0.2, random_state=42)\n",
    "\n",
    "pipeline_best = Pipeline([\n",
    "    ('std', MinMaxScaler()),\n",
    "    ('classifier',GradientBoostingClassifier())\n",
    "])\n",
    "\n",
    "param_grids = {\n",
    "        'classifier__n_estimators': [50, 100, 200],\n",
    "        'classifier__learning_rate': [0.01, 0.1, 0.2],\n",
    "        'classifier__max_depth': [3, 5, 7]\n",
    "    }\n",
    "\n",
    "grid_search_best = GridSearchCV(estimator=pipeline_best, param_grid=param_grids, cv=3, n_jobs=-5)\n",
    "t_start = time.time()\n",
    "grid_search_best.fit(X_train, y_train)\n",
    "t_end = time.time()\n",
    "print(f\"The time taken to select best parameters for gradientBoosting Classifier using this instance of GridsearchcV is {t_end - t_start}\")\n",
    "print(\"Best Hyperparameters:\", grid_search_best.best_params_)\n",
    "accuracy = grid_search.best_estimator_.score(X_test, y_test)\n",
    "print(\"Test Accuracy:\", accuracy)"
   ]
  },
  {
   "cell_type": "code",
   "execution_count": null,
   "id": "23c92b20-3eac-47d2-b59a-d550277ab250",
   "metadata": {},
   "outputs": [],
   "source": [
    "import seaborn as sns\n",
    "from sklearn.metrics import classification_report, confusion_matrix\n",
    "\n",
    "y_pred = grid_search_best.best_estimator_.predict(X_test)\n",
    "confusion_matrix_ = confusion_matrix(y_test, y_pred)\n",
    "classification_report_ = classification_report(y_test, y_pred)\n",
    "print(confusion_matrix_)\n",
    "print(classification_report_)\n",
    "sns.heatmap(confusion_matrix_ ,annot = True)"
   ]
  },
  {
   "cell_type": "markdown",
   "id": "4506ec2c-b6be-41a5-a7b6-ea4a6f2d337b",
   "metadata": {},
   "source": [
    "# Weighted Sampling"
   ]
  },
  {
   "cell_type": "code",
   "execution_count": 123,
   "id": "ce0aa827-14f9-4356-ab5b-65ee4c38915f",
   "metadata": {},
   "outputs": [],
   "source": [
    "weights = data[\"type\"].value_counts().to_dict()"
   ]
  },
  {
   "cell_type": "code",
   "execution_count": 124,
   "id": "18110f5d-4580-4242-800f-741a86589590",
   "metadata": {},
   "outputs": [
    {
     "data": {
      "text/plain": [
       "{'benign': 428103, 'defacement': 96457, 'phishing': 94111, 'malware': 32520}"
      ]
     },
     "execution_count": 124,
     "metadata": {},
     "output_type": "execute_result"
    }
   ],
   "source": [
    "weights"
   ]
  },
  {
   "cell_type": "code",
   "execution_count": 126,
   "id": "d3afec70-c6ae-4d1c-bcc4-42c8c340f4d3",
   "metadata": {},
   "outputs": [],
   "source": [
    "data_weighted_sampling = data"
   ]
  },
  {
   "cell_type": "code",
   "execution_count": 128,
   "id": "ec6f40db-e4cf-45be-a9b9-03e614f8b3e6",
   "metadata": {},
   "outputs": [],
   "source": [
    "data_weighted_sampling['weights'] = data_weighted_sampling['type'].map(weights)\n",
    "data_weighted_sampling = data_weighted_sampling.sample(n=50000, weights='weights')"
   ]
  },
  {
   "cell_type": "code",
   "execution_count": 130,
   "id": "a641f17b-a6f0-4eaa-95e9-34ed3c6ff428",
   "metadata": {},
   "outputs": [
    {
     "data": {
      "text/plain": [
       "benign        44995\n",
       "defacement     2385\n",
       "phishing       2346\n",
       "malware         274\n",
       "Name: type, dtype: int64"
      ]
     },
     "execution_count": 130,
     "metadata": {},
     "output_type": "execute_result"
    }
   ],
   "source": [
    "data_weighted_sampling[\"type\"].value_counts()"
   ]
  },
  {
   "cell_type": "code",
   "execution_count": 131,
   "id": "fcd2d578-33be-4d84-be8a-b40de60b6c38",
   "metadata": {},
   "outputs": [],
   "source": [
    "X = data_weighted_sampling.drop([\"url\",\"type\"], axis = 1)\n",
    "y = data_weighted_sampling[\"type\"]"
   ]
  },
  {
   "cell_type": "code",
   "execution_count": 132,
   "id": "93449733-d319-490d-aad3-3270ffde1141",
   "metadata": {},
   "outputs": [
    {
     "name": "stdout",
     "output_type": "stream",
     "text": [
      "Best Hyperparameters: {'classifier__learning_rate': 0.2, 'classifier__max_depth': 7, 'classifier__min_samples_split': 10, 'classifier__n_estimators': 200}\n",
      "Best Estimator: Pipeline(steps=[('std', MinMaxScaler()),\n",
      "                ('classifier',\n",
      "                 GradientBoostingClassifier(learning_rate=0.2, max_depth=7,\n",
      "                                            min_samples_split=10,\n",
      "                                            n_estimators=200))])\n",
      "The time taken to select best estimator using this instance of GridsearchcV is 1278.7208981513977\n",
      "Test Accuracy: 0.9021\n"
     ]
    }
   ],
   "source": [
    "grid_search_w = GridSearchCV(estimator=pipeline, param_grid=param_grids, cv=3, n_jobs = -5)\n",
    "t_start = time.time()\n",
    "grid_search_w.fit(X_train, y_train)\n",
    "t_end = time.time()\n",
    "\n",
    "print(\"Best Hyperparameters:\", grid_search_w.best_params_)\n",
    "print(\"Best Estimator:\", grid_search_w.best_estimator_)\n",
    "print(f\"The time taken to select best estimator using this instance of GridsearchcV is {t_end - t_start}\")\n",
    "accuracy = grid_search_w.best_estimator_.score(X_test, y_test)\n",
    "print(\"Test Accuracy:\", accuracy)"
   ]
  },
  {
   "cell_type": "code",
   "execution_count": 133,
   "id": "0ebdbb35-c941-4227-8879-0ff3bbcf2224",
   "metadata": {},
   "outputs": [
    {
     "name": "stdout",
     "output_type": "stream",
     "text": [
      "[[6316   99   13  196]\n",
      " [ 131 1265    2   54]\n",
      " [  30    8  435   27]\n",
      " [ 347   55   17 1005]]\n",
      "              precision    recall  f1-score   support\n",
      "\n",
      "      benign       0.93      0.95      0.94      6624\n",
      "  defacement       0.89      0.87      0.88      1452\n",
      "     malware       0.93      0.87      0.90       500\n",
      "    phishing       0.78      0.71      0.74      1424\n",
      "\n",
      "    accuracy                           0.90     10000\n",
      "   macro avg       0.88      0.85      0.87     10000\n",
      "weighted avg       0.90      0.90      0.90     10000\n",
      "\n"
     ]
    }
   ],
   "source": [
    "from sklearn.metrics import classification_report, confusion_matrix\n",
    "\n",
    "y_pred = grid_search_w.best_estimator_.predict(X_test)\n",
    "confusion_matrix_ = confusion_matrix(y_test, y_pred)\n",
    "classification_report_ = classification_report(y_test, y_pred)\n",
    "print(confusion_matrix_)\n",
    "print(classification_report_)"
   ]
  },
  {
   "cell_type": "code",
   "execution_count": 134,
   "id": "685cfe38-1c72-46a8-ac90-25e4d012faa0",
   "metadata": {},
   "outputs": [
    {
     "data": {
      "text/plain": [
       "<AxesSubplot:>"
      ]
     },
     "execution_count": 134,
     "metadata": {},
     "output_type": "execute_result"
    },
    {
     "data": {
      "image/png": "[encoded data removed]",
      "text/plain": [
       "<Figure size 432x288 with 2 Axes>"
      ]
     },
     "metadata": {
      "needs_background": "light"
     },
     "output_type": "display_data"
    }
   ],
   "source": [
    "import seaborn as sns\n",
    "sns.heatmap(confusion_matrix_ ,annot = True)"
   ]
  },
  {
   "cell_type": "code",
   "execution_count": 135,
   "id": "66bea41d-e846-447f-a5f1-298464f1e79e",
   "metadata": {},
   "outputs": [
    {
     "ename": "KeyboardInterrupt",
     "evalue": "",
     "output_type": "error",
     "traceback": [
      "\u001b[0;31m---------------------------------------------------------------------------\u001b[0m",
      "\u001b[0;31mKeyboardInterrupt\u001b[0m                         Traceback (most recent call last)",
      "\u001b[0;32m<ipython-input-135-4d9ddb6c9d96>\u001b[0m in \u001b[0;36m<module>\u001b[0;34m\u001b[0m\n\u001b[1;32m      1\u001b[0m \u001b[0mgrid_search_best_w\u001b[0m \u001b[0;34m=\u001b[0m \u001b[0mGridSearchCV\u001b[0m\u001b[0;34m(\u001b[0m\u001b[0mestimator\u001b[0m\u001b[0;34m=\u001b[0m\u001b[0mpipeline_best\u001b[0m\u001b[0;34m,\u001b[0m \u001b[0mparam_grid\u001b[0m\u001b[0;34m=\u001b[0m\u001b[0mparam_grids\u001b[0m\u001b[0;34m,\u001b[0m \u001b[0mcv\u001b[0m\u001b[0;34m=\u001b[0m\u001b[0;36m3\u001b[0m\u001b[0;34m,\u001b[0m \u001b[0mn_jobs\u001b[0m\u001b[0;34m=\u001b[0m\u001b[0;34m-\u001b[0m\u001b[0;36m5\u001b[0m\u001b[0;34m)\u001b[0m\u001b[0;34m\u001b[0m\u001b[0;34m\u001b[0m\u001b[0m\n\u001b[1;32m      2\u001b[0m \u001b[0mt_start\u001b[0m \u001b[0;34m=\u001b[0m \u001b[0mtime\u001b[0m\u001b[0;34m.\u001b[0m\u001b[0mtime\u001b[0m\u001b[0;34m(\u001b[0m\u001b[0;34m)\u001b[0m\u001b[0;34m\u001b[0m\u001b[0;34m\u001b[0m\u001b[0m\n\u001b[0;32m----> 3\u001b[0;31m \u001b[0mgrid_search_best_w\u001b[0m\u001b[0;34m.\u001b[0m\u001b[0mfit\u001b[0m\u001b[0;34m(\u001b[0m\u001b[0mX_train\u001b[0m\u001b[0;34m,\u001b[0m \u001b[0my_train\u001b[0m\u001b[0;34m)\u001b[0m\u001b[0;34m\u001b[0m\u001b[0;34m\u001b[0m\u001b[0m\n\u001b[0m\u001b[1;32m      4\u001b[0m \u001b[0mt_end\u001b[0m \u001b[0;34m=\u001b[0m \u001b[0mtime\u001b[0m\u001b[0;34m.\u001b[0m\u001b[0mtime\u001b[0m\u001b[0;34m(\u001b[0m\u001b[0;34m)\u001b[0m\u001b[0;34m\u001b[0m\u001b[0;34m\u001b[0m\u001b[0m\n\u001b[1;32m      5\u001b[0m \u001b[0mprint\u001b[0m\u001b[0;34m(\u001b[0m\u001b[0;34mf\"The time taken to select best parameters for gradientBoosting Classifier using this instance of GridsearchcV is {t_end - t_start}\"\u001b[0m\u001b[0;34m)\u001b[0m\u001b[0;34m\u001b[0m\u001b[0;34m\u001b[0m\u001b[0m\n",
      "\u001b[0;32m/usr/local/lib/python3.9/site-packages/sklearn/model_selection/_search.py\u001b[0m in \u001b[0;36mfit\u001b[0;34m(self, X, y, groups, **fit_params)\u001b[0m\n\u001b[1;32m    924\u001b[0m             \u001b[0mrefit_start_time\u001b[0m \u001b[0;34m=\u001b[0m \u001b[0mtime\u001b[0m\u001b[0;34m.\u001b[0m\u001b[0mtime\u001b[0m\u001b[0;34m(\u001b[0m\u001b[0;34m)\u001b[0m\u001b[0;34m\u001b[0m\u001b[0;34m\u001b[0m\u001b[0m\n\u001b[1;32m    925\u001b[0m             \u001b[0;32mif\u001b[0m \u001b[0my\u001b[0m \u001b[0;32mis\u001b[0m \u001b[0;32mnot\u001b[0m \u001b[0;32mNone\u001b[0m\u001b[0;34m:\u001b[0m\u001b[0;34m\u001b[0m\u001b[0;34m\u001b[0m\u001b[0m\n\u001b[0;32m--> 926\u001b[0;31m                 \u001b[0mself\u001b[0m\u001b[0;34m.\u001b[0m\u001b[0mbest_estimator_\u001b[0m\u001b[0;34m.\u001b[0m\u001b[0mfit\u001b[0m\u001b[0;34m(\u001b[0m\u001b[0mX\u001b[0m\u001b[0;34m,\u001b[0m \u001b[0my\u001b[0m\u001b[0;34m,\u001b[0m \u001b[0;34m**\u001b[0m\u001b[0mfit_params\u001b[0m\u001b[0;34m)\u001b[0m\u001b[0;34m\u001b[0m\u001b[0;34m\u001b[0m\u001b[0m\n\u001b[0m\u001b[1;32m    927\u001b[0m             \u001b[0;32melse\u001b[0m\u001b[0;34m:\u001b[0m\u001b[0;34m\u001b[0m\u001b[0;34m\u001b[0m\u001b[0m\n\u001b[1;32m    928\u001b[0m                 \u001b[0mself\u001b[0m\u001b[0;34m.\u001b[0m\u001b[0mbest_estimator_\u001b[0m\u001b[0;34m.\u001b[0m\u001b[0mfit\u001b[0m\u001b[0;34m(\u001b[0m\u001b[0mX\u001b[0m\u001b[0;34m,\u001b[0m \u001b[0;34m**\u001b[0m\u001b[0mfit_params\u001b[0m\u001b[0;34m)\u001b[0m\u001b[0;34m\u001b[0m\u001b[0;34m\u001b[0m\u001b[0m\n",
      "\u001b[0;32m/usr/local/lib/python3.9/site-packages/sklearn/pipeline.py\u001b[0m in \u001b[0;36mfit\u001b[0;34m(self, X, y, **fit_params)\u001b[0m\n\u001b[1;32m    392\u001b[0m             \u001b[0;32mif\u001b[0m \u001b[0mself\u001b[0m\u001b[0;34m.\u001b[0m\u001b[0m_final_estimator\u001b[0m \u001b[0;34m!=\u001b[0m \u001b[0;34m\"passthrough\"\u001b[0m\u001b[0;34m:\u001b[0m\u001b[0;34m\u001b[0m\u001b[0;34m\u001b[0m\u001b[0m\n\u001b[1;32m    393\u001b[0m                 \u001b[0mfit_params_last_step\u001b[0m \u001b[0;34m=\u001b[0m \u001b[0mfit_params_steps\u001b[0m\u001b[0;34m[\u001b[0m\u001b[0mself\u001b[0m\u001b[0;34m.\u001b[0m\u001b[0msteps\u001b[0m\u001b[0;34m[\u001b[0m\u001b[0;34m-\u001b[0m\u001b[0;36m1\u001b[0m\u001b[0;34m]\u001b[0m\u001b[0;34m[\u001b[0m\u001b[0;36m0\u001b[0m\u001b[0;34m]\u001b[0m\u001b[0;34m]\u001b[0m\u001b[0;34m\u001b[0m\u001b[0;34m\u001b[0m\u001b[0m\n\u001b[0;32m--> 394\u001b[0;31m                 \u001b[0mself\u001b[0m\u001b[0;34m.\u001b[0m\u001b[0m_final_estimator\u001b[0m\u001b[0;34m.\u001b[0m\u001b[0mfit\u001b[0m\u001b[0;34m(\u001b[0m\u001b[0mXt\u001b[0m\u001b[0;34m,\u001b[0m \u001b[0my\u001b[0m\u001b[0;34m,\u001b[0m \u001b[0;34m**\u001b[0m\u001b[0mfit_params_last_step\u001b[0m\u001b[0;34m)\u001b[0m\u001b[0;34m\u001b[0m\u001b[0;34m\u001b[0m\u001b[0m\n\u001b[0m\u001b[1;32m    395\u001b[0m \u001b[0;34m\u001b[0m\u001b[0m\n\u001b[1;32m    396\u001b[0m         \u001b[0;32mreturn\u001b[0m \u001b[0mself\u001b[0m\u001b[0;34m\u001b[0m\u001b[0;34m\u001b[0m\u001b[0m\n",
      "\u001b[0;32m/usr/local/lib/python3.9/site-packages/sklearn/ensemble/_gb.py\u001b[0m in \u001b[0;36mfit\u001b[0;34m(self, X, y, sample_weight, monitor)\u001b[0m\n\u001b[1;32m    584\u001b[0m \u001b[0;34m\u001b[0m\u001b[0m\n\u001b[1;32m    585\u001b[0m         \u001b[0;31m# fit the boosting stages\u001b[0m\u001b[0;34m\u001b[0m\u001b[0;34m\u001b[0m\u001b[0m\n\u001b[0;32m--> 586\u001b[0;31m         n_stages = self._fit_stages(\n\u001b[0m\u001b[1;32m    587\u001b[0m             \u001b[0mX\u001b[0m\u001b[0;34m,\u001b[0m\u001b[0;34m\u001b[0m\u001b[0;34m\u001b[0m\u001b[0m\n\u001b[1;32m    588\u001b[0m             \u001b[0my\u001b[0m\u001b[0;34m,\u001b[0m\u001b[0;34m\u001b[0m\u001b[0;34m\u001b[0m\u001b[0m\n",
      "\u001b[0;32m/usr/local/lib/python3.9/site-packages/sklearn/ensemble/_gb.py\u001b[0m in \u001b[0;36m_fit_stages\u001b[0;34m(self, X, y, raw_predictions, sample_weight, random_state, X_val, y_val, sample_weight_val, begin_at_stage, monitor)\u001b[0m\n\u001b[1;32m    661\u001b[0m \u001b[0;34m\u001b[0m\u001b[0m\n\u001b[1;32m    662\u001b[0m             \u001b[0;31m# fit next stage of trees\u001b[0m\u001b[0;34m\u001b[0m\u001b[0;34m\u001b[0m\u001b[0m\n\u001b[0;32m--> 663\u001b[0;31m             raw_predictions = self._fit_stage(\n\u001b[0m\u001b[1;32m    664\u001b[0m                 \u001b[0mi\u001b[0m\u001b[0;34m,\u001b[0m\u001b[0;34m\u001b[0m\u001b[0;34m\u001b[0m\u001b[0m\n\u001b[1;32m    665\u001b[0m                 \u001b[0mX\u001b[0m\u001b[0;34m,\u001b[0m\u001b[0;34m\u001b[0m\u001b[0;34m\u001b[0m\u001b[0m\n",
      "\u001b[0;32m/usr/local/lib/python3.9/site-packages/sklearn/ensemble/_gb.py\u001b[0m in \u001b[0;36m_fit_stage\u001b[0;34m(self, i, X, y, raw_predictions, sample_weight, sample_mask, random_state, X_csc, X_csr)\u001b[0m\n\u001b[1;32m    244\u001b[0m \u001b[0;34m\u001b[0m\u001b[0m\n\u001b[1;32m    245\u001b[0m             \u001b[0mX\u001b[0m \u001b[0;34m=\u001b[0m \u001b[0mX_csr\u001b[0m \u001b[0;32mif\u001b[0m \u001b[0mX_csr\u001b[0m \u001b[0;32mis\u001b[0m \u001b[0;32mnot\u001b[0m \u001b[0;32mNone\u001b[0m \u001b[0;32melse\u001b[0m \u001b[0mX\u001b[0m\u001b[0;34m\u001b[0m\u001b[0;34m\u001b[0m\u001b[0m\n\u001b[0;32m--> 246\u001b[0;31m             \u001b[0mtree\u001b[0m\u001b[0;34m.\u001b[0m\u001b[0mfit\u001b[0m\u001b[0;34m(\u001b[0m\u001b[0mX\u001b[0m\u001b[0;34m,\u001b[0m \u001b[0mresidual\u001b[0m\u001b[0;34m,\u001b[0m \u001b[0msample_weight\u001b[0m\u001b[0;34m=\u001b[0m\u001b[0msample_weight\u001b[0m\u001b[0;34m,\u001b[0m \u001b[0mcheck_input\u001b[0m\u001b[0;34m=\u001b[0m\u001b[0;32mFalse\u001b[0m\u001b[0;34m)\u001b[0m\u001b[0;34m\u001b[0m\u001b[0;34m\u001b[0m\u001b[0m\n\u001b[0m\u001b[1;32m    247\u001b[0m \u001b[0;34m\u001b[0m\u001b[0m\n\u001b[1;32m    248\u001b[0m             \u001b[0;31m# update tree leaves\u001b[0m\u001b[0;34m\u001b[0m\u001b[0;34m\u001b[0m\u001b[0m\n",
      "\u001b[0;32m/usr/local/lib/python3.9/site-packages/sklearn/tree/_classes.py\u001b[0m in \u001b[0;36mfit\u001b[0;34m(self, X, y, sample_weight, check_input, X_idx_sorted)\u001b[0m\n\u001b[1;32m   1313\u001b[0m         \"\"\"\n\u001b[1;32m   1314\u001b[0m \u001b[0;34m\u001b[0m\u001b[0m\n\u001b[0;32m-> 1315\u001b[0;31m         super().fit(\n\u001b[0m\u001b[1;32m   1316\u001b[0m             \u001b[0mX\u001b[0m\u001b[0;34m,\u001b[0m\u001b[0;34m\u001b[0m\u001b[0;34m\u001b[0m\u001b[0m\n\u001b[1;32m   1317\u001b[0m             \u001b[0my\u001b[0m\u001b[0;34m,\u001b[0m\u001b[0;34m\u001b[0m\u001b[0;34m\u001b[0m\u001b[0m\n",
      "\u001b[0;32m/usr/local/lib/python3.9/site-packages/sklearn/tree/_classes.py\u001b[0m in \u001b[0;36mfit\u001b[0;34m(self, X, y, sample_weight, check_input, X_idx_sorted)\u001b[0m\n\u001b[1;32m    418\u001b[0m             )\n\u001b[1;32m    419\u001b[0m \u001b[0;34m\u001b[0m\u001b[0m\n\u001b[0;32m--> 420\u001b[0;31m         \u001b[0mbuilder\u001b[0m\u001b[0;34m.\u001b[0m\u001b[0mbuild\u001b[0m\u001b[0;34m(\u001b[0m\u001b[0mself\u001b[0m\u001b[0;34m.\u001b[0m\u001b[0mtree_\u001b[0m\u001b[0;34m,\u001b[0m \u001b[0mX\u001b[0m\u001b[0;34m,\u001b[0m \u001b[0my\u001b[0m\u001b[0;34m,\u001b[0m \u001b[0msample_weight\u001b[0m\u001b[0;34m)\u001b[0m\u001b[0;34m\u001b[0m\u001b[0;34m\u001b[0m\u001b[0m\n\u001b[0m\u001b[1;32m    421\u001b[0m \u001b[0;34m\u001b[0m\u001b[0m\n\u001b[1;32m    422\u001b[0m         \u001b[0;32mif\u001b[0m \u001b[0mself\u001b[0m\u001b[0;34m.\u001b[0m\u001b[0mn_outputs_\u001b[0m \u001b[0;34m==\u001b[0m \u001b[0;36m1\u001b[0m \u001b[0;32mand\u001b[0m \u001b[0mis_classifier\u001b[0m\u001b[0;34m(\u001b[0m\u001b[0mself\u001b[0m\u001b[0;34m)\u001b[0m\u001b[0;34m:\u001b[0m\u001b[0;34m\u001b[0m\u001b[0;34m\u001b[0m\u001b[0m\n",
      "\u001b[0;31mKeyboardInterrupt\u001b[0m: "
     ]
    }
   ],
   "source": [
    "grid_search_best_w = GridSearchCV(estimator=pipeline_best, param_grid=param_grids, cv=3, n_jobs=-5)\n",
    "t_start = time.time()\n",
    "grid_search_best_w.fit(X_train, y_train)\n",
    "t_end = time.time()\n",
    "print(f\"The time taken to select best parameters for gradientBoosting Classifier using this instance of GridsearchcV is {t_end - t_start}\")\n",
    "print(\"Best Hyperparameters:\", grid_search_best_w.best_params_)\n",
    "accuracy = grid_search_best_w.best_estimator_.score(X_test, y_test)\n",
    "print(\"Test Accuracy:\", accuracy)"
   ]
  },
  {
   "cell_type": "code",
   "execution_count": null,
   "id": "2c477456-7fd5-464c-87df-5460da936e28",
   "metadata": {},
   "outputs": [],
   "source": [
    "import seaborn as sns\n",
    "from sklearn.metrics import classification_report, confusion_matrix\n",
    "\n",
    "y_pred = grid_search_best_w.best_estimator_.predict(X_test)\n",
    "confusion_matrix_ = confusion_matrix(y_test, y_pred)\n",
    "classification_report_ = classification_report(y_test, y_pred)\n",
    "print(confusion_matrix_)\n",
    "print(classification_report_)\n",
    "sns.heatmap(confusion_matrix_ ,annot = True)"
   ]
  },
  {
   "cell_type": "markdown",
   "id": "d4c28774-9113-4640-b2c4-cad10dce717b",
   "metadata": {},
   "source": [
    "### REDUCE DIMENSIONS OF FEATURES TO 15"
   ]
  },
  {
   "cell_type": "code",
   "execution_count": null,
   "id": "15f0d0e3-a5e5-47fc-8ba0-b0c8263532a0",
   "metadata": {},
   "outputs": [],
   "source": [
    "# data_kbest = data\n",
    "# one_hot_encoded_data = pd.get_dummies(data_kbest['domain_name'], drop_first = True)\n",
    "# data_kbest.drop('domain_name',inplace = True, axis = 1)\n",
    "# data_kbest = pd.concat([data_kbest,one_hot_encoded_data], axis = 1)"
   ]
  },
  {
   "cell_type": "code",
   "execution_count": 84,
   "id": "74880304-3c67-4175-90b5-c51e1c0a7eb0",
   "metadata": {},
   "outputs": [],
   "source": [
    "from sklearn.feature_selection import SelectKBest, chi2\n",
    "\n",
    "\n",
    "X = data_kbest.drop([\"url\",\"type\"], axis = 1)\n",
    "y = data_kbest[\"type\"]\n",
    "Kbest = SelectKBest(chi2, k = 15)\n",
    "Kbest.fit_transform(X,y)\n",
    "selected_features_indices = Kbest.get_support(indices=True)\n",
    "selected_feature_names = [Kbest.feature_names_in_[i] for i in selected_features_indices]"
   ]
  },
  {
   "cell_type": "code",
   "execution_count": 85,
   "id": "fd9d7eb7-1b07-4967-a1c4-8bc58bbb2db3",
   "metadata": {},
   "outputs": [
    {
     "name": "stdout",
     "output_type": "stream",
     "text": [
      "['qty_dot', 'qty_hyphen', 'qty_underline', 'qty_slash', 'qty_questionmark', 'qty_equalto', 'qty_and', 'url_length', 'qty_hostname', 'qty_comma', 'qty_plus', 'qty_hashtag', 'qty_percent', 'qty_dot_hostname', 'qty_hyphen_hostname']\n"
     ]
    }
   ],
   "source": [
    "print(selected_feature_names)"
   ]
  },
  {
   "cell_type": "code",
   "execution_count": 86,
   "id": "b9c6d26a-ccb3-4071-bc81-e0c2e1455dfb",
   "metadata": {},
   "outputs": [
    {
     "data": {
      "text/html": [
       "<div>\n",
       "<style scoped>\n",
       "    .dataframe tbody tr th:only-of-type {\n",
       "        vertical-align: middle;\n",
       "    }\n",
       "\n",
       "    .dataframe tbody tr th {\n",
       "        vertical-align: top;\n",
       "    }\n",
       "\n",
       "    .dataframe thead th {\n",
       "        text-align: right;\n",
       "    }\n",
       "</style>\n",
       "<table border=\"1\" class=\"dataframe\">\n",
       "  <thead>\n",
       "    <tr style=\"text-align: right;\">\n",
       "      <th></th>\n",
       "      <th>PValues</th>\n",
       "      <th>Featurenames</th>\n",
       "    </tr>\n",
       "  </thead>\n",
       "  <tbody>\n",
       "    <tr>\n",
       "      <th>0</th>\n",
       "      <td>0.000000e+00</td>\n",
       "      <td>qty_dot</td>\n",
       "    </tr>\n",
       "    <tr>\n",
       "      <th>1</th>\n",
       "      <td>0.000000e+00</td>\n",
       "      <td>qty_hyphen</td>\n",
       "    </tr>\n",
       "    <tr>\n",
       "      <th>2</th>\n",
       "      <td>0.000000e+00</td>\n",
       "      <td>qty_underline</td>\n",
       "    </tr>\n",
       "    <tr>\n",
       "      <th>3</th>\n",
       "      <td>0.000000e+00</td>\n",
       "      <td>qty_slash</td>\n",
       "    </tr>\n",
       "    <tr>\n",
       "      <th>4</th>\n",
       "      <td>0.000000e+00</td>\n",
       "      <td>qty_questionmark</td>\n",
       "    </tr>\n",
       "    <tr>\n",
       "      <th>5</th>\n",
       "      <td>0.000000e+00</td>\n",
       "      <td>qty_equalto</td>\n",
       "    </tr>\n",
       "    <tr>\n",
       "      <th>6</th>\n",
       "      <td>0.000000e+00</td>\n",
       "      <td>qty_at</td>\n",
       "    </tr>\n",
       "    <tr>\n",
       "      <th>7</th>\n",
       "      <td>0.000000e+00</td>\n",
       "      <td>qty_and</td>\n",
       "    </tr>\n",
       "    <tr>\n",
       "      <th>8</th>\n",
       "      <td>3.192113e-212</td>\n",
       "      <td>qty_exclamation</td>\n",
       "    </tr>\n",
       "    <tr>\n",
       "      <th>9</th>\n",
       "      <td>4.036711e-60</td>\n",
       "      <td>qty_space</td>\n",
       "    </tr>\n",
       "    <tr>\n",
       "      <th>10</th>\n",
       "      <td>0.000000e+00</td>\n",
       "      <td>url_length</td>\n",
       "    </tr>\n",
       "    <tr>\n",
       "      <th>11</th>\n",
       "      <td>0.000000e+00</td>\n",
       "      <td>qty_hostname</td>\n",
       "    </tr>\n",
       "    <tr>\n",
       "      <th>12</th>\n",
       "      <td>5.807290e-80</td>\n",
       "      <td>qty_or</td>\n",
       "    </tr>\n",
       "    <tr>\n",
       "      <th>13</th>\n",
       "      <td>1.370719e-53</td>\n",
       "      <td>qty_tilde</td>\n",
       "    </tr>\n",
       "    <tr>\n",
       "      <th>14</th>\n",
       "      <td>0.000000e+00</td>\n",
       "      <td>qty_comma</td>\n",
       "    </tr>\n",
       "    <tr>\n",
       "      <th>15</th>\n",
       "      <td>0.000000e+00</td>\n",
       "      <td>qty_plus</td>\n",
       "    </tr>\n",
       "    <tr>\n",
       "      <th>16</th>\n",
       "      <td>2.867841e-43</td>\n",
       "      <td>qty_asterisk</td>\n",
       "    </tr>\n",
       "    <tr>\n",
       "      <th>17</th>\n",
       "      <td>0.000000e+00</td>\n",
       "      <td>qty_hashtag</td>\n",
       "    </tr>\n",
       "    <tr>\n",
       "      <th>18</th>\n",
       "      <td>2.548295e-75</td>\n",
       "      <td>qty_dollar</td>\n",
       "    </tr>\n",
       "    <tr>\n",
       "      <th>19</th>\n",
       "      <td>0.000000e+00</td>\n",
       "      <td>qty_percent</td>\n",
       "    </tr>\n",
       "    <tr>\n",
       "      <th>20</th>\n",
       "      <td>0.000000e+00</td>\n",
       "      <td>qty_dot_hostname</td>\n",
       "    </tr>\n",
       "    <tr>\n",
       "      <th>21</th>\n",
       "      <td>0.000000e+00</td>\n",
       "      <td>qty_hyphen_hostname</td>\n",
       "    </tr>\n",
       "    <tr>\n",
       "      <th>22</th>\n",
       "      <td>1.584464e-67</td>\n",
       "      <td>qty_underline_hostname</td>\n",
       "    </tr>\n",
       "    <tr>\n",
       "      <th>23</th>\n",
       "      <td>1.749781e-08</td>\n",
       "      <td>qty_questionmark_hostname</td>\n",
       "    </tr>\n",
       "    <tr>\n",
       "      <th>24</th>\n",
       "      <td>8.291954e-25</td>\n",
       "      <td>qty_equal_hostname</td>\n",
       "    </tr>\n",
       "    <tr>\n",
       "      <th>25</th>\n",
       "      <td>7.495709e-23</td>\n",
       "      <td>qty_at_hostname</td>\n",
       "    </tr>\n",
       "    <tr>\n",
       "      <th>26</th>\n",
       "      <td>5.844039e-29</td>\n",
       "      <td>qty_and_hostname</td>\n",
       "    </tr>\n",
       "  </tbody>\n",
       "</table>\n",
       "</div>"
      ],
      "text/plain": [
       "          PValues               Featurenames\n",
       "0    0.000000e+00                    qty_dot\n",
       "1    0.000000e+00                 qty_hyphen\n",
       "2    0.000000e+00              qty_underline\n",
       "3    0.000000e+00                  qty_slash\n",
       "4    0.000000e+00           qty_questionmark\n",
       "5    0.000000e+00                qty_equalto\n",
       "6    0.000000e+00                     qty_at\n",
       "7    0.000000e+00                    qty_and\n",
       "8   3.192113e-212            qty_exclamation\n",
       "9    4.036711e-60                  qty_space\n",
       "10   0.000000e+00                 url_length\n",
       "11   0.000000e+00               qty_hostname\n",
       "12   5.807290e-80                     qty_or\n",
       "13   1.370719e-53                  qty_tilde\n",
       "14   0.000000e+00                  qty_comma\n",
       "15   0.000000e+00                   qty_plus\n",
       "16   2.867841e-43               qty_asterisk\n",
       "17   0.000000e+00                qty_hashtag\n",
       "18   2.548295e-75                 qty_dollar\n",
       "19   0.000000e+00                qty_percent\n",
       "20   0.000000e+00           qty_dot_hostname\n",
       "21   0.000000e+00        qty_hyphen_hostname\n",
       "22   1.584464e-67     qty_underline_hostname\n",
       "23   1.749781e-08  qty_questionmark_hostname\n",
       "24   8.291954e-25         qty_equal_hostname\n",
       "25   7.495709e-23            qty_at_hostname\n",
       "26   5.844039e-29           qty_and_hostname"
      ]
     },
     "execution_count": 86,
     "metadata": {},
     "output_type": "execute_result"
    }
   ],
   "source": [
    "pd.DataFrame({\"PValues\":Kbest.pvalues_,\"Featurenames\":Kbest.feature_names_in_})"
   ]
  },
  {
   "cell_type": "code",
   "execution_count": 69,
   "id": "3ba965d3-4cb3-4150-b8a1-8dc103fb127e",
   "metadata": {},
   "outputs": [
    {
     "name": "stdout",
     "output_type": "stream",
     "text": [
      "<class 'pandas.core.frame.DataFrame'>\n",
      "RangeIndex: 651191 entries, 0 to 651190\n",
      "Data columns (total 29 columns):\n",
      " #   Column                     Non-Null Count   Dtype \n",
      "---  ------                     --------------   ----- \n",
      " 0   url                        651191 non-null  object\n",
      " 1   type                       651191 non-null  object\n",
      " 2   qty_dot                    651191 non-null  int64 \n",
      " 3   qty_hyphen                 651191 non-null  int64 \n",
      " 4   qty_underline              651191 non-null  int64 \n",
      " 5   qty_slash                  651191 non-null  int64 \n",
      " 6   qty_questionmark           651191 non-null  int64 \n",
      " 7   qty_equalto                651191 non-null  int64 \n",
      " 8   qty_at                     651191 non-null  int64 \n",
      " 9   qty_and                    651191 non-null  int64 \n",
      " 10  qty_exclamation            651191 non-null  int64 \n",
      " 11  qty_space                  651191 non-null  int64 \n",
      " 12  url_length                 651191 non-null  int64 \n",
      " 13  qty_hostname               651191 non-null  int64 \n",
      " 14  qty_or                     651191 non-null  int64 \n",
      " 15  qty_tilde                  651191 non-null  int64 \n",
      " 16  qty_comma                  651191 non-null  int64 \n",
      " 17  qty_plus                   651191 non-null  int64 \n",
      " 18  qty_asterisk               651191 non-null  int64 \n",
      " 19  qty_hashtag                651191 non-null  int64 \n",
      " 20  qty_dollar                 651191 non-null  int64 \n",
      " 21  qty_percent                651191 non-null  int64 \n",
      " 22  qty_dot_hostname           651191 non-null  int64 \n",
      " 23  qty_hyphen_hostname        651191 non-null  int64 \n",
      " 24  qty_underline_hostname     651191 non-null  int64 \n",
      " 25  qty_questionmark_hostname  651191 non-null  int64 \n",
      " 26  qty_equal_hostname         651191 non-null  int64 \n",
      " 27  qty_at_hostname            651191 non-null  int64 \n",
      " 28  qty_and_hostname           651191 non-null  int64 \n",
      "dtypes: int64(27), object(2)\n",
      "memory usage: 144.1+ MB\n"
     ]
    }
   ],
   "source": [
    "data.info()"
   ]
  },
  {
   "cell_type": "code",
   "execution_count": 4,
   "id": "e3cf79af-ec57-4583-bbe8-16e0281e1bc4",
   "metadata": {},
   "outputs": [
    {
     "ename": "RuntimeError",
     "evalue": "Unknown model (efficientdet_d0)",
     "output_type": "error",
     "traceback": [
      "\u001b[0;31m---------------------------------------------------------------------------\u001b[0m",
      "\u001b[0;31mRuntimeError\u001b[0m                              Traceback (most recent call last)",
      "\u001b[0;32m<ipython-input-4-abbb120bb965>\u001b[0m in \u001b[0;36m<module>\u001b[0;34m\u001b[0m\n\u001b[1;32m      4\u001b[0m \u001b[0;31m# Load EfficientDet model\u001b[0m\u001b[0;34m\u001b[0m\u001b[0;34m\u001b[0m\u001b[0m\n\u001b[1;32m      5\u001b[0m \u001b[0mmodel_name\u001b[0m \u001b[0;34m=\u001b[0m \u001b[0;34m\"efficientdet_d0\"\u001b[0m  \u001b[0;31m# Correct model name\u001b[0m\u001b[0;34m\u001b[0m\u001b[0;34m\u001b[0m\u001b[0m\n\u001b[0;32m----> 6\u001b[0;31m \u001b[0mmodel\u001b[0m \u001b[0;34m=\u001b[0m \u001b[0mtimm\u001b[0m\u001b[0;34m.\u001b[0m\u001b[0mcreate_model\u001b[0m\u001b[0;34m(\u001b[0m\u001b[0mmodel_name\u001b[0m\u001b[0;34m,\u001b[0m \u001b[0mpretrained\u001b[0m\u001b[0;34m=\u001b[0m\u001b[0;32mTrue\u001b[0m\u001b[0;34m)\u001b[0m\u001b[0;34m\u001b[0m\u001b[0;34m\u001b[0m\u001b[0m\n\u001b[0m\u001b[1;32m      7\u001b[0m \u001b[0;34m\u001b[0m\u001b[0m\n\u001b[1;32m      8\u001b[0m \u001b[0;31m# Set the model to evaluation mode\u001b[0m\u001b[0;34m\u001b[0m\u001b[0;34m\u001b[0m\u001b[0m\n",
      "\u001b[0;32m/usr/local/lib/python3.9/site-packages/timm/models/_factory.py\u001b[0m in \u001b[0;36mcreate_model\u001b[0;34m(model_name, pretrained, pretrained_cfg, pretrained_cfg_overlay, checkpoint_path, scriptable, exportable, no_jit, **kwargs)\u001b[0m\n\u001b[1;32m    111\u001b[0m \u001b[0;34m\u001b[0m\u001b[0m\n\u001b[1;32m    112\u001b[0m     \u001b[0;32mif\u001b[0m \u001b[0;32mnot\u001b[0m \u001b[0mis_model\u001b[0m\u001b[0;34m(\u001b[0m\u001b[0mmodel_name\u001b[0m\u001b[0;34m)\u001b[0m\u001b[0;34m:\u001b[0m\u001b[0;34m\u001b[0m\u001b[0;34m\u001b[0m\u001b[0m\n\u001b[0;32m--> 113\u001b[0;31m         \u001b[0;32mraise\u001b[0m \u001b[0mRuntimeError\u001b[0m\u001b[0;34m(\u001b[0m\u001b[0;34m'Unknown model (%s)'\u001b[0m \u001b[0;34m%\u001b[0m \u001b[0mmodel_name\u001b[0m\u001b[0;34m)\u001b[0m\u001b[0;34m\u001b[0m\u001b[0;34m\u001b[0m\u001b[0m\n\u001b[0m\u001b[1;32m    114\u001b[0m \u001b[0;34m\u001b[0m\u001b[0m\n\u001b[1;32m    115\u001b[0m     \u001b[0mcreate_fn\u001b[0m \u001b[0;34m=\u001b[0m \u001b[0mmodel_entrypoint\u001b[0m\u001b[0;34m(\u001b[0m\u001b[0mmodel_name\u001b[0m\u001b[0;34m)\u001b[0m\u001b[0;34m\u001b[0m\u001b[0;34m\u001b[0m\u001b[0m\n",
      "\u001b[0;31mRuntimeError\u001b[0m: Unknown model (efficientdet_d0)"
     ]
    }
   ],
   "source": [
    "import torch\n",
    "import timm\n",
    "\n",
    "# Load EfficientDet model\n",
    "model_name = \"efficientdet_d0\"  # Correct model name\n",
    "model = timm.create_model(model_name, pretrained=True)\n",
    "\n",
    "# Set the model to evaluation mode\n",
    "model.eval()\n",
    "\n",
    "# Create a sample input tensor\n",
    "dummy_input = torch.randn(1, 3, 512, 512)  # Adjust the input size accordingly\n",
    "\n",
    "# Forward pass\n",
    "with torch.no_grad():\n",
    "    output = model(dummy_input)\n",
    "\n",
    "# Print the output shape\n",
    "print(output.shape)\n"
   ]
  },
  {
   "cell_type": "code",
   "execution_count": 3,
   "id": "8b3b6c3e-2d60-4293-929e-73d342defb66",
   "metadata": {},
   "outputs": [
    {
     "ename": "RuntimeError",
     "evalue": "Unknown model (tf_efficientdet_d0)",
     "output_type": "error",
     "traceback": [
      "\u001b[0;31m---------------------------------------------------------------------------\u001b[0m",
      "\u001b[0;31mRuntimeError\u001b[0m                              Traceback (most recent call last)",
      "\u001b[0;32m<ipython-input-3-955d83c6367a>\u001b[0m in \u001b[0;36m<module>\u001b[0;34m\u001b[0m\n\u001b[1;32m      4\u001b[0m \u001b[0;31m# Load EfficientDet model\u001b[0m\u001b[0;34m\u001b[0m\u001b[0;34m\u001b[0m\u001b[0m\n\u001b[1;32m      5\u001b[0m \u001b[0mmodel_name\u001b[0m \u001b[0;34m=\u001b[0m \u001b[0;34m\"tf_efficientdet_d0\"\u001b[0m  \u001b[0;31m# You can use other variants like d1, d2, etc.\u001b[0m\u001b[0;34m\u001b[0m\u001b[0;34m\u001b[0m\u001b[0m\n\u001b[0;32m----> 6\u001b[0;31m \u001b[0mmodel\u001b[0m \u001b[0;34m=\u001b[0m \u001b[0mtimm\u001b[0m\u001b[0;34m.\u001b[0m\u001b[0mcreate_model\u001b[0m\u001b[0;34m(\u001b[0m\u001b[0mmodel_name\u001b[0m\u001b[0;34m,\u001b[0m \u001b[0mpretrained\u001b[0m\u001b[0;34m=\u001b[0m\u001b[0;32mTrue\u001b[0m\u001b[0;34m)\u001b[0m\u001b[0;34m\u001b[0m\u001b[0;34m\u001b[0m\u001b[0m\n\u001b[0m\u001b[1;32m      7\u001b[0m \u001b[0;34m\u001b[0m\u001b[0m\n\u001b[1;32m      8\u001b[0m \u001b[0;31m# Set the model to evaluation mode\u001b[0m\u001b[0;34m\u001b[0m\u001b[0;34m\u001b[0m\u001b[0m\n",
      "\u001b[0;32m/usr/local/lib/python3.9/site-packages/timm/models/_factory.py\u001b[0m in \u001b[0;36mcreate_model\u001b[0;34m(model_name, pretrained, pretrained_cfg, pretrained_cfg_overlay, checkpoint_path, scriptable, exportable, no_jit, **kwargs)\u001b[0m\n\u001b[1;32m    111\u001b[0m \u001b[0;34m\u001b[0m\u001b[0m\n\u001b[1;32m    112\u001b[0m     \u001b[0;32mif\u001b[0m \u001b[0;32mnot\u001b[0m \u001b[0mis_model\u001b[0m\u001b[0;34m(\u001b[0m\u001b[0mmodel_name\u001b[0m\u001b[0;34m)\u001b[0m\u001b[0;34m:\u001b[0m\u001b[0;34m\u001b[0m\u001b[0;34m\u001b[0m\u001b[0m\n\u001b[0;32m--> 113\u001b[0;31m         \u001b[0;32mraise\u001b[0m \u001b[0mRuntimeError\u001b[0m\u001b[0;34m(\u001b[0m\u001b[0;34m'Unknown model (%s)'\u001b[0m \u001b[0;34m%\u001b[0m \u001b[0mmodel_name\u001b[0m\u001b[0;34m)\u001b[0m\u001b[0;34m\u001b[0m\u001b[0;34m\u001b[0m\u001b[0m\n\u001b[0m\u001b[1;32m    114\u001b[0m \u001b[0;34m\u001b[0m\u001b[0m\n\u001b[1;32m    115\u001b[0m     \u001b[0mcreate_fn\u001b[0m \u001b[0;34m=\u001b[0m \u001b[0mmodel_entrypoint\u001b[0m\u001b[0;34m(\u001b[0m\u001b[0mmodel_name\u001b[0m\u001b[0;34m)\u001b[0m\u001b[0;34m\u001b[0m\u001b[0;34m\u001b[0m\u001b[0m\n",
      "\u001b[0;31mRuntimeError\u001b[0m: Unknown model (tf_efficientdet_d0)"
     ]
    }
   ],
   "source": [
    "import torch\n",
    "import timm\n",
    "\n",
    "# Load EfficientDet model\n",
    "model_name = \"tf_efficientdet_d0\"  # You can use other variants like d1, d2, etc.\n",
    "model = timm.create_model(model_name, pretrained=True)\n",
    "\n",
    "# Set the model to evaluation mode\n",
    "model.eval()\n",
    "\n",
    "# Create a sample input tensor\n",
    "dummy_input = torch.randn(1, 3, 512, 512)  # Adjust the input size accordingly\n",
    "\n",
    "# Forward pass\n",
    "with torch.no_grad():\n",
    "    output = model(dummy_input)\n",
    "\n",
    "# Print the output shape\n",
    "print(output.shape)\n"
   ]
  },
  {
   "cell_type": "code",
   "execution_count": 2,
   "id": "03667fa0-60b8-46b0-a425-8b41fcc725f0",
   "metadata": {},
   "outputs": [
    {
     "name": "stdout",
     "output_type": "stream",
     "text": [
      "Collecting timm\n",
      "  Downloading timm-0.9.12-py3-none-any.whl (2.2 MB)\n",
      "     |████████████████████████████████| 2.2 MB 2.6 MB/s            \n",
      "\u001b[?25hCollecting huggingface-hub\n",
      "  Downloading huggingface_hub-0.19.4-py3-none-any.whl (311 kB)\n",
      "     |████████████████████████████████| 311 kB 13.9 MB/s            \n",
      "\u001b[?25hRequirement already satisfied: torchvision in /usr/local/lib/python3.9/site-packages (from timm) (0.11.2)\n",
      "Requirement already satisfied: pyyaml in /usr/local/lib/python3.9/site-packages (from timm) (6.0)\n",
      "Requirement already satisfied: torch>=1.7 in /usr/local/lib/python3.9/site-packages (from timm) (1.10.1)\n",
      "Collecting safetensors\n",
      "  Downloading safetensors-0.4.1-cp39-cp39-manylinux_2_17_x86_64.manylinux2014_x86_64.whl (1.3 MB)\n",
      "     |████████████████████████████████| 1.3 MB 11.5 MB/s            \n",
      "\u001b[?25hRequirement already satisfied: typing-extensions in /usr/local/lib/python3.9/site-packages (from torch>=1.7->timm) (4.0.1)\n",
      "Collecting fsspec>=2023.5.0\n",
      "  Downloading fsspec-2023.10.0-py3-none-any.whl (166 kB)\n",
      "     |████████████████████████████████| 166 kB 27.8 MB/s            \n",
      "\u001b[?25hRequirement already satisfied: requests in /usr/local/lib/python3.9/site-packages (from huggingface-hub->timm) (2.26.0)\n",
      "Requirement already satisfied: packaging>=20.9 in /usr/local/lib/python3.9/site-packages (from huggingface-hub->timm) (21.3)\n",
      "Requirement already satisfied: tqdm>=4.42.1 in /usr/local/lib/python3.9/site-packages (from huggingface-hub->timm) (4.62.3)\n",
      "Collecting filelock\n",
      "  Downloading filelock-3.13.1-py3-none-any.whl (11 kB)\n",
      "Requirement already satisfied: pillow!=8.3.0,>=5.3.0 in /usr/local/lib/python3.9/site-packages (from torchvision->timm) (9.0.0)\n",
      "Requirement already satisfied: numpy in /usr/local/lib/python3.9/site-packages (from torchvision->timm) (1.22.0)\n",
      "Requirement already satisfied: pyparsing!=3.0.5,>=2.0.2 in /usr/local/lib/python3.9/site-packages (from packaging>=20.9->huggingface-hub->timm) (3.0.6)\n",
      "Requirement already satisfied: urllib3<1.27,>=1.21.1 in /usr/local/lib/python3.9/site-packages (from requests->huggingface-hub->timm) (1.26.7)\n",
      "Requirement already satisfied: idna<4,>=2.5 in /usr/local/lib/python3.9/site-packages (from requests->huggingface-hub->timm) (3.3)\n",
      "Requirement already satisfied: charset-normalizer~=2.0.0 in /usr/local/lib/python3.9/site-packages (from requests->huggingface-hub->timm) (2.0.4)\n",
      "Requirement already satisfied: certifi>=2017.4.17 in /usr/local/lib/python3.9/site-packages (from requests->huggingface-hub->timm) (2023.7.22)\n",
      "Installing collected packages: fsspec, filelock, safetensors, huggingface-hub, timm\n",
      "Successfully installed filelock-3.13.1 fsspec-2023.10.0 huggingface-hub-0.19.4 safetensors-0.4.1 timm-0.9.12\n",
      "\u001b[33mWARNING: Running pip as the 'root' user can result in broken permissions and conflicting behaviour with the system package manager. It is recommended to use a virtual environment instead: https://pip.pypa.io/warnings/venv\u001b[0m\n",
      "\u001b[33mWARNING: You are using pip version 21.3.1; however, version 23.3.1 is available.\n",
      "You should consider upgrading via the '/usr/local/bin/python -m pip install --upgrade pip' command.\u001b[0m\n"
     ]
    }
   ],
   "source": [
    "!pip install timm"
   ]
  },
  {
   "cell_type": "code",
   "execution_count": null,
   "id": "01369e83-247d-4ad2-a123-91134fe3e826",
   "metadata": {},
   "outputs": [],
   "source": []
  }
 ],
 "metadata": {
  "colab": {
   "provenance": []
  },
  "kernelspec": {
   "display_name": "Python 3",
   "language": "python",
   "name": "python3"
  },
  "language_info": {
   "codemirror_mode": {
    "name": "ipython",
    "version": 3
   },
   "file_extension": ".py",
   "mimetype": "text/x-python",
   "name": "python",
   "nbconvert_exporter": "python",
   "pygments_lexer": "ipython3",
   "version": "3.9.7"
  }
 },
 "nbformat": 4,
 "nbformat_minor": 5
}
