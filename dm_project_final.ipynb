{
 "cells": [
  {
   "cell_type": "markdown",
   "id": "e9de9b85-e407-4f10-b1eb-3d6f5d2f45a8",
   "metadata": {},
   "source": [
    "# Data Extraction"
   ]
  },
  {
   "cell_type": "code",
   "execution_count": 325,
   "id": "c30d6455-b7e0-4d8b-9930-7cbfe1d9c0e9",
   "metadata": {
    "id": "c30d6455-b7e0-4d8b-9930-7cbfe1d9c0e9"
   },
   "outputs": [],
   "source": [
    "import numpy as np\n",
    "import pandas as pd"
   ]
  },
  {
   "cell_type": "code",
   "execution_count": 326,
   "id": "e3197c24-31ae-4259-8fd2-3a3ec9d8d230",
   "metadata": {
    "id": "e3197c24-31ae-4259-8fd2-3a3ec9d8d230"
   },
   "outputs": [],
   "source": [
    "data = pd.read_excel('malicious_phish.xlsb')"
   ]
  },
  {
   "cell_type": "code",
   "execution_count": 327,
   "id": "0b09a4cc-4b23-498a-9960-1b66932e8aa4",
   "metadata": {},
   "outputs": [
    {
     "data": {
      "text/html": [
       "<div>\n",
       "<style scoped>\n",
       "    .dataframe tbody tr th:only-of-type {\n",
       "        vertical-align: middle;\n",
       "    }\n",
       "\n",
       "    .dataframe tbody tr th {\n",
       "        vertical-align: top;\n",
       "    }\n",
       "\n",
       "    .dataframe thead th {\n",
       "        text-align: right;\n",
       "    }\n",
       "</style>\n",
       "<table border=\"1\" class=\"dataframe\">\n",
       "  <thead>\n",
       "    <tr style=\"text-align: right;\">\n",
       "      <th></th>\n",
       "      <th>url</th>\n",
       "      <th>type</th>\n",
       "    </tr>\n",
       "  </thead>\n",
       "  <tbody>\n",
       "    <tr>\n",
       "      <th>0</th>\n",
       "      <td>br-icloud.com.br</td>\n",
       "      <td>phishing</td>\n",
       "    </tr>\n",
       "    <tr>\n",
       "      <th>1</th>\n",
       "      <td>mp3raid.com/music/krizz_kaliko.html</td>\n",
       "      <td>benign</td>\n",
       "    </tr>\n",
       "    <tr>\n",
       "      <th>2</th>\n",
       "      <td>bopsecrets.org/rexroth/cr/1.htm</td>\n",
       "      <td>benign</td>\n",
       "    </tr>\n",
       "    <tr>\n",
       "      <th>3</th>\n",
       "      <td>http://www.garage-pirenne.be/index.php?option=...</td>\n",
       "      <td>defacement</td>\n",
       "    </tr>\n",
       "    <tr>\n",
       "      <th>4</th>\n",
       "      <td>http://adventure-nicaragua.net/index.php?optio...</td>\n",
       "      <td>defacement</td>\n",
       "    </tr>\n",
       "  </tbody>\n",
       "</table>\n",
       "</div>"
      ],
      "text/plain": [
       "                                                 url        type\n",
       "0                                   br-icloud.com.br    phishing\n",
       "1                mp3raid.com/music/krizz_kaliko.html      benign\n",
       "2                    bopsecrets.org/rexroth/cr/1.htm      benign\n",
       "3  http://www.garage-pirenne.be/index.php?option=...  defacement\n",
       "4  http://adventure-nicaragua.net/index.php?optio...  defacement"
      ]
     },
     "execution_count": 327,
     "metadata": {},
     "output_type": "execute_result"
    }
   ],
   "source": [
    "data.head()"
   ]
  },
  {
   "cell_type": "code",
   "execution_count": 328,
   "id": "9b2b4906-1afe-4d28-9191-a55859f8aec8",
   "metadata": {
    "id": "9b2b4906-1afe-4d28-9191-a55859f8aec8"
   },
   "outputs": [
    {
     "name": "stdout",
     "output_type": "stream",
     "text": [
      "<class 'pandas.core.frame.DataFrame'>\n",
      "RangeIndex: 651191 entries, 0 to 651190\n",
      "Data columns (total 2 columns):\n",
      " #   Column  Non-Null Count   Dtype \n",
      "---  ------  --------------   ----- \n",
      " 0   url     651191 non-null  object\n",
      " 1   type    651191 non-null  object\n",
      "dtypes: object(2)\n",
      "memory usage: 9.9+ MB\n"
     ]
    }
   ],
   "source": [
    "data.info()"
   ]
  },
  {
   "cell_type": "code",
   "execution_count": 329,
   "id": "19bc940e-aa22-4e09-a61f-f7c87c259138",
   "metadata": {
    "id": "19bc940e-aa22-4e09-a61f-f7c87c259138"
   },
   "outputs": [],
   "source": [
    "def count_dot(x):\n",
    "    count = 0\n",
    "    for i in x:\n",
    "        if i == \".\":\n",
    "            count+=1\n",
    "    return count\n",
    "\n",
    "\n",
    "data[\"qty_dot\"] = data[\"url\"].apply(count_dot)\n"
   ]
  },
  {
   "cell_type": "code",
   "execution_count": 330,
   "id": "1168e05d-2033-4938-bf1c-11c346889ced",
   "metadata": {
    "id": "1168e05d-2033-4938-bf1c-11c346889ced"
   },
   "outputs": [],
   "source": [
    "def count_hyphen(x):\n",
    "    count = 0\n",
    "    for i in x:\n",
    "        if i == \"-\":\n",
    "            count+=1\n",
    "    return count\n",
    "\n",
    "\n",
    "data[\"qty_hyphen\"] = data[\"url\"].apply(count_hyphen)\n"
   ]
  },
  {
   "cell_type": "code",
   "execution_count": 331,
   "id": "c7e7188f-6966-496e-ad6f-047b7f2243f8",
   "metadata": {
    "id": "c7e7188f-6966-496e-ad6f-047b7f2243f8"
   },
   "outputs": [],
   "source": [
    "def count_underline(x):\n",
    "    count = 0\n",
    "    for i in x:\n",
    "        if i == \"_\":\n",
    "            count+=1\n",
    "    return count\n",
    "\n",
    "\n",
    "data[\"qty_underline\"] = data[\"url\"].apply(count_underline)"
   ]
  },
  {
   "cell_type": "code",
   "execution_count": 332,
   "id": "b15a85be-d1b6-4962-92b4-b39a983d3757",
   "metadata": {
    "id": "b15a85be-d1b6-4962-92b4-b39a983d3757"
   },
   "outputs": [],
   "source": [
    "def count_slash(x):\n",
    "    count = 0\n",
    "    for i in x:\n",
    "        if i == \"/\":\n",
    "            count+=1\n",
    "    return count\n",
    "\n",
    "\n",
    "data[\"qty_slash\"] = data[\"url\"].apply(count_slash)"
   ]
  },
  {
   "cell_type": "code",
   "execution_count": 333,
   "id": "ce782573-01fb-4aac-894f-5cf4b5f2f6bb",
   "metadata": {
    "id": "ce782573-01fb-4aac-894f-5cf4b5f2f6bb"
   },
   "outputs": [],
   "source": [
    "def count_questionmark(x):\n",
    "    count = 0\n",
    "    for i in x:\n",
    "        if i == \"?\":\n",
    "            count+=1\n",
    "    return count\n",
    "\n",
    "\n",
    "data[\"qty_questionmark\"] = data[\"url\"].apply(count_questionmark)"
   ]
  },
  {
   "cell_type": "code",
   "execution_count": 334,
   "id": "90857994-3381-4982-8188-0a4b2f52c846",
   "metadata": {
    "id": "90857994-3381-4982-8188-0a4b2f52c846"
   },
   "outputs": [],
   "source": [
    "def count_equalto(x):\n",
    "    count = 0\n",
    "    for i in x:\n",
    "        if i == \"=\":\n",
    "            count+=1\n",
    "    return count\n",
    "\n",
    "\n",
    "data[\"qty_equalto\"] = data[\"url\"].apply(count_equalto)"
   ]
  },
  {
   "cell_type": "code",
   "execution_count": 335,
   "id": "61410d73-cee2-4c3d-9a13-adb0443729e9",
   "metadata": {
    "id": "61410d73-cee2-4c3d-9a13-adb0443729e9"
   },
   "outputs": [],
   "source": [
    "def count_at(x):\n",
    "    count = 0\n",
    "    for i in x:\n",
    "        if i == \"@\":\n",
    "            count+=1\n",
    "    return count\n",
    "\n",
    "\n",
    "data[\"qty_at\"] = data[\"url\"].apply(count_at)"
   ]
  },
  {
   "cell_type": "code",
   "execution_count": 336,
   "id": "569a81b8-9efb-4f12-a98f-d23f0f0d4516",
   "metadata": {
    "id": "569a81b8-9efb-4f12-a98f-d23f0f0d4516"
   },
   "outputs": [],
   "source": [
    "def count_and(x):\n",
    "    count = 0\n",
    "    for i in x:\n",
    "        if i == \"&\":\n",
    "            count+=1\n",
    "    return count\n",
    "\n",
    "\n",
    "data[\"qty_and\"] = data[\"url\"].apply(count_and)"
   ]
  },
  {
   "cell_type": "code",
   "execution_count": 337,
   "id": "aebb9833-ed84-43e0-8f1d-8bc87b7e5f32",
   "metadata": {
    "id": "aebb9833-ed84-43e0-8f1d-8bc87b7e5f32"
   },
   "outputs": [],
   "source": [
    "def count_exclamation(x):\n",
    "    count = 0\n",
    "    for i in x:\n",
    "        if i == \"!\":\n",
    "            count+=1\n",
    "    return count\n",
    "\n",
    "\n",
    "data[\"qty_exclamation\"] = data[\"url\"].apply(count_exclamation)"
   ]
  },
  {
   "cell_type": "code",
   "execution_count": 338,
   "id": "8fb0a417-ad05-4d0f-99ce-47c5ac066216",
   "metadata": {
    "id": "8fb0a417-ad05-4d0f-99ce-47c5ac066216"
   },
   "outputs": [],
   "source": [
    "def count_space(x):\n",
    "    count = 0\n",
    "    for i in x:\n",
    "        if i == \" \":\n",
    "            count+=1\n",
    "    return count\n",
    "\n",
    "\n",
    "data[\"qty_space\"] = data[\"url\"].apply(count_space)"
   ]
  },
  {
   "cell_type": "code",
   "execution_count": 339,
   "id": "174f7aa5-1dec-4b3f-9ec1-46832db35f14",
   "metadata": {
    "id": "174f7aa5-1dec-4b3f-9ec1-46832db35f14"
   },
   "outputs": [],
   "source": [
    "data[\"url_length\"] = data[\"url\"].apply(len)"
   ]
  },
  {
   "cell_type": "code",
   "execution_count": 340,
   "id": "ab3aedc1-e172-41cf-b40d-e57c1f9c9adb",
   "metadata": {
    "id": "ab3aedc1-e172-41cf-b40d-e57c1f9c9adb"
   },
   "outputs": [],
   "source": [
    "def count_hostname(x):\n",
    "    s = x.split(\"/\")[0]\n",
    "    if s == \"http:\" or s == \"https:\":\n",
    "      s = x.split(\"/\")[2]\n",
    "    return len(s)\n",
    "\n",
    "data[\"qty_hostname\"] = data[\"url\"].apply(count_hostname)"
   ]
  },
  {
   "cell_type": "code",
   "execution_count": 341,
   "id": "e7AlM4YbiE-E",
   "metadata": {
    "id": "e7AlM4YbiE-E"
   },
   "outputs": [],
   "source": [
    "def domain_name(x):\n",
    "    s = x.split(\"/\")[0]\n",
    "    if s == \"http:\" or s == \"https:\":\n",
    "      s = x.split(\"/\")[2]\n",
    "    ans = s.split(\".\")[-1].split(\":\")[0]\n",
    "    if ans.isnumeric():\n",
    "      return \"local_host\"\n",
    "    return ans\n",
    "\n",
    "data[\"domain_name\"] = data[\"url\"].apply(domain_name)"
   ]
  },
  {
   "cell_type": "code",
   "execution_count": 342,
   "id": "CfkhxAMss9X2",
   "metadata": {
    "id": "CfkhxAMss9X2"
   },
   "outputs": [],
   "source": [
    "def count_or(x):\n",
    "    count = 0\n",
    "    for i in x:\n",
    "        if i == \"|\":\n",
    "            count+=1\n",
    "    return count\n",
    "\n",
    "\n",
    "data[\"qty_or\"] = data[\"url\"].apply(count_or)"
   ]
  },
  {
   "cell_type": "code",
   "execution_count": 343,
   "id": "ykRe7gd4tZBH",
   "metadata": {
    "id": "ykRe7gd4tZBH"
   },
   "outputs": [],
   "source": [
    "def count_tilde(x):\n",
    "    count = 0\n",
    "    for i in x:\n",
    "        if i == \"`\":\n",
    "            count+=1\n",
    "    return count\n",
    "\n",
    "\n",
    "data[\"qty_tilde\"] = data[\"url\"].apply(count_tilde)"
   ]
  },
  {
   "cell_type": "code",
   "execution_count": 344,
   "id": "lGw4Brjrt6L_",
   "metadata": {
    "id": "lGw4Brjrt6L_"
   },
   "outputs": [],
   "source": [
    "def count_comma(x):\n",
    "    count = 0\n",
    "    for i in x:\n",
    "        if i == \",\":\n",
    "            count+=1\n",
    "    return count\n",
    "\n",
    "\n",
    "data[\"qty_comma\"] = data[\"url\"].apply(count_comma)"
   ]
  },
  {
   "cell_type": "code",
   "execution_count": 345,
   "id": "4HvdwnfFuDnE",
   "metadata": {
    "id": "4HvdwnfFuDnE"
   },
   "outputs": [],
   "source": [
    "def count_plus(x):\n",
    "    count = 0\n",
    "    for i in x:\n",
    "        if i == \"+\":\n",
    "            count+=1\n",
    "    return count\n",
    "\n",
    "\n",
    "data[\"qty_plus\"] = data[\"url\"].apply(count_plus)"
   ]
  },
  {
   "cell_type": "code",
   "execution_count": 346,
   "id": "veks4kMduMNi",
   "metadata": {
    "id": "veks4kMduMNi"
   },
   "outputs": [],
   "source": [
    "def count_asterisk(x):\n",
    "    count = 0\n",
    "    for i in x:\n",
    "        if i == \"*\":\n",
    "            count+=1\n",
    "    return count\n",
    "\n",
    "\n",
    "data[\"qty_asterisk\"] = data[\"url\"].apply(count_asterisk)"
   ]
  },
  {
   "cell_type": "code",
   "execution_count": 347,
   "id": "y96ggp74vkeD",
   "metadata": {
    "id": "y96ggp74vkeD"
   },
   "outputs": [],
   "source": [
    "def count_hashtag(x):\n",
    "    count = 0\n",
    "    for i in x:\n",
    "        if i == \"#\":\n",
    "            count+=1\n",
    "    return count\n",
    "\n",
    "\n",
    "data[\"qty_hashtag\"] = data[\"url\"].apply(count_hashtag)"
   ]
  },
  {
   "cell_type": "code",
   "execution_count": 348,
   "id": "WEatHOYivyTw",
   "metadata": {
    "id": "WEatHOYivyTw"
   },
   "outputs": [],
   "source": [
    "def count_dollar(x):\n",
    "    count = 0\n",
    "    for i in x:\n",
    "        if i == \"$\":\n",
    "            count+=1\n",
    "    return count\n",
    "\n",
    "\n",
    "data[\"qty_dollar\"] = data[\"url\"].apply(count_dollar)"
   ]
  },
  {
   "cell_type": "code",
   "execution_count": 349,
   "id": "in6nQl9dwHKc",
   "metadata": {
    "id": "in6nQl9dwHKc"
   },
   "outputs": [],
   "source": [
    "def count_percent(x):\n",
    "    count = 0\n",
    "    for i in x:\n",
    "        if i == \"%\":\n",
    "            count+=1\n",
    "    return count\n",
    "\n",
    "\n",
    "data[\"qty_percent\"] = data[\"url\"].apply(count_percent)"
   ]
  },
  {
   "cell_type": "code",
   "execution_count": 350,
   "id": "OgtGBAjNxBfy",
   "metadata": {
    "id": "OgtGBAjNxBfy"
   },
   "outputs": [],
   "source": [
    "def count_hostname_dot(x):\n",
    "    s = x.split(\"/\")[0]\n",
    "    if s == \"http:\" or s == \"https:\":\n",
    "      s = x.split(\"/\")[2]\n",
    "    count = 0\n",
    "    for i in s:\n",
    "        if i == \".\":\n",
    "            count+=1\n",
    "    return count\n",
    "\n",
    "data[\"qty_dot_hostname\"] = data[\"url\"].apply(count_hostname_dot)"
   ]
  },
  {
   "cell_type": "code",
   "execution_count": 351,
   "id": "fd631c34-7618-4507-a826-64130e88573f",
   "metadata": {},
   "outputs": [],
   "source": [
    "def count_hostname_hyphen(x):\n",
    "    s = x.split(\"/\")[0]\n",
    "    if s == \"http:\" or s == \"https:\":\n",
    "      s = x.split(\"/\")[2]\n",
    "    count = 0\n",
    "    for i in s:\n",
    "        if i == \"-\":\n",
    "            count+=1\n",
    "    return count\n",
    "\n",
    "data[\"qty_hyphen_hostname\"] = data[\"url\"].apply(count_hostname_hyphen)"
   ]
  },
  {
   "cell_type": "code",
   "execution_count": 352,
   "id": "9fd61f76-4150-4c91-a9f4-46d5361b2fb5",
   "metadata": {},
   "outputs": [],
   "source": [
    "def count_hostname_underline(x):\n",
    "    s = x.split(\"/\")[0]\n",
    "    if s == \"http:\" or s == \"https:\":\n",
    "      s = x.split(\"/\")[2]\n",
    "    count = 0\n",
    "    for i in s:\n",
    "        if i == \"_\":\n",
    "            count+=1\n",
    "    return count\n",
    "\n",
    "data[\"qty_underline_hostname\"] = data[\"url\"].apply(count_hostname_underline)"
   ]
  },
  {
   "cell_type": "code",
   "execution_count": 353,
   "id": "216143ce-bcbe-442f-8726-81c2ac83be28",
   "metadata": {},
   "outputs": [],
   "source": [
    "def count_hostname_questionmark(x):\n",
    "    s = x.split(\"/\")[0]\n",
    "    if s == \"http:\" or s == \"https:\":\n",
    "      s = x.split(\"/\")[2]\n",
    "    count = 0\n",
    "    for i in s:\n",
    "        if i == \"?\":\n",
    "            count+=1\n",
    "    return count\n",
    "\n",
    "data[\"qty_questionmark_hostname\"] = data[\"url\"].apply(count_hostname_questionmark)"
   ]
  },
  {
   "cell_type": "code",
   "execution_count": 354,
   "id": "94884b3b-0be1-4d95-93bf-d73e9a1dab02",
   "metadata": {},
   "outputs": [],
   "source": [
    "def count_hostname_equal(x):\n",
    "    s = x.split(\"/\")[0]\n",
    "    if s == \"http:\" or s == \"https:\":\n",
    "      s = x.split(\"/\")[2]\n",
    "    count = 0\n",
    "    for i in s:\n",
    "        if i == \"=\":\n",
    "            count+=1\n",
    "    return count\n",
    "\n",
    "data[\"qty_equal_hostname\"] = data[\"url\"].apply(count_hostname_equal)"
   ]
  },
  {
   "cell_type": "code",
   "execution_count": 355,
   "id": "3374e35a-9c46-48f4-a5ac-c42eb67b0969",
   "metadata": {},
   "outputs": [],
   "source": [
    "def count_hostname_at(x):\n",
    "    s = x.split(\"/\")[0]\n",
    "    if s == \"http:\" or s == \"https:\":\n",
    "      s = x.split(\"/\")[2]\n",
    "    count = 0\n",
    "    for i in s:\n",
    "        if i == \"@\":\n",
    "            count+=1\n",
    "    return count\n",
    "\n",
    "data[\"qty_at_hostname\"] = data[\"url\"].apply(count_hostname_at)"
   ]
  },
  {
   "cell_type": "code",
   "execution_count": 356,
   "id": "8cc683c5-90f7-4207-aa25-49c918bce139",
   "metadata": {},
   "outputs": [],
   "source": [
    "def count_hostname_and(x):\n",
    "    s = x.split(\"/\")[0]\n",
    "    if s == \"http:\" or s == \"https:\":\n",
    "      s = x.split(\"/\")[2]\n",
    "    count = 0\n",
    "    for i in s:\n",
    "        if i == \"&\":\n",
    "            count+=1\n",
    "    return count\n",
    "\n",
    "data[\"qty_and_hostname\"] = data[\"url\"].apply(count_hostname_and)"
   ]
  },
  {
   "cell_type": "code",
   "execution_count": 33,
   "id": "ef1b887d-f29e-4a4a-9418-14a4f62eb7bd",
   "metadata": {
    "colab": {
     "base_uri": "https://localhost:8080/"
    },
    "id": "ef1b887d-f29e-4a4a-9418-14a4f62eb7bd",
    "outputId": "c14d1814-9d30-4a56-966d-e9de88d2dcdc"
   },
   "outputs": [
    {
     "name": "stdout",
     "output_type": "stream",
     "text": [
      "<class 'pandas.core.frame.DataFrame'>\n",
      "RangeIndex: 651191 entries, 0 to 651190\n",
      "Data columns (total 30 columns):\n",
      " #   Column                     Non-Null Count   Dtype \n",
      "---  ------                     --------------   ----- \n",
      " 0   url                        651191 non-null  object\n",
      " 1   type                       651191 non-null  object\n",
      " 2   qty_dot                    651191 non-null  int64 \n",
      " 3   qty_hyphen                 651191 non-null  int64 \n",
      " 4   qty_underline              651191 non-null  int64 \n",
      " 5   qty_slash                  651191 non-null  int64 \n",
      " 6   qty_questionmark           651191 non-null  int64 \n",
      " 7   qty_equalto                651191 non-null  int64 \n",
      " 8   qty_at                     651191 non-null  int64 \n",
      " 9   qty_and                    651191 non-null  int64 \n",
      " 10  qty_exclamation            651191 non-null  int64 \n",
      " 11  qty_space                  651191 non-null  int64 \n",
      " 12  url_length                 651191 non-null  int64 \n",
      " 13  qty_hostname               651191 non-null  int64 \n",
      " 14  domain_name                651191 non-null  object\n",
      " 15  qty_or                     651191 non-null  int64 \n",
      " 16  qty_tilde                  651191 non-null  int64 \n",
      " 17  qty_comma                  651191 non-null  int64 \n",
      " 18  qty_plus                   651191 non-null  int64 \n",
      " 19  qty_asterisk               651191 non-null  int64 \n",
      " 20  qty_hashtag                651191 non-null  int64 \n",
      " 21  qty_dollar                 651191 non-null  int64 \n",
      " 22  qty_percent                651191 non-null  int64 \n",
      " 23  qty_dot_hostname           651191 non-null  int64 \n",
      " 24  qty_hyphen_hostname        651191 non-null  int64 \n",
      " 25  qty_underline_hostname     651191 non-null  int64 \n",
      " 26  qty_questionmark_hostname  651191 non-null  int64 \n",
      " 27  qty_equal_hostname         651191 non-null  int64 \n",
      " 28  qty_at_hostname            651191 non-null  int64 \n",
      " 29  qty_and_hostname           651191 non-null  int64 \n",
      "dtypes: int64(27), object(3)\n",
      "memory usage: 149.0+ MB\n"
     ]
    }
   ],
   "source": [
    "data.info()"
   ]
  },
  {
   "cell_type": "code",
   "execution_count": 34,
   "id": "6UDurjMHh4L9",
   "metadata": {
    "colab": {
     "base_uri": "https://localhost:8080/",
     "height": 1000
    },
    "id": "6UDurjMHh4L9",
    "outputId": "b9283628-c4db-48f7-e626-9fd90943041a"
   },
   "outputs": [
    {
     "data": {
      "text/html": [
       "<div>\n",
       "<style scoped>\n",
       "    .dataframe tbody tr th:only-of-type {\n",
       "        vertical-align: middle;\n",
       "    }\n",
       "\n",
       "    .dataframe tbody tr th {\n",
       "        vertical-align: top;\n",
       "    }\n",
       "\n",
       "    .dataframe thead th {\n",
       "        text-align: right;\n",
       "    }\n",
       "</style>\n",
       "<table border=\"1\" class=\"dataframe\">\n",
       "  <thead>\n",
       "    <tr style=\"text-align: right;\">\n",
       "      <th></th>\n",
       "      <th>url</th>\n",
       "      <th>type</th>\n",
       "      <th>qty_dot</th>\n",
       "      <th>qty_hyphen</th>\n",
       "      <th>qty_underline</th>\n",
       "      <th>qty_slash</th>\n",
       "      <th>qty_questionmark</th>\n",
       "      <th>qty_equalto</th>\n",
       "      <th>qty_at</th>\n",
       "      <th>qty_and</th>\n",
       "      <th>...</th>\n",
       "      <th>qty_hashtag</th>\n",
       "      <th>qty_dollar</th>\n",
       "      <th>qty_percent</th>\n",
       "      <th>qty_dot_hostname</th>\n",
       "      <th>qty_hyphen_hostname</th>\n",
       "      <th>qty_underline_hostname</th>\n",
       "      <th>qty_questionmark_hostname</th>\n",
       "      <th>qty_equal_hostname</th>\n",
       "      <th>qty_at_hostname</th>\n",
       "      <th>qty_and_hostname</th>\n",
       "    </tr>\n",
       "  </thead>\n",
       "  <tbody>\n",
       "    <tr>\n",
       "      <th>0</th>\n",
       "      <td>br-icloud.com.br</td>\n",
       "      <td>phishing</td>\n",
       "      <td>2</td>\n",
       "      <td>1</td>\n",
       "      <td>0</td>\n",
       "      <td>0</td>\n",
       "      <td>0</td>\n",
       "      <td>0</td>\n",
       "      <td>0</td>\n",
       "      <td>0</td>\n",
       "      <td>...</td>\n",
       "      <td>0</td>\n",
       "      <td>0</td>\n",
       "      <td>0</td>\n",
       "      <td>2</td>\n",
       "      <td>1</td>\n",
       "      <td>0</td>\n",
       "      <td>0</td>\n",
       "      <td>0</td>\n",
       "      <td>0</td>\n",
       "      <td>0</td>\n",
       "    </tr>\n",
       "    <tr>\n",
       "      <th>1</th>\n",
       "      <td>mp3raid.com/music/krizz_kaliko.html</td>\n",
       "      <td>benign</td>\n",
       "      <td>2</td>\n",
       "      <td>0</td>\n",
       "      <td>1</td>\n",
       "      <td>2</td>\n",
       "      <td>0</td>\n",
       "      <td>0</td>\n",
       "      <td>0</td>\n",
       "      <td>0</td>\n",
       "      <td>...</td>\n",
       "      <td>0</td>\n",
       "      <td>0</td>\n",
       "      <td>0</td>\n",
       "      <td>1</td>\n",
       "      <td>0</td>\n",
       "      <td>0</td>\n",
       "      <td>0</td>\n",
       "      <td>0</td>\n",
       "      <td>0</td>\n",
       "      <td>0</td>\n",
       "    </tr>\n",
       "    <tr>\n",
       "      <th>2</th>\n",
       "      <td>bopsecrets.org/rexroth/cr/1.htm</td>\n",
       "      <td>benign</td>\n",
       "      <td>2</td>\n",
       "      <td>0</td>\n",
       "      <td>0</td>\n",
       "      <td>3</td>\n",
       "      <td>0</td>\n",
       "      <td>0</td>\n",
       "      <td>0</td>\n",
       "      <td>0</td>\n",
       "      <td>...</td>\n",
       "      <td>0</td>\n",
       "      <td>0</td>\n",
       "      <td>0</td>\n",
       "      <td>1</td>\n",
       "      <td>0</td>\n",
       "      <td>0</td>\n",
       "      <td>0</td>\n",
       "      <td>0</td>\n",
       "      <td>0</td>\n",
       "      <td>0</td>\n",
       "    </tr>\n",
       "    <tr>\n",
       "      <th>3</th>\n",
       "      <td>http://www.garage-pirenne.be/index.php?option=...</td>\n",
       "      <td>defacement</td>\n",
       "      <td>3</td>\n",
       "      <td>1</td>\n",
       "      <td>2</td>\n",
       "      <td>3</td>\n",
       "      <td>1</td>\n",
       "      <td>4</td>\n",
       "      <td>0</td>\n",
       "      <td>3</td>\n",
       "      <td>...</td>\n",
       "      <td>0</td>\n",
       "      <td>0</td>\n",
       "      <td>0</td>\n",
       "      <td>2</td>\n",
       "      <td>1</td>\n",
       "      <td>0</td>\n",
       "      <td>0</td>\n",
       "      <td>0</td>\n",
       "      <td>0</td>\n",
       "      <td>0</td>\n",
       "    </tr>\n",
       "    <tr>\n",
       "      <th>4</th>\n",
       "      <td>http://adventure-nicaragua.net/index.php?optio...</td>\n",
       "      <td>defacement</td>\n",
       "      <td>2</td>\n",
       "      <td>1</td>\n",
       "      <td>1</td>\n",
       "      <td>3</td>\n",
       "      <td>1</td>\n",
       "      <td>3</td>\n",
       "      <td>0</td>\n",
       "      <td>2</td>\n",
       "      <td>...</td>\n",
       "      <td>0</td>\n",
       "      <td>0</td>\n",
       "      <td>0</td>\n",
       "      <td>1</td>\n",
       "      <td>1</td>\n",
       "      <td>0</td>\n",
       "      <td>0</td>\n",
       "      <td>0</td>\n",
       "      <td>0</td>\n",
       "      <td>0</td>\n",
       "    </tr>\n",
       "    <tr>\n",
       "      <th>5</th>\n",
       "      <td>http://buzzfil.net/m/show-art/ils-etaient-loin...</td>\n",
       "      <td>benign</td>\n",
       "      <td>2</td>\n",
       "      <td>16</td>\n",
       "      <td>0</td>\n",
       "      <td>5</td>\n",
       "      <td>0</td>\n",
       "      <td>0</td>\n",
       "      <td>0</td>\n",
       "      <td>0</td>\n",
       "      <td>...</td>\n",
       "      <td>0</td>\n",
       "      <td>0</td>\n",
       "      <td>0</td>\n",
       "      <td>1</td>\n",
       "      <td>0</td>\n",
       "      <td>0</td>\n",
       "      <td>0</td>\n",
       "      <td>0</td>\n",
       "      <td>0</td>\n",
       "      <td>0</td>\n",
       "    </tr>\n",
       "    <tr>\n",
       "      <th>6</th>\n",
       "      <td>espn.go.com/nba/player/_/id/3457/brandon-rush</td>\n",
       "      <td>benign</td>\n",
       "      <td>2</td>\n",
       "      <td>1</td>\n",
       "      <td>1</td>\n",
       "      <td>6</td>\n",
       "      <td>0</td>\n",
       "      <td>0</td>\n",
       "      <td>0</td>\n",
       "      <td>0</td>\n",
       "      <td>...</td>\n",
       "      <td>0</td>\n",
       "      <td>0</td>\n",
       "      <td>0</td>\n",
       "      <td>2</td>\n",
       "      <td>0</td>\n",
       "      <td>0</td>\n",
       "      <td>0</td>\n",
       "      <td>0</td>\n",
       "      <td>0</td>\n",
       "      <td>0</td>\n",
       "    </tr>\n",
       "    <tr>\n",
       "      <th>7</th>\n",
       "      <td>yourbittorrent.com/?q=anthony-hamilton-soulife</td>\n",
       "      <td>benign</td>\n",
       "      <td>1</td>\n",
       "      <td>2</td>\n",
       "      <td>0</td>\n",
       "      <td>1</td>\n",
       "      <td>1</td>\n",
       "      <td>1</td>\n",
       "      <td>0</td>\n",
       "      <td>0</td>\n",
       "      <td>...</td>\n",
       "      <td>0</td>\n",
       "      <td>0</td>\n",
       "      <td>0</td>\n",
       "      <td>1</td>\n",
       "      <td>0</td>\n",
       "      <td>0</td>\n",
       "      <td>0</td>\n",
       "      <td>0</td>\n",
       "      <td>0</td>\n",
       "      <td>0</td>\n",
       "    </tr>\n",
       "    <tr>\n",
       "      <th>8</th>\n",
       "      <td>http://www.pashminaonline.com/pure-pashminas</td>\n",
       "      <td>defacement</td>\n",
       "      <td>2</td>\n",
       "      <td>1</td>\n",
       "      <td>0</td>\n",
       "      <td>3</td>\n",
       "      <td>0</td>\n",
       "      <td>0</td>\n",
       "      <td>0</td>\n",
       "      <td>0</td>\n",
       "      <td>...</td>\n",
       "      <td>0</td>\n",
       "      <td>0</td>\n",
       "      <td>0</td>\n",
       "      <td>2</td>\n",
       "      <td>0</td>\n",
       "      <td>0</td>\n",
       "      <td>0</td>\n",
       "      <td>0</td>\n",
       "      <td>0</td>\n",
       "      <td>0</td>\n",
       "    </tr>\n",
       "    <tr>\n",
       "      <th>9</th>\n",
       "      <td>allmusic.com/album/crazy-from-the-heat-r16990</td>\n",
       "      <td>benign</td>\n",
       "      <td>1</td>\n",
       "      <td>4</td>\n",
       "      <td>0</td>\n",
       "      <td>2</td>\n",
       "      <td>0</td>\n",
       "      <td>0</td>\n",
       "      <td>0</td>\n",
       "      <td>0</td>\n",
       "      <td>...</td>\n",
       "      <td>0</td>\n",
       "      <td>0</td>\n",
       "      <td>0</td>\n",
       "      <td>1</td>\n",
       "      <td>0</td>\n",
       "      <td>0</td>\n",
       "      <td>0</td>\n",
       "      <td>0</td>\n",
       "      <td>0</td>\n",
       "      <td>0</td>\n",
       "    </tr>\n",
       "    <tr>\n",
       "      <th>10</th>\n",
       "      <td>corporationwiki.com/Ohio/Columbus/frank-s-bens...</td>\n",
       "      <td>benign</td>\n",
       "      <td>2</td>\n",
       "      <td>3</td>\n",
       "      <td>0</td>\n",
       "      <td>3</td>\n",
       "      <td>0</td>\n",
       "      <td>0</td>\n",
       "      <td>0</td>\n",
       "      <td>0</td>\n",
       "      <td>...</td>\n",
       "      <td>0</td>\n",
       "      <td>0</td>\n",
       "      <td>0</td>\n",
       "      <td>1</td>\n",
       "      <td>0</td>\n",
       "      <td>0</td>\n",
       "      <td>0</td>\n",
       "      <td>0</td>\n",
       "      <td>0</td>\n",
       "      <td>0</td>\n",
       "    </tr>\n",
       "    <tr>\n",
       "      <th>11</th>\n",
       "      <td>http://www.ikenmijnkunst.nl/index.php/expositi...</td>\n",
       "      <td>defacement</td>\n",
       "      <td>3</td>\n",
       "      <td>1</td>\n",
       "      <td>0</td>\n",
       "      <td>5</td>\n",
       "      <td>0</td>\n",
       "      <td>0</td>\n",
       "      <td>0</td>\n",
       "      <td>0</td>\n",
       "      <td>...</td>\n",
       "      <td>0</td>\n",
       "      <td>0</td>\n",
       "      <td>0</td>\n",
       "      <td>2</td>\n",
       "      <td>0</td>\n",
       "      <td>0</td>\n",
       "      <td>0</td>\n",
       "      <td>0</td>\n",
       "      <td>0</td>\n",
       "      <td>0</td>\n",
       "    </tr>\n",
       "    <tr>\n",
       "      <th>12</th>\n",
       "      <td>myspace.com/video/vid/30602581</td>\n",
       "      <td>benign</td>\n",
       "      <td>1</td>\n",
       "      <td>0</td>\n",
       "      <td>0</td>\n",
       "      <td>3</td>\n",
       "      <td>0</td>\n",
       "      <td>0</td>\n",
       "      <td>0</td>\n",
       "      <td>0</td>\n",
       "      <td>...</td>\n",
       "      <td>0</td>\n",
       "      <td>0</td>\n",
       "      <td>0</td>\n",
       "      <td>1</td>\n",
       "      <td>0</td>\n",
       "      <td>0</td>\n",
       "      <td>0</td>\n",
       "      <td>0</td>\n",
       "      <td>0</td>\n",
       "      <td>0</td>\n",
       "    </tr>\n",
       "    <tr>\n",
       "      <th>13</th>\n",
       "      <td>http://www.lebensmittel-ueberwachung.de/index....</td>\n",
       "      <td>defacement</td>\n",
       "      <td>4</td>\n",
       "      <td>1</td>\n",
       "      <td>0</td>\n",
       "      <td>4</td>\n",
       "      <td>0</td>\n",
       "      <td>0</td>\n",
       "      <td>0</td>\n",
       "      <td>0</td>\n",
       "      <td>...</td>\n",
       "      <td>0</td>\n",
       "      <td>0</td>\n",
       "      <td>0</td>\n",
       "      <td>2</td>\n",
       "      <td>1</td>\n",
       "      <td>0</td>\n",
       "      <td>0</td>\n",
       "      <td>0</td>\n",
       "      <td>0</td>\n",
       "      <td>0</td>\n",
       "    </tr>\n",
       "    <tr>\n",
       "      <th>14</th>\n",
       "      <td>http://www.szabadmunkaero.hu/cimoldal.html?sta...</td>\n",
       "      <td>defacement</td>\n",
       "      <td>3</td>\n",
       "      <td>0</td>\n",
       "      <td>0</td>\n",
       "      <td>3</td>\n",
       "      <td>1</td>\n",
       "      <td>1</td>\n",
       "      <td>0</td>\n",
       "      <td>0</td>\n",
       "      <td>...</td>\n",
       "      <td>0</td>\n",
       "      <td>0</td>\n",
       "      <td>0</td>\n",
       "      <td>2</td>\n",
       "      <td>0</td>\n",
       "      <td>0</td>\n",
       "      <td>0</td>\n",
       "      <td>0</td>\n",
       "      <td>0</td>\n",
       "      <td>0</td>\n",
       "    </tr>\n",
       "    <tr>\n",
       "      <th>15</th>\n",
       "      <td>http://larcadelcarnevale.com/catalogo/palloncini</td>\n",
       "      <td>defacement</td>\n",
       "      <td>1</td>\n",
       "      <td>0</td>\n",
       "      <td>0</td>\n",
       "      <td>4</td>\n",
       "      <td>0</td>\n",
       "      <td>0</td>\n",
       "      <td>0</td>\n",
       "      <td>0</td>\n",
       "      <td>...</td>\n",
       "      <td>0</td>\n",
       "      <td>0</td>\n",
       "      <td>0</td>\n",
       "      <td>1</td>\n",
       "      <td>0</td>\n",
       "      <td>0</td>\n",
       "      <td>0</td>\n",
       "      <td>0</td>\n",
       "      <td>0</td>\n",
       "      <td>0</td>\n",
       "    </tr>\n",
       "    <tr>\n",
       "      <th>16</th>\n",
       "      <td>quickfacts.census.gov/qfd/maps/iowa_map.html</td>\n",
       "      <td>benign</td>\n",
       "      <td>3</td>\n",
       "      <td>0</td>\n",
       "      <td>1</td>\n",
       "      <td>3</td>\n",
       "      <td>0</td>\n",
       "      <td>0</td>\n",
       "      <td>0</td>\n",
       "      <td>0</td>\n",
       "      <td>...</td>\n",
       "      <td>0</td>\n",
       "      <td>0</td>\n",
       "      <td>0</td>\n",
       "      <td>2</td>\n",
       "      <td>0</td>\n",
       "      <td>0</td>\n",
       "      <td>0</td>\n",
       "      <td>0</td>\n",
       "      <td>0</td>\n",
       "      <td>0</td>\n",
       "    </tr>\n",
       "    <tr>\n",
       "      <th>17</th>\n",
       "      <td>nugget.ca/ArticleDisplay.aspx?archive=true&amp;e=1...</td>\n",
       "      <td>benign</td>\n",
       "      <td>2</td>\n",
       "      <td>0</td>\n",
       "      <td>0</td>\n",
       "      <td>1</td>\n",
       "      <td>1</td>\n",
       "      <td>2</td>\n",
       "      <td>0</td>\n",
       "      <td>1</td>\n",
       "      <td>...</td>\n",
       "      <td>0</td>\n",
       "      <td>0</td>\n",
       "      <td>0</td>\n",
       "      <td>1</td>\n",
       "      <td>0</td>\n",
       "      <td>0</td>\n",
       "      <td>0</td>\n",
       "      <td>0</td>\n",
       "      <td>0</td>\n",
       "      <td>0</td>\n",
       "    </tr>\n",
       "    <tr>\n",
       "      <th>18</th>\n",
       "      <td>uk.linkedin.com/pub/steve-rubenstein/8/718/755</td>\n",
       "      <td>benign</td>\n",
       "      <td>2</td>\n",
       "      <td>1</td>\n",
       "      <td>0</td>\n",
       "      <td>5</td>\n",
       "      <td>0</td>\n",
       "      <td>0</td>\n",
       "      <td>0</td>\n",
       "      <td>0</td>\n",
       "      <td>...</td>\n",
       "      <td>0</td>\n",
       "      <td>0</td>\n",
       "      <td>0</td>\n",
       "      <td>2</td>\n",
       "      <td>0</td>\n",
       "      <td>0</td>\n",
       "      <td>0</td>\n",
       "      <td>0</td>\n",
       "      <td>0</td>\n",
       "      <td>0</td>\n",
       "    </tr>\n",
       "    <tr>\n",
       "      <th>19</th>\n",
       "      <td>http://www.vnic.co/khach-hang.html</td>\n",
       "      <td>defacement</td>\n",
       "      <td>3</td>\n",
       "      <td>1</td>\n",
       "      <td>0</td>\n",
       "      <td>3</td>\n",
       "      <td>0</td>\n",
       "      <td>0</td>\n",
       "      <td>0</td>\n",
       "      <td>0</td>\n",
       "      <td>...</td>\n",
       "      <td>0</td>\n",
       "      <td>0</td>\n",
       "      <td>0</td>\n",
       "      <td>2</td>\n",
       "      <td>0</td>\n",
       "      <td>0</td>\n",
       "      <td>0</td>\n",
       "      <td>0</td>\n",
       "      <td>0</td>\n",
       "      <td>0</td>\n",
       "    </tr>\n",
       "    <tr>\n",
       "      <th>20</th>\n",
       "      <td>baseball-reference.com/players/h/harrige01.shtml</td>\n",
       "      <td>benign</td>\n",
       "      <td>2</td>\n",
       "      <td>1</td>\n",
       "      <td>0</td>\n",
       "      <td>3</td>\n",
       "      <td>0</td>\n",
       "      <td>0</td>\n",
       "      <td>0</td>\n",
       "      <td>0</td>\n",
       "      <td>...</td>\n",
       "      <td>0</td>\n",
       "      <td>0</td>\n",
       "      <td>0</td>\n",
       "      <td>1</td>\n",
       "      <td>1</td>\n",
       "      <td>0</td>\n",
       "      <td>0</td>\n",
       "      <td>0</td>\n",
       "      <td>0</td>\n",
       "      <td>0</td>\n",
       "    </tr>\n",
       "    <tr>\n",
       "      <th>21</th>\n",
       "      <td>signin.eby.de.zukruygxctzmmqi.civpro.co.za</td>\n",
       "      <td>phishing</td>\n",
       "      <td>6</td>\n",
       "      <td>0</td>\n",
       "      <td>0</td>\n",
       "      <td>0</td>\n",
       "      <td>0</td>\n",
       "      <td>0</td>\n",
       "      <td>0</td>\n",
       "      <td>0</td>\n",
       "      <td>...</td>\n",
       "      <td>0</td>\n",
       "      <td>0</td>\n",
       "      <td>0</td>\n",
       "      <td>6</td>\n",
       "      <td>0</td>\n",
       "      <td>0</td>\n",
       "      <td>0</td>\n",
       "      <td>0</td>\n",
       "      <td>0</td>\n",
       "      <td>0</td>\n",
       "    </tr>\n",
       "    <tr>\n",
       "      <th>22</th>\n",
       "      <td>192.com/atoz/people/oakley/patrick/</td>\n",
       "      <td>benign</td>\n",
       "      <td>1</td>\n",
       "      <td>0</td>\n",
       "      <td>0</td>\n",
       "      <td>5</td>\n",
       "      <td>0</td>\n",
       "      <td>0</td>\n",
       "      <td>0</td>\n",
       "      <td>0</td>\n",
       "      <td>...</td>\n",
       "      <td>0</td>\n",
       "      <td>0</td>\n",
       "      <td>0</td>\n",
       "      <td>1</td>\n",
       "      <td>0</td>\n",
       "      <td>0</td>\n",
       "      <td>0</td>\n",
       "      <td>0</td>\n",
       "      <td>0</td>\n",
       "      <td>0</td>\n",
       "    </tr>\n",
       "    <tr>\n",
       "      <th>23</th>\n",
       "      <td>nytimes.com/1998/03/29/style/cuttings-oh-that-...</td>\n",
       "      <td>benign</td>\n",
       "      <td>2</td>\n",
       "      <td>6</td>\n",
       "      <td>0</td>\n",
       "      <td>5</td>\n",
       "      <td>0</td>\n",
       "      <td>0</td>\n",
       "      <td>0</td>\n",
       "      <td>0</td>\n",
       "      <td>...</td>\n",
       "      <td>0</td>\n",
       "      <td>0</td>\n",
       "      <td>0</td>\n",
       "      <td>1</td>\n",
       "      <td>0</td>\n",
       "      <td>0</td>\n",
       "      <td>0</td>\n",
       "      <td>0</td>\n",
       "      <td>0</td>\n",
       "      <td>0</td>\n",
       "    </tr>\n",
       "    <tr>\n",
       "      <th>24</th>\n",
       "      <td>escholarship.org/uc/item/5xt4952c</td>\n",
       "      <td>benign</td>\n",
       "      <td>1</td>\n",
       "      <td>0</td>\n",
       "      <td>0</td>\n",
       "      <td>3</td>\n",
       "      <td>0</td>\n",
       "      <td>0</td>\n",
       "      <td>0</td>\n",
       "      <td>0</td>\n",
       "      <td>...</td>\n",
       "      <td>0</td>\n",
       "      <td>0</td>\n",
       "      <td>0</td>\n",
       "      <td>1</td>\n",
       "      <td>0</td>\n",
       "      <td>0</td>\n",
       "      <td>0</td>\n",
       "      <td>0</td>\n",
       "      <td>0</td>\n",
       "      <td>0</td>\n",
       "    </tr>\n",
       "    <tr>\n",
       "      <th>25</th>\n",
       "      <td>songfacts.com/detail.php?id=13410</td>\n",
       "      <td>benign</td>\n",
       "      <td>2</td>\n",
       "      <td>0</td>\n",
       "      <td>0</td>\n",
       "      <td>1</td>\n",
       "      <td>1</td>\n",
       "      <td>1</td>\n",
       "      <td>0</td>\n",
       "      <td>0</td>\n",
       "      <td>...</td>\n",
       "      <td>0</td>\n",
       "      <td>0</td>\n",
       "      <td>0</td>\n",
       "      <td>1</td>\n",
       "      <td>0</td>\n",
       "      <td>0</td>\n",
       "      <td>0</td>\n",
       "      <td>0</td>\n",
       "      <td>0</td>\n",
       "      <td>0</td>\n",
       "    </tr>\n",
       "    <tr>\n",
       "      <th>26</th>\n",
       "      <td>casamanana.org/education/blba/</td>\n",
       "      <td>benign</td>\n",
       "      <td>1</td>\n",
       "      <td>0</td>\n",
       "      <td>0</td>\n",
       "      <td>3</td>\n",
       "      <td>0</td>\n",
       "      <td>0</td>\n",
       "      <td>0</td>\n",
       "      <td>0</td>\n",
       "      <td>...</td>\n",
       "      <td>0</td>\n",
       "      <td>0</td>\n",
       "      <td>0</td>\n",
       "      <td>1</td>\n",
       "      <td>0</td>\n",
       "      <td>0</td>\n",
       "      <td>0</td>\n",
       "      <td>0</td>\n",
       "      <td>0</td>\n",
       "      <td>0</td>\n",
       "    </tr>\n",
       "    <tr>\n",
       "      <th>27</th>\n",
       "      <td>http://hollywoodlife.com/2014/05/01/rihanna-ih...</td>\n",
       "      <td>benign</td>\n",
       "      <td>1</td>\n",
       "      <td>6</td>\n",
       "      <td>0</td>\n",
       "      <td>7</td>\n",
       "      <td>0</td>\n",
       "      <td>0</td>\n",
       "      <td>0</td>\n",
       "      <td>0</td>\n",
       "      <td>...</td>\n",
       "      <td>0</td>\n",
       "      <td>0</td>\n",
       "      <td>0</td>\n",
       "      <td>1</td>\n",
       "      <td>0</td>\n",
       "      <td>0</td>\n",
       "      <td>0</td>\n",
       "      <td>0</td>\n",
       "      <td>0</td>\n",
       "      <td>0</td>\n",
       "    </tr>\n",
       "    <tr>\n",
       "      <th>28</th>\n",
       "      <td>http://www.marketingbyinternet.com/mo/e56508df...</td>\n",
       "      <td>phishing</td>\n",
       "      <td>2</td>\n",
       "      <td>0</td>\n",
       "      <td>0</td>\n",
       "      <td>5</td>\n",
       "      <td>0</td>\n",
       "      <td>0</td>\n",
       "      <td>0</td>\n",
       "      <td>0</td>\n",
       "      <td>...</td>\n",
       "      <td>0</td>\n",
       "      <td>0</td>\n",
       "      <td>0</td>\n",
       "      <td>2</td>\n",
       "      <td>0</td>\n",
       "      <td>0</td>\n",
       "      <td>0</td>\n",
       "      <td>0</td>\n",
       "      <td>0</td>\n",
       "      <td>0</td>\n",
       "    </tr>\n",
       "    <tr>\n",
       "      <th>29</th>\n",
       "      <td>en.wikipedia.org/wiki/North_Dakota</td>\n",
       "      <td>benign</td>\n",
       "      <td>2</td>\n",
       "      <td>0</td>\n",
       "      <td>1</td>\n",
       "      <td>2</td>\n",
       "      <td>0</td>\n",
       "      <td>0</td>\n",
       "      <td>0</td>\n",
       "      <td>0</td>\n",
       "      <td>...</td>\n",
       "      <td>0</td>\n",
       "      <td>0</td>\n",
       "      <td>0</td>\n",
       "      <td>2</td>\n",
       "      <td>0</td>\n",
       "      <td>0</td>\n",
       "      <td>0</td>\n",
       "      <td>0</td>\n",
       "      <td>0</td>\n",
       "      <td>0</td>\n",
       "    </tr>\n",
       "  </tbody>\n",
       "</table>\n",
       "<p>30 rows × 30 columns</p>\n",
       "</div>"
      ],
      "text/plain": [
       "                                                  url        type  qty_dot  \\\n",
       "0                                    br-icloud.com.br    phishing        2   \n",
       "1                 mp3raid.com/music/krizz_kaliko.html      benign        2   \n",
       "2                     bopsecrets.org/rexroth/cr/1.htm      benign        2   \n",
       "3   http://www.garage-pirenne.be/index.php?option=...  defacement        3   \n",
       "4   http://adventure-nicaragua.net/index.php?optio...  defacement        2   \n",
       "5   http://buzzfil.net/m/show-art/ils-etaient-loin...      benign        2   \n",
       "6       espn.go.com/nba/player/_/id/3457/brandon-rush      benign        2   \n",
       "7      yourbittorrent.com/?q=anthony-hamilton-soulife      benign        1   \n",
       "8        http://www.pashminaonline.com/pure-pashminas  defacement        2   \n",
       "9       allmusic.com/album/crazy-from-the-heat-r16990      benign        1   \n",
       "10  corporationwiki.com/Ohio/Columbus/frank-s-bens...      benign        2   \n",
       "11  http://www.ikenmijnkunst.nl/index.php/expositi...  defacement        3   \n",
       "12                     myspace.com/video/vid/30602581      benign        1   \n",
       "13  http://www.lebensmittel-ueberwachung.de/index....  defacement        4   \n",
       "14  http://www.szabadmunkaero.hu/cimoldal.html?sta...  defacement        3   \n",
       "15   http://larcadelcarnevale.com/catalogo/palloncini  defacement        1   \n",
       "16       quickfacts.census.gov/qfd/maps/iowa_map.html      benign        3   \n",
       "17  nugget.ca/ArticleDisplay.aspx?archive=true&e=1...      benign        2   \n",
       "18     uk.linkedin.com/pub/steve-rubenstein/8/718/755      benign        2   \n",
       "19                 http://www.vnic.co/khach-hang.html  defacement        3   \n",
       "20   baseball-reference.com/players/h/harrige01.shtml      benign        2   \n",
       "21         signin.eby.de.zukruygxctzmmqi.civpro.co.za    phishing        6   \n",
       "22                192.com/atoz/people/oakley/patrick/      benign        1   \n",
       "23  nytimes.com/1998/03/29/style/cuttings-oh-that-...      benign        2   \n",
       "24                  escholarship.org/uc/item/5xt4952c      benign        1   \n",
       "25                  songfacts.com/detail.php?id=13410      benign        2   \n",
       "26                     casamanana.org/education/blba/      benign        1   \n",
       "27  http://hollywoodlife.com/2014/05/01/rihanna-ih...      benign        1   \n",
       "28  http://www.marketingbyinternet.com/mo/e56508df...    phishing        2   \n",
       "29                 en.wikipedia.org/wiki/North_Dakota      benign        2   \n",
       "\n",
       "    qty_hyphen  qty_underline  qty_slash  qty_questionmark  qty_equalto  \\\n",
       "0            1              0          0                 0            0   \n",
       "1            0              1          2                 0            0   \n",
       "2            0              0          3                 0            0   \n",
       "3            1              2          3                 1            4   \n",
       "4            1              1          3                 1            3   \n",
       "5           16              0          5                 0            0   \n",
       "6            1              1          6                 0            0   \n",
       "7            2              0          1                 1            1   \n",
       "8            1              0          3                 0            0   \n",
       "9            4              0          2                 0            0   \n",
       "10           3              0          3                 0            0   \n",
       "11           1              0          5                 0            0   \n",
       "12           0              0          3                 0            0   \n",
       "13           1              0          4                 0            0   \n",
       "14           0              0          3                 1            1   \n",
       "15           0              0          4                 0            0   \n",
       "16           0              1          3                 0            0   \n",
       "17           0              0          1                 1            2   \n",
       "18           1              0          5                 0            0   \n",
       "19           1              0          3                 0            0   \n",
       "20           1              0          3                 0            0   \n",
       "21           0              0          0                 0            0   \n",
       "22           0              0          5                 0            0   \n",
       "23           6              0          5                 0            0   \n",
       "24           0              0          3                 0            0   \n",
       "25           0              0          1                 1            1   \n",
       "26           0              0          3                 0            0   \n",
       "27           6              0          7                 0            0   \n",
       "28           0              0          5                 0            0   \n",
       "29           0              1          2                 0            0   \n",
       "\n",
       "    qty_at  qty_and  ...  qty_hashtag  qty_dollar  qty_percent  \\\n",
       "0        0        0  ...            0           0            0   \n",
       "1        0        0  ...            0           0            0   \n",
       "2        0        0  ...            0           0            0   \n",
       "3        0        3  ...            0           0            0   \n",
       "4        0        2  ...            0           0            0   \n",
       "5        0        0  ...            0           0            0   \n",
       "6        0        0  ...            0           0            0   \n",
       "7        0        0  ...            0           0            0   \n",
       "8        0        0  ...            0           0            0   \n",
       "9        0        0  ...            0           0            0   \n",
       "10       0        0  ...            0           0            0   \n",
       "11       0        0  ...            0           0            0   \n",
       "12       0        0  ...            0           0            0   \n",
       "13       0        0  ...            0           0            0   \n",
       "14       0        0  ...            0           0            0   \n",
       "15       0        0  ...            0           0            0   \n",
       "16       0        0  ...            0           0            0   \n",
       "17       0        1  ...            0           0            0   \n",
       "18       0        0  ...            0           0            0   \n",
       "19       0        0  ...            0           0            0   \n",
       "20       0        0  ...            0           0            0   \n",
       "21       0        0  ...            0           0            0   \n",
       "22       0        0  ...            0           0            0   \n",
       "23       0        0  ...            0           0            0   \n",
       "24       0        0  ...            0           0            0   \n",
       "25       0        0  ...            0           0            0   \n",
       "26       0        0  ...            0           0            0   \n",
       "27       0        0  ...            0           0            0   \n",
       "28       0        0  ...            0           0            0   \n",
       "29       0        0  ...            0           0            0   \n",
       "\n",
       "    qty_dot_hostname qty_hyphen_hostname  qty_underline_hostname  \\\n",
       "0                  2                   1                       0   \n",
       "1                  1                   0                       0   \n",
       "2                  1                   0                       0   \n",
       "3                  2                   1                       0   \n",
       "4                  1                   1                       0   \n",
       "5                  1                   0                       0   \n",
       "6                  2                   0                       0   \n",
       "7                  1                   0                       0   \n",
       "8                  2                   0                       0   \n",
       "9                  1                   0                       0   \n",
       "10                 1                   0                       0   \n",
       "11                 2                   0                       0   \n",
       "12                 1                   0                       0   \n",
       "13                 2                   1                       0   \n",
       "14                 2                   0                       0   \n",
       "15                 1                   0                       0   \n",
       "16                 2                   0                       0   \n",
       "17                 1                   0                       0   \n",
       "18                 2                   0                       0   \n",
       "19                 2                   0                       0   \n",
       "20                 1                   1                       0   \n",
       "21                 6                   0                       0   \n",
       "22                 1                   0                       0   \n",
       "23                 1                   0                       0   \n",
       "24                 1                   0                       0   \n",
       "25                 1                   0                       0   \n",
       "26                 1                   0                       0   \n",
       "27                 1                   0                       0   \n",
       "28                 2                   0                       0   \n",
       "29                 2                   0                       0   \n",
       "\n",
       "    qty_questionmark_hostname  qty_equal_hostname  qty_at_hostname  \\\n",
       "0                           0                   0                0   \n",
       "1                           0                   0                0   \n",
       "2                           0                   0                0   \n",
       "3                           0                   0                0   \n",
       "4                           0                   0                0   \n",
       "5                           0                   0                0   \n",
       "6                           0                   0                0   \n",
       "7                           0                   0                0   \n",
       "8                           0                   0                0   \n",
       "9                           0                   0                0   \n",
       "10                          0                   0                0   \n",
       "11                          0                   0                0   \n",
       "12                          0                   0                0   \n",
       "13                          0                   0                0   \n",
       "14                          0                   0                0   \n",
       "15                          0                   0                0   \n",
       "16                          0                   0                0   \n",
       "17                          0                   0                0   \n",
       "18                          0                   0                0   \n",
       "19                          0                   0                0   \n",
       "20                          0                   0                0   \n",
       "21                          0                   0                0   \n",
       "22                          0                   0                0   \n",
       "23                          0                   0                0   \n",
       "24                          0                   0                0   \n",
       "25                          0                   0                0   \n",
       "26                          0                   0                0   \n",
       "27                          0                   0                0   \n",
       "28                          0                   0                0   \n",
       "29                          0                   0                0   \n",
       "\n",
       "    qty_and_hostname  \n",
       "0                  0  \n",
       "1                  0  \n",
       "2                  0  \n",
       "3                  0  \n",
       "4                  0  \n",
       "5                  0  \n",
       "6                  0  \n",
       "7                  0  \n",
       "8                  0  \n",
       "9                  0  \n",
       "10                 0  \n",
       "11                 0  \n",
       "12                 0  \n",
       "13                 0  \n",
       "14                 0  \n",
       "15                 0  \n",
       "16                 0  \n",
       "17                 0  \n",
       "18                 0  \n",
       "19                 0  \n",
       "20                 0  \n",
       "21                 0  \n",
       "22                 0  \n",
       "23                 0  \n",
       "24                 0  \n",
       "25                 0  \n",
       "26                 0  \n",
       "27                 0  \n",
       "28                 0  \n",
       "29                 0  \n",
       "\n",
       "[30 rows x 30 columns]"
      ]
     },
     "execution_count": 34,
     "metadata": {},
     "output_type": "execute_result"
    }
   ],
   "source": [
    "data.head(30)"
   ]
  },
  {
   "cell_type": "markdown",
   "id": "848dd881-3e4c-49de-aae1-70d068e66f37",
   "metadata": {
    "id": "GFySSZV2w-Jj"
   },
   "source": [
    "# EDA"
   ]
  },
  {
   "cell_type": "markdown",
   "id": "c541275e-4fb2-43d0-a021-9616a13101ee",
   "metadata": {},
   "source": [
    "\n"
   ]
  },
  {
   "cell_type": "markdown",
   "id": "d322759c-187e-4449-bc13-c069e68ce422",
   "metadata": {},
   "source": [
    "#### With the below violin plot we can analyse how quantity of dots in benign and phising urls are much higher than defacement and malware"
   ]
  },
  {
   "cell_type": "code",
   "execution_count": 35,
   "id": "TXC3rS-Ix_nS",
   "metadata": {
    "colab": {
     "base_uri": "https://localhost:8080/",
     "height": 787
    },
    "id": "TXC3rS-Ix_nS",
    "outputId": "5b8d1b90-e14d-4610-a362-8ac1b245f77c"
   },
   "outputs": [
    {
     "data": {
      "image/png": "[encoded data removed]",
      "text/plain": [
       "<Figure size 864x345.6 with 1 Axes>"
      ]
     },
     "metadata": {
      "needs_background": "light"
     },
     "output_type": "display_data"
    }
   ],
   "source": [
    "from matplotlib import pyplot as plt\n",
    "import seaborn as sns\n",
    "\n",
    "figsize = (12, 1.2 * len(data['type'].unique()))\n",
    "plt.figure(figsize=figsize)\n",
    "\n",
    "data_ = data[[\"qty_dot\", \"type\"]].sample(n=10000, random_state=1)\n",
    "\n",
    "sns.violinplot(data=data_, x='qty_dot', y='type', inner='stick', palette='Dark2')\n",
    "sns.despine(top=True, right=True, bottom=True, left=True)\n",
    "\n",
    "plt.show()\n"
   ]
  },
  {
   "cell_type": "markdown",
   "id": "41267261-5ab9-44be-a2d1-4e4cf2887942",
   "metadata": {},
   "source": [
    "#### With the below violin plot we can analyse how quantity of hyphen is slightly higher than the other classes"
   ]
  },
  {
   "cell_type": "code",
   "execution_count": 36,
   "id": "pORfqU-Lx_G6",
   "metadata": {
    "id": "pORfqU-Lx_G6"
   },
   "outputs": [
    {
     "data": {
      "image/png": "[encoded data removed]",
      "text/plain": [
       "<Figure size 864x345.6 with 1 Axes>"
      ]
     },
     "metadata": {
      "needs_background": "light"
     },
     "output_type": "display_data"
    }
   ],
   "source": [
    "figsize = (12, 1.2 * len(data['type'].unique()))\n",
    "plt.figure(figsize=figsize)\n",
    "data_ = data[[\"qty_hyphen\", \"type\"]].sample(n=10000, random_state=1)\n",
    "sns.violinplot(data = data_, x='qty_hyphen', y='type', inner='stick', palette='Dark2')\n",
    "sns.despine(top=True, right=True, bottom=True, left=True)"
   ]
  },
  {
   "cell_type": "markdown",
   "id": "1f0c2992-1a66-4c33-a0d9-4e43f16c1d32",
   "metadata": {},
   "source": [
    "#### With the below violin plot we can analyse how quantity of underline can be a very god feature to recognize a benign url"
   ]
  },
  {
   "cell_type": "code",
   "execution_count": 37,
   "id": "SKW5Ca-hx-qK",
   "metadata": {
    "id": "SKW5Ca-hx-qK"
   },
   "outputs": [
    {
     "data": {
      "image/png": "[encoded data removed]",
      "text/plain": [
       "<Figure size 864x345.6 with 1 Axes>"
      ]
     },
     "metadata": {
      "needs_background": "light"
     },
     "output_type": "display_data"
    }
   ],
   "source": [
    "figsize = (12, 1.2 * len(data['type'].unique()))\n",
    "plt.figure(figsize=figsize)\n",
    "data_ = data[[\"qty_underline\", \"type\"]].sample(n=10000, random_state=1)\n",
    "sns.violinplot(data = data_, x='qty_underline', y='type', inner='stick', palette='Dark2')\n",
    "sns.despine(top=True, right=True, bottom=True, left=True)"
   ]
  },
  {
   "cell_type": "markdown",
   "id": "7c2c43f8-1901-48bd-a045-dacd57bc0e33",
   "metadata": {},
   "source": [
    "#### With the below violin plot we can analyse how quantity of slash is not the best feature as even thou the phising has higher numbers of these they arent good to distinquish between other classes"
   ]
  },
  {
   "cell_type": "code",
   "execution_count": 38,
   "id": "gVezB9m9x-JU",
   "metadata": {
    "id": "gVezB9m9x-JU"
   },
   "outputs": [
    {
     "data": {
      "image/png": "[encoded data removed]",
      "text/plain": [
       "<Figure size 864x345.6 with 1 Axes>"
      ]
     },
     "metadata": {
      "needs_background": "light"
     },
     "output_type": "display_data"
    }
   ],
   "source": [
    "figsize = (12, 1.2 * len(data['type'].unique()))\n",
    "plt.figure(figsize=figsize)\n",
    "data_ = data[[\"qty_slash\", \"type\"]].sample(n=10000, random_state=1)\n",
    "sns.violinplot(data = data_, x='qty_slash', y='type', inner='stick', palette='Dark2')\n",
    "sns.despine(top=True, right=True, bottom=True, left=True)"
   ]
  },
  {
   "cell_type": "code",
   "execution_count": 39,
   "id": "6bf6ed52-ac93-4750-9201-20e0668f28d5",
   "metadata": {},
   "outputs": [],
   "source": [
    "data_plot = data.sample(n = 10000, random_state = 1)"
   ]
  },
  {
   "cell_type": "markdown",
   "id": "58c39767-8abd-43c5-8246-e5776ae49bbd",
   "metadata": {},
   "source": [
    "#### With plot shows that slash and questionmark quantiy are constantly correlated"
   ]
  },
  {
   "cell_type": "code",
   "execution_count": 40,
   "id": "IqzuafdHx4Ck",
   "metadata": {
    "id": "IqzuafdHx4Ck"
   },
   "outputs": [
    {
     "data": {
      "image/png": "[encoded data removed]",
      "text/plain": [
       "<Figure size 432x288 with 1 Axes>"
      ]
     },
     "metadata": {
      "needs_background": "light"
     },
     "output_type": "display_data"
    }
   ],
   "source": [
    "data_plot.plot(kind='scatter', x='qty_slash', y='qty_questionmark', s=32, alpha=.8)\n",
    "plt.gca().spines[['top', 'right',]].set_visible(False)"
   ]
  },
  {
   "cell_type": "markdown",
   "id": "bf38d283-d588-4095-95d8-88072580c7d4",
   "metadata": {},
   "source": [
    "## the below three plots dont show any correltion except the range of values for these features in the dataset"
   ]
  },
  {
   "cell_type": "code",
   "execution_count": 41,
   "id": "DdOVa922x3oU",
   "metadata": {
    "id": "DdOVa922x3oU"
   },
   "outputs": [
    {
     "data": {
      "image/png": "[encoded data removed]",
      "text/plain": [
       "<Figure size 432x288 with 1 Axes>"
      ]
     },
     "metadata": {
      "needs_background": "light"
     },
     "output_type": "display_data"
    }
   ],
   "source": [
    "data_plot.plot(kind='scatter', x='qty_underline', y='qty_slash', s=32, alpha=.8)\n",
    "plt.gca().spines[['top', 'right',]].set_visible(False)"
   ]
  },
  {
   "cell_type": "code",
   "execution_count": 42,
   "id": "Kt4XlLV7x3Kz",
   "metadata": {
    "id": "Kt4XlLV7x3Kz"
   },
   "outputs": [
    {
     "data": {
      "image/png": "[encoded data removed]",
      "text/plain": [
       "<Figure size 432x288 with 1 Axes>"
      ]
     },
     "metadata": {
      "needs_background": "light"
     },
     "output_type": "display_data"
    }
   ],
   "source": [
    "data_plot.plot(kind='scatter', x='qty_hyphen', y='qty_underline', s=32, alpha=.8)\n",
    "plt.gca().spines[['top', 'right',]].set_visible(False)"
   ]
  },
  {
   "cell_type": "code",
   "execution_count": 43,
   "id": "nmBpReDax2xh",
   "metadata": {
    "id": "nmBpReDax2xh"
   },
   "outputs": [
    {
     "data": {
      "image/png": "[encoded data removed]",
      "text/plain": [
       "<Figure size 432x288 with 1 Axes>"
      ]
     },
     "metadata": {
      "needs_background": "light"
     },
     "output_type": "display_data"
    }
   ],
   "source": [
    "data_plot.plot(kind='scatter', x='qty_dot', y='qty_hyphen', s=32, alpha=.8)\n",
    "plt.gca().spines[['top', 'right',]].set_visible(False)"
   ]
  },
  {
   "cell_type": "markdown",
   "id": "a2561afa-7e14-4d7a-ba46-1b7acb6426c3",
   "metadata": {},
   "source": [
    "#### we can see with thi bar graph how the dataset given to us is dispropotional"
   ]
  },
  {
   "cell_type": "code",
   "execution_count": 44,
   "id": "ZoNl8QSQx2Iv",
   "metadata": {
    "id": "ZoNl8QSQx2Iv"
   },
   "outputs": [
    {
     "data": {
      "image/png": "[encoded data removed]",
      "text/plain": [
       "<Figure size 432x288 with 1 Axes>"
      ]
     },
     "metadata": {
      "needs_background": "light"
     },
     "output_type": "display_data"
    }
   ],
   "source": [
    "data_plot.groupby('type').size().plot(kind='barh', color=sns.palettes.mpl_palette('Dark2'))\n",
    "plt.gca().spines[['top', 'right',]].set_visible(False)"
   ]
  },
  {
   "cell_type": "markdown",
   "id": "43e29e01-b8b6-4a11-87f9-8ad23e387ad1",
   "metadata": {},
   "source": [
    "## All the below grphs represen the range of values fr the given features as a histogram"
   ]
  },
  {
   "cell_type": "code",
   "execution_count": 45,
   "id": "XXcB_tNsx1X5",
   "metadata": {
    "id": "XXcB_tNsx1X5"
   },
   "outputs": [
    {
     "data": {
      "image/png": "[encoded data removed]",
      "text/plain": [
       "<Figure size 432x288 with 1 Axes>"
      ]
     },
     "metadata": {
      "needs_background": "light"
     },
     "output_type": "display_data"
    }
   ],
   "source": [
    "data_plot['qty_slash'].plot(kind='hist', bins=20, title='qty_slash')\n",
    "plt.gca().spines[['top', 'right',]].set_visible(False)"
   ]
  },
  {
   "cell_type": "code",
   "execution_count": 46,
   "id": "tK55jUOvx04W",
   "metadata": {
    "id": "tK55jUOvx04W"
   },
   "outputs": [
    {
     "data": {
      "image/png": "[encoded data removed]",
      "text/plain": [
       "<Figure size 432x288 with 1 Axes>"
      ]
     },
     "metadata": {
      "needs_background": "light"
     },
     "output_type": "display_data"
    }
   ],
   "source": [
    "data_plot['qty_underline'].plot(kind='hist', bins=20, title='qty_underline')\n",
    "plt.gca().spines[['top', 'right',]].set_visible(False)"
   ]
  },
  {
   "cell_type": "code",
   "execution_count": 47,
   "id": "I8p9w8lUx0OO",
   "metadata": {
    "id": "I8p9w8lUx0OO"
   },
   "outputs": [
    {
     "data": {
      "image/png": "[encoded data removed]",
      "text/plain": [
       "<Figure size 432x288 with 1 Axes>"
      ]
     },
     "metadata": {
      "needs_background": "light"
     },
     "output_type": "display_data"
    }
   ],
   "source": [
    "data_plot['qty_hyphen'].plot(kind='hist', bins=20, title='qty_hyphen')\n",
    "plt.gca().spines[['top', 'right',]].set_visible(False)"
   ]
  },
  {
   "cell_type": "code",
   "execution_count": 48,
   "id": "XJmn-kqHxy8e",
   "metadata": {
    "id": "XJmn-kqHxy8e"
   },
   "outputs": [
    {
     "data": {
      "image/png": "[encoded data removed]",
      "text/plain": [
       "<Figure size 432x288 with 1 Axes>"
      ]
     },
     "metadata": {
      "needs_background": "light"
     },
     "output_type": "display_data"
    }
   ],
   "source": [
    "data_plot['qty_dot'].plot(kind='hist', bins=20, title='qty_dot')\n",
    "plt.gca().spines[['top', 'right',]].set_visible(False)"
   ]
  },
  {
   "cell_type": "code",
   "execution_count": 49,
   "id": "33648601-ab91-4308-8717-b4fe3a8bc6f4",
   "metadata": {},
   "outputs": [
    {
     "data": {
      "text/plain": [
       "Index(['url', 'type', 'qty_dot', 'qty_hyphen', 'qty_underline', 'qty_slash',\n",
       "       'qty_questionmark', 'qty_equalto', 'qty_at', 'qty_and',\n",
       "       'qty_exclamation', 'qty_space', 'url_length', 'qty_hostname',\n",
       "       'domain_name', 'qty_or', 'qty_tilde', 'qty_comma', 'qty_plus',\n",
       "       'qty_asterisk', 'qty_hashtag', 'qty_dollar', 'qty_percent',\n",
       "       'qty_dot_hostname', 'qty_hyphen_hostname', 'qty_underline_hostname',\n",
       "       'qty_questionmark_hostname', 'qty_equal_hostname', 'qty_at_hostname',\n",
       "       'qty_and_hostname'],\n",
       "      dtype='object')"
      ]
     },
     "execution_count": 49,
     "metadata": {},
     "output_type": "execute_result"
    }
   ],
   "source": [
    "data.columns"
   ]
  },
  {
   "cell_type": "code",
   "execution_count": 50,
   "id": "a0883add-4e2c-4d71-9e03-8a1eedce33d7",
   "metadata": {},
   "outputs": [
    {
     "name": "stdout",
     "output_type": "stream",
     "text": [
      "<class 'pandas.core.frame.DataFrame'>\n",
      "RangeIndex: 651191 entries, 0 to 651190\n",
      "Data columns (total 30 columns):\n",
      " #   Column                     Non-Null Count   Dtype \n",
      "---  ------                     --------------   ----- \n",
      " 0   url                        651191 non-null  object\n",
      " 1   type                       651191 non-null  object\n",
      " 2   qty_dot                    651191 non-null  int64 \n",
      " 3   qty_hyphen                 651191 non-null  int64 \n",
      " 4   qty_underline              651191 non-null  int64 \n",
      " 5   qty_slash                  651191 non-null  int64 \n",
      " 6   qty_questionmark           651191 non-null  int64 \n",
      " 7   qty_equalto                651191 non-null  int64 \n",
      " 8   qty_at                     651191 non-null  int64 \n",
      " 9   qty_and                    651191 non-null  int64 \n",
      " 10  qty_exclamation            651191 non-null  int64 \n",
      " 11  qty_space                  651191 non-null  int64 \n",
      " 12  url_length                 651191 non-null  int64 \n",
      " 13  qty_hostname               651191 non-null  int64 \n",
      " 14  domain_name                651191 non-null  object\n",
      " 15  qty_or                     651191 non-null  int64 \n",
      " 16  qty_tilde                  651191 non-null  int64 \n",
      " 17  qty_comma                  651191 non-null  int64 \n",
      " 18  qty_plus                   651191 non-null  int64 \n",
      " 19  qty_asterisk               651191 non-null  int64 \n",
      " 20  qty_hashtag                651191 non-null  int64 \n",
      " 21  qty_dollar                 651191 non-null  int64 \n",
      " 22  qty_percent                651191 non-null  int64 \n",
      " 23  qty_dot_hostname           651191 non-null  int64 \n",
      " 24  qty_hyphen_hostname        651191 non-null  int64 \n",
      " 25  qty_underline_hostname     651191 non-null  int64 \n",
      " 26  qty_questionmark_hostname  651191 non-null  int64 \n",
      " 27  qty_equal_hostname         651191 non-null  int64 \n",
      " 28  qty_at_hostname            651191 non-null  int64 \n",
      " 29  qty_and_hostname           651191 non-null  int64 \n",
      "dtypes: int64(27), object(3)\n",
      "memory usage: 149.0+ MB\n"
     ]
    }
   ],
   "source": [
    "data.info()"
   ]
  },
  {
   "cell_type": "markdown",
   "id": "4ef66c48-8f57-46bb-8785-75e7024c9f61",
   "metadata": {},
   "source": [
    "# Pipeline to find best estimator among gradientboosting, logistic regression and svm"
   ]
  },
  {
   "cell_type": "code",
   "execution_count": 449,
   "id": "435a2ff1-76d2-48a3-b4af-1ee74bd547b1",
   "metadata": {},
   "outputs": [],
   "source": [
    "from sklearn.model_selection import GridSearchCV\n",
    "from sklearn.ensemble import GradientBoostingClassifier\n",
    "from sklearn.linear_model import LogisticRegression\n",
    "from sklearn.svm import SVC\n",
    "from sklearn.pipeline import Pipeline\n",
    "from sklearn.model_selection import train_test_split\n",
    "from sklearn.preprocessing import MinMaxScaler\n",
    "import time\n",
    "'''\n",
    "a pipeline which scales the features and tries 3 models with their parameters on the dataset to eamine the best estimator\n",
    "'''\n",
    "\n",
    "pipeline = Pipeline([\n",
    "    ('std', MinMaxScaler()),\n",
    "    ('classifier', GradientBoostingClassifier())\n",
    "])\n",
    "\n",
    "param_grids = [\n",
    "    {\n",
    "        'classifier': [GradientBoostingClassifier()],\n",
    "        'classifier__n_estimators': [50, 100, 200],\n",
    "    },\n",
    "    {\n",
    "        'classifier': [SVC()],\n",
    "        'classifier__C': [0.1, 1, 10],\n",
    "    },\n",
    "    {\n",
    "        'classifier': [LogisticRegression(solver = \"liblinear\")],\n",
    "        'classifier__penalty': ['l1', 'l2'],\n",
    "    }\n",
    "]"
   ]
  },
  {
   "cell_type": "markdown",
   "id": "516d6983-7261-4913-92df-0dade4f44aff",
   "metadata": {},
   "source": [
    "# Pipeline to hyperparametrize type the best_estimator"
   ]
  },
  {
   "cell_type": "code",
   "execution_count": 450,
   "id": "266a70df-135f-43d0-a655-209cc814555b",
   "metadata": {},
   "outputs": [],
   "source": [
    "from sklearn.model_selection import GridSearchCV\n",
    "from sklearn.ensemble import GradientBoostingClassifier\n",
    "from sklearn.linear_model import LogisticRegression\n",
    "from sklearn.svm import SVC\n",
    "from sklearn.pipeline import Pipeline\n",
    "from sklearn.model_selection import train_test_split\n",
    "from sklearn.preprocessing import MinMaxScaler\n",
    "import time\n",
    "\n",
    "\n",
    "'''\n",
    "a pipeline to hyperparamertize tune the gradient boostig model and  all its parameters as it was the best performing model overall\n",
    "'''\n",
    "pipeline_best = Pipeline([\n",
    "    ('std', MinMaxScaler()),\n",
    "    ('classifier',GradientBoostingClassifier())\n",
    "])\n",
    "\n",
    "param_grids = {\n",
    "        'classifier__n_estimators': [50, 100, 200],\n",
    "        'classifier__learning_rate': [0.01, 0.1, 0.2],\n",
    "        'classifier__max_depth': [3, 5, 7]\n",
    "    }"
   ]
  },
  {
   "cell_type": "markdown",
   "id": "a8f351b0-4083-4d43-88be-76f1698bfe01",
   "metadata": {},
   "source": [
    "# Deep Learning Tensorflow model"
   ]
  },
  {
   "cell_type": "code",
   "execution_count": 451,
   "id": "7f470d08-9391-4884-bd1b-b19f33233851",
   "metadata": {},
   "outputs": [],
   "source": [
    "'''\n",
    "a deep learing model to train on our dataset\n",
    "'''\n",
    "def tensorflow_model(data):\n",
    "    import matplotlib.pyplot as plt\n",
    "    import tensorflow as tf\n",
    "    X = data.drop([\"url\",\"type\"], axis = 1)\n",
    "    y = data[\"type\"]\n",
    "    def convert(x):\n",
    "        dict_ = {'benign': 0, 'defacement': 1, 'phishing': 2, 'malware': 3}\n",
    "        return dict_[x]\n",
    "    y = y.apply(convert)\n",
    "    X_train, X_test, y_train, y_test = train_test_split(X, y, test_size=0.2, random_state=42)\n",
    "    deep_learning_model = tf.keras.Sequential([\n",
    "        tf.keras.layers.Dense(268, activation = \"relu\"),\n",
    "        tf.keras.layers.Dense(128, activation = \"relu\"),\n",
    "        tf.keras.layers.Dense(64, activation = \"relu\"),\n",
    "        tf.keras.layers.Dense(32, activation = \"relu\"),\n",
    "        tf.keras.layers.Dense(4,activation = \"softmax\")\n",
    "    ])\n",
    "\n",
    "    deep_learning_model.compile(\n",
    "        optimizer='adam',\n",
    "        loss=tf.keras.losses.SparseCategoricalCrossentropy(),\n",
    "        metrics=['accuracy']\n",
    "    )\n",
    "\n",
    "    history = deep_learning_model.fit(X_train, y_train, epochs=50)\n",
    "    print(\"Evaluate on test data\")\n",
    "    results = deep_learning_model.evaluate(X_test, y_test, batch_size=128)\n",
    "    print(\"test loss, test acc:\", results)\n",
    "    pd.DataFrame(history.history).plot()\n",
    "    print()\n",
    "    print()\n",
    "    import seaborn as sns\n",
    "    from sklearn.metrics import classification_report, confusion_matrix\n",
    "\n",
    "    y_pred = tf.math.argmax(deep_learning_model.predict(X_test), axis = 1)\n",
    "    confusion_matrix_ = confusion_matrix(y_test, y_pred)\n",
    "    classification_report_ = classification_report(y_test, y_pred , zero_division=1)\n",
    "    print(classification_report_)\n",
    "    plt.figure(figsize=(8, 6))\n",
    "    plt.title(\"Confusion Matrix\")\n",
    "    sns.heatmap(confusion_matrix_ ,annot = True)\n",
    "    return deep_learning_model"
   ]
  },
  {
   "cell_type": "markdown",
   "id": "ef1b6a28-83aa-4309-9336-3b4e9286b346",
   "metadata": {},
   "source": [
    "# Sample without replacement"
   ]
  },
  {
   "cell_type": "markdown",
   "id": "17a2a951-3358-47e8-93fa-bb04bd550de9",
   "metadata": {},
   "source": [
    "## Creating Dataset"
   ]
  },
  {
   "cell_type": "code",
   "execution_count": 205,
   "id": "7bef26eb-8cda-40c2-9485-204dacf7fa5b",
   "metadata": {},
   "outputs": [],
   "source": [
    "data_random_sample_without_replacement =  data.copy(deep = True)"
   ]
  },
  {
   "cell_type": "code",
   "execution_count": 206,
   "id": "4e74dcad-86e9-43c5-98ab-288be63a7806",
   "metadata": {},
   "outputs": [],
   "source": [
    "one_hot_encoded_data = pd.get_dummies(data_random_sample_without_replacement['domain_name'], drop_first = True)\n",
    "data_random_sample_without_replacement.drop('domain_name',inplace = True, axis = 1)\n",
    "data_random_sample_without_replacement = pd.concat([data_random_sample_without_replacement,one_hot_encoded_data], axis = 1)"
   ]
  },
  {
   "cell_type": "code",
   "execution_count": 207,
   "id": "cbb5c5c5-a4f7-4f92-9bbb-343ead22097d",
   "metadata": {},
   "outputs": [],
   "source": [
    "data_random_sample_without_replacement = data_random_sample_without_replacement.sample(n = 50000, random_state = 42)"
   ]
  },
  {
   "cell_type": "code",
   "execution_count": 211,
   "id": "dcd1a1b3-bfd7-4191-a033-5a6774b24269",
   "metadata": {},
   "outputs": [],
   "source": [
    "X = data_random_sample_without_replacement.drop([\"url\",\"type\"], axis = 1)\n",
    "y = data_random_sample_without_replacement[\"type\"]\n"
   ]
  },
  {
   "cell_type": "markdown",
   "id": "037a6c00-9199-4f3c-a478-8610021a5798",
   "metadata": {},
   "source": [
    "## Pipeline to Find bestestimator among svm,logreg and gradient boosting"
   ]
  },
  {
   "cell_type": "code",
   "execution_count": 91,
   "id": "Ve_TPYkSmIJi",
   "metadata": {
    "id": "Ve_TPYkSmIJi"
   },
   "outputs": [
    {
     "name": "stdout",
     "output_type": "stream",
     "text": [
      "Best Hyperparameters: {'classifier__learning_rate': 0.2, 'classifier__max_depth': 7, 'classifier__n_estimators': 200}\n",
      "Best Estimator: Pipeline(steps=[('std', MinMaxScaler()),\n",
      "                ('classifier',\n",
      "                 GradientBoostingClassifier(learning_rate=0.2, max_depth=7,\n",
      "                                            n_estimators=200))])\n",
      "The time taken to select best estimator using this instance of GridsearchcV is 571.5926604270935\n",
      "Test Accuracy: 0.901\n"
     ]
    }
   ],
   "source": [
    "X_train, X_test, y_train, y_test = train_test_split(X, y, test_size=0.2, random_state=42)\n",
    "\n",
    "grid_search = GridSearchCV(estimator=pipeline, param_grid=param_grids, cv=3, n_jobs = -5)\n",
    "t_start = time.time()\n",
    "grid_search.fit(X_train, y_train)\n",
    "t_end = time.time()\n",
    "\n",
    "print(\"Best Hyperparameters:\", grid_search.best_params_)\n",
    "print(\"Best Estimator:\", grid_search.best_estimator_)\n",
    "print(f\"The time taken to select best estimator using this instance of GridsearchcV is {t_end - t_start}\")\n",
    "accuracy = grid_search.best_estimator_.score(X_test, y_test)\n",
    "print(\"Test Accuracy:\", accuracy)"
   ]
  },
  {
   "cell_type": "code",
   "execution_count": 212,
   "id": "05865198-6086-480b-8a0c-df28c31ba728",
   "metadata": {},
   "outputs": [
    {
     "name": "stdout",
     "output_type": "stream",
     "text": [
      "classification report\n",
      "\n",
      "              precision    recall  f1-score   support\n",
      "\n",
      "      benign       0.92      0.95      0.94      6624\n",
      "  defacement       0.89      0.88      0.88      1452\n",
      "     malware       0.93      0.87      0.90       500\n",
      "    phishing       0.78      0.70      0.74      1424\n",
      "\n",
      "    accuracy                           0.90     10000\n",
      "   macro avg       0.88      0.85      0.86     10000\n",
      "weighted avg       0.90      0.90      0.90     10000\n",
      "\n"
     ]
    }
   ],
   "source": [
    "from sklearn.metrics import classification_report, confusion_matrix\n",
    "\n",
    "y_pred = grid_search.best_estimator_.predict(X_test)\n",
    "confusion_matrix_ = confusion_matrix(y_test, y_pred)\n",
    "classification_report_ = classification_report(y_test, y_pred)\n",
    "print(\"classification report\")\n",
    "print()\n",
    "print(classification_report_)"
   ]
  },
  {
   "cell_type": "code",
   "execution_count": 213,
   "id": "748d9ac9-542d-451c-8986-10d4b35172e8",
   "metadata": {},
   "outputs": [
    {
     "name": "stdout",
     "output_type": "stream",
     "text": [
      "Confusion Matrix\n",
      "\n"
     ]
    },
    {
     "data": {
      "text/plain": [
       "<AxesSubplot:>"
      ]
     },
     "execution_count": 213,
     "metadata": {},
     "output_type": "execute_result"
    },
    {
     "data": {
      "image/png": "[encoded data removed]",
      "text/plain": [
       "<Figure size 432x288 with 2 Axes>"
      ]
     },
     "metadata": {
      "needs_background": "light"
     },
     "output_type": "display_data"
    }
   ],
   "source": [
    "import seaborn as sns\n",
    "print(\"Confusion Matrix\")\n",
    "print()\n",
    "sns.heatmap(confusion_matrix_ ,annot = True)"
   ]
  },
  {
   "cell_type": "markdown",
   "id": "6aa4db51-c034-4e38-b928-65d4409867cc",
   "metadata": {},
   "source": [
    "## Finetuning the Best Estimator Which is Gradient Boosting"
   ]
  },
  {
   "cell_type": "code",
   "execution_count": 94,
   "id": "33733fe7-2009-4b3e-af36-e03a753a0e7b",
   "metadata": {},
   "outputs": [
    {
     "name": "stdout",
     "output_type": "stream",
     "text": [
      "The time taken to select best parameters for gradientBoosting Classifier using this instance of GridsearchcV is 579.1246547698975\n",
      "Best Hyperparameters: {'classifier__learning_rate': 0.2, 'classifier__max_depth': 7, 'classifier__n_estimators': 200}\n",
      "Test Accuracy: 0.901\n"
     ]
    }
   ],
   "source": [
    "X_train, X_test, y_train, y_test = train_test_split(X, y, test_size=0.2, random_state=42)\n",
    "\n",
    "\n",
    "grid_search_best = GridSearchCV(estimator=pipeline_best, param_grid=param_grids, cv=3, n_jobs=-5)\n",
    "t_start = time.time()\n",
    "grid_search_best.fit(X_train, y_train)\n",
    "t_end = time.time()\n",
    "print(f\"The time taken to select best parameters for gradientBoosting Classifier using this instance of GridsearchcV is {t_end - t_start}\")\n",
    "print(\"Best Hyperparameters:\", grid_search_best.best_params_)\n",
    "accuracy = grid_search.best_estimator_.score(X_test, y_test)\n",
    "print(\"Test Accuracy:\", accuracy)"
   ]
  },
  {
   "cell_type": "code",
   "execution_count": 214,
   "id": "23c92b20-3eac-47d2-b59a-d550277ab250",
   "metadata": {},
   "outputs": [
    {
     "name": "stdout",
     "output_type": "stream",
     "text": [
      "classification report\n",
      "\n",
      "              precision    recall  f1-score   support\n",
      "\n",
      "      benign       0.92      0.95      0.94      6624\n",
      "  defacement       0.89      0.87      0.88      1452\n",
      "     malware       0.94      0.86      0.90       500\n",
      "    phishing       0.78      0.69      0.73      1424\n",
      "\n",
      "    accuracy                           0.90     10000\n",
      "   macro avg       0.88      0.85      0.86     10000\n",
      "weighted avg       0.90      0.90      0.90     10000\n",
      "\n",
      "Confusion Matrix\n",
      "\n"
     ]
    },
    {
     "data": {
      "text/plain": [
       "<AxesSubplot:>"
      ]
     },
     "execution_count": 214,
     "metadata": {},
     "output_type": "execute_result"
    },
    {
     "data": {
      "image/png": "[encoded data removed]",
      "text/plain": [
       "<Figure size 432x288 with 2 Axes>"
      ]
     },
     "metadata": {
      "needs_background": "light"
     },
     "output_type": "display_data"
    }
   ],
   "source": [
    "import seaborn as sns\n",
    "from sklearn.metrics import classification_report, confusion_matrix\n",
    "\n",
    "y_pred = grid_search_best.best_estimator_.predict(X_test)\n",
    "confusion_matrix_ = confusion_matrix(y_test, y_pred)\n",
    "classification_report_ = classification_report(y_test, y_pred)\n",
    "print(\"classification report\")\n",
    "print()\n",
    "print(classification_report_)\n",
    "print(\"Confusion Matrix\")\n",
    "print()\n",
    "sns.heatmap(confusion_matrix_ ,annot = True)"
   ]
  },
  {
   "cell_type": "markdown",
   "id": "4e73572e-6ae3-4418-808f-a69e0cf36fd0",
   "metadata": {},
   "source": [
    "## Deeplearning Model"
   ]
  },
  {
   "cell_type": "code",
   "execution_count": 146,
   "id": "773184b3-3bf3-4896-be29-f20bfd0c2cbe",
   "metadata": {},
   "outputs": [
    {
     "name": "stdout",
     "output_type": "stream",
     "text": [
      "Epoch 1/50\n",
      "1250/1250 [==============================] - 2s 2ms/step - loss: 0.6519 - accuracy: 0.7609\n",
      "Epoch 2/50\n",
      "1250/1250 [==============================] - 2s 2ms/step - loss: 0.4660 - accuracy: 0.8238\n",
      "Epoch 3/50\n",
      "1250/1250 [==============================] - 2s 2ms/step - loss: 0.4209 - accuracy: 0.8403\n",
      "Epoch 4/50\n",
      "1250/1250 [==============================] - 2s 2ms/step - loss: 0.3943 - accuracy: 0.8511\n",
      "Epoch 5/50\n",
      "1250/1250 [==============================] - 2s 2ms/step - loss: 0.3773 - accuracy: 0.8568\n",
      "Epoch 6/50\n",
      "1250/1250 [==============================] - 2s 2ms/step - loss: 0.3642 - accuracy: 0.8619\n",
      "Epoch 7/50\n",
      "1250/1250 [==============================] - 2s 2ms/step - loss: 0.3527 - accuracy: 0.8645\n",
      "Epoch 8/50\n",
      "1250/1250 [==============================] - 3s 2ms/step - loss: 0.3458 - accuracy: 0.8675\n",
      "Epoch 9/50\n",
      "1250/1250 [==============================] - 2s 2ms/step - loss: 0.3350 - accuracy: 0.8717\n",
      "Epoch 10/50\n",
      "1250/1250 [==============================] - 2s 2ms/step - loss: 0.3276 - accuracy: 0.8751\n",
      "Epoch 11/50\n",
      "1250/1250 [==============================] - 2s 2ms/step - loss: 0.3235 - accuracy: 0.8770\n",
      "Epoch 12/50\n",
      "1250/1250 [==============================] - 2s 2ms/step - loss: 0.3165 - accuracy: 0.8802\n",
      "Epoch 13/50\n",
      "1250/1250 [==============================] - 2s 2ms/step - loss: 0.3111 - accuracy: 0.8808\n",
      "Epoch 14/50\n",
      "1250/1250 [==============================] - 2s 2ms/step - loss: 0.3029 - accuracy: 0.8849\n",
      "Epoch 15/50\n",
      "1250/1250 [==============================] - 2s 2ms/step - loss: 0.2999 - accuracy: 0.8867\n",
      "Epoch 16/50\n",
      "1250/1250 [==============================] - 2s 2ms/step - loss: 0.2943 - accuracy: 0.8881\n",
      "Epoch 17/50\n",
      "1250/1250 [==============================] - 2s 2ms/step - loss: 0.2918 - accuracy: 0.8895\n",
      "Epoch 18/50\n",
      "1250/1250 [==============================] - 2s 2ms/step - loss: 0.2872 - accuracy: 0.8903\n",
      "Epoch 19/50\n",
      "1250/1250 [==============================] - 2s 2ms/step - loss: 0.2850 - accuracy: 0.8924\n",
      "Epoch 20/50\n",
      "1250/1250 [==============================] - 2s 2ms/step - loss: 0.2806 - accuracy: 0.8939\n",
      "Epoch 21/50\n",
      "1250/1250 [==============================] - 2s 2ms/step - loss: 0.2751 - accuracy: 0.8949\n",
      "Epoch 22/50\n",
      "1250/1250 [==============================] - 2s 2ms/step - loss: 0.2739 - accuracy: 0.8960\n",
      "Epoch 23/50\n",
      "1250/1250 [==============================] - 2s 2ms/step - loss: 0.2713 - accuracy: 0.8978\n",
      "Epoch 24/50\n",
      "1250/1250 [==============================] - 2s 2ms/step - loss: 0.2673 - accuracy: 0.8992\n",
      "Epoch 25/50\n",
      "1250/1250 [==============================] - 2s 2ms/step - loss: 0.2657 - accuracy: 0.8988\n",
      "Epoch 26/50\n",
      "1250/1250 [==============================] - 2s 1ms/step - loss: 0.2658 - accuracy: 0.8980\n",
      "Epoch 27/50\n",
      "1250/1250 [==============================] - 2s 2ms/step - loss: 0.2609 - accuracy: 0.8996\n",
      "Epoch 28/50\n",
      "1250/1250 [==============================] - 2s 2ms/step - loss: 0.2582 - accuracy: 0.9020\n",
      "Epoch 29/50\n",
      "1250/1250 [==============================] - 2s 2ms/step - loss: 0.2547 - accuracy: 0.9026\n",
      "Epoch 30/50\n",
      "1250/1250 [==============================] - 2s 2ms/step - loss: 0.2513 - accuracy: 0.9052\n",
      "Epoch 31/50\n",
      "1250/1250 [==============================] - 2s 1ms/step - loss: 0.2510 - accuracy: 0.9053\n",
      "Epoch 32/50\n",
      "1250/1250 [==============================] - 2s 2ms/step - loss: 0.2490 - accuracy: 0.9050\n",
      "Epoch 33/50\n",
      "1250/1250 [==============================] - 2s 2ms/step - loss: 0.2485 - accuracy: 0.9055\n",
      "Epoch 34/50\n",
      "1250/1250 [==============================] - 2s 2ms/step - loss: 0.2441 - accuracy: 0.9080\n",
      "Epoch 35/50\n",
      "1250/1250 [==============================] - 2s 2ms/step - loss: 0.2478 - accuracy: 0.9067\n",
      "Epoch 36/50\n",
      "1250/1250 [==============================] - 2s 2ms/step - loss: 0.2450 - accuracy: 0.9077\n",
      "Epoch 37/50\n",
      "1250/1250 [==============================] - 2s 2ms/step - loss: 0.2418 - accuracy: 0.9077\n",
      "Epoch 38/50\n",
      "1250/1250 [==============================] - 2s 2ms/step - loss: 0.2385 - accuracy: 0.9093\n",
      "Epoch 39/50\n",
      "1250/1250 [==============================] - 2s 2ms/step - loss: 0.2364 - accuracy: 0.9092\n",
      "Epoch 40/50\n",
      "1250/1250 [==============================] - 2s 2ms/step - loss: 0.2327 - accuracy: 0.9105\n",
      "Epoch 41/50\n",
      "1250/1250 [==============================] - 2s 2ms/step - loss: 0.2351 - accuracy: 0.9105\n",
      "Epoch 42/50\n",
      "1250/1250 [==============================] - 2s 2ms/step - loss: 0.2330 - accuracy: 0.9105\n",
      "Epoch 43/50\n",
      "1250/1250 [==============================] - 2s 2ms/step - loss: 0.2283 - accuracy: 0.9137\n",
      "Epoch 44/50\n",
      "1250/1250 [==============================] - 2s 2ms/step - loss: 0.2261 - accuracy: 0.9126\n",
      "Epoch 45/50\n",
      "1250/1250 [==============================] - 2s 2ms/step - loss: 0.2266 - accuracy: 0.9141\n",
      "Epoch 46/50\n",
      "1250/1250 [==============================] - 2s 2ms/step - loss: 0.2239 - accuracy: 0.9151\n",
      "Epoch 47/50\n",
      "1250/1250 [==============================] - 2s 2ms/step - loss: 0.2228 - accuracy: 0.9149\n",
      "Epoch 48/50\n",
      "1250/1250 [==============================] - 2s 2ms/step - loss: 0.2208 - accuracy: 0.9156\n",
      "Epoch 49/50\n",
      "1250/1250 [==============================] - 2s 2ms/step - loss: 0.2184 - accuracy: 0.9153\n",
      "Epoch 50/50\n",
      "1250/1250 [==============================] - 2s 2ms/step - loss: 0.2172 - accuracy: 0.9159\n",
      "Evaluate on test data\n",
      "79/79 [==============================] - 0s 2ms/step - loss: 0.3239 - accuracy: 0.8894\n",
      "test loss, test acc: [0.32392022013664246, 0.8894000053405762]\n",
      "\n",
      "\n",
      "              precision    recall  f1-score   support\n",
      "\n",
      "           0       0.91      0.95      0.93      6624\n",
      "           1       0.90      0.84      0.87      1452\n",
      "           2       0.76      0.71      0.73      1424\n",
      "           3       0.94      0.69      0.80       500\n",
      "\n",
      "    accuracy                           0.89     10000\n",
      "   macro avg       0.88      0.80      0.83     10000\n",
      "weighted avg       0.89      0.89      0.89     10000\n",
      "\n"
     ]
    },
    {
     "data": {
      "image/png": "[encoded data removed]",
      "text/plain": [
       "<Figure size 432x288 with 1 Axes>"
      ]
     },
     "metadata": {
      "needs_background": "light"
     },
     "output_type": "display_data"
    },
    {
     "data": {
      "image/png": "[encoded data removed]",
      "text/plain": [
       "<Figure size 576x432 with 2 Axes>"
      ]
     },
     "metadata": {
      "needs_background": "light"
     },
     "output_type": "display_data"
    }
   ],
   "source": [
    "sample_without_replacement_dp_model = tensorflow_model(data_random_sample_without_replacement)"
   ]
  },
  {
   "cell_type": "markdown",
   "id": "4506ec2c-b6be-41a5-a7b6-ea4a6f2d337b",
   "metadata": {},
   "source": [
    "# Weighted Sampling"
   ]
  },
  {
   "cell_type": "markdown",
   "id": "089d5321-9b7f-4196-a6b1-cb446f0a0cac",
   "metadata": {},
   "source": [
    "## Creating Dataset"
   ]
  },
  {
   "cell_type": "code",
   "execution_count": 192,
   "id": "46cb0f1f-7653-4f1b-9759-a641c0e5539b",
   "metadata": {},
   "outputs": [],
   "source": [
    "data_weighted_sampling = data.copy(deep = True)"
   ]
  },
  {
   "cell_type": "code",
   "execution_count": 193,
   "id": "ce0aa827-14f9-4356-ab5b-65ee4c38915f",
   "metadata": {},
   "outputs": [],
   "source": [
    "weights = data_weighted_sampling[\"type\"].value_counts().to_dict()"
   ]
  },
  {
   "cell_type": "code",
   "execution_count": 194,
   "id": "18110f5d-4580-4242-800f-741a86589590",
   "metadata": {},
   "outputs": [
    {
     "data": {
      "text/plain": [
       "{'benign': 428103, 'defacement': 96457, 'phishing': 94111, 'malware': 32520}"
      ]
     },
     "execution_count": 194,
     "metadata": {},
     "output_type": "execute_result"
    }
   ],
   "source": [
    "weights"
   ]
  },
  {
   "cell_type": "code",
   "execution_count": 195,
   "id": "8564952a-5252-4759-a41b-5ad39e723748",
   "metadata": {},
   "outputs": [],
   "source": [
    "one_hot_encoded_data = pd.get_dummies(data_weighted_sampling['domain_name'], drop_first = True)\n",
    "data_weighted_sampling.drop('domain_name',inplace = True, axis = 1)\n",
    "data_weighted_sampling = pd.concat([data_weighted_sampling,one_hot_encoded_data], axis = 1)"
   ]
  },
  {
   "cell_type": "code",
   "execution_count": 196,
   "id": "ec6f40db-e4cf-45be-a9b9-03e614f8b3e6",
   "metadata": {},
   "outputs": [],
   "source": [
    "data_weighted_sampling['weights'] = data_weighted_sampling['type'].map(weights)\n",
    "data_weighted_sampling = data_weighted_sampling.sample(n=50000, weights='weights')"
   ]
  },
  {
   "cell_type": "code",
   "execution_count": 197,
   "id": "a641f17b-a6f0-4eaa-95e9-34ed3c6ff428",
   "metadata": {},
   "outputs": [
    {
     "data": {
      "text/plain": [
       "benign        44988\n",
       "defacement     2459\n",
       "phishing       2270\n",
       "malware         283\n",
       "Name: type, dtype: int64"
      ]
     },
     "execution_count": 197,
     "metadata": {},
     "output_type": "execute_result"
    }
   ],
   "source": [
    "data_weighted_sampling[\"type\"].value_counts()"
   ]
  },
  {
   "cell_type": "code",
   "execution_count": 198,
   "id": "fcd2d578-33be-4d84-be8a-b40de60b6c38",
   "metadata": {},
   "outputs": [],
   "source": [
    "X = data_weighted_sampling.drop([\"url\",\"type\"], axis = 1)\n",
    "y = data_weighted_sampling[\"type\"]"
   ]
  },
  {
   "cell_type": "code",
   "execution_count": 199,
   "id": "3fa5db06-df16-451a-b50f-a47f1d7f99cf",
   "metadata": {},
   "outputs": [],
   "source": [
    "X_train, X_test, y_train, y_test = train_test_split(X, y, test_size=0.2, random_state=42)"
   ]
  },
  {
   "cell_type": "markdown",
   "id": "cb68f8b0-fa9c-4779-a38e-f10b5b4857c8",
   "metadata": {},
   "source": [
    "## Pipeline to Find bestestimator among svm,logreg and gradient boosting"
   ]
  },
  {
   "cell_type": "code",
   "execution_count": 105,
   "id": "93449733-d319-490d-aad3-3270ffde1141",
   "metadata": {},
   "outputs": [
    {
     "name": "stdout",
     "output_type": "stream",
     "text": [
      "Best Hyperparameters: {'classifier__learning_rate': 0.01, 'classifier__max_depth': 3, 'classifier__n_estimators': 50}\n",
      "Best Estimator: Pipeline(steps=[('std', MinMaxScaler()),\n",
      "                ('classifier',\n",
      "                 GradientBoostingClassifier(learning_rate=0.01,\n",
      "                                            n_estimators=50))])\n",
      "The time taken to select best estimator using this instance of GridsearchcV is 177.8593671321869\n",
      "Test Accuracy: 1.0\n"
     ]
    }
   ],
   "source": [
    "grid_search_w = GridSearchCV(estimator=pipeline, param_grid=param_grids, cv=3, n_jobs = -5)\n",
    "t_start = time.time()\n",
    "grid_search_w.fit(X_train, y_train)\n",
    "t_end = time.time()\n",
    "\n",
    "print(\"Best Hyperparameters:\", grid_search_w.best_params_)\n",
    "print(\"Best Estimator:\", grid_search_w.best_estimator_)\n",
    "print(f\"The time taken to select best estimator using this instance of GridsearchcV is {t_end - t_start}\")\n",
    "accuracy = grid_search_w.best_estimator_.score(X_test, y_test)\n",
    "print(\"Test Accuracy:\", accuracy)"
   ]
  },
  {
   "cell_type": "code",
   "execution_count": 201,
   "id": "0ebdbb35-c941-4227-8879-0ff3bbcf2224",
   "metadata": {},
   "outputs": [
    {
     "name": "stdout",
     "output_type": "stream",
     "text": [
      "classification report\n",
      "\n",
      "              precision    recall  f1-score   support\n",
      "\n",
      "      benign       1.00      1.00      1.00      9020\n",
      "  defacement       1.00      1.00      1.00       459\n",
      "     malware       1.00      1.00      1.00        51\n",
      "    phishing       1.00      1.00      1.00       470\n",
      "\n",
      "    accuracy                           1.00     10000\n",
      "   macro avg       1.00      1.00      1.00     10000\n",
      "weighted avg       1.00      1.00      1.00     10000\n",
      "\n"
     ]
    }
   ],
   "source": [
    "from sklearn.metrics import classification_report, confusion_matrix\n",
    "\n",
    "y_pred = grid_search_w.best_estimator_.predict(X_test)\n",
    "confusion_matrix_ = confusion_matrix(y_test, y_pred)\n",
    "classification_report_ = classification_report(y_test, y_pred)\n",
    "print(\"classification report\")\n",
    "print()\n",
    "print(classification_report_)"
   ]
  },
  {
   "cell_type": "code",
   "execution_count": 202,
   "id": "685cfe38-1c72-46a8-ac90-25e4d012faa0",
   "metadata": {},
   "outputs": [
    {
     "name": "stdout",
     "output_type": "stream",
     "text": [
      "Confusion Matrix\n",
      "\n"
     ]
    },
    {
     "data": {
      "text/plain": [
       "<AxesSubplot:>"
      ]
     },
     "execution_count": 202,
     "metadata": {},
     "output_type": "execute_result"
    },
    {
     "data": {
      "image/png": "[encoded data removed]",
      "text/plain": [
       "<Figure size 432x288 with 2 Axes>"
      ]
     },
     "metadata": {
      "needs_background": "light"
     },
     "output_type": "display_data"
    }
   ],
   "source": [
    "import seaborn as sns\n",
    "print(\"Confusion Matrix\")\n",
    "print()\n",
    "sns.heatmap(confusion_matrix_ ,annot = True)"
   ]
  },
  {
   "cell_type": "markdown",
   "id": "4d993c90-90e5-48b6-9d6c-c23805dab932",
   "metadata": {},
   "source": [
    "## Finetuning the Best Estimator Which is Gradient Boosting"
   ]
  },
  {
   "cell_type": "code",
   "execution_count": 108,
   "id": "66bea41d-e846-447f-a5f1-298464f1e79e",
   "metadata": {},
   "outputs": [
    {
     "name": "stdout",
     "output_type": "stream",
     "text": [
      "The time taken to select best parameters for gradientBoosting Classifier using this instance of GridsearchcV is 172.68649172782898\n",
      "Best Hyperparameters: {'classifier__learning_rate': 0.01, 'classifier__max_depth': 3, 'classifier__n_estimators': 50}\n",
      "Test Accuracy: 1.0\n"
     ]
    }
   ],
   "source": [
    "grid_search_best_w = GridSearchCV(estimator=pipeline_best, param_grid=param_grids, cv=3, n_jobs=-5)\n",
    "t_start = time.time()\n",
    "grid_search_best_w.fit(X_train, y_train)\n",
    "t_end = time.time()\n",
    "print(f\"The time taken to select best parameters for gradientBoosting Classifier using this instance of GridsearchcV is {t_end - t_start}\")\n",
    "print(\"Best Hyperparameters:\", grid_search_best_w.best_params_)\n",
    "accuracy = grid_search_best_w.best_estimator_.score(X_test, y_test)\n",
    "print(\"Test Accuracy:\", accuracy)"
   ]
  },
  {
   "cell_type": "code",
   "execution_count": 203,
   "id": "2c477456-7fd5-464c-87df-5460da936e28",
   "metadata": {},
   "outputs": [
    {
     "name": "stdout",
     "output_type": "stream",
     "text": [
      "classification report\n",
      "\n",
      "              precision    recall  f1-score   support\n",
      "\n",
      "      benign       1.00      1.00      1.00      9020\n",
      "  defacement       1.00      1.00      1.00       459\n",
      "     malware       1.00      1.00      1.00        51\n",
      "    phishing       1.00      1.00      1.00       470\n",
      "\n",
      "    accuracy                           1.00     10000\n",
      "   macro avg       1.00      1.00      1.00     10000\n",
      "weighted avg       1.00      1.00      1.00     10000\n",
      "\n",
      "Confusion Matrix\n",
      "\n"
     ]
    },
    {
     "data": {
      "text/plain": [
       "<AxesSubplot:>"
      ]
     },
     "execution_count": 203,
     "metadata": {},
     "output_type": "execute_result"
    },
    {
     "data": {
      "image/png": "[encoded data removed]",
      "text/plain": [
       "<Figure size 432x288 with 2 Axes>"
      ]
     },
     "metadata": {
      "needs_background": "light"
     },
     "output_type": "display_data"
    }
   ],
   "source": [
    "import seaborn as sns\n",
    "from sklearn.metrics import classification_report, confusion_matrix\n",
    "\n",
    "y_pred = grid_search_best_w.best_estimator_.predict(X_test)\n",
    "confusion_matrix_ = confusion_matrix(y_test, y_pred)\n",
    "classification_report_ = classification_report(y_test, y_pred)\n",
    "print(\"classification report\")\n",
    "print()\n",
    "print(classification_report_)\n",
    "print(\"Confusion Matrix\")\n",
    "print()\n",
    "sns.heatmap(confusion_matrix_ ,annot = True)"
   ]
  },
  {
   "cell_type": "markdown",
   "id": "bc934347-771e-4e0f-afe0-059be7b8883d",
   "metadata": {},
   "source": [
    "## Deeplearning Model"
   ]
  },
  {
   "cell_type": "code",
   "execution_count": 151,
   "id": "9fbeed98-ae8e-44b9-8410-e2398991fb88",
   "metadata": {},
   "outputs": [
    {
     "name": "stdout",
     "output_type": "stream",
     "text": [
      "Epoch 1/50\n",
      "1250/1250 [==============================] - 2s 2ms/step - loss: 137.6842 - accuracy: 0.8747\n",
      "Epoch 2/50\n",
      "1250/1250 [==============================] - 2s 2ms/step - loss: 5.9862 - accuracy: 0.9291\n",
      "Epoch 3/50\n",
      "1250/1250 [==============================] - 2s 2ms/step - loss: 0.0778 - accuracy: 0.9650\n",
      "Epoch 4/50\n",
      "1250/1250 [==============================] - 2s 2ms/step - loss: 0.0728 - accuracy: 0.9660\n",
      "Epoch 5/50\n",
      "1250/1250 [==============================] - 2s 1ms/step - loss: 0.0742 - accuracy: 0.9594\n",
      "Epoch 6/50\n",
      "1250/1250 [==============================] - 2s 2ms/step - loss: 0.0732 - accuracy: 0.9572\n",
      "Epoch 7/50\n",
      "1250/1250 [==============================] - 2s 2ms/step - loss: 0.0729 - accuracy: 0.9571\n",
      "Epoch 8/50\n",
      "1250/1250 [==============================] - 2s 1ms/step - loss: 0.0750 - accuracy: 0.9550\n",
      "Epoch 9/50\n",
      "1250/1250 [==============================] - 2s 2ms/step - loss: 54.7630 - accuracy: 0.9052\n",
      "Epoch 10/50\n",
      "1250/1250 [==============================] - 2s 2ms/step - loss: 5.5161 - accuracy: 0.9307\n",
      "Epoch 11/50\n",
      "1250/1250 [==============================] - 2s 2ms/step - loss: 0.3872 - accuracy: 0.9417\n",
      "Epoch 12/50\n",
      "1250/1250 [==============================] - 2s 2ms/step - loss: 0.0961 - accuracy: 0.9518\n",
      "Epoch 13/50\n",
      "1250/1250 [==============================] - 2s 2ms/step - loss: 0.4150 - accuracy: 0.9558\n",
      "Epoch 14/50\n",
      "1250/1250 [==============================] - 2s 2ms/step - loss: 0.0687 - accuracy: 0.9564\n",
      "Epoch 15/50\n",
      "1250/1250 [==============================] - 2s 2ms/step - loss: 0.1249 - accuracy: 0.9544\n",
      "Epoch 16/50\n",
      "1250/1250 [==============================] - 2s 2ms/step - loss: 7.8529 - accuracy: 0.9354\n",
      "Epoch 17/50\n",
      "1250/1250 [==============================] - 2s 2ms/step - loss: 0.0590 - accuracy: 0.9704\n",
      "Epoch 18/50\n",
      "1250/1250 [==============================] - 2s 2ms/step - loss: 0.0596 - accuracy: 0.9692\n",
      "Epoch 19/50\n",
      "1250/1250 [==============================] - 2s 2ms/step - loss: 0.0589 - accuracy: 0.9696\n",
      "Epoch 20/50\n",
      "1250/1250 [==============================] - 2s 2ms/step - loss: 0.0596 - accuracy: 0.9686\n",
      "Epoch 21/50\n",
      "1250/1250 [==============================] - 2s 2ms/step - loss: 0.0585 - accuracy: 0.9688\n",
      "Epoch 22/50\n",
      "1250/1250 [==============================] - 2s 2ms/step - loss: 0.0596 - accuracy: 0.9683\n",
      "Epoch 23/50\n",
      "1250/1250 [==============================] - 2s 2ms/step - loss: 0.3514 - accuracy: 0.9139\n",
      "Epoch 24/50\n",
      "1250/1250 [==============================] - 2s 2ms/step - loss: 0.4128 - accuracy: 0.9001\n",
      "Epoch 25/50\n",
      "1250/1250 [==============================] - 2s 2ms/step - loss: 0.4130 - accuracy: 0.9001\n",
      "Epoch 26/50\n",
      "1250/1250 [==============================] - 2s 2ms/step - loss: 0.4131 - accuracy: 0.9001\n",
      "Epoch 27/50\n",
      "1250/1250 [==============================] - 2s 2ms/step - loss: 0.4131 - accuracy: 0.9001\n",
      "Epoch 28/50\n",
      "1250/1250 [==============================] - 2s 2ms/step - loss: 0.4132 - accuracy: 0.9001\n",
      "Epoch 29/50\n",
      "1250/1250 [==============================] - 2s 2ms/step - loss: 0.4134 - accuracy: 0.9001\n",
      "Epoch 30/50\n",
      "1250/1250 [==============================] - 2s 2ms/step - loss: 0.4136 - accuracy: 0.9001\n",
      "Epoch 31/50\n",
      "1250/1250 [==============================] - 2s 2ms/step - loss: 0.4132 - accuracy: 0.9001\n",
      "Epoch 32/50\n",
      "1250/1250 [==============================] - 2s 2ms/step - loss: 0.4130 - accuracy: 0.9001\n",
      "Epoch 33/50\n",
      "1250/1250 [==============================] - 2s 2ms/step - loss: 0.4129 - accuracy: 0.9001\n",
      "Epoch 34/50\n",
      "1250/1250 [==============================] - 2s 2ms/step - loss: 0.4131 - accuracy: 0.9001\n",
      "Epoch 35/50\n",
      "1250/1250 [==============================] - 2s 2ms/step - loss: 0.4132 - accuracy: 0.9001\n",
      "Epoch 36/50\n",
      "1250/1250 [==============================] - 2s 2ms/step - loss: 0.4131 - accuracy: 0.9001\n",
      "Epoch 37/50\n",
      "1250/1250 [==============================] - 2s 2ms/step - loss: 0.4128 - accuracy: 0.9001\n",
      "Epoch 38/50\n",
      "1250/1250 [==============================] - 2s 2ms/step - loss: 0.4129 - accuracy: 0.9001\n",
      "Epoch 39/50\n",
      "1250/1250 [==============================] - 2s 2ms/step - loss: 0.4133 - accuracy: 0.9001\n",
      "Epoch 40/50\n",
      "1250/1250 [==============================] - 2s 2ms/step - loss: 0.4128 - accuracy: 0.9001\n",
      "Epoch 41/50\n",
      "1250/1250 [==============================] - 2s 2ms/step - loss: 0.4132 - accuracy: 0.9001\n",
      "Epoch 42/50\n",
      "1250/1250 [==============================] - 2s 2ms/step - loss: 0.4128 - accuracy: 0.9001\n",
      "Epoch 43/50\n",
      "1250/1250 [==============================] - 2s 2ms/step - loss: 0.4128 - accuracy: 0.9001\n",
      "Epoch 44/50\n",
      "1250/1250 [==============================] - 2s 2ms/step - loss: 0.4128 - accuracy: 0.9001\n",
      "Epoch 45/50\n",
      "1250/1250 [==============================] - 2s 2ms/step - loss: 0.4129 - accuracy: 0.9001\n",
      "Epoch 46/50\n",
      "1250/1250 [==============================] - 2s 1ms/step - loss: 0.4129 - accuracy: 0.9001\n",
      "Epoch 47/50\n",
      "1250/1250 [==============================] - 2s 2ms/step - loss: 0.4129 - accuracy: 0.9001\n",
      "Epoch 48/50\n",
      "1250/1250 [==============================] - 2s 2ms/step - loss: 0.4126 - accuracy: 0.9001\n",
      "Epoch 49/50\n",
      "1250/1250 [==============================] - 2s 2ms/step - loss: 0.4126 - accuracy: 0.9001\n",
      "Epoch 50/50\n",
      "1250/1250 [==============================] - 2s 2ms/step - loss: 0.4127 - accuracy: 0.9001\n",
      "Evaluate on test data\n",
      "79/79 [==============================] - 0s 2ms/step - loss: 0.4072 - accuracy: 0.9021\n",
      "test loss, test acc: [0.4071938395500183, 0.9021000266075134]\n",
      "\n",
      "\n",
      "              precision    recall  f1-score   support\n",
      "\n",
      "           0       0.90      1.00      0.95      9021\n",
      "           1       1.00      0.00      0.00       477\n",
      "           2       1.00      0.00      0.00       450\n",
      "           3       1.00      0.00      0.00        52\n",
      "\n",
      "    accuracy                           0.90     10000\n",
      "   macro avg       0.98      0.25      0.24     10000\n",
      "weighted avg       0.91      0.90      0.86     10000\n",
      "\n"
     ]
    },
    {
     "data": {
      "image/png": "[encoded data removed]",
      "text/plain": [
       "<Figure size 432x288 with 1 Axes>"
      ]
     },
     "metadata": {
      "needs_background": "light"
     },
     "output_type": "display_data"
    },
    {
     "data": {
      "image/png": "[encoded data removed]",
      "text/plain": [
       "<Figure size 576x432 with 2 Axes>"
      ]
     },
     "metadata": {
      "needs_background": "light"
     },
     "output_type": "display_data"
    }
   ],
   "source": [
    "weighted_sampling_dp_model = tensorflow_model(data_weighted_sampling)"
   ]
  },
  {
   "cell_type": "markdown",
   "id": "9ba75cf7-72e9-42d4-bcec-1e582661f4f8",
   "metadata": {},
   "source": [
    "# Sample with replacement"
   ]
  },
  {
   "cell_type": "markdown",
   "id": "c00cd352-abd1-4cb7-b6be-2968324abc5f",
   "metadata": {},
   "source": [
    "## Creating Dataset"
   ]
  },
  {
   "cell_type": "code",
   "execution_count": 65,
   "id": "e2799609-5793-4447-a8fd-718774eab0bc",
   "metadata": {},
   "outputs": [],
   "source": [
    "data_random_sample_w_replacement =  data.copy(deep = True)"
   ]
  },
  {
   "cell_type": "code",
   "execution_count": 66,
   "id": "0c9cf308-933f-4eff-8afd-a80dd3909dc0",
   "metadata": {},
   "outputs": [],
   "source": [
    "one_hot_encoded_data = pd.get_dummies(data_random_sample_w_replacement['domain_name'], drop_first = True)\n",
    "data_random_sample_w_replacement.drop('domain_name',inplace = True, axis = 1)\n",
    "data_random_sample_w_replacement = pd.concat([data_random_sample_w_replacement,one_hot_encoded_data], axis = 1)"
   ]
  },
  {
   "cell_type": "code",
   "execution_count": 67,
   "id": "21065ed4-31d0-4533-9fe4-886c7e0b6eb5",
   "metadata": {},
   "outputs": [],
   "source": [
    "data_random_sample_w_replacement = data_random_sample_w_replacement.sample(n = 50000, random_state = 42, replace = True)"
   ]
  },
  {
   "cell_type": "code",
   "execution_count": 68,
   "id": "4c441931-3418-4055-8fae-697d2ccaab70",
   "metadata": {},
   "outputs": [],
   "source": [
    "X = data_random_sample_w_replacement.drop([\"url\",\"type\"], axis = 1)\n",
    "y = data_random_sample_w_replacement[\"type\"]"
   ]
  },
  {
   "cell_type": "code",
   "execution_count": 69,
   "id": "90f5ae45-e526-41ee-a591-690c90da5225",
   "metadata": {},
   "outputs": [],
   "source": [
    "X_train, X_test, y_train, y_test = train_test_split(X, y, test_size=0.2, random_state=42)"
   ]
  },
  {
   "cell_type": "markdown",
   "id": "911b356e-eafc-4ba9-8d57-57dfec8e1fd4",
   "metadata": {},
   "source": [
    "## Pipeline to Find bestestimator among svm,logreg and gradient boosting"
   ]
  },
  {
   "cell_type": "code",
   "execution_count": 70,
   "id": "65ae5156-9254-442d-a618-bcfd4092ae04",
   "metadata": {},
   "outputs": [
    {
     "name": "stdout",
     "output_type": "stream",
     "text": [
      "Best Hyperparameters: {'classifier__learning_rate': 0.2, 'classifier__max_depth': 7, 'classifier__n_estimators': 200}\n",
      "Best Estimator: Pipeline(steps=[('std', MinMaxScaler()),\n",
      "                ('classifier',\n",
      "                 GradientBoostingClassifier(learning_rate=0.2, max_depth=7,\n",
      "                                            n_estimators=200))])\n",
      "The time taken to select best estimator using this instance of GridsearchcV is 562.1651005744934\n",
      "Test Accuracy: 0.9059\n"
     ]
    }
   ],
   "source": [
    "grid_search_w_replacement = GridSearchCV(estimator=pipeline, param_grid=param_grids, cv=3, n_jobs = -5)\n",
    "t_start = time.time()\n",
    "grid_search_w_replacement.fit(X_train, y_train)\n",
    "t_end = time.time()\n",
    "\n",
    "print(\"Best Hyperparameters:\", grid_search_w_replacement.best_params_)\n",
    "print(\"Best Estimator:\", grid_search_w_replacement.best_estimator_)\n",
    "print(f\"The time taken to select best estimator using this instance of GridsearchcV is {t_end - t_start}\")\n",
    "accuracy = grid_search_w_replacement.best_estimator_.score(X_test, y_test)\n",
    "print(\"Test Accuracy:\", accuracy)"
   ]
  },
  {
   "cell_type": "code",
   "execution_count": 189,
   "id": "ba088e3d-33ac-4d0e-ae01-ed26f19f98b3",
   "metadata": {},
   "outputs": [
    {
     "name": "stdout",
     "output_type": "stream",
     "text": [
      "classification report\n",
      "\n",
      "              precision    recall  f1-score   support\n",
      "\n",
      "      benign       0.71      0.96      0.81      2510\n",
      "  defacement       0.93      0.87      0.90      2512\n",
      "     malware       0.98      0.89      0.93      2545\n",
      "    phishing       0.88      0.71      0.78      2433\n",
      "\n",
      "    accuracy                           0.86     10000\n",
      "   macro avg       0.88      0.86      0.86     10000\n",
      "weighted avg       0.88      0.86      0.86     10000\n",
      "\n",
      "Confusion Matrix\n",
      "\n"
     ]
    },
    {
     "data": {
      "text/plain": [
       "<AxesSubplot:>"
      ]
     },
     "execution_count": 189,
     "metadata": {},
     "output_type": "execute_result"
    },
    {
     "data": {
      "image/png": "[encoded data removed]",
      "text/plain": [
       "<Figure size 432x288 with 2 Axes>"
      ]
     },
     "metadata": {
      "needs_background": "light"
     },
     "output_type": "display_data"
    }
   ],
   "source": [
    "from sklearn.metrics import classification_report, confusion_matrix\n",
    "import seaborn as sns\n",
    "\n",
    "y_pred = grid_search_w_replacement.best_estimator_.predict(X_test)\n",
    "confusion_matrix_ = confusion_matrix(y_test, y_pred)\n",
    "classification_report_ = classification_report(y_test, y_pred)\n",
    "print(\"classification report\")\n",
    "print()\n",
    "print(classification_report_)\n",
    "print(\"Confusion Matrix\")\n",
    "print()\n",
    "sns.heatmap(confusion_matrix_ ,annot = True)"
   ]
  },
  {
   "cell_type": "markdown",
   "id": "f1cc7d52-c0c5-4809-bf1d-3aa1a6d5b56b",
   "metadata": {},
   "source": [
    "## Finetuning the Best Estimator Which is Gradient Boosting"
   ]
  },
  {
   "cell_type": "code",
   "execution_count": 72,
   "id": "6bfbebb1-c6f3-457c-b3b9-26d44d764d86",
   "metadata": {},
   "outputs": [
    {
     "name": "stdout",
     "output_type": "stream",
     "text": [
      "The time taken to select best parameters for gradientBoosting Classifier using this instance of GridsearchcV is 556.7378458976746\n",
      "Best Hyperparameters: {'classifier__learning_rate': 0.2, 'classifier__max_depth': 7, 'classifier__n_estimators': 200}\n",
      "Test Accuracy: 0.9092\n"
     ]
    }
   ],
   "source": [
    "grid_search_best_w_replacement = GridSearchCV(estimator=pipeline_best, param_grid=param_grids, cv=3, n_jobs=-5)\n",
    "t_start = time.time()\n",
    "grid_search_best_w_replacement.fit(X_train, y_train)\n",
    "t_end = time.time()\n",
    "print(f\"The time taken to select best parameters for gradientBoosting Classifier using this instance of GridsearchcV is {t_end - t_start}\")\n",
    "print(\"Best Hyperparameters:\", grid_search_best_w_replacement .best_params_)\n",
    "accuracy = grid_search_best_w_replacement.best_estimator_.score(X_test, y_test)\n",
    "print(\"Test Accuracy:\", accuracy)"
   ]
  },
  {
   "cell_type": "code",
   "execution_count": 190,
   "id": "611fbfa2-990e-4561-8a97-36faf4563757",
   "metadata": {},
   "outputs": [
    {
     "name": "stdout",
     "output_type": "stream",
     "text": [
      "classification report\n",
      "\n",
      "              precision    recall  f1-score   support\n",
      "\n",
      "      benign       0.71      0.96      0.82      2510\n",
      "  defacement       0.93      0.87      0.90      2512\n",
      "     malware       0.98      0.88      0.93      2545\n",
      "    phishing       0.87      0.71      0.78      2433\n",
      "\n",
      "    accuracy                           0.86     10000\n",
      "   macro avg       0.87      0.86      0.86     10000\n",
      "weighted avg       0.87      0.86      0.86     10000\n",
      "\n",
      "Confusion Matrix\n",
      "\n"
     ]
    },
    {
     "data": {
      "text/plain": [
       "<AxesSubplot:>"
      ]
     },
     "execution_count": 190,
     "metadata": {},
     "output_type": "execute_result"
    },
    {
     "data": {
      "image/png": "[encoded data removed]",
      "text/plain": [
       "<Figure size 432x288 with 2 Axes>"
      ]
     },
     "metadata": {
      "needs_background": "light"
     },
     "output_type": "display_data"
    }
   ],
   "source": [
    "import seaborn as sns\n",
    "from sklearn.metrics import classification_report, confusion_matrix\n",
    "\n",
    "y_pred = grid_search_best_w_replacement.best_estimator_.predict(X_test)\n",
    "confusion_matrix_ = confusion_matrix(y_test, y_pred)\n",
    "classification_report_ = classification_report(y_test, y_pred)\n",
    "print(\"classification report\")\n",
    "print()\n",
    "print(classification_report_)\n",
    "print(\"Confusion Matrix\")\n",
    "print()\n",
    "sns.heatmap(confusion_matrix_ ,annot = True)"
   ]
  },
  {
   "cell_type": "markdown",
   "id": "31aa6345-62ab-448e-b6f4-156838cb04e5",
   "metadata": {},
   "source": [
    "## Deeplearning Model"
   ]
  },
  {
   "cell_type": "code",
   "execution_count": 154,
   "id": "085b61b6-344d-40cd-b417-e9f00a123926",
   "metadata": {},
   "outputs": [
    {
     "name": "stdout",
     "output_type": "stream",
     "text": [
      "Epoch 1/50\n",
      "1250/1250 [==============================] - 2s 2ms/step - loss: 0.6545 - accuracy: 0.7572\n",
      "Epoch 2/50\n",
      "1250/1250 [==============================] - 2s 2ms/step - loss: 0.4774 - accuracy: 0.8177\n",
      "Epoch 3/50\n",
      "1250/1250 [==============================] - 2s 2ms/step - loss: 0.4232 - accuracy: 0.8384\n",
      "Epoch 4/50\n",
      "1250/1250 [==============================] - 2s 2ms/step - loss: 0.3952 - accuracy: 0.8467\n",
      "Epoch 5/50\n",
      "1250/1250 [==============================] - 2s 2ms/step - loss: 0.3827 - accuracy: 0.8525\n",
      "Epoch 6/50\n",
      "1250/1250 [==============================] - 2s 2ms/step - loss: 0.3698 - accuracy: 0.8564\n",
      "Epoch 7/50\n",
      "1250/1250 [==============================] - 2s 2ms/step - loss: 0.3632 - accuracy: 0.8597\n",
      "Epoch 8/50\n",
      "1250/1250 [==============================] - 2s 2ms/step - loss: 0.3498 - accuracy: 0.8646\n",
      "Epoch 9/50\n",
      "1250/1250 [==============================] - 2s 2ms/step - loss: 0.3456 - accuracy: 0.8659\n",
      "Epoch 10/50\n",
      "1250/1250 [==============================] - 2s 1ms/step - loss: 0.3335 - accuracy: 0.8719\n",
      "Epoch 11/50\n",
      "1250/1250 [==============================] - 2s 2ms/step - loss: 0.3269 - accuracy: 0.8740\n",
      "Epoch 12/50\n",
      "1250/1250 [==============================] - 2s 2ms/step - loss: 0.3229 - accuracy: 0.8762\n",
      "Epoch 13/50\n",
      "1250/1250 [==============================] - 2s 2ms/step - loss: 0.3135 - accuracy: 0.8797\n",
      "Epoch 14/50\n",
      "1250/1250 [==============================] - 2s 2ms/step - loss: 0.3075 - accuracy: 0.8823\n",
      "Epoch 15/50\n",
      "1250/1250 [==============================] - 2s 1ms/step - loss: 0.3096 - accuracy: 0.8806\n",
      "Epoch 16/50\n",
      "1250/1250 [==============================] - 2s 1ms/step - loss: 0.3025 - accuracy: 0.8849\n",
      "Epoch 17/50\n",
      "1250/1250 [==============================] - 2s 2ms/step - loss: 0.2957 - accuracy: 0.8874\n",
      "Epoch 18/50\n",
      "1250/1250 [==============================] - 2s 2ms/step - loss: 0.2914 - accuracy: 0.8888\n",
      "Epoch 19/50\n",
      "1250/1250 [==============================] - 2s 2ms/step - loss: 0.2905 - accuracy: 0.8882\n",
      "Epoch 20/50\n",
      "1250/1250 [==============================] - 2s 1ms/step - loss: 0.2866 - accuracy: 0.8887\n",
      "Epoch 21/50\n",
      "1250/1250 [==============================] - 2s 1ms/step - loss: 0.2824 - accuracy: 0.8924\n",
      "Epoch 22/50\n",
      "1250/1250 [==============================] - 2s 2ms/step - loss: 0.2761 - accuracy: 0.8946\n",
      "Epoch 23/50\n",
      "1250/1250 [==============================] - 2s 2ms/step - loss: 0.2749 - accuracy: 0.8945\n",
      "Epoch 24/50\n",
      "1250/1250 [==============================] - 2s 2ms/step - loss: 0.2746 - accuracy: 0.8949\n",
      "Epoch 25/50\n",
      "1250/1250 [==============================] - 2s 2ms/step - loss: 0.2696 - accuracy: 0.8972\n",
      "Epoch 26/50\n",
      "1250/1250 [==============================] - 2s 2ms/step - loss: 0.2662 - accuracy: 0.8966\n",
      "Epoch 27/50\n",
      "1250/1250 [==============================] - 2s 2ms/step - loss: 0.2655 - accuracy: 0.8994\n",
      "Epoch 28/50\n",
      "1250/1250 [==============================] - 2s 2ms/step - loss: 0.2601 - accuracy: 0.8997\n",
      "Epoch 29/50\n",
      "1250/1250 [==============================] - 2s 2ms/step - loss: 0.2598 - accuracy: 0.8986\n",
      "Epoch 30/50\n",
      "1250/1250 [==============================] - 2s 2ms/step - loss: 0.2566 - accuracy: 0.9008\n",
      "Epoch 31/50\n",
      "1250/1250 [==============================] - 2s 1ms/step - loss: 0.2555 - accuracy: 0.9007\n",
      "Epoch 32/50\n",
      "1250/1250 [==============================] - 2s 2ms/step - loss: 0.2500 - accuracy: 0.9038\n",
      "Epoch 33/50\n",
      "1250/1250 [==============================] - 2s 2ms/step - loss: 0.2494 - accuracy: 0.9034\n",
      "Epoch 34/50\n",
      "1250/1250 [==============================] - 2s 2ms/step - loss: 0.2456 - accuracy: 0.9054\n",
      "Epoch 35/50\n",
      "1250/1250 [==============================] - 2s 2ms/step - loss: 0.2466 - accuracy: 0.9051\n",
      "Epoch 36/50\n",
      "1250/1250 [==============================] - 2s 2ms/step - loss: 0.2443 - accuracy: 0.9068\n",
      "Epoch 37/50\n",
      "1250/1250 [==============================] - 2s 2ms/step - loss: 0.2406 - accuracy: 0.9058\n",
      "Epoch 38/50\n",
      "1250/1250 [==============================] - 2s 2ms/step - loss: 0.2379 - accuracy: 0.9075\n",
      "Epoch 39/50\n",
      "1250/1250 [==============================] - 2s 1ms/step - loss: 0.2391 - accuracy: 0.9067\n",
      "Epoch 40/50\n",
      "1250/1250 [==============================] - 2s 2ms/step - loss: 0.2388 - accuracy: 0.9074\n",
      "Epoch 41/50\n",
      "1250/1250 [==============================] - 2s 2ms/step - loss: 0.2322 - accuracy: 0.9097\n",
      "Epoch 42/50\n",
      "1250/1250 [==============================] - 2s 2ms/step - loss: 0.2318 - accuracy: 0.9097\n",
      "Epoch 43/50\n",
      "1250/1250 [==============================] - 2s 2ms/step - loss: 0.2311 - accuracy: 0.9098\n",
      "Epoch 44/50\n",
      "1250/1250 [==============================] - 2s 2ms/step - loss: 0.2288 - accuracy: 0.9112\n",
      "Epoch 45/50\n",
      "1250/1250 [==============================] - 2s 2ms/step - loss: 0.2253 - accuracy: 0.9126\n",
      "Epoch 46/50\n",
      "1250/1250 [==============================] - 2s 2ms/step - loss: 0.2309 - accuracy: 0.9094\n",
      "Epoch 47/50\n",
      "1250/1250 [==============================] - 2s 2ms/step - loss: 0.2271 - accuracy: 0.9107\n",
      "Epoch 48/50\n",
      "1250/1250 [==============================] - 2s 2ms/step - loss: 0.2248 - accuracy: 0.9133\n",
      "Epoch 49/50\n",
      "1250/1250 [==============================] - 2s 2ms/step - loss: 0.2224 - accuracy: 0.9136\n",
      "Epoch 50/50\n",
      "1250/1250 [==============================] - 2s 2ms/step - loss: 0.2194 - accuracy: 0.9154\n",
      "Evaluate on test data\n",
      "79/79 [==============================] - 0s 1ms/step - loss: 0.3313 - accuracy: 0.8893\n",
      "test loss, test acc: [0.3313075304031372, 0.8892999887466431]\n",
      "\n",
      "\n",
      "              precision    recall  f1-score   support\n",
      "\n",
      "           0       0.92      0.94      0.93      6582\n",
      "           1       0.90      0.84      0.87      1471\n",
      "           2       0.74      0.72      0.73      1438\n",
      "           3       0.86      0.87      0.87       509\n",
      "\n",
      "    accuracy                           0.89     10000\n",
      "   macro avg       0.85      0.84      0.85     10000\n",
      "weighted avg       0.89      0.89      0.89     10000\n",
      "\n"
     ]
    },
    {
     "data": {
      "image/png": "[encoded data removed]",
      "text/plain": [
       "<Figure size 432x288 with 1 Axes>"
      ]
     },
     "metadata": {
      "needs_background": "light"
     },
     "output_type": "display_data"
    },
    {
     "data": {
      "image/png": "[encoded data removed]",
      "text/plain": [
       "<Figure size 576x432 with 2 Axes>"
      ]
     },
     "metadata": {
      "needs_background": "light"
     },
     "output_type": "display_data"
    }
   ],
   "source": [
    "random_sample_with_replacement_model = tensorflow_model(data_random_sample_w_replacement)"
   ]
  },
  {
   "cell_type": "markdown",
   "id": "9f579c5d-2703-491d-9b15-48ee683d0241",
   "metadata": {},
   "source": [
    "# Stratified Sampling"
   ]
  },
  {
   "cell_type": "markdown",
   "id": "624b7f42-7a23-407e-9a70-72537000f27f",
   "metadata": {},
   "source": [
    "## Creating the Dataset"
   ]
  },
  {
   "cell_type": "code",
   "execution_count": 178,
   "id": "23bb0659-5597-4019-a35e-4c1e84967486",
   "metadata": {},
   "outputs": [],
   "source": [
    "data_stratified_sampling = data.copy(deep = True)"
   ]
  },
  {
   "cell_type": "code",
   "execution_count": 179,
   "id": "0adf7f62-8375-48c3-aa08-8d9da42d8e5a",
   "metadata": {},
   "outputs": [],
   "source": [
    "one_hot_encoded_data = pd.get_dummies(data_stratified_sampling['domain_name'], drop_first = True)\n",
    "data_stratified_sampling.drop('domain_name',inplace = True, axis = 1)\n",
    "data_stratified_sampling = pd.concat([data_stratified_sampling,one_hot_encoded_data], axis = 1)"
   ]
  },
  {
   "cell_type": "code",
   "execution_count": 180,
   "id": "3de38892-07ef-4cda-b56e-26323f3ae8d4",
   "metadata": {},
   "outputs": [],
   "source": [
    "weights = data_stratified_sampling[\"type\"].value_counts()"
   ]
  },
  {
   "cell_type": "code",
   "execution_count": 181,
   "id": "5748d9ac-b2d8-4382-8640-f4574cc9fae3",
   "metadata": {},
   "outputs": [],
   "source": [
    "def select_equal_samples(group):\n",
    "    return group.sample(50000//4)\n",
    "data_stratified_sampling = data_stratified_sampling.groupby('type', group_keys=False).apply(select_equal_samples)\n"
   ]
  },
  {
   "cell_type": "code",
   "execution_count": 182,
   "id": "dce9e66b-74d3-4adf-974b-b945456d6ef5",
   "metadata": {},
   "outputs": [
    {
     "data": {
      "text/plain": [
       "benign        12500\n",
       "defacement    12500\n",
       "malware       12500\n",
       "phishing      12500\n",
       "Name: type, dtype: int64"
      ]
     },
     "execution_count": 182,
     "metadata": {},
     "output_type": "execute_result"
    }
   ],
   "source": [
    "data_stratified_sampling[\"type\"].value_counts()"
   ]
  },
  {
   "cell_type": "code",
   "execution_count": 183,
   "id": "f40101d6-fbf7-40a6-b563-14abfc2bf82b",
   "metadata": {},
   "outputs": [],
   "source": [
    "X = data_stratified_sampling.drop([\"url\",\"type\"], axis = 1)\n",
    "y = data_stratified_sampling[\"type\"]"
   ]
  },
  {
   "cell_type": "code",
   "execution_count": 184,
   "id": "0fb7d5be-a17f-4c18-bd16-a867512271f6",
   "metadata": {},
   "outputs": [],
   "source": [
    "X_train, X_test, y_train, y_test = train_test_split(X, y, test_size=0.2, random_state=42)\n"
   ]
  },
  {
   "cell_type": "markdown",
   "id": "3358099e-d4d7-4921-a7d6-0c6cd682bf19",
   "metadata": {},
   "source": [
    "## Pipeline to Find bestestimator among svm,logreg and gradient boosting"
   ]
  },
  {
   "cell_type": "code",
   "execution_count": 82,
   "id": "f428193b-8f1a-4f24-b60d-3ea6089a3177",
   "metadata": {},
   "outputs": [
    {
     "name": "stdout",
     "output_type": "stream",
     "text": [
      "Best Hyperparameters: {'classifier__learning_rate': 0.2, 'classifier__max_depth': 7, 'classifier__n_estimators': 200}\n",
      "Best Estimator: Pipeline(steps=[('std', MinMaxScaler()),\n",
      "                ('classifier',\n",
      "                 GradientBoostingClassifier(learning_rate=0.2, max_depth=7,\n",
      "                                            n_estimators=200))])\n",
      "The time taken to select best estimator using this instance of GridsearchcV is 564.8320560455322\n",
      "Test Accuracy: 0.8989\n"
     ]
    }
   ],
   "source": [
    "grid_search_s_s = GridSearchCV(estimator=pipeline, param_grid=param_grids, cv=3, n_jobs = -1)\n",
    "t_start = time.time()\n",
    "grid_search_s_s.fit(X_train, y_train)\n",
    "t_end = time.time()\n",
    "\n",
    "print(\"Best Hyperparameters:\", grid_search_s_s.best_params_)\n",
    "print(\"Best Estimator:\", grid_search_s_s.best_estimator_)\n",
    "print(f\"The time taken to select best estimator using this instance of GridsearchcV is {t_end - t_start}\")\n",
    "accuracy = grid_search_s_s.best_estimator_.score(X_test, y_test)\n",
    "print(\"Test Accuracy:\", accuracy)"
   ]
  },
  {
   "cell_type": "code",
   "execution_count": 186,
   "id": "cab28949-9cb9-47ef-a928-2c76c9425ed0",
   "metadata": {},
   "outputs": [
    {
     "name": "stdout",
     "output_type": "stream",
     "text": [
      "Classification Report\n",
      "\n",
      "              precision    recall  f1-score   support\n",
      "\n",
      "      benign       0.90      0.86      0.88      2510\n",
      "  defacement       0.90      0.94      0.92      2512\n",
      "     malware       0.95      0.94      0.95      2545\n",
      "    phishing       0.85      0.86      0.86      2433\n",
      "\n",
      "    accuracy                           0.90     10000\n",
      "   macro avg       0.90      0.90      0.90     10000\n",
      "weighted avg       0.90      0.90      0.90     10000\n",
      "\n",
      "Confusion Matrix\n",
      "\n"
     ]
    },
    {
     "data": {
      "text/plain": [
       "<AxesSubplot:>"
      ]
     },
     "execution_count": 186,
     "metadata": {},
     "output_type": "execute_result"
    },
    {
     "data": {
      "image/png": "[encoded data removed]",
      "text/plain": [
       "<Figure size 432x288 with 2 Axes>"
      ]
     },
     "metadata": {
      "needs_background": "light"
     },
     "output_type": "display_data"
    }
   ],
   "source": [
    "from sklearn.metrics import classification_report, confusion_matrix\n",
    "import seaborn as sns\n",
    "\n",
    "y_pred = grid_search_s_s.best_estimator_.predict(X_test)\n",
    "confusion_matrix_ = confusion_matrix(y_test, y_pred)\n",
    "classification_report_ = classification_report(y_test, y_pred)\n",
    "print(\"Classification Report\")\n",
    "print()\n",
    "print(classification_report_)\n",
    "print(\"Confusion Matrix\")\n",
    "print()\n",
    "sns.heatmap(confusion_matrix_ ,annot = True)"
   ]
  },
  {
   "cell_type": "markdown",
   "id": "9b18205c-09f9-4e05-bded-56958be2a57a",
   "metadata": {},
   "source": [
    "## Finetuning the Best Estimator Which is Gradient Boosting"
   ]
  },
  {
   "cell_type": "code",
   "execution_count": 84,
   "id": "e3d2300e-097b-49ef-a9c8-e9b4f6f24434",
   "metadata": {},
   "outputs": [
    {
     "name": "stdout",
     "output_type": "stream",
     "text": [
      "The time taken to select best parameters for gradientBoosting Classifier using this instance of GridsearchcV is 615.4422829151154\n",
      "Best Hyperparameters: {'classifier__learning_rate': 0.2, 'classifier__max_depth': 7, 'classifier__n_estimators': 200}\n",
      "Test Accuracy: 0.8966\n"
     ]
    }
   ],
   "source": [
    "grid_search_best_s_s = GridSearchCV(estimator=pipeline_best, param_grid=param_grids, cv=3, n_jobs=-5)\n",
    "t_start = time.time()\n",
    "grid_search_best_s_s.fit(X_train, y_train)\n",
    "t_end = time.time()\n",
    "print(f\"The time taken to select best parameters for gradientBoosting Classifier using this instance of GridsearchcV is {t_end - t_start}\")\n",
    "print(\"Best Hyperparameters:\", grid_search_best_s_s.best_params_)\n",
    "accuracy = grid_search_best_s_s.best_estimator_.score(X_test, y_test)\n",
    "print(\"Test Accuracy:\", accuracy)"
   ]
  },
  {
   "cell_type": "code",
   "execution_count": 187,
   "id": "f0603fea-ad71-40d8-b27e-a25d662c9681",
   "metadata": {},
   "outputs": [
    {
     "name": "stdout",
     "output_type": "stream",
     "text": [
      "Classification Report\n",
      "\n",
      "              precision    recall  f1-score   support\n",
      "\n",
      "      benign       0.90      0.86      0.88      2510\n",
      "  defacement       0.91      0.94      0.92      2512\n",
      "     malware       0.95      0.94      0.95      2545\n",
      "    phishing       0.85      0.87      0.86      2433\n",
      "\n",
      "    accuracy                           0.90     10000\n",
      "   macro avg       0.90      0.90      0.90     10000\n",
      "weighted avg       0.90      0.90      0.90     10000\n",
      "\n",
      "Confusion Matrix\n",
      "\n"
     ]
    },
    {
     "data": {
      "text/plain": [
       "<AxesSubplot:>"
      ]
     },
     "execution_count": 187,
     "metadata": {},
     "output_type": "execute_result"
    },
    {
     "data": {
      "image/png": "[encoded data removed]",
      "text/plain": [
       "<Figure size 432x288 with 2 Axes>"
      ]
     },
     "metadata": {
      "needs_background": "light"
     },
     "output_type": "display_data"
    }
   ],
   "source": [
    "import seaborn as sns\n",
    "from sklearn.metrics import classification_report, confusion_matrix\n",
    "\n",
    "y_pred = grid_search_best_s_s.best_estimator_.predict(X_test)\n",
    "confusion_matrix_ = confusion_matrix(y_test, y_pred)\n",
    "classification_report_ = classification_report(y_test, y_pred)\n",
    "print(\"Classification Report\")\n",
    "print()\n",
    "print(classification_report_)\n",
    "print(\"Confusion Matrix\")\n",
    "print()\n",
    "sns.heatmap(confusion_matrix_ ,annot = True)"
   ]
  },
  {
   "cell_type": "markdown",
   "id": "288b9fcf-fd72-4090-8b21-b89be9285edc",
   "metadata": {},
   "source": [
    "## Deeplearning Model"
   ]
  },
  {
   "cell_type": "code",
   "execution_count": 157,
   "id": "fc3dda82-2d2e-4a0f-83e8-73a1aeec0836",
   "metadata": {},
   "outputs": [
    {
     "name": "stdout",
     "output_type": "stream",
     "text": [
      "Epoch 1/50\n",
      "1250/1250 [==============================] - 2s 2ms/step - loss: 0.8146 - accuracy: 0.6808\n",
      "Epoch 2/50\n",
      "1250/1250 [==============================] - 2s 2ms/step - loss: 0.5927 - accuracy: 0.7712\n",
      "Epoch 3/50\n",
      "1250/1250 [==============================] - 2s 2ms/step - loss: 0.5296 - accuracy: 0.7971\n",
      "Epoch 4/50\n",
      "1250/1250 [==============================] - 2s 2ms/step - loss: 0.4941 - accuracy: 0.8120\n",
      "Epoch 5/50\n",
      "1250/1250 [==============================] - 2s 2ms/step - loss: 0.4678 - accuracy: 0.8221\n",
      "Epoch 6/50\n",
      "1250/1250 [==============================] - 2s 2ms/step - loss: 0.4440 - accuracy: 0.8331\n",
      "Epoch 7/50\n",
      "1250/1250 [==============================] - 2s 2ms/step - loss: 0.4231 - accuracy: 0.8408\n",
      "Epoch 8/50\n",
      "1250/1250 [==============================] - 2s 2ms/step - loss: 0.4130 - accuracy: 0.8460\n",
      "Epoch 9/50\n",
      "1250/1250 [==============================] - 2s 1ms/step - loss: 0.4008 - accuracy: 0.8468\n",
      "Epoch 10/50\n",
      "1250/1250 [==============================] - 2s 1ms/step - loss: 0.3912 - accuracy: 0.8519\n",
      "Epoch 11/50\n",
      "1250/1250 [==============================] - 2s 2ms/step - loss: 0.3775 - accuracy: 0.8587\n",
      "Epoch 12/50\n",
      "1250/1250 [==============================] - 2s 2ms/step - loss: 0.3714 - accuracy: 0.8596\n",
      "Epoch 13/50\n",
      "1250/1250 [==============================] - 2s 2ms/step - loss: 0.3582 - accuracy: 0.8654\n",
      "Epoch 14/50\n",
      "1250/1250 [==============================] - 2s 1ms/step - loss: 0.3579 - accuracy: 0.8648\n",
      "Epoch 15/50\n",
      "1250/1250 [==============================] - 2s 1ms/step - loss: 0.3481 - accuracy: 0.8698\n",
      "Epoch 16/50\n",
      "1250/1250 [==============================] - 2s 2ms/step - loss: 0.3448 - accuracy: 0.8709\n",
      "Epoch 17/50\n",
      "1250/1250 [==============================] - 2s 2ms/step - loss: 0.3357 - accuracy: 0.8727\n",
      "Epoch 18/50\n",
      "1250/1250 [==============================] - 2s 2ms/step - loss: 0.3323 - accuracy: 0.8741\n",
      "Epoch 19/50\n",
      "1250/1250 [==============================] - 2s 2ms/step - loss: 0.3272 - accuracy: 0.8782\n",
      "Epoch 20/50\n",
      "1250/1250 [==============================] - 2s 1ms/step - loss: 0.3239 - accuracy: 0.8793\n",
      "Epoch 21/50\n",
      "1250/1250 [==============================] - 2s 2ms/step - loss: 0.3222 - accuracy: 0.8802\n",
      "Epoch 22/50\n",
      "1250/1250 [==============================] - 2s 2ms/step - loss: 0.3166 - accuracy: 0.8815\n",
      "Epoch 23/50\n",
      "1250/1250 [==============================] - 2s 2ms/step - loss: 0.3106 - accuracy: 0.8830\n",
      "Epoch 24/50\n",
      "1250/1250 [==============================] - 2s 2ms/step - loss: 0.3088 - accuracy: 0.8842\n",
      "Epoch 25/50\n",
      "1250/1250 [==============================] - 2s 1ms/step - loss: 0.3057 - accuracy: 0.8856\n",
      "Epoch 26/50\n",
      "1250/1250 [==============================] - 2s 2ms/step - loss: 0.2992 - accuracy: 0.8877\n",
      "Epoch 27/50\n",
      "1250/1250 [==============================] - 2s 2ms/step - loss: 0.2989 - accuracy: 0.8876\n",
      "Epoch 28/50\n",
      "1250/1250 [==============================] - 2s 2ms/step - loss: 0.2963 - accuracy: 0.8895\n",
      "Epoch 29/50\n",
      "1250/1250 [==============================] - 2s 2ms/step - loss: 0.2941 - accuracy: 0.8910\n",
      "Epoch 30/50\n",
      "1250/1250 [==============================] - 2s 2ms/step - loss: 0.2915 - accuracy: 0.8905\n",
      "Epoch 31/50\n",
      "1250/1250 [==============================] - 2s 2ms/step - loss: 0.2922 - accuracy: 0.8909\n",
      "Epoch 32/50\n",
      "1250/1250 [==============================] - 2s 1ms/step - loss: 0.2843 - accuracy: 0.8947\n",
      "Epoch 33/50\n",
      "1250/1250 [==============================] - 2s 2ms/step - loss: 0.2833 - accuracy: 0.8939\n",
      "Epoch 34/50\n",
      "1250/1250 [==============================] - 2s 2ms/step - loss: 0.2797 - accuracy: 0.8967\n",
      "Epoch 35/50\n",
      "1250/1250 [==============================] - 2s 2ms/step - loss: 0.2764 - accuracy: 0.8965\n",
      "Epoch 36/50\n",
      "1250/1250 [==============================] - 2s 2ms/step - loss: 0.2743 - accuracy: 0.8985\n",
      "Epoch 37/50\n",
      "1250/1250 [==============================] - 2s 1ms/step - loss: 0.2688 - accuracy: 0.8997\n",
      "Epoch 38/50\n",
      "1250/1250 [==============================] - 2s 2ms/step - loss: 0.2713 - accuracy: 0.9000\n",
      "Epoch 39/50\n",
      "1250/1250 [==============================] - 2s 2ms/step - loss: 0.2674 - accuracy: 0.9015\n",
      "Epoch 40/50\n",
      "1250/1250 [==============================] - 2s 2ms/step - loss: 0.2666 - accuracy: 0.9015\n",
      "Epoch 41/50\n",
      "1250/1250 [==============================] - 2s 1ms/step - loss: 0.2668 - accuracy: 0.8997\n",
      "Epoch 42/50\n",
      "1250/1250 [==============================] - 2s 2ms/step - loss: 0.2607 - accuracy: 0.9039\n",
      "Epoch 43/50\n",
      "1250/1250 [==============================] - 2s 2ms/step - loss: 0.2612 - accuracy: 0.9025\n",
      "Epoch 44/50\n",
      "1250/1250 [==============================] - 2s 2ms/step - loss: 0.2586 - accuracy: 0.9038\n",
      "Epoch 45/50\n",
      "1250/1250 [==============================] - 2s 2ms/step - loss: 0.2599 - accuracy: 0.9027\n",
      "Epoch 46/50\n",
      "1250/1250 [==============================] - 2s 2ms/step - loss: 0.2487 - accuracy: 0.9061\n",
      "Epoch 47/50\n",
      "1250/1250 [==============================] - 2s 2ms/step - loss: 0.2524 - accuracy: 0.9058\n",
      "Epoch 48/50\n",
      "1250/1250 [==============================] - 2s 2ms/step - loss: 0.2494 - accuracy: 0.9075\n",
      "Epoch 49/50\n",
      "1250/1250 [==============================] - 2s 2ms/step - loss: 0.2481 - accuracy: 0.9087\n",
      "Epoch 50/50\n",
      "1250/1250 [==============================] - 2s 2ms/step - loss: 0.2483 - accuracy: 0.9076\n",
      "Evaluate on test data\n",
      "79/79 [==============================] - 0s 1ms/step - loss: 0.3654 - accuracy: 0.8816\n",
      "test loss, test acc: [0.36544230580329895, 0.881600022315979]\n",
      "\n",
      "\n",
      "              precision    recall  f1-score   support\n",
      "\n",
      "           0       0.89      0.83      0.86      2510\n",
      "           1       0.89      0.92      0.90      2512\n",
      "           2       0.82      0.85      0.83      2433\n",
      "           3       0.93      0.93      0.93      2545\n",
      "\n",
      "    accuracy                           0.88     10000\n",
      "   macro avg       0.88      0.88      0.88     10000\n",
      "weighted avg       0.88      0.88      0.88     10000\n",
      "\n"
     ]
    },
    {
     "data": {
      "image/png": "[encoded data removed]",
      "text/plain": [
       "<Figure size 432x288 with 1 Axes>"
      ]
     },
     "metadata": {
      "needs_background": "light"
     },
     "output_type": "display_data"
    },
    {
     "data": {
      "image/png": "[encoded data removed]",
      "text/plain": [
       "<Figure size 576x432 with 2 Axes>"
      ]
     },
     "metadata": {
      "needs_background": "light"
     },
     "output_type": "display_data"
    }
   ],
   "source": [
    "s_s_dp_model = tensorflow_model(data_stratified_sampling)"
   ]
  },
  {
   "cell_type": "code",
   "execution_count": null,
   "id": "570e41d3-3c93-4939-bcd7-860655603020",
   "metadata": {
    "jupyter": {
     "source_hidden": true
    },
    "tags": []
   },
   "outputs": [],
   "source": [
    "data.columns"
   ]
  },
  {
   "cell_type": "markdown",
   "id": "a171e366-49a2-41d3-99d5-d1f29dc4dc17",
   "metadata": {},
   "source": [
    "# Analysis Of model Performace on a a random sample of Size 20"
   ]
  },
  {
   "cell_type": "markdown",
   "id": "c0f086d3-5c25-4b49-b062-bc16092edf92",
   "metadata": {},
   "source": [
    "## Inferencing Function"
   ]
  },
  {
   "cell_type": "code",
   "execution_count": 232,
   "id": "78beb990-188c-4d01-9076-cd75ca7ade47",
   "metadata": {},
   "outputs": [],
   "source": [
    "def inference_on_random_samples(data, estimator):\n",
    "    from sklearn.metrics import classification_report, confusion_matrix\n",
    "    some = data.copy(deep = True)\n",
    "    one_hot_encoded_data = pd.get_dummies(some['domain_name'], drop_first = True)\n",
    "    some.drop('domain_name',inplace = True, axis = 1)\n",
    "    some = pd.concat([some,one_hot_encoded_data], axis = 1)\n",
    "    Actual_testing = some.sample(100)\n",
    "    url = Actual_testing[\"url\"]\n",
    "    X = Actual_testing.drop([\"url\",\"type\"], axis = 1)\n",
    "    y = Actual_testing[\"type\"]\n",
    "    y_pred = grid_search_best_s_s.best_estimator_.predict(X)\n",
    "    classification_report_ = classification_report(y, y_pred, zero_division=1)\n",
    "    print(classification_report_)\n",
    "    return pd.DataFrame({\"URL\":url,\"Actual Class\":y,\"Predicted Class\":y_pred})\n",
    "    "
   ]
  },
  {
   "cell_type": "markdown",
   "id": "cd7d12d9-8ef4-41ea-88b7-6d0656714a9f",
   "metadata": {},
   "source": [
    "## Sample without Replacement model Inferencing"
   ]
  },
  {
   "cell_type": "markdown",
   "id": "649b3be8-fefc-4ae1-a370-3750874f44bd",
   "metadata": {},
   "source": [
    "### Gradient Boosting Model"
   ]
  },
  {
   "cell_type": "code",
   "execution_count": 233,
   "id": "1f674507-39ec-429f-8666-78496f324171",
   "metadata": {},
   "outputs": [
    {
     "name": "stdout",
     "output_type": "stream",
     "text": [
      "              precision    recall  f1-score   support\n",
      "\n",
      "      benign       0.97      0.84      0.90        73\n",
      "  defacement       0.71      1.00      0.83        10\n",
      "     malware       0.60      1.00      0.75         3\n",
      "    phishing       0.61      0.79      0.69        14\n",
      "\n",
      "    accuracy                           0.85       100\n",
      "   macro avg       0.72      0.91      0.79       100\n",
      "weighted avg       0.88      0.85      0.86       100\n",
      "\n"
     ]
    },
    {
     "data": {
      "text/html": [
       "<div>\n",
       "<style scoped>\n",
       "    .dataframe tbody tr th:only-of-type {\n",
       "        vertical-align: middle;\n",
       "    }\n",
       "\n",
       "    .dataframe tbody tr th {\n",
       "        vertical-align: top;\n",
       "    }\n",
       "\n",
       "    .dataframe thead th {\n",
       "        text-align: right;\n",
       "    }\n",
       "</style>\n",
       "<table border=\"1\" class=\"dataframe\">\n",
       "  <thead>\n",
       "    <tr style=\"text-align: right;\">\n",
       "      <th></th>\n",
       "      <th>URL</th>\n",
       "      <th>Actual Class</th>\n",
       "      <th>Predicted Class</th>\n",
       "    </tr>\n",
       "  </thead>\n",
       "  <tbody>\n",
       "    <tr>\n",
       "      <th>387037</th>\n",
       "      <td>ashleynichols.wordpress.com/</td>\n",
       "      <td>benign</td>\n",
       "      <td>benign</td>\n",
       "    </tr>\n",
       "    <tr>\n",
       "      <th>284761</th>\n",
       "      <td>artistopia.com/jodeci</td>\n",
       "      <td>benign</td>\n",
       "      <td>benign</td>\n",
       "    </tr>\n",
       "    <tr>\n",
       "      <th>557912</th>\n",
       "      <td>home.comcast.net/~dport/</td>\n",
       "      <td>benign</td>\n",
       "      <td>phishing</td>\n",
       "    </tr>\n",
       "    <tr>\n",
       "      <th>68473</th>\n",
       "      <td>evri.com/person/marla-pennington-0x14aea</td>\n",
       "      <td>benign</td>\n",
       "      <td>benign</td>\n",
       "    </tr>\n",
       "    <tr>\n",
       "      <th>472109</th>\n",
       "      <td>myspace.com/kvanderkelen</td>\n",
       "      <td>benign</td>\n",
       "      <td>benign</td>\n",
       "    </tr>\n",
       "    <tr>\n",
       "      <th>522861</th>\n",
       "      <td>http://hamt.jp/program/wp-content/themes/twent...</td>\n",
       "      <td>phishing</td>\n",
       "      <td>phishing</td>\n",
       "    </tr>\n",
       "    <tr>\n",
       "      <th>146022</th>\n",
       "      <td>http://grantland.com/features/mike-burke-new-y...</td>\n",
       "      <td>benign</td>\n",
       "      <td>benign</td>\n",
       "    </tr>\n",
       "    <tr>\n",
       "      <th>295721</th>\n",
       "      <td>ca.linkedin.com/pub/arthur-boyer/16/B71/353</td>\n",
       "      <td>benign</td>\n",
       "      <td>benign</td>\n",
       "    </tr>\n",
       "    <tr>\n",
       "      <th>501734</th>\n",
       "      <td>spiked-online.com/index.php?/site/printable/4977/</td>\n",
       "      <td>benign</td>\n",
       "      <td>defacement</td>\n",
       "    </tr>\n",
       "    <tr>\n",
       "      <th>438286</th>\n",
       "      <td>info-help.hol.es</td>\n",
       "      <td>phishing</td>\n",
       "      <td>phishing</td>\n",
       "    </tr>\n",
       "    <tr>\n",
       "      <th>603391</th>\n",
       "      <td>www.agdealer.com/grande</td>\n",
       "      <td>phishing</td>\n",
       "      <td>phishing</td>\n",
       "    </tr>\n",
       "    <tr>\n",
       "      <th>227296</th>\n",
       "      <td>http://getpocket.com/signup?mode=socialmode&amp;ro...</td>\n",
       "      <td>benign</td>\n",
       "      <td>benign</td>\n",
       "    </tr>\n",
       "    <tr>\n",
       "      <th>277365</th>\n",
       "      <td>http://www.textilexpres.com/TE/index.php?optio...</td>\n",
       "      <td>defacement</td>\n",
       "      <td>defacement</td>\n",
       "    </tr>\n",
       "    <tr>\n",
       "      <th>114333</th>\n",
       "      <td>http://www.koenigsbacher-biergarten.de/cmx/ind...</td>\n",
       "      <td>defacement</td>\n",
       "      <td>defacement</td>\n",
       "    </tr>\n",
       "    <tr>\n",
       "      <th>49620</th>\n",
       "      <td>wikifeet.com/Louise_Robey</td>\n",
       "      <td>benign</td>\n",
       "      <td>benign</td>\n",
       "    </tr>\n",
       "    <tr>\n",
       "      <th>555760</th>\n",
       "      <td>www.service.confirm.paypal.usa.cmd.cgi-bin.453...</td>\n",
       "      <td>benign</td>\n",
       "      <td>benign</td>\n",
       "    </tr>\n",
       "    <tr>\n",
       "      <th>437109</th>\n",
       "      <td>mylife.com/nikbesagno</td>\n",
       "      <td>benign</td>\n",
       "      <td>benign</td>\n",
       "    </tr>\n",
       "    <tr>\n",
       "      <th>522918</th>\n",
       "      <td>http://poste-italiane-pt.com/</td>\n",
       "      <td>phishing</td>\n",
       "      <td>phishing</td>\n",
       "    </tr>\n",
       "    <tr>\n",
       "      <th>171583</th>\n",
       "      <td>facebook.com/JohnMcEuenMusic</td>\n",
       "      <td>benign</td>\n",
       "      <td>benign</td>\n",
       "    </tr>\n",
       "    <tr>\n",
       "      <th>319569</th>\n",
       "      <td>clubplanet.com/Venues/90815/Kansas-City/Kellys...</td>\n",
       "      <td>benign</td>\n",
       "      <td>benign</td>\n",
       "    </tr>\n",
       "  </tbody>\n",
       "</table>\n",
       "</div>"
      ],
      "text/plain": [
       "                                                      URL Actual Class  \\\n",
       "387037                       ashleynichols.wordpress.com/       benign   \n",
       "284761                              artistopia.com/jodeci       benign   \n",
       "557912                           home.comcast.net/~dport/       benign   \n",
       "68473            evri.com/person/marla-pennington-0x14aea       benign   \n",
       "472109                           myspace.com/kvanderkelen       benign   \n",
       "522861  http://hamt.jp/program/wp-content/themes/twent...     phishing   \n",
       "146022  http://grantland.com/features/mike-burke-new-y...       benign   \n",
       "295721        ca.linkedin.com/pub/arthur-boyer/16/B71/353       benign   \n",
       "501734  spiked-online.com/index.php?/site/printable/4977/       benign   \n",
       "438286                                   info-help.hol.es     phishing   \n",
       "603391                            www.agdealer.com/grande     phishing   \n",
       "227296  http://getpocket.com/signup?mode=socialmode&ro...       benign   \n",
       "277365  http://www.textilexpres.com/TE/index.php?optio...   defacement   \n",
       "114333  http://www.koenigsbacher-biergarten.de/cmx/ind...   defacement   \n",
       "49620                           wikifeet.com/Louise_Robey       benign   \n",
       "555760  www.service.confirm.paypal.usa.cmd.cgi-bin.453...       benign   \n",
       "437109                              mylife.com/nikbesagno       benign   \n",
       "522918                      http://poste-italiane-pt.com/     phishing   \n",
       "171583                       facebook.com/JohnMcEuenMusic       benign   \n",
       "319569  clubplanet.com/Venues/90815/Kansas-City/Kellys...       benign   \n",
       "\n",
       "       Predicted Class  \n",
       "387037          benign  \n",
       "284761          benign  \n",
       "557912        phishing  \n",
       "68473           benign  \n",
       "472109          benign  \n",
       "522861        phishing  \n",
       "146022          benign  \n",
       "295721          benign  \n",
       "501734      defacement  \n",
       "438286        phishing  \n",
       "603391        phishing  \n",
       "227296          benign  \n",
       "277365      defacement  \n",
       "114333      defacement  \n",
       "49620           benign  \n",
       "555760          benign  \n",
       "437109          benign  \n",
       "522918        phishing  \n",
       "171583          benign  \n",
       "319569          benign  "
      ]
     },
     "execution_count": 233,
     "metadata": {},
     "output_type": "execute_result"
    }
   ],
   "source": [
    "inference_on_random_samples(data, grid_search_best.best_estimator_).head(20)"
   ]
  },
  {
   "cell_type": "markdown",
   "id": "12913b37-73be-437d-9c8f-96096756748a",
   "metadata": {},
   "source": [
    "### Deeplearning Model"
   ]
  },
  {
   "cell_type": "code",
   "execution_count": 234,
   "id": "5f96e07d-e89a-4cb1-ab4c-4330ea427a27",
   "metadata": {},
   "outputs": [
    {
     "name": "stdout",
     "output_type": "stream",
     "text": [
      "              precision    recall  f1-score   support\n",
      "\n",
      "      benign       0.98      0.84      0.90        68\n",
      "  defacement       0.79      0.88      0.83        17\n",
      "     malware       0.71      1.00      0.83         5\n",
      "    phishing       0.56      0.90      0.69        10\n",
      "\n",
      "    accuracy                           0.86       100\n",
      "   macro avg       0.76      0.91      0.82       100\n",
      "weighted avg       0.89      0.86      0.87       100\n",
      "\n"
     ]
    },
    {
     "data": {
      "text/html": [
       "<div>\n",
       "<style scoped>\n",
       "    .dataframe tbody tr th:only-of-type {\n",
       "        vertical-align: middle;\n",
       "    }\n",
       "\n",
       "    .dataframe tbody tr th {\n",
       "        vertical-align: top;\n",
       "    }\n",
       "\n",
       "    .dataframe thead th {\n",
       "        text-align: right;\n",
       "    }\n",
       "</style>\n",
       "<table border=\"1\" class=\"dataframe\">\n",
       "  <thead>\n",
       "    <tr style=\"text-align: right;\">\n",
       "      <th></th>\n",
       "      <th>URL</th>\n",
       "      <th>Actual Class</th>\n",
       "      <th>Predicted Class</th>\n",
       "    </tr>\n",
       "  </thead>\n",
       "  <tbody>\n",
       "    <tr>\n",
       "      <th>485234</th>\n",
       "      <td>http://www.fahrschule-niepel-hannover.de/compo...</td>\n",
       "      <td>defacement</td>\n",
       "      <td>defacement</td>\n",
       "    </tr>\n",
       "    <tr>\n",
       "      <th>355286</th>\n",
       "      <td>terrororstralis.com/films/silents/18a.htm</td>\n",
       "      <td>benign</td>\n",
       "      <td>defacement</td>\n",
       "    </tr>\n",
       "    <tr>\n",
       "      <th>297209</th>\n",
       "      <td>http://www.cuxhaven.cc/index.php?option=com_co...</td>\n",
       "      <td>defacement</td>\n",
       "      <td>defacement</td>\n",
       "    </tr>\n",
       "    <tr>\n",
       "      <th>143210</th>\n",
       "      <td>calibex.com/ciment/zzcalibex2zB1z0--search-html</td>\n",
       "      <td>benign</td>\n",
       "      <td>benign</td>\n",
       "    </tr>\n",
       "    <tr>\n",
       "      <th>442454</th>\n",
       "      <td>google.com/finance?cid=25875</td>\n",
       "      <td>benign</td>\n",
       "      <td>benign</td>\n",
       "    </tr>\n",
       "    <tr>\n",
       "      <th>319963</th>\n",
       "      <td>onf-nfb.gc.ca/eng/about-us/organization.php</td>\n",
       "      <td>benign</td>\n",
       "      <td>benign</td>\n",
       "    </tr>\n",
       "    <tr>\n",
       "      <th>72665</th>\n",
       "      <td>manta.com/c/mmj67bt/north-dakota-association-o...</td>\n",
       "      <td>benign</td>\n",
       "      <td>benign</td>\n",
       "    </tr>\n",
       "    <tr>\n",
       "      <th>607494</th>\n",
       "      <td>www.oregon.gov/OSP/SFM/docs/Licensing_permits/...</td>\n",
       "      <td>phishing</td>\n",
       "      <td>phishing</td>\n",
       "    </tr>\n",
       "    <tr>\n",
       "      <th>175771</th>\n",
       "      <td>http://www.safaribar.cz/fotky/category/84-summ...</td>\n",
       "      <td>defacement</td>\n",
       "      <td>defacement</td>\n",
       "    </tr>\n",
       "    <tr>\n",
       "      <th>111611</th>\n",
       "      <td>nationalgaragedoorsopeners.com.au/</td>\n",
       "      <td>benign</td>\n",
       "      <td>benign</td>\n",
       "    </tr>\n",
       "    <tr>\n",
       "      <th>205785</th>\n",
       "      <td>sportsillustrated.cnn.com/football/ncaa/roster...</td>\n",
       "      <td>benign</td>\n",
       "      <td>malware</td>\n",
       "    </tr>\n",
       "    <tr>\n",
       "      <th>56753</th>\n",
       "      <td>http://www.foehn.es/disfruta-de-nuestras-actua...</td>\n",
       "      <td>defacement</td>\n",
       "      <td>defacement</td>\n",
       "    </tr>\n",
       "    <tr>\n",
       "      <th>244210</th>\n",
       "      <td>wn.com/Serbian_high_flyers</td>\n",
       "      <td>benign</td>\n",
       "      <td>benign</td>\n",
       "    </tr>\n",
       "    <tr>\n",
       "      <th>613342</th>\n",
       "      <td>www.msri.org/calendar/workshops/WorkshopInfo/2...</td>\n",
       "      <td>phishing</td>\n",
       "      <td>phishing</td>\n",
       "    </tr>\n",
       "    <tr>\n",
       "      <th>575693</th>\n",
       "      <td>arqbase.com.br/site2011/config/files/nab.com.a...</td>\n",
       "      <td>benign</td>\n",
       "      <td>benign</td>\n",
       "    </tr>\n",
       "    <tr>\n",
       "      <th>41718</th>\n",
       "      <td>buddytv.com/articles/general-hospital/profile/...</td>\n",
       "      <td>benign</td>\n",
       "      <td>benign</td>\n",
       "    </tr>\n",
       "    <tr>\n",
       "      <th>290758</th>\n",
       "      <td>jobs.net/Ohio-Lima.htm</td>\n",
       "      <td>benign</td>\n",
       "      <td>phishing</td>\n",
       "    </tr>\n",
       "    <tr>\n",
       "      <th>462381</th>\n",
       "      <td>linkedin.com/in/tjfitzsimmons</td>\n",
       "      <td>benign</td>\n",
       "      <td>benign</td>\n",
       "    </tr>\n",
       "    <tr>\n",
       "      <th>267722</th>\n",
       "      <td>salvationarmy.org/can/www_can_montrealcitadel.nsf</td>\n",
       "      <td>benign</td>\n",
       "      <td>benign</td>\n",
       "    </tr>\n",
       "    <tr>\n",
       "      <th>90205</th>\n",
       "      <td>http://www.istracentrum.sk/fotogalerie/categor...</td>\n",
       "      <td>defacement</td>\n",
       "      <td>defacement</td>\n",
       "    </tr>\n",
       "  </tbody>\n",
       "</table>\n",
       "</div>"
      ],
      "text/plain": [
       "                                                      URL Actual Class  \\\n",
       "485234  http://www.fahrschule-niepel-hannover.de/compo...   defacement   \n",
       "355286          terrororstralis.com/films/silents/18a.htm       benign   \n",
       "297209  http://www.cuxhaven.cc/index.php?option=com_co...   defacement   \n",
       "143210    calibex.com/ciment/zzcalibex2zB1z0--search-html       benign   \n",
       "442454                       google.com/finance?cid=25875       benign   \n",
       "319963        onf-nfb.gc.ca/eng/about-us/organization.php       benign   \n",
       "72665   manta.com/c/mmj67bt/north-dakota-association-o...       benign   \n",
       "607494  www.oregon.gov/OSP/SFM/docs/Licensing_permits/...     phishing   \n",
       "175771  http://www.safaribar.cz/fotky/category/84-summ...   defacement   \n",
       "111611                 nationalgaragedoorsopeners.com.au/       benign   \n",
       "205785  sportsillustrated.cnn.com/football/ncaa/roster...       benign   \n",
       "56753   http://www.foehn.es/disfruta-de-nuestras-actua...   defacement   \n",
       "244210                         wn.com/Serbian_high_flyers       benign   \n",
       "613342  www.msri.org/calendar/workshops/WorkshopInfo/2...     phishing   \n",
       "575693  arqbase.com.br/site2011/config/files/nab.com.a...       benign   \n",
       "41718   buddytv.com/articles/general-hospital/profile/...       benign   \n",
       "290758                             jobs.net/Ohio-Lima.htm       benign   \n",
       "462381                      linkedin.com/in/tjfitzsimmons       benign   \n",
       "267722  salvationarmy.org/can/www_can_montrealcitadel.nsf       benign   \n",
       "90205   http://www.istracentrum.sk/fotogalerie/categor...   defacement   \n",
       "\n",
       "       Predicted Class  \n",
       "485234      defacement  \n",
       "355286      defacement  \n",
       "297209      defacement  \n",
       "143210          benign  \n",
       "442454          benign  \n",
       "319963          benign  \n",
       "72665           benign  \n",
       "607494        phishing  \n",
       "175771      defacement  \n",
       "111611          benign  \n",
       "205785         malware  \n",
       "56753       defacement  \n",
       "244210          benign  \n",
       "613342        phishing  \n",
       "575693          benign  \n",
       "41718           benign  \n",
       "290758        phishing  \n",
       "462381          benign  \n",
       "267722          benign  \n",
       "90205       defacement  "
      ]
     },
     "execution_count": 234,
     "metadata": {},
     "output_type": "execute_result"
    }
   ],
   "source": [
    "inference_on_random_samples(data, sample_without_replacement_dp_model).head(20)"
   ]
  },
  {
   "cell_type": "markdown",
   "id": "6d1928af-c1f5-4cae-b0fe-222b3d41f0c6",
   "metadata": {},
   "source": [
    "## Weighted Sampling Model Inferencing"
   ]
  },
  {
   "cell_type": "markdown",
   "id": "86269188-300c-4185-af88-316b320d001f",
   "metadata": {},
   "source": [
    "### Gradient Boosting Model"
   ]
  },
  {
   "cell_type": "code",
   "execution_count": 235,
   "id": "6b471a09-243b-42b0-b4e3-f03d19b8ba74",
   "metadata": {},
   "outputs": [
    {
     "name": "stdout",
     "output_type": "stream",
     "text": [
      "              precision    recall  f1-score   support\n",
      "\n",
      "      benign       0.98      0.85      0.91        67\n",
      "  defacement       0.85      1.00      0.92        17\n",
      "     malware       0.60      1.00      0.75         3\n",
      "    phishing       0.71      0.92      0.80        13\n",
      "\n",
      "    accuracy                           0.89       100\n",
      "   macro avg       0.78      0.94      0.85       100\n",
      "weighted avg       0.91      0.89      0.89       100\n",
      "\n"
     ]
    },
    {
     "data": {
      "text/html": [
       "<div>\n",
       "<style scoped>\n",
       "    .dataframe tbody tr th:only-of-type {\n",
       "        vertical-align: middle;\n",
       "    }\n",
       "\n",
       "    .dataframe tbody tr th {\n",
       "        vertical-align: top;\n",
       "    }\n",
       "\n",
       "    .dataframe thead th {\n",
       "        text-align: right;\n",
       "    }\n",
       "</style>\n",
       "<table border=\"1\" class=\"dataframe\">\n",
       "  <thead>\n",
       "    <tr style=\"text-align: right;\">\n",
       "      <th></th>\n",
       "      <th>URL</th>\n",
       "      <th>Actual Class</th>\n",
       "      <th>Predicted Class</th>\n",
       "    </tr>\n",
       "  </thead>\n",
       "  <tbody>\n",
       "    <tr>\n",
       "      <th>459543</th>\n",
       "      <td>http://gleitschirmfluege.com/component/mailto/...</td>\n",
       "      <td>defacement</td>\n",
       "      <td>defacement</td>\n",
       "    </tr>\n",
       "    <tr>\n",
       "      <th>261499</th>\n",
       "      <td>http://www.arbeitsloseninitiative-aurich.de/jo...</td>\n",
       "      <td>defacement</td>\n",
       "      <td>defacement</td>\n",
       "    </tr>\n",
       "    <tr>\n",
       "      <th>24085</th>\n",
       "      <td>http://letrah.com/index.php?option=com_content...</td>\n",
       "      <td>defacement</td>\n",
       "      <td>defacement</td>\n",
       "    </tr>\n",
       "    <tr>\n",
       "      <th>303209</th>\n",
       "      <td>fanbase.com/David-Telgheder</td>\n",
       "      <td>benign</td>\n",
       "      <td>benign</td>\n",
       "    </tr>\n",
       "    <tr>\n",
       "      <th>598955</th>\n",
       "      <td>venhaparticiperpraganhadores.tk/?super-premios...</td>\n",
       "      <td>benign</td>\n",
       "      <td>benign</td>\n",
       "    </tr>\n",
       "    <tr>\n",
       "      <th>197858</th>\n",
       "      <td>yasni.com/ivan+silva+dujisin/check+people</td>\n",
       "      <td>benign</td>\n",
       "      <td>benign</td>\n",
       "    </tr>\n",
       "    <tr>\n",
       "      <th>49098</th>\n",
       "      <td>http://www.englandfencing.co.uk/index.php?opti...</td>\n",
       "      <td>defacement</td>\n",
       "      <td>defacement</td>\n",
       "    </tr>\n",
       "    <tr>\n",
       "      <th>544354</th>\n",
       "      <td>https://apbfiber.com/openme/49020d200d42d3_18d...</td>\n",
       "      <td>malware</td>\n",
       "      <td>malware</td>\n",
       "    </tr>\n",
       "    <tr>\n",
       "      <th>131750</th>\n",
       "      <td>http://www.unfallhilfe-bayern.de/index.php/com...</td>\n",
       "      <td>defacement</td>\n",
       "      <td>defacement</td>\n",
       "    </tr>\n",
       "    <tr>\n",
       "      <th>509962</th>\n",
       "      <td>http://www.academiedumeuble.ca/index.php?view=...</td>\n",
       "      <td>defacement</td>\n",
       "      <td>defacement</td>\n",
       "    </tr>\n",
       "    <tr>\n",
       "      <th>283187</th>\n",
       "      <td>http://www.food-nrw.de/index.php/cluster-basis...</td>\n",
       "      <td>defacement</td>\n",
       "      <td>defacement</td>\n",
       "    </tr>\n",
       "    <tr>\n",
       "      <th>292934</th>\n",
       "      <td>livesoccertv.com/channels/RIS/</td>\n",
       "      <td>benign</td>\n",
       "      <td>benign</td>\n",
       "    </tr>\n",
       "    <tr>\n",
       "      <th>312906</th>\n",
       "      <td>ultimate-guitar.com/reviews/compact_discs/stol...</td>\n",
       "      <td>benign</td>\n",
       "      <td>benign</td>\n",
       "    </tr>\n",
       "    <tr>\n",
       "      <th>556661</th>\n",
       "      <td>krotzon.biz/aGVsZ2EucG9ldHNjaEB0LW9ubGluZS5kZQ...</td>\n",
       "      <td>benign</td>\n",
       "      <td>benign</td>\n",
       "    </tr>\n",
       "    <tr>\n",
       "      <th>128556</th>\n",
       "      <td>facebook.com/pietroantonio.rizzuto</td>\n",
       "      <td>benign</td>\n",
       "      <td>benign</td>\n",
       "    </tr>\n",
       "    <tr>\n",
       "      <th>141989</th>\n",
       "      <td>http://nymag.com/daily/intelligencer/2015/05/j...</td>\n",
       "      <td>benign</td>\n",
       "      <td>benign</td>\n",
       "    </tr>\n",
       "    <tr>\n",
       "      <th>234839</th>\n",
       "      <td>http://www.doneusebio.com/intl/update/webscr2....</td>\n",
       "      <td>phishing</td>\n",
       "      <td>phishing</td>\n",
       "    </tr>\n",
       "    <tr>\n",
       "      <th>571481</th>\n",
       "      <td>bradesco.saudeclassea.com.br/orcamento.php</td>\n",
       "      <td>benign</td>\n",
       "      <td>benign</td>\n",
       "    </tr>\n",
       "    <tr>\n",
       "      <th>48778</th>\n",
       "      <td>en.wikipedia.org/wiki/WWE_Breaking_Point</td>\n",
       "      <td>benign</td>\n",
       "      <td>benign</td>\n",
       "    </tr>\n",
       "    <tr>\n",
       "      <th>573758</th>\n",
       "      <td>voyagerbydg.fr/www.paypal.co.uk3/encripted/ssl...</td>\n",
       "      <td>benign</td>\n",
       "      <td>benign</td>\n",
       "    </tr>\n",
       "  </tbody>\n",
       "</table>\n",
       "</div>"
      ],
      "text/plain": [
       "                                                      URL Actual Class  \\\n",
       "459543  http://gleitschirmfluege.com/component/mailto/...   defacement   \n",
       "261499  http://www.arbeitsloseninitiative-aurich.de/jo...   defacement   \n",
       "24085   http://letrah.com/index.php?option=com_content...   defacement   \n",
       "303209                        fanbase.com/David-Telgheder       benign   \n",
       "598955  venhaparticiperpraganhadores.tk/?super-premios...       benign   \n",
       "197858          yasni.com/ivan+silva+dujisin/check+people       benign   \n",
       "49098   http://www.englandfencing.co.uk/index.php?opti...   defacement   \n",
       "544354  https://apbfiber.com/openme/49020d200d42d3_18d...      malware   \n",
       "131750  http://www.unfallhilfe-bayern.de/index.php/com...   defacement   \n",
       "509962  http://www.academiedumeuble.ca/index.php?view=...   defacement   \n",
       "283187  http://www.food-nrw.de/index.php/cluster-basis...   defacement   \n",
       "292934                     livesoccertv.com/channels/RIS/       benign   \n",
       "312906  ultimate-guitar.com/reviews/compact_discs/stol...       benign   \n",
       "556661  krotzon.biz/aGVsZ2EucG9ldHNjaEB0LW9ubGluZS5kZQ...       benign   \n",
       "128556                 facebook.com/pietroantonio.rizzuto       benign   \n",
       "141989  http://nymag.com/daily/intelligencer/2015/05/j...       benign   \n",
       "234839  http://www.doneusebio.com/intl/update/webscr2....     phishing   \n",
       "571481         bradesco.saudeclassea.com.br/orcamento.php       benign   \n",
       "48778            en.wikipedia.org/wiki/WWE_Breaking_Point       benign   \n",
       "573758  voyagerbydg.fr/www.paypal.co.uk3/encripted/ssl...       benign   \n",
       "\n",
       "       Predicted Class  \n",
       "459543      defacement  \n",
       "261499      defacement  \n",
       "24085       defacement  \n",
       "303209          benign  \n",
       "598955          benign  \n",
       "197858          benign  \n",
       "49098       defacement  \n",
       "544354         malware  \n",
       "131750      defacement  \n",
       "509962      defacement  \n",
       "283187      defacement  \n",
       "292934          benign  \n",
       "312906          benign  \n",
       "556661          benign  \n",
       "128556          benign  \n",
       "141989          benign  \n",
       "234839        phishing  \n",
       "571481          benign  \n",
       "48778           benign  \n",
       "573758          benign  "
      ]
     },
     "execution_count": 235,
     "metadata": {},
     "output_type": "execute_result"
    }
   ],
   "source": [
    "inference_on_random_samples(data, grid_search_w.best_estimator_).head(20)"
   ]
  },
  {
   "cell_type": "markdown",
   "id": "8728a381-2664-4224-9d62-395d54979126",
   "metadata": {},
   "source": [
    "### Deep Learning Model"
   ]
  },
  {
   "cell_type": "code",
   "execution_count": 236,
   "id": "5dac0566-ed33-41d1-8146-17e801039a75",
   "metadata": {},
   "outputs": [
    {
     "name": "stdout",
     "output_type": "stream",
     "text": [
      "              precision    recall  f1-score   support\n",
      "\n",
      "      benign       0.96      0.88      0.92        59\n",
      "  defacement       0.77      0.83      0.80        12\n",
      "     malware       0.88      1.00      0.93         7\n",
      "    phishing       0.80      0.91      0.85        22\n",
      "\n",
      "    accuracy                           0.89       100\n",
      "   macro avg       0.85      0.91      0.88       100\n",
      "weighted avg       0.90      0.89      0.89       100\n",
      "\n"
     ]
    },
    {
     "data": {
      "text/html": [
       "<div>\n",
       "<style scoped>\n",
       "    .dataframe tbody tr th:only-of-type {\n",
       "        vertical-align: middle;\n",
       "    }\n",
       "\n",
       "    .dataframe tbody tr th {\n",
       "        vertical-align: top;\n",
       "    }\n",
       "\n",
       "    .dataframe thead th {\n",
       "        text-align: right;\n",
       "    }\n",
       "</style>\n",
       "<table border=\"1\" class=\"dataframe\">\n",
       "  <thead>\n",
       "    <tr style=\"text-align: right;\">\n",
       "      <th></th>\n",
       "      <th>URL</th>\n",
       "      <th>Actual Class</th>\n",
       "      <th>Predicted Class</th>\n",
       "    </tr>\n",
       "  </thead>\n",
       "  <tbody>\n",
       "    <tr>\n",
       "      <th>444983</th>\n",
       "      <td>exchange-rates.org/history.aspx?iso_code=VEF&amp;b...</td>\n",
       "      <td>benign</td>\n",
       "      <td>benign</td>\n",
       "    </tr>\n",
       "    <tr>\n",
       "      <th>642953</th>\n",
       "      <td>www.gci275.com/websites.shtml</td>\n",
       "      <td>phishing</td>\n",
       "      <td>phishing</td>\n",
       "    </tr>\n",
       "    <tr>\n",
       "      <th>20232</th>\n",
       "      <td>http://hotlinegsm.com/products/mobile-and-tabl...</td>\n",
       "      <td>malware</td>\n",
       "      <td>malware</td>\n",
       "    </tr>\n",
       "    <tr>\n",
       "      <th>613522</th>\n",
       "      <td>www.cs.newpaltz.edu/~phamh/ABA/</td>\n",
       "      <td>phishing</td>\n",
       "      <td>phishing</td>\n",
       "    </tr>\n",
       "    <tr>\n",
       "      <th>155225</th>\n",
       "      <td>http://jalopnik.com/why-bmws-self-drifting-car...</td>\n",
       "      <td>benign</td>\n",
       "      <td>benign</td>\n",
       "    </tr>\n",
       "    <tr>\n",
       "      <th>246704</th>\n",
       "      <td>http://kidscentrale.nl/index.php?option=com_co...</td>\n",
       "      <td>defacement</td>\n",
       "      <td>defacement</td>\n",
       "    </tr>\n",
       "    <tr>\n",
       "      <th>59051</th>\n",
       "      <td>music.yahoo.com/unwritten-law/</td>\n",
       "      <td>benign</td>\n",
       "      <td>benign</td>\n",
       "    </tr>\n",
       "    <tr>\n",
       "      <th>395197</th>\n",
       "      <td>http://michaelgoczol.de/royalweddings/gallerie...</td>\n",
       "      <td>defacement</td>\n",
       "      <td>defacement</td>\n",
       "    </tr>\n",
       "    <tr>\n",
       "      <th>134176</th>\n",
       "      <td>http://www.newstudy.net/community/Web_nMngr.as...</td>\n",
       "      <td>malware</td>\n",
       "      <td>malware</td>\n",
       "    </tr>\n",
       "    <tr>\n",
       "      <th>74373</th>\n",
       "      <td>isfdb.org/cgi-bin/ea.cgi?Anthony_Boucher</td>\n",
       "      <td>benign</td>\n",
       "      <td>benign</td>\n",
       "    </tr>\n",
       "    <tr>\n",
       "      <th>281689</th>\n",
       "      <td>ca.local.yahoo.com/info-1002449428-Montreal</td>\n",
       "      <td>benign</td>\n",
       "      <td>benign</td>\n",
       "    </tr>\n",
       "    <tr>\n",
       "      <th>611675</th>\n",
       "      <td>www.pevecette.dk/default.asp?V_DOC_ID=854</td>\n",
       "      <td>phishing</td>\n",
       "      <td>phishing</td>\n",
       "    </tr>\n",
       "    <tr>\n",
       "      <th>205209</th>\n",
       "      <td>http://www.mirakelkursen.org/index.php?view=ar...</td>\n",
       "      <td>defacement</td>\n",
       "      <td>defacement</td>\n",
       "    </tr>\n",
       "    <tr>\n",
       "      <th>333347</th>\n",
       "      <td>rampage.fr</td>\n",
       "      <td>phishing</td>\n",
       "      <td>phishing</td>\n",
       "    </tr>\n",
       "    <tr>\n",
       "      <th>158825</th>\n",
       "      <td>bhsu.edu/Athletics/YellowJacketAthleticsNews/t...</td>\n",
       "      <td>benign</td>\n",
       "      <td>benign</td>\n",
       "    </tr>\n",
       "    <tr>\n",
       "      <th>84305</th>\n",
       "      <td>http://www.thereefrestaurant.com/wp-content/th...</td>\n",
       "      <td>malware</td>\n",
       "      <td>malware</td>\n",
       "    </tr>\n",
       "    <tr>\n",
       "      <th>436491</th>\n",
       "      <td>neneao.usa.cc</td>\n",
       "      <td>phishing</td>\n",
       "      <td>phishing</td>\n",
       "    </tr>\n",
       "    <tr>\n",
       "      <th>296333</th>\n",
       "      <td>youtube.com/watch?v=Irx_mjHGOYA</td>\n",
       "      <td>benign</td>\n",
       "      <td>benign</td>\n",
       "    </tr>\n",
       "    <tr>\n",
       "      <th>97025</th>\n",
       "      <td>ewrc-results.com/search.php?find=P&amp;up=1</td>\n",
       "      <td>benign</td>\n",
       "      <td>benign</td>\n",
       "    </tr>\n",
       "    <tr>\n",
       "      <th>319718</th>\n",
       "      <td>all-natural.com/twa800.html</td>\n",
       "      <td>benign</td>\n",
       "      <td>benign</td>\n",
       "    </tr>\n",
       "  </tbody>\n",
       "</table>\n",
       "</div>"
      ],
      "text/plain": [
       "                                                      URL Actual Class  \\\n",
       "444983  exchange-rates.org/history.aspx?iso_code=VEF&b...       benign   \n",
       "642953                      www.gci275.com/websites.shtml     phishing   \n",
       "20232   http://hotlinegsm.com/products/mobile-and-tabl...      malware   \n",
       "613522                    www.cs.newpaltz.edu/~phamh/ABA/     phishing   \n",
       "155225  http://jalopnik.com/why-bmws-self-drifting-car...       benign   \n",
       "246704  http://kidscentrale.nl/index.php?option=com_co...   defacement   \n",
       "59051                      music.yahoo.com/unwritten-law/       benign   \n",
       "395197  http://michaelgoczol.de/royalweddings/gallerie...   defacement   \n",
       "134176  http://www.newstudy.net/community/Web_nMngr.as...      malware   \n",
       "74373            isfdb.org/cgi-bin/ea.cgi?Anthony_Boucher       benign   \n",
       "281689        ca.local.yahoo.com/info-1002449428-Montreal       benign   \n",
       "611675          www.pevecette.dk/default.asp?V_DOC_ID=854     phishing   \n",
       "205209  http://www.mirakelkursen.org/index.php?view=ar...   defacement   \n",
       "333347                                         rampage.fr     phishing   \n",
       "158825  bhsu.edu/Athletics/YellowJacketAthleticsNews/t...       benign   \n",
       "84305   http://www.thereefrestaurant.com/wp-content/th...      malware   \n",
       "436491                                      neneao.usa.cc     phishing   \n",
       "296333                    youtube.com/watch?v=Irx_mjHGOYA       benign   \n",
       "97025             ewrc-results.com/search.php?find=P&up=1       benign   \n",
       "319718                        all-natural.com/twa800.html       benign   \n",
       "\n",
       "       Predicted Class  \n",
       "444983          benign  \n",
       "642953        phishing  \n",
       "20232          malware  \n",
       "613522        phishing  \n",
       "155225          benign  \n",
       "246704      defacement  \n",
       "59051           benign  \n",
       "395197      defacement  \n",
       "134176         malware  \n",
       "74373           benign  \n",
       "281689          benign  \n",
       "611675        phishing  \n",
       "205209      defacement  \n",
       "333347        phishing  \n",
       "158825          benign  \n",
       "84305          malware  \n",
       "436491        phishing  \n",
       "296333          benign  \n",
       "97025           benign  \n",
       "319718          benign  "
      ]
     },
     "execution_count": 236,
     "metadata": {},
     "output_type": "execute_result"
    }
   ],
   "source": [
    "inference_on_random_samples(data, weighted_sampling_dp_model).head(20)"
   ]
  },
  {
   "cell_type": "markdown",
   "id": "b14a7f92-a9d1-442b-be0c-9e1940cf84ca",
   "metadata": {},
   "source": [
    "## Random Sample with Replacement"
   ]
  },
  {
   "cell_type": "markdown",
   "id": "443bf164-2360-4bc4-bc7c-e3dbed23713e",
   "metadata": {},
   "source": [
    "### Gradient Boosting Model"
   ]
  },
  {
   "cell_type": "code",
   "execution_count": 237,
   "id": "3c3d36f5-117d-4b66-8ac2-bf7697a58a1d",
   "metadata": {},
   "outputs": [
    {
     "name": "stdout",
     "output_type": "stream",
     "text": [
      "              precision    recall  f1-score   support\n",
      "\n",
      "      benign       0.95      0.89      0.92        64\n",
      "  defacement       0.77      0.89      0.83        19\n",
      "     malware       1.00      1.00      1.00         6\n",
      "    phishing       0.58      0.64      0.61        11\n",
      "\n",
      "    accuracy                           0.87       100\n",
      "   macro avg       0.83      0.86      0.84       100\n",
      "weighted avg       0.88      0.87      0.87       100\n",
      "\n"
     ]
    },
    {
     "data": {
      "text/html": [
       "<div>\n",
       "<style scoped>\n",
       "    .dataframe tbody tr th:only-of-type {\n",
       "        vertical-align: middle;\n",
       "    }\n",
       "\n",
       "    .dataframe tbody tr th {\n",
       "        vertical-align: top;\n",
       "    }\n",
       "\n",
       "    .dataframe thead th {\n",
       "        text-align: right;\n",
       "    }\n",
       "</style>\n",
       "<table border=\"1\" class=\"dataframe\">\n",
       "  <thead>\n",
       "    <tr style=\"text-align: right;\">\n",
       "      <th></th>\n",
       "      <th>URL</th>\n",
       "      <th>Actual Class</th>\n",
       "      <th>Predicted Class</th>\n",
       "    </tr>\n",
       "  </thead>\n",
       "  <tbody>\n",
       "    <tr>\n",
       "      <th>94990</th>\n",
       "      <td>scoopy.com/nedkelly.htm</td>\n",
       "      <td>benign</td>\n",
       "      <td>benign</td>\n",
       "    </tr>\n",
       "    <tr>\n",
       "      <th>208925</th>\n",
       "      <td>http://bdnews24.com/media-en/image/2014/09/09/...</td>\n",
       "      <td>benign</td>\n",
       "      <td>benign</td>\n",
       "    </tr>\n",
       "    <tr>\n",
       "      <th>145589</th>\n",
       "      <td>myfirstgossipblog.wordpress.com/2008/04/17/nag...</td>\n",
       "      <td>benign</td>\n",
       "      <td>benign</td>\n",
       "    </tr>\n",
       "    <tr>\n",
       "      <th>317329</th>\n",
       "      <td>http://www.salsven.com/index.php?option=com_co...</td>\n",
       "      <td>defacement</td>\n",
       "      <td>defacement</td>\n",
       "    </tr>\n",
       "    <tr>\n",
       "      <th>396726</th>\n",
       "      <td>http://olx.ro/i2/auto-masini-moto-ambarcatiuni...</td>\n",
       "      <td>benign</td>\n",
       "      <td>benign</td>\n",
       "    </tr>\n",
       "    <tr>\n",
       "      <th>290066</th>\n",
       "      <td>bigsoccer.com/forum/showthread.php?t=1225582&amp;p...</td>\n",
       "      <td>benign</td>\n",
       "      <td>benign</td>\n",
       "    </tr>\n",
       "    <tr>\n",
       "      <th>513008</th>\n",
       "      <td>http://www.techrefrigeration.com/wp-includes/T...</td>\n",
       "      <td>phishing</td>\n",
       "      <td>phishing</td>\n",
       "    </tr>\n",
       "    <tr>\n",
       "      <th>610444</th>\n",
       "      <td>ecentral.creo.com/cua/</td>\n",
       "      <td>phishing</td>\n",
       "      <td>phishing</td>\n",
       "    </tr>\n",
       "    <tr>\n",
       "      <th>152273</th>\n",
       "      <td>cbc.ca/canadavotes2006/candidatesridings/quebe...</td>\n",
       "      <td>benign</td>\n",
       "      <td>benign</td>\n",
       "    </tr>\n",
       "    <tr>\n",
       "      <th>628494</th>\n",
       "      <td>www.dogma.net/markn/stl/stl.htm</td>\n",
       "      <td>phishing</td>\n",
       "      <td>defacement</td>\n",
       "    </tr>\n",
       "    <tr>\n",
       "      <th>595391</th>\n",
       "      <td>sevkon.net/js/?ref=3Dus.battle.net/d3/en/=</td>\n",
       "      <td>benign</td>\n",
       "      <td>defacement</td>\n",
       "    </tr>\n",
       "    <tr>\n",
       "      <th>147999</th>\n",
       "      <td>http://www.gammamac.it/news/53-news-apple.html</td>\n",
       "      <td>defacement</td>\n",
       "      <td>defacement</td>\n",
       "    </tr>\n",
       "    <tr>\n",
       "      <th>496078</th>\n",
       "      <td>gayamateurvideo.com/gav/product_info.php?produ...</td>\n",
       "      <td>benign</td>\n",
       "      <td>benign</td>\n",
       "    </tr>\n",
       "    <tr>\n",
       "      <th>538324</th>\n",
       "      <td>https://toulousa.com/omg/499EYJSFYHMS.exe</td>\n",
       "      <td>malware</td>\n",
       "      <td>malware</td>\n",
       "    </tr>\n",
       "    <tr>\n",
       "      <th>254266</th>\n",
       "      <td>metrolyrics.com/jesus-was-a-carpenter-lyrics-j...</td>\n",
       "      <td>benign</td>\n",
       "      <td>benign</td>\n",
       "    </tr>\n",
       "    <tr>\n",
       "      <th>637326</th>\n",
       "      <td>andreaplanet.com/tping/</td>\n",
       "      <td>phishing</td>\n",
       "      <td>benign</td>\n",
       "    </tr>\n",
       "    <tr>\n",
       "      <th>78321</th>\n",
       "      <td>datingverify.org</td>\n",
       "      <td>phishing</td>\n",
       "      <td>phishing</td>\n",
       "    </tr>\n",
       "    <tr>\n",
       "      <th>335815</th>\n",
       "      <td>http://www.needleseyeindustries.com/index.php?...</td>\n",
       "      <td>defacement</td>\n",
       "      <td>defacement</td>\n",
       "    </tr>\n",
       "    <tr>\n",
       "      <th>186727</th>\n",
       "      <td>nosorigines.qc.ca/genealogielistfirstname.aspx...</td>\n",
       "      <td>benign</td>\n",
       "      <td>benign</td>\n",
       "    </tr>\n",
       "    <tr>\n",
       "      <th>517827</th>\n",
       "      <td>facebook.com/esinam.galley</td>\n",
       "      <td>benign</td>\n",
       "      <td>benign</td>\n",
       "    </tr>\n",
       "  </tbody>\n",
       "</table>\n",
       "</div>"
      ],
      "text/plain": [
       "                                                      URL Actual Class  \\\n",
       "94990                             scoopy.com/nedkelly.htm       benign   \n",
       "208925  http://bdnews24.com/media-en/image/2014/09/09/...       benign   \n",
       "145589  myfirstgossipblog.wordpress.com/2008/04/17/nag...       benign   \n",
       "317329  http://www.salsven.com/index.php?option=com_co...   defacement   \n",
       "396726  http://olx.ro/i2/auto-masini-moto-ambarcatiuni...       benign   \n",
       "290066  bigsoccer.com/forum/showthread.php?t=1225582&p...       benign   \n",
       "513008  http://www.techrefrigeration.com/wp-includes/T...     phishing   \n",
       "610444                             ecentral.creo.com/cua/     phishing   \n",
       "152273  cbc.ca/canadavotes2006/candidatesridings/quebe...       benign   \n",
       "628494                    www.dogma.net/markn/stl/stl.htm     phishing   \n",
       "595391         sevkon.net/js/?ref=3Dus.battle.net/d3/en/=       benign   \n",
       "147999     http://www.gammamac.it/news/53-news-apple.html   defacement   \n",
       "496078  gayamateurvideo.com/gav/product_info.php?produ...       benign   \n",
       "538324          https://toulousa.com/omg/499EYJSFYHMS.exe      malware   \n",
       "254266  metrolyrics.com/jesus-was-a-carpenter-lyrics-j...       benign   \n",
       "637326                            andreaplanet.com/tping/     phishing   \n",
       "78321                                    datingverify.org     phishing   \n",
       "335815  http://www.needleseyeindustries.com/index.php?...   defacement   \n",
       "186727  nosorigines.qc.ca/genealogielistfirstname.aspx...       benign   \n",
       "517827                         facebook.com/esinam.galley       benign   \n",
       "\n",
       "       Predicted Class  \n",
       "94990           benign  \n",
       "208925          benign  \n",
       "145589          benign  \n",
       "317329      defacement  \n",
       "396726          benign  \n",
       "290066          benign  \n",
       "513008        phishing  \n",
       "610444        phishing  \n",
       "152273          benign  \n",
       "628494      defacement  \n",
       "595391      defacement  \n",
       "147999      defacement  \n",
       "496078          benign  \n",
       "538324         malware  \n",
       "254266          benign  \n",
       "637326          benign  \n",
       "78321         phishing  \n",
       "335815      defacement  \n",
       "186727          benign  \n",
       "517827          benign  "
      ]
     },
     "execution_count": 237,
     "metadata": {},
     "output_type": "execute_result"
    }
   ],
   "source": [
    "inference_on_random_samples(data, grid_search_best_w_replacement.best_estimator_).head(20)"
   ]
  },
  {
   "cell_type": "markdown",
   "id": "b49728de-39fc-4d99-bb94-8b22ec177426",
   "metadata": {},
   "source": [
    "### Deep Learning Model"
   ]
  },
  {
   "cell_type": "code",
   "execution_count": 238,
   "id": "57426ba8-c2c6-46ab-9c8a-3f0057aefaa8",
   "metadata": {},
   "outputs": [
    {
     "name": "stdout",
     "output_type": "stream",
     "text": [
      "              precision    recall  f1-score   support\n",
      "\n",
      "      benign       0.98      0.88      0.93        58\n",
      "  defacement       0.82      0.88      0.85        16\n",
      "     malware       1.00      0.89      0.94         9\n",
      "    phishing       0.70      0.94      0.80        17\n",
      "\n",
      "    accuracy                           0.89       100\n",
      "   macro avg       0.87      0.90      0.88       100\n",
      "weighted avg       0.91      0.89      0.89       100\n",
      "\n"
     ]
    },
    {
     "data": {
      "text/html": [
       "<div>\n",
       "<style scoped>\n",
       "    .dataframe tbody tr th:only-of-type {\n",
       "        vertical-align: middle;\n",
       "    }\n",
       "\n",
       "    .dataframe tbody tr th {\n",
       "        vertical-align: top;\n",
       "    }\n",
       "\n",
       "    .dataframe thead th {\n",
       "        text-align: right;\n",
       "    }\n",
       "</style>\n",
       "<table border=\"1\" class=\"dataframe\">\n",
       "  <thead>\n",
       "    <tr style=\"text-align: right;\">\n",
       "      <th></th>\n",
       "      <th>URL</th>\n",
       "      <th>Actual Class</th>\n",
       "      <th>Predicted Class</th>\n",
       "    </tr>\n",
       "  </thead>\n",
       "  <tbody>\n",
       "    <tr>\n",
       "      <th>296826</th>\n",
       "      <td>daviddenny.com/</td>\n",
       "      <td>benign</td>\n",
       "      <td>benign</td>\n",
       "    </tr>\n",
       "    <tr>\n",
       "      <th>539989</th>\n",
       "      <td>http://45.154.1.58/bins/Gummy.arm</td>\n",
       "      <td>malware</td>\n",
       "      <td>malware</td>\n",
       "    </tr>\n",
       "    <tr>\n",
       "      <th>537564</th>\n",
       "      <td>http://134.122.10.226/bash</td>\n",
       "      <td>malware</td>\n",
       "      <td>malware</td>\n",
       "    </tr>\n",
       "    <tr>\n",
       "      <th>125137</th>\n",
       "      <td>pittsburgh.pahighways.com/</td>\n",
       "      <td>benign</td>\n",
       "      <td>benign</td>\n",
       "    </tr>\n",
       "    <tr>\n",
       "      <th>157943</th>\n",
       "      <td>http://viva-sport.com/index.php?page=shop.brow...</td>\n",
       "      <td>defacement</td>\n",
       "      <td>defacement</td>\n",
       "    </tr>\n",
       "    <tr>\n",
       "      <th>48257</th>\n",
       "      <td>wn.com/Wet_Hot_American_Summer__Higher_and_Higher</td>\n",
       "      <td>benign</td>\n",
       "      <td>benign</td>\n",
       "    </tr>\n",
       "    <tr>\n",
       "      <th>559488</th>\n",
       "      <td>www.clubtaunus.soroptimist.de/img/ha.php</td>\n",
       "      <td>benign</td>\n",
       "      <td>phishing</td>\n",
       "    </tr>\n",
       "    <tr>\n",
       "      <th>414400</th>\n",
       "      <td>harvard.academia.edu/StevenPinker</td>\n",
       "      <td>benign</td>\n",
       "      <td>benign</td>\n",
       "    </tr>\n",
       "    <tr>\n",
       "      <th>86307</th>\n",
       "      <td>http://dantri.com.vn/ban-doc/ky-an-194-pho-hue...</td>\n",
       "      <td>benign</td>\n",
       "      <td>benign</td>\n",
       "    </tr>\n",
       "    <tr>\n",
       "      <th>164491</th>\n",
       "      <td>wn.com/Niggar</td>\n",
       "      <td>benign</td>\n",
       "      <td>benign</td>\n",
       "    </tr>\n",
       "    <tr>\n",
       "      <th>549039</th>\n",
       "      <td>https://mitsui-jyuku.mixh.jp/uploads/664ODNO38...</td>\n",
       "      <td>malware</td>\n",
       "      <td>malware</td>\n",
       "    </tr>\n",
       "    <tr>\n",
       "      <th>464243</th>\n",
       "      <td>fantasticfiction.co.uk/d/l-sprague-de-camp/los...</td>\n",
       "      <td>benign</td>\n",
       "      <td>defacement</td>\n",
       "    </tr>\n",
       "    <tr>\n",
       "      <th>187801</th>\n",
       "      <td>http://www.szovetseg.eu/feladatok.php?name=hir...</td>\n",
       "      <td>defacement</td>\n",
       "      <td>defacement</td>\n",
       "    </tr>\n",
       "    <tr>\n",
       "      <th>182333</th>\n",
       "      <td>youtube.com/watch?v=LkrjJEDa1iY</td>\n",
       "      <td>benign</td>\n",
       "      <td>benign</td>\n",
       "    </tr>\n",
       "    <tr>\n",
       "      <th>29232</th>\n",
       "      <td>matthyde.com/</td>\n",
       "      <td>benign</td>\n",
       "      <td>benign</td>\n",
       "    </tr>\n",
       "    <tr>\n",
       "      <th>169765</th>\n",
       "      <td>facebook.com/pages/Cory-Bowles/108327735861421</td>\n",
       "      <td>benign</td>\n",
       "      <td>benign</td>\n",
       "    </tr>\n",
       "    <tr>\n",
       "      <th>96744</th>\n",
       "      <td>http://9779.info/%E6%9D%90%E6%96%99%E8%A1%A8%E...</td>\n",
       "      <td>malware</td>\n",
       "      <td>malware</td>\n",
       "    </tr>\n",
       "    <tr>\n",
       "      <th>105451</th>\n",
       "      <td>http://jezebel.com/new-video-shows-bart-cop-br...</td>\n",
       "      <td>benign</td>\n",
       "      <td>benign</td>\n",
       "    </tr>\n",
       "    <tr>\n",
       "      <th>145790</th>\n",
       "      <td>list-company.com/company-info/4028809a13dd74c8...</td>\n",
       "      <td>benign</td>\n",
       "      <td>benign</td>\n",
       "    </tr>\n",
       "    <tr>\n",
       "      <th>553170</th>\n",
       "      <td>http://asteitalia.cf/dj/dj.exe</td>\n",
       "      <td>malware</td>\n",
       "      <td>phishing</td>\n",
       "    </tr>\n",
       "  </tbody>\n",
       "</table>\n",
       "</div>"
      ],
      "text/plain": [
       "                                                      URL Actual Class  \\\n",
       "296826                                    daviddenny.com/       benign   \n",
       "539989                  http://45.154.1.58/bins/Gummy.arm      malware   \n",
       "537564                         http://134.122.10.226/bash      malware   \n",
       "125137                         pittsburgh.pahighways.com/       benign   \n",
       "157943  http://viva-sport.com/index.php?page=shop.brow...   defacement   \n",
       "48257   wn.com/Wet_Hot_American_Summer__Higher_and_Higher       benign   \n",
       "559488           www.clubtaunus.soroptimist.de/img/ha.php       benign   \n",
       "414400                  harvard.academia.edu/StevenPinker       benign   \n",
       "86307   http://dantri.com.vn/ban-doc/ky-an-194-pho-hue...       benign   \n",
       "164491                                      wn.com/Niggar       benign   \n",
       "549039  https://mitsui-jyuku.mixh.jp/uploads/664ODNO38...      malware   \n",
       "464243  fantasticfiction.co.uk/d/l-sprague-de-camp/los...       benign   \n",
       "187801  http://www.szovetseg.eu/feladatok.php?name=hir...   defacement   \n",
       "182333                    youtube.com/watch?v=LkrjJEDa1iY       benign   \n",
       "29232                                       matthyde.com/       benign   \n",
       "169765     facebook.com/pages/Cory-Bowles/108327735861421       benign   \n",
       "96744   http://9779.info/%E6%9D%90%E6%96%99%E8%A1%A8%E...      malware   \n",
       "105451  http://jezebel.com/new-video-shows-bart-cop-br...       benign   \n",
       "145790  list-company.com/company-info/4028809a13dd74c8...       benign   \n",
       "553170                     http://asteitalia.cf/dj/dj.exe      malware   \n",
       "\n",
       "       Predicted Class  \n",
       "296826          benign  \n",
       "539989         malware  \n",
       "537564         malware  \n",
       "125137          benign  \n",
       "157943      defacement  \n",
       "48257           benign  \n",
       "559488        phishing  \n",
       "414400          benign  \n",
       "86307           benign  \n",
       "164491          benign  \n",
       "549039         malware  \n",
       "464243      defacement  \n",
       "187801      defacement  \n",
       "182333          benign  \n",
       "29232           benign  \n",
       "169765          benign  \n",
       "96744          malware  \n",
       "105451          benign  \n",
       "145790          benign  \n",
       "553170        phishing  "
      ]
     },
     "execution_count": 238,
     "metadata": {},
     "output_type": "execute_result"
    }
   ],
   "source": [
    "inference_on_random_samples(data, random_sample_with_replacement_model).head(20)"
   ]
  },
  {
   "cell_type": "markdown",
   "id": "dc5d182e-a925-4f6c-b0ba-aff7bb669904",
   "metadata": {},
   "source": [
    "## Stratified Sampling"
   ]
  },
  {
   "cell_type": "markdown",
   "id": "adedf9e4-1524-4640-8916-82b4bc1a51ce",
   "metadata": {},
   "source": [
    "### Gradient Boosting Model"
   ]
  },
  {
   "cell_type": "code",
   "execution_count": 239,
   "id": "69505952-604c-41bc-aae4-0800c883b6ce",
   "metadata": {},
   "outputs": [
    {
     "name": "stdout",
     "output_type": "stream",
     "text": [
      "              precision    recall  f1-score   support\n",
      "\n",
      "      benign       0.97      0.86      0.91        65\n",
      "  defacement       0.82      1.00      0.90        14\n",
      "     malware       0.67      1.00      0.80         6\n",
      "    phishing       0.56      0.60      0.58        15\n",
      "\n",
      "    accuracy                           0.85       100\n",
      "   macro avg       0.75      0.87      0.80       100\n",
      "weighted avg       0.87      0.85      0.85       100\n",
      "\n"
     ]
    },
    {
     "data": {
      "text/html": [
       "<div>\n",
       "<style scoped>\n",
       "    .dataframe tbody tr th:only-of-type {\n",
       "        vertical-align: middle;\n",
       "    }\n",
       "\n",
       "    .dataframe tbody tr th {\n",
       "        vertical-align: top;\n",
       "    }\n",
       "\n",
       "    .dataframe thead th {\n",
       "        text-align: right;\n",
       "    }\n",
       "</style>\n",
       "<table border=\"1\" class=\"dataframe\">\n",
       "  <thead>\n",
       "    <tr style=\"text-align: right;\">\n",
       "      <th></th>\n",
       "      <th>URL</th>\n",
       "      <th>Actual Class</th>\n",
       "      <th>Predicted Class</th>\n",
       "    </tr>\n",
       "  </thead>\n",
       "  <tbody>\n",
       "    <tr>\n",
       "      <th>227161</th>\n",
       "      <td>axiumeuropa.com/</td>\n",
       "      <td>benign</td>\n",
       "      <td>benign</td>\n",
       "    </tr>\n",
       "    <tr>\n",
       "      <th>596778</th>\n",
       "      <td>updateinformation.bankofamerica.com.ntamarine....</td>\n",
       "      <td>benign</td>\n",
       "      <td>phishing</td>\n",
       "    </tr>\n",
       "    <tr>\n",
       "      <th>158892</th>\n",
       "      <td>gameindustrytweet.com/video-game-companies-on-...</td>\n",
       "      <td>benign</td>\n",
       "      <td>benign</td>\n",
       "    </tr>\n",
       "    <tr>\n",
       "      <th>21530</th>\n",
       "      <td>city-data.com/city/Washington.html</td>\n",
       "      <td>benign</td>\n",
       "      <td>benign</td>\n",
       "    </tr>\n",
       "    <tr>\n",
       "      <th>520469</th>\n",
       "      <td>https://sovereignestates.nyc/ACH/FBG/office.php</td>\n",
       "      <td>phishing</td>\n",
       "      <td>defacement</td>\n",
       "    </tr>\n",
       "    <tr>\n",
       "      <th>187901</th>\n",
       "      <td>http://www.verall.com.pl/oferta.html?start=6</td>\n",
       "      <td>defacement</td>\n",
       "      <td>defacement</td>\n",
       "    </tr>\n",
       "    <tr>\n",
       "      <th>482396</th>\n",
       "      <td>http://www.recettepourtous.net/index.php?optio...</td>\n",
       "      <td>defacement</td>\n",
       "      <td>defacement</td>\n",
       "    </tr>\n",
       "    <tr>\n",
       "      <th>61407</th>\n",
       "      <td>urbandictionary.com/define.php?term=Jeff%20Sig...</td>\n",
       "      <td>benign</td>\n",
       "      <td>benign</td>\n",
       "    </tr>\n",
       "    <tr>\n",
       "      <th>207319</th>\n",
       "      <td>en.wikipedia.org/wiki/Twelve_Gauge_Valentine</td>\n",
       "      <td>benign</td>\n",
       "      <td>benign</td>\n",
       "    </tr>\n",
       "    <tr>\n",
       "      <th>588872</th>\n",
       "      <td>engels.newlifevillas.com/sweupdate.php</td>\n",
       "      <td>benign</td>\n",
       "      <td>phishing</td>\n",
       "    </tr>\n",
       "    <tr>\n",
       "      <th>205565</th>\n",
       "      <td>wc.rootsweb.ancestry.com/cgi-bin/igm.cgi?op=SH...</td>\n",
       "      <td>benign</td>\n",
       "      <td>benign</td>\n",
       "    </tr>\n",
       "    <tr>\n",
       "      <th>484149</th>\n",
       "      <td>alumni.wesleyan.edu/</td>\n",
       "      <td>benign</td>\n",
       "      <td>benign</td>\n",
       "    </tr>\n",
       "    <tr>\n",
       "      <th>159324</th>\n",
       "      <td>earlytelevision.org/rca_promo_films.html</td>\n",
       "      <td>benign</td>\n",
       "      <td>benign</td>\n",
       "    </tr>\n",
       "    <tr>\n",
       "      <th>339209</th>\n",
       "      <td>babycenter.com/baby-names-rodine-141425.htm</td>\n",
       "      <td>benign</td>\n",
       "      <td>benign</td>\n",
       "    </tr>\n",
       "    <tr>\n",
       "      <th>349404</th>\n",
       "      <td>http://www.sikobv.eu/en/component/content/arti...</td>\n",
       "      <td>defacement</td>\n",
       "      <td>defacement</td>\n",
       "    </tr>\n",
       "    <tr>\n",
       "      <th>439616</th>\n",
       "      <td>onlineradio2.com/listen/Virgin_Radio_96_FM_959</td>\n",
       "      <td>benign</td>\n",
       "      <td>benign</td>\n",
       "    </tr>\n",
       "    <tr>\n",
       "      <th>608217</th>\n",
       "      <td>www.bdbiosciences.com/discovery_labware/</td>\n",
       "      <td>phishing</td>\n",
       "      <td>benign</td>\n",
       "    </tr>\n",
       "    <tr>\n",
       "      <th>601210</th>\n",
       "      <td>www.forums-managementz.tk/login.asp?ref=us.bat...</td>\n",
       "      <td>benign</td>\n",
       "      <td>benign</td>\n",
       "    </tr>\n",
       "    <tr>\n",
       "      <th>550508</th>\n",
       "      <td>https://mitsui-jyuku.mixh.jp/uploads/2370nH6.exe</td>\n",
       "      <td>malware</td>\n",
       "      <td>malware</td>\n",
       "    </tr>\n",
       "    <tr>\n",
       "      <th>614226</th>\n",
       "      <td>www.cs.brown.edu/people/black/</td>\n",
       "      <td>phishing</td>\n",
       "      <td>phishing</td>\n",
       "    </tr>\n",
       "  </tbody>\n",
       "</table>\n",
       "</div>"
      ],
      "text/plain": [
       "                                                      URL Actual Class  \\\n",
       "227161                                   axiumeuropa.com/       benign   \n",
       "596778  updateinformation.bankofamerica.com.ntamarine....       benign   \n",
       "158892  gameindustrytweet.com/video-game-companies-on-...       benign   \n",
       "21530                  city-data.com/city/Washington.html       benign   \n",
       "520469    https://sovereignestates.nyc/ACH/FBG/office.php     phishing   \n",
       "187901       http://www.verall.com.pl/oferta.html?start=6   defacement   \n",
       "482396  http://www.recettepourtous.net/index.php?optio...   defacement   \n",
       "61407   urbandictionary.com/define.php?term=Jeff%20Sig...       benign   \n",
       "207319       en.wikipedia.org/wiki/Twelve_Gauge_Valentine       benign   \n",
       "588872             engels.newlifevillas.com/sweupdate.php       benign   \n",
       "205565  wc.rootsweb.ancestry.com/cgi-bin/igm.cgi?op=SH...       benign   \n",
       "484149                               alumni.wesleyan.edu/       benign   \n",
       "159324           earlytelevision.org/rca_promo_films.html       benign   \n",
       "339209        babycenter.com/baby-names-rodine-141425.htm       benign   \n",
       "349404  http://www.sikobv.eu/en/component/content/arti...   defacement   \n",
       "439616     onlineradio2.com/listen/Virgin_Radio_96_FM_959       benign   \n",
       "608217           www.bdbiosciences.com/discovery_labware/     phishing   \n",
       "601210  www.forums-managementz.tk/login.asp?ref=us.bat...       benign   \n",
       "550508   https://mitsui-jyuku.mixh.jp/uploads/2370nH6.exe      malware   \n",
       "614226                     www.cs.brown.edu/people/black/     phishing   \n",
       "\n",
       "       Predicted Class  \n",
       "227161          benign  \n",
       "596778        phishing  \n",
       "158892          benign  \n",
       "21530           benign  \n",
       "520469      defacement  \n",
       "187901      defacement  \n",
       "482396      defacement  \n",
       "61407           benign  \n",
       "207319          benign  \n",
       "588872        phishing  \n",
       "205565          benign  \n",
       "484149          benign  \n",
       "159324          benign  \n",
       "339209          benign  \n",
       "349404      defacement  \n",
       "439616          benign  \n",
       "608217          benign  \n",
       "601210          benign  \n",
       "550508         malware  \n",
       "614226        phishing  "
      ]
     },
     "execution_count": 239,
     "metadata": {},
     "output_type": "execute_result"
    }
   ],
   "source": [
    "inference_on_random_samples(data, grid_search_best_s_s.best_estimator_).head(20)"
   ]
  },
  {
   "cell_type": "markdown",
   "id": "5cba42fb-5dfb-48c3-8aee-cd7bfd862d87",
   "metadata": {},
   "source": [
    "### Deep Learning Model"
   ]
  },
  {
   "cell_type": "code",
   "execution_count": 240,
   "id": "49b34aba-fbea-4b40-a67b-a3097f7e6424",
   "metadata": {},
   "outputs": [
    {
     "name": "stdout",
     "output_type": "stream",
     "text": [
      "              precision    recall  f1-score   support\n",
      "\n",
      "      benign       0.96      0.94      0.95        70\n",
      "  defacement       0.83      1.00      0.91        10\n",
      "     malware       0.80      1.00      0.89         4\n",
      "    phishing       0.86      0.75      0.80        16\n",
      "\n",
      "    accuracy                           0.92       100\n",
      "   macro avg       0.86      0.92      0.89       100\n",
      "weighted avg       0.92      0.92      0.92       100\n",
      "\n"
     ]
    },
    {
     "data": {
      "text/html": [
       "<div>\n",
       "<style scoped>\n",
       "    .dataframe tbody tr th:only-of-type {\n",
       "        vertical-align: middle;\n",
       "    }\n",
       "\n",
       "    .dataframe tbody tr th {\n",
       "        vertical-align: top;\n",
       "    }\n",
       "\n",
       "    .dataframe thead th {\n",
       "        text-align: right;\n",
       "    }\n",
       "</style>\n",
       "<table border=\"1\" class=\"dataframe\">\n",
       "  <thead>\n",
       "    <tr style=\"text-align: right;\">\n",
       "      <th></th>\n",
       "      <th>URL</th>\n",
       "      <th>Actual Class</th>\n",
       "      <th>Predicted Class</th>\n",
       "    </tr>\n",
       "  </thead>\n",
       "  <tbody>\n",
       "    <tr>\n",
       "      <th>607200</th>\n",
       "      <td>www.nau.edu/~vte/</td>\n",
       "      <td>phishing</td>\n",
       "      <td>phishing</td>\n",
       "    </tr>\n",
       "    <tr>\n",
       "      <th>147361</th>\n",
       "      <td>co.montgomery.tx.us/</td>\n",
       "      <td>benign</td>\n",
       "      <td>benign</td>\n",
       "    </tr>\n",
       "    <tr>\n",
       "      <th>513350</th>\n",
       "      <td>heavymetaladdiction.com/2006/07/21/impellitter...</td>\n",
       "      <td>benign</td>\n",
       "      <td>benign</td>\n",
       "    </tr>\n",
       "    <tr>\n",
       "      <th>48397</th>\n",
       "      <td>fouye.com/video.php/6246</td>\n",
       "      <td>benign</td>\n",
       "      <td>benign</td>\n",
       "    </tr>\n",
       "    <tr>\n",
       "      <th>591599</th>\n",
       "      <td>arengineering.com/webmaster/webmaster/online/P...</td>\n",
       "      <td>benign</td>\n",
       "      <td>defacement</td>\n",
       "    </tr>\n",
       "    <tr>\n",
       "      <th>95052</th>\n",
       "      <td>mylife.com/erinlangnorris</td>\n",
       "      <td>benign</td>\n",
       "      <td>benign</td>\n",
       "    </tr>\n",
       "    <tr>\n",
       "      <th>441265</th>\n",
       "      <td>msengonihomestays.co.ke</td>\n",
       "      <td>phishing</td>\n",
       "      <td>phishing</td>\n",
       "    </tr>\n",
       "    <tr>\n",
       "      <th>451866</th>\n",
       "      <td>http://www.escueladeeconomiaynegocios.com/inde...</td>\n",
       "      <td>defacement</td>\n",
       "      <td>defacement</td>\n",
       "    </tr>\n",
       "    <tr>\n",
       "      <th>409726</th>\n",
       "      <td>yelp.com/biz/wdoh-radio-station-delphos</td>\n",
       "      <td>benign</td>\n",
       "      <td>benign</td>\n",
       "    </tr>\n",
       "    <tr>\n",
       "      <th>76471</th>\n",
       "      <td>http://jezebel.com/5946826/sons-are-leaving-fe...</td>\n",
       "      <td>benign</td>\n",
       "      <td>benign</td>\n",
       "    </tr>\n",
       "    <tr>\n",
       "      <th>326865</th>\n",
       "      <td>http://viva-sport.com/index.php?page=shop.brow...</td>\n",
       "      <td>defacement</td>\n",
       "      <td>defacement</td>\n",
       "    </tr>\n",
       "    <tr>\n",
       "      <th>52594</th>\n",
       "      <td>music.yahoo.com/dubmatique/</td>\n",
       "      <td>benign</td>\n",
       "      <td>phishing</td>\n",
       "    </tr>\n",
       "    <tr>\n",
       "      <th>87584</th>\n",
       "      <td>byronshockeyland.com/un_signed_8_x_10's.htm</td>\n",
       "      <td>benign</td>\n",
       "      <td>benign</td>\n",
       "    </tr>\n",
       "    <tr>\n",
       "      <th>631671</th>\n",
       "      <td>mwolson.org/projects/EmacsWikiMode.html</td>\n",
       "      <td>phishing</td>\n",
       "      <td>benign</td>\n",
       "    </tr>\n",
       "    <tr>\n",
       "      <th>466453</th>\n",
       "      <td>baseballjump.com/memorabilia-baseball/Ernie-Lo...</td>\n",
       "      <td>benign</td>\n",
       "      <td>benign</td>\n",
       "    </tr>\n",
       "    <tr>\n",
       "      <th>327347</th>\n",
       "      <td>http://www.coleyglesias.com/index.php?option=c...</td>\n",
       "      <td>defacement</td>\n",
       "      <td>defacement</td>\n",
       "    </tr>\n",
       "    <tr>\n",
       "      <th>458644</th>\n",
       "      <td>http://www.hetsa.org.au/historyeconreview/arch...</td>\n",
       "      <td>defacement</td>\n",
       "      <td>defacement</td>\n",
       "    </tr>\n",
       "    <tr>\n",
       "      <th>338437</th>\n",
       "      <td>en.wikipedia.org/wiki/Julia_Montgomery</td>\n",
       "      <td>benign</td>\n",
       "      <td>benign</td>\n",
       "    </tr>\n",
       "    <tr>\n",
       "      <th>510862</th>\n",
       "      <td>http://extratorrent.cc/torrent_download/419114...</td>\n",
       "      <td>benign</td>\n",
       "      <td>benign</td>\n",
       "    </tr>\n",
       "    <tr>\n",
       "      <th>591605</th>\n",
       "      <td>carlosguevaraarquitectura.com/wp-content/theme...</td>\n",
       "      <td>benign</td>\n",
       "      <td>phishing</td>\n",
       "    </tr>\n",
       "  </tbody>\n",
       "</table>\n",
       "</div>"
      ],
      "text/plain": [
       "                                                      URL Actual Class  \\\n",
       "607200                                  www.nau.edu/~vte/     phishing   \n",
       "147361                               co.montgomery.tx.us/       benign   \n",
       "513350  heavymetaladdiction.com/2006/07/21/impellitter...       benign   \n",
       "48397                            fouye.com/video.php/6246       benign   \n",
       "591599  arengineering.com/webmaster/webmaster/online/P...       benign   \n",
       "95052                           mylife.com/erinlangnorris       benign   \n",
       "441265                            msengonihomestays.co.ke     phishing   \n",
       "451866  http://www.escueladeeconomiaynegocios.com/inde...   defacement   \n",
       "409726            yelp.com/biz/wdoh-radio-station-delphos       benign   \n",
       "76471   http://jezebel.com/5946826/sons-are-leaving-fe...       benign   \n",
       "326865  http://viva-sport.com/index.php?page=shop.brow...   defacement   \n",
       "52594                         music.yahoo.com/dubmatique/       benign   \n",
       "87584         byronshockeyland.com/un_signed_8_x_10's.htm       benign   \n",
       "631671            mwolson.org/projects/EmacsWikiMode.html     phishing   \n",
       "466453  baseballjump.com/memorabilia-baseball/Ernie-Lo...       benign   \n",
       "327347  http://www.coleyglesias.com/index.php?option=c...   defacement   \n",
       "458644  http://www.hetsa.org.au/historyeconreview/arch...   defacement   \n",
       "338437             en.wikipedia.org/wiki/Julia_Montgomery       benign   \n",
       "510862  http://extratorrent.cc/torrent_download/419114...       benign   \n",
       "591605  carlosguevaraarquitectura.com/wp-content/theme...       benign   \n",
       "\n",
       "       Predicted Class  \n",
       "607200        phishing  \n",
       "147361          benign  \n",
       "513350          benign  \n",
       "48397           benign  \n",
       "591599      defacement  \n",
       "95052           benign  \n",
       "441265        phishing  \n",
       "451866      defacement  \n",
       "409726          benign  \n",
       "76471           benign  \n",
       "326865      defacement  \n",
       "52594         phishing  \n",
       "87584           benign  \n",
       "631671          benign  \n",
       "466453          benign  \n",
       "327347      defacement  \n",
       "458644      defacement  \n",
       "338437          benign  \n",
       "510862          benign  \n",
       "591605        phishing  "
      ]
     },
     "execution_count": 240,
     "metadata": {},
     "output_type": "execute_result"
    }
   ],
   "source": [
    "inference_on_random_samples(data, s_s_dp_model).head(20)"
   ]
  },
  {
   "cell_type": "markdown",
   "id": "a13c6b3e-9667-4a78-809c-855f75515b33",
   "metadata": {},
   "source": [
    "# Overall, the stratified sampling technique performs well on unseen data. The reason being that all classes get equal proportions in training data, therefore making this disproportional shared data potentially \n"
   ]
  },
  {
   "cell_type": "markdown",
   "id": "5bf8bded-cdb9-4daf-9b28-08b14bd9e7c0",
   "metadata": {},
   "source": [
    "## Experimenting with stratified sampling with dimension reduction from the 448 features to 100"
   ]
  },
  {
   "cell_type": "code",
   "execution_count": 394,
   "id": "15f0d0e3-a5e5-47fc-8ba0-b0c8263532a0",
   "metadata": {},
   "outputs": [],
   "source": [
    "data_kbest = data.copy(deep = True)\n",
    "one_hot_encoded_data = pd.get_dummies(data_kbest['domain_name'], drop_first = True)\n",
    "data_kbest.drop('domain_name',inplace = True, axis = 1)\n",
    "data_kbest = pd.concat([data_kbest,one_hot_encoded_data], axis = 1)"
   ]
  },
  {
   "cell_type": "markdown",
   "id": "9e8105e6-434b-4e2f-913a-4a5edd29bedd",
   "metadata": {},
   "source": [
    "### using kbest with chisquare to estimate best features on p-values"
   ]
  },
  {
   "cell_type": "code",
   "execution_count": 395,
   "id": "74880304-3c67-4175-90b5-c51e1c0a7eb0",
   "metadata": {},
   "outputs": [],
   "source": [
    "from sklearn.feature_selection import SelectKBest, chi2\n",
    "\n",
    "\n",
    "X = data_kbest.drop([\"url\",\"type\"], axis = 1)\n",
    "y = data_kbest[\"type\"]\n",
    "Kbest = SelectKBest(chi2, k = 100)\n",
    "Kbest.fit_transform(X,y)\n",
    "selected_features_indices = Kbest.get_support(indices=True)\n",
    "selected_feature_names = [Kbest.feature_names_in_[i] for i in selected_features_indices]"
   ]
  },
  {
   "cell_type": "code",
   "execution_count": 396,
   "id": "6cb4fc7a-58f4-4fa1-b650-5df05a9db33c",
   "metadata": {},
   "outputs": [
    {
     "data": {
      "text/plain": [
       "100"
      ]
     },
     "execution_count": 396,
     "metadata": {},
     "output_type": "execute_result"
    }
   ],
   "source": [
    "len(selected_feature_names)"
   ]
  },
  {
   "cell_type": "code",
   "execution_count": 397,
   "id": "b9c6d26a-ccb3-4071-bc81-e0c2e1455dfb",
   "metadata": {},
   "outputs": [
    {
     "data": {
      "text/html": [
       "<div>\n",
       "<style scoped>\n",
       "    .dataframe tbody tr th:only-of-type {\n",
       "        vertical-align: middle;\n",
       "    }\n",
       "\n",
       "    .dataframe tbody tr th {\n",
       "        vertical-align: top;\n",
       "    }\n",
       "\n",
       "    .dataframe thead th {\n",
       "        text-align: right;\n",
       "    }\n",
       "</style>\n",
       "<table border=\"1\" class=\"dataframe\">\n",
       "  <thead>\n",
       "    <tr style=\"text-align: right;\">\n",
       "      <th></th>\n",
       "      <th>PValues</th>\n",
       "      <th>Featurenames</th>\n",
       "    </tr>\n",
       "  </thead>\n",
       "  <tbody>\n",
       "    <tr>\n",
       "      <th>0</th>\n",
       "      <td>0.000000e+00</td>\n",
       "      <td>qty_dot</td>\n",
       "    </tr>\n",
       "    <tr>\n",
       "      <th>1</th>\n",
       "      <td>0.000000e+00</td>\n",
       "      <td>qty_hyphen</td>\n",
       "    </tr>\n",
       "    <tr>\n",
       "      <th>2</th>\n",
       "      <td>0.000000e+00</td>\n",
       "      <td>qty_underline</td>\n",
       "    </tr>\n",
       "    <tr>\n",
       "      <th>3</th>\n",
       "      <td>0.000000e+00</td>\n",
       "      <td>qty_slash</td>\n",
       "    </tr>\n",
       "    <tr>\n",
       "      <th>4</th>\n",
       "      <td>0.000000e+00</td>\n",
       "      <td>qty_questionmark</td>\n",
       "    </tr>\n",
       "    <tr>\n",
       "      <th>5</th>\n",
       "      <td>0.000000e+00</td>\n",
       "      <td>qty_equalto</td>\n",
       "    </tr>\n",
       "    <tr>\n",
       "      <th>6</th>\n",
       "      <td>0.000000e+00</td>\n",
       "      <td>qty_at</td>\n",
       "    </tr>\n",
       "    <tr>\n",
       "      <th>7</th>\n",
       "      <td>0.000000e+00</td>\n",
       "      <td>qty_and</td>\n",
       "    </tr>\n",
       "    <tr>\n",
       "      <th>8</th>\n",
       "      <td>3.192113e-212</td>\n",
       "      <td>qty_exclamation</td>\n",
       "    </tr>\n",
       "    <tr>\n",
       "      <th>9</th>\n",
       "      <td>4.036711e-60</td>\n",
       "      <td>qty_space</td>\n",
       "    </tr>\n",
       "    <tr>\n",
       "      <th>10</th>\n",
       "      <td>0.000000e+00</td>\n",
       "      <td>url_length</td>\n",
       "    </tr>\n",
       "    <tr>\n",
       "      <th>11</th>\n",
       "      <td>0.000000e+00</td>\n",
       "      <td>qty_hostname</td>\n",
       "    </tr>\n",
       "    <tr>\n",
       "      <th>12</th>\n",
       "      <td>5.807290e-80</td>\n",
       "      <td>qty_or</td>\n",
       "    </tr>\n",
       "    <tr>\n",
       "      <th>13</th>\n",
       "      <td>1.370719e-53</td>\n",
       "      <td>qty_tilde</td>\n",
       "    </tr>\n",
       "    <tr>\n",
       "      <th>14</th>\n",
       "      <td>0.000000e+00</td>\n",
       "      <td>qty_comma</td>\n",
       "    </tr>\n",
       "  </tbody>\n",
       "</table>\n",
       "</div>"
      ],
      "text/plain": [
       "          PValues      Featurenames\n",
       "0    0.000000e+00           qty_dot\n",
       "1    0.000000e+00        qty_hyphen\n",
       "2    0.000000e+00     qty_underline\n",
       "3    0.000000e+00         qty_slash\n",
       "4    0.000000e+00  qty_questionmark\n",
       "5    0.000000e+00       qty_equalto\n",
       "6    0.000000e+00            qty_at\n",
       "7    0.000000e+00           qty_and\n",
       "8   3.192113e-212   qty_exclamation\n",
       "9    4.036711e-60         qty_space\n",
       "10   0.000000e+00        url_length\n",
       "11   0.000000e+00      qty_hostname\n",
       "12   5.807290e-80            qty_or\n",
       "13   1.370719e-53         qty_tilde\n",
       "14   0.000000e+00         qty_comma"
      ]
     },
     "execution_count": 397,
     "metadata": {},
     "output_type": "execute_result"
    }
   ],
   "source": [
    "pd.DataFrame({\"PValues\":Kbest.pvalues_,\"Featurenames\":Kbest.feature_names_in_}).head(15)"
   ]
  },
  {
   "cell_type": "code",
   "execution_count": 398,
   "id": "a5527ec7-2cd0-4fee-a9fb-6646635f7efb",
   "metadata": {},
   "outputs": [],
   "source": [
    "selected_feature_names.append('type')"
   ]
  },
  {
   "cell_type": "code",
   "execution_count": 362,
   "id": "3ba965d3-4cb3-4150-b8a1-8dc103fb127e",
   "metadata": {},
   "outputs": [
    {
     "data": {
      "text/html": [
       "<div>\n",
       "<style scoped>\n",
       "    .dataframe tbody tr th:only-of-type {\n",
       "        vertical-align: middle;\n",
       "    }\n",
       "\n",
       "    .dataframe tbody tr th {\n",
       "        vertical-align: top;\n",
       "    }\n",
       "\n",
       "    .dataframe thead th {\n",
       "        text-align: right;\n",
       "    }\n",
       "</style>\n",
       "<table border=\"1\" class=\"dataframe\">\n",
       "  <thead>\n",
       "    <tr style=\"text-align: right;\">\n",
       "      <th></th>\n",
       "      <th>qty_dot</th>\n",
       "      <th>qty_hyphen</th>\n",
       "      <th>qty_underline</th>\n",
       "      <th>qty_slash</th>\n",
       "      <th>qty_questionmark</th>\n",
       "      <th>qty_equalto</th>\n",
       "      <th>qty_at</th>\n",
       "      <th>qty_and</th>\n",
       "      <th>qty_exclamation</th>\n",
       "      <th>qty_space</th>\n",
       "      <th>...</th>\n",
       "      <th>top</th>\n",
       "      <th>tr</th>\n",
       "      <th>trade</th>\n",
       "      <th>ua</th>\n",
       "      <th>uk</th>\n",
       "      <th>vn</th>\n",
       "      <th>website</th>\n",
       "      <th>xyz</th>\n",
       "      <th>za</th>\n",
       "      <th>type</th>\n",
       "    </tr>\n",
       "  </thead>\n",
       "  <tbody>\n",
       "    <tr>\n",
       "      <th>0</th>\n",
       "      <td>2</td>\n",
       "      <td>1</td>\n",
       "      <td>0</td>\n",
       "      <td>0</td>\n",
       "      <td>0</td>\n",
       "      <td>0</td>\n",
       "      <td>0</td>\n",
       "      <td>0</td>\n",
       "      <td>0</td>\n",
       "      <td>0</td>\n",
       "      <td>...</td>\n",
       "      <td>0</td>\n",
       "      <td>0</td>\n",
       "      <td>0</td>\n",
       "      <td>0</td>\n",
       "      <td>0</td>\n",
       "      <td>0</td>\n",
       "      <td>0</td>\n",
       "      <td>0</td>\n",
       "      <td>0</td>\n",
       "      <td>phishing</td>\n",
       "    </tr>\n",
       "    <tr>\n",
       "      <th>1</th>\n",
       "      <td>2</td>\n",
       "      <td>0</td>\n",
       "      <td>1</td>\n",
       "      <td>2</td>\n",
       "      <td>0</td>\n",
       "      <td>0</td>\n",
       "      <td>0</td>\n",
       "      <td>0</td>\n",
       "      <td>0</td>\n",
       "      <td>0</td>\n",
       "      <td>...</td>\n",
       "      <td>0</td>\n",
       "      <td>0</td>\n",
       "      <td>0</td>\n",
       "      <td>0</td>\n",
       "      <td>0</td>\n",
       "      <td>0</td>\n",
       "      <td>0</td>\n",
       "      <td>0</td>\n",
       "      <td>0</td>\n",
       "      <td>benign</td>\n",
       "    </tr>\n",
       "    <tr>\n",
       "      <th>2</th>\n",
       "      <td>2</td>\n",
       "      <td>0</td>\n",
       "      <td>0</td>\n",
       "      <td>3</td>\n",
       "      <td>0</td>\n",
       "      <td>0</td>\n",
       "      <td>0</td>\n",
       "      <td>0</td>\n",
       "      <td>0</td>\n",
       "      <td>0</td>\n",
       "      <td>...</td>\n",
       "      <td>0</td>\n",
       "      <td>0</td>\n",
       "      <td>0</td>\n",
       "      <td>0</td>\n",
       "      <td>0</td>\n",
       "      <td>0</td>\n",
       "      <td>0</td>\n",
       "      <td>0</td>\n",
       "      <td>0</td>\n",
       "      <td>benign</td>\n",
       "    </tr>\n",
       "    <tr>\n",
       "      <th>3</th>\n",
       "      <td>3</td>\n",
       "      <td>1</td>\n",
       "      <td>2</td>\n",
       "      <td>3</td>\n",
       "      <td>1</td>\n",
       "      <td>4</td>\n",
       "      <td>0</td>\n",
       "      <td>3</td>\n",
       "      <td>0</td>\n",
       "      <td>0</td>\n",
       "      <td>...</td>\n",
       "      <td>0</td>\n",
       "      <td>0</td>\n",
       "      <td>0</td>\n",
       "      <td>0</td>\n",
       "      <td>0</td>\n",
       "      <td>0</td>\n",
       "      <td>0</td>\n",
       "      <td>0</td>\n",
       "      <td>0</td>\n",
       "      <td>defacement</td>\n",
       "    </tr>\n",
       "    <tr>\n",
       "      <th>4</th>\n",
       "      <td>2</td>\n",
       "      <td>1</td>\n",
       "      <td>1</td>\n",
       "      <td>3</td>\n",
       "      <td>1</td>\n",
       "      <td>3</td>\n",
       "      <td>0</td>\n",
       "      <td>2</td>\n",
       "      <td>0</td>\n",
       "      <td>0</td>\n",
       "      <td>...</td>\n",
       "      <td>0</td>\n",
       "      <td>0</td>\n",
       "      <td>0</td>\n",
       "      <td>0</td>\n",
       "      <td>0</td>\n",
       "      <td>0</td>\n",
       "      <td>0</td>\n",
       "      <td>0</td>\n",
       "      <td>0</td>\n",
       "      <td>defacement</td>\n",
       "    </tr>\n",
       "  </tbody>\n",
       "</table>\n",
       "<p>5 rows × 101 columns</p>\n",
       "</div>"
      ],
      "text/plain": [
       "   qty_dot  qty_hyphen  qty_underline  qty_slash  qty_questionmark  \\\n",
       "0        2           1              0          0                 0   \n",
       "1        2           0              1          2                 0   \n",
       "2        2           0              0          3                 0   \n",
       "3        3           1              2          3                 1   \n",
       "4        2           1              1          3                 1   \n",
       "\n",
       "   qty_equalto  qty_at  qty_and  qty_exclamation  qty_space  ...  top  tr  \\\n",
       "0            0       0        0                0          0  ...    0   0   \n",
       "1            0       0        0                0          0  ...    0   0   \n",
       "2            0       0        0                0          0  ...    0   0   \n",
       "3            4       0        3                0          0  ...    0   0   \n",
       "4            3       0        2                0          0  ...    0   0   \n",
       "\n",
       "   trade  ua  uk  vn  website  xyz  za        type  \n",
       "0      0   0   0   0        0    0   0    phishing  \n",
       "1      0   0   0   0        0    0   0      benign  \n",
       "2      0   0   0   0        0    0   0      benign  \n",
       "3      0   0   0   0        0    0   0  defacement  \n",
       "4      0   0   0   0        0    0   0  defacement  \n",
       "\n",
       "[5 rows x 101 columns]"
      ]
     },
     "execution_count": 362,
     "metadata": {},
     "output_type": "execute_result"
    }
   ],
   "source": [
    "data_ = data_kbest[selected_feature_names]\n",
    "data_.head()"
   ]
  },
  {
   "cell_type": "markdown",
   "id": "dcc4d9c6-418b-449c-a3d2-23d4d13c4236",
   "metadata": {},
   "source": [
    "## Creating the Dataset"
   ]
  },
  {
   "cell_type": "code",
   "execution_count": 363,
   "id": "ed007d71-cc8e-47dc-90ce-0878d18360b9",
   "metadata": {},
   "outputs": [],
   "source": [
    "weights = data_[\"type\"].value_counts()"
   ]
  },
  {
   "cell_type": "code",
   "execution_count": 364,
   "id": "9ad32a1f-8ef7-4c0d-a2f4-73027a363bd7",
   "metadata": {},
   "outputs": [],
   "source": [
    "def select_equal_samples(group):\n",
    "    return group.sample(100000//4)\n",
    "data_ = data_.groupby('type', group_keys=False).apply(select_equal_samples)"
   ]
  },
  {
   "cell_type": "code",
   "execution_count": 365,
   "id": "628686cd-f1e7-4f16-88ca-6d37c3b275e9",
   "metadata": {},
   "outputs": [
    {
     "data": {
      "text/plain": [
       "benign        25000\n",
       "defacement    25000\n",
       "malware       25000\n",
       "phishing      25000\n",
       "Name: type, dtype: int64"
      ]
     },
     "execution_count": 365,
     "metadata": {},
     "output_type": "execute_result"
    }
   ],
   "source": [
    "data_[\"type\"].value_counts()"
   ]
  },
  {
   "cell_type": "code",
   "execution_count": 366,
   "id": "72f1b6ca-266d-4286-88dd-c8180771d7f4",
   "metadata": {},
   "outputs": [],
   "source": [
    "X = data_.drop([\"type\"], axis = 1)\n",
    "y = data_[\"type\"]"
   ]
  },
  {
   "cell_type": "code",
   "execution_count": 367,
   "id": "0be24e53-3e29-4a04-b672-855110d653f4",
   "metadata": {},
   "outputs": [],
   "source": [
    "X_train, X_test, y_train, y_test = train_test_split(X, y, test_size=0.2, random_state=42)\n"
   ]
  },
  {
   "cell_type": "markdown",
   "id": "1a2d29fe-b4f9-4e4a-b94a-2369759c659c",
   "metadata": {},
   "source": [
    "## Finetuning the Best Estimator Which is Gradient Boosting"
   ]
  },
  {
   "cell_type": "code",
   "execution_count": 368,
   "id": "8c6e4206-82ae-40f0-88f3-57f5cf564306",
   "metadata": {},
   "outputs": [
    {
     "name": "stdout",
     "output_type": "stream",
     "text": [
      "The time taken to select best parameters for gradientBoosting Classifier using this instance of GridsearchcV is 701.2287602424622\n",
      "Best Hyperparameters: {'classifier__learning_rate': 0.2, 'classifier__max_depth': 7, 'classifier__n_estimators': 200}\n",
      "Test Accuracy: 0.9045\n"
     ]
    }
   ],
   "source": [
    "grid_search_best_s_s = GridSearchCV(estimator=pipeline_best, param_grid=param_grids, cv=3, n_jobs=-5)\n",
    "t_start = time.time()\n",
    "grid_search_best_s_s.fit(X_train, y_train)\n",
    "t_end = time.time()\n",
    "print(f\"The time taken to select best parameters for gradientBoosting Classifier using this instance of GridsearchcV is {t_end - t_start}\")\n",
    "print(\"Best Hyperparameters:\", grid_search_best_s_s.best_params_)\n",
    "accuracy = grid_search_best_s_s.best_estimator_.score(X_test, y_test)\n",
    "print(\"Test Accuracy:\", accuracy)"
   ]
  },
  {
   "cell_type": "code",
   "execution_count": 369,
   "id": "01debb9c-74aa-4a7a-9cc1-1ee39304db55",
   "metadata": {},
   "outputs": [
    {
     "name": "stdout",
     "output_type": "stream",
     "text": [
      "Classification Report\n",
      "\n",
      "              precision    recall  f1-score   support\n",
      "\n",
      "      benign       0.89      0.87      0.88      5026\n",
      "  defacement       0.91      0.94      0.93      5009\n",
      "     malware       0.96      0.94      0.95      4996\n",
      "    phishing       0.85      0.86      0.86      4969\n",
      "\n",
      "    accuracy                           0.90     20000\n",
      "   macro avg       0.90      0.90      0.90     20000\n",
      "weighted avg       0.90      0.90      0.90     20000\n",
      "\n",
      "Confusion Matrix\n",
      "\n"
     ]
    },
    {
     "data": {
      "text/plain": [
       "<AxesSubplot:>"
      ]
     },
     "execution_count": 369,
     "metadata": {},
     "output_type": "execute_result"
    },
    {
     "data": {
      "image/png": "[encoded data removed]",
      "text/plain": [
       "<Figure size 432x288 with 2 Axes>"
      ]
     },
     "metadata": {
      "needs_background": "light"
     },
     "output_type": "display_data"
    }
   ],
   "source": [
    "import seaborn as sns\n",
    "from sklearn.metrics import classification_report, confusion_matrix\n",
    "\n",
    "y_pred = grid_search_best_s_s.best_estimator_.predict(X_test)\n",
    "confusion_matrix_ = confusion_matrix(y_test, y_pred)\n",
    "classification_report_ = classification_report(y_test, y_pred)\n",
    "print(\"Classification Report\")\n",
    "print()\n",
    "print(classification_report_)\n",
    "print(\"Confusion Matrix\")\n",
    "print()\n",
    "sns.heatmap(confusion_matrix_ ,annot = True)"
   ]
  },
  {
   "cell_type": "markdown",
   "id": "d9d8b43f-425d-45ca-acb5-6546340fa8f6",
   "metadata": {},
   "source": [
    "## Deeplearning Model"
   ]
  },
  {
   "cell_type": "code",
   "execution_count": 370,
   "id": "a64b74d4-d552-4f68-9218-454c00ac2ee6",
   "metadata": {},
   "outputs": [
    {
     "name": "stdout",
     "output_type": "stream",
     "text": [
      "Epoch 1/50\n",
      "2500/2500 [==============================] - 4s 1ms/step - loss: 0.7214 - accuracy: 0.7237\n",
      "Epoch 2/50\n",
      "2500/2500 [==============================] - 3s 1ms/step - loss: 0.5222 - accuracy: 0.8024\n",
      "Epoch 3/50\n",
      "2500/2500 [==============================] - 3s 1ms/step - loss: 0.4723 - accuracy: 0.8232\n",
      "Epoch 4/50\n",
      "2500/2500 [==============================] - 3s 1ms/step - loss: 0.4365 - accuracy: 0.8372\n",
      "Epoch 5/50\n",
      "2500/2500 [==============================] - 3s 1ms/step - loss: 0.4124 - accuracy: 0.8454\n",
      "Epoch 6/50\n",
      "2500/2500 [==============================] - 3s 1ms/step - loss: 0.3963 - accuracy: 0.8525\n",
      "Epoch 7/50\n",
      "2500/2500 [==============================] - 3s 1ms/step - loss: 0.3823 - accuracy: 0.8569\n",
      "Epoch 8/50\n",
      "2500/2500 [==============================] - 3s 1ms/step - loss: 0.3714 - accuracy: 0.8613\n",
      "Epoch 9/50\n",
      "2500/2500 [==============================] - 3s 1ms/step - loss: 0.3624 - accuracy: 0.8642\n",
      "Epoch 10/50\n",
      "2500/2500 [==============================] - 3s 1ms/step - loss: 0.3534 - accuracy: 0.8675\n",
      "Epoch 11/50\n",
      "2500/2500 [==============================] - 3s 1ms/step - loss: 0.3471 - accuracy: 0.8707\n",
      "Epoch 12/50\n",
      "2500/2500 [==============================] - 3s 1ms/step - loss: 0.3419 - accuracy: 0.8728\n",
      "Epoch 13/50\n",
      "2500/2500 [==============================] - 3s 1ms/step - loss: 0.3348 - accuracy: 0.8751\n",
      "Epoch 14/50\n",
      "2500/2500 [==============================] - 3s 1ms/step - loss: 0.3284 - accuracy: 0.8781\n",
      "Epoch 15/50\n",
      "2500/2500 [==============================] - 3s 1ms/step - loss: 0.3262 - accuracy: 0.8790\n",
      "Epoch 16/50\n",
      "2500/2500 [==============================] - 3s 1ms/step - loss: 0.3194 - accuracy: 0.8817\n",
      "Epoch 17/50\n",
      "2500/2500 [==============================] - 3s 1ms/step - loss: 0.3164 - accuracy: 0.8822\n",
      "Epoch 18/50\n",
      "2500/2500 [==============================] - 3s 1ms/step - loss: 0.3099 - accuracy: 0.8851\n",
      "Epoch 19/50\n",
      "2500/2500 [==============================] - 3s 1ms/step - loss: 0.3059 - accuracy: 0.8869\n",
      "Epoch 20/50\n",
      "2500/2500 [==============================] - 3s 1ms/step - loss: 0.3041 - accuracy: 0.8861\n",
      "Epoch 21/50\n",
      "2500/2500 [==============================] - 3s 1ms/step - loss: 0.3023 - accuracy: 0.8880\n",
      "Epoch 22/50\n",
      "2500/2500 [==============================] - 3s 1ms/step - loss: 0.2976 - accuracy: 0.8895\n",
      "Epoch 23/50\n",
      "2500/2500 [==============================] - 3s 1ms/step - loss: 0.2950 - accuracy: 0.8901\n",
      "Epoch 24/50\n",
      "2500/2500 [==============================] - 3s 1ms/step - loss: 0.2908 - accuracy: 0.8917\n",
      "Epoch 25/50\n",
      "2500/2500 [==============================] - 3s 1ms/step - loss: 0.2883 - accuracy: 0.8928\n",
      "Epoch 26/50\n",
      "2500/2500 [==============================] - 3s 1ms/step - loss: 0.2877 - accuracy: 0.8926\n",
      "Epoch 27/50\n",
      "2500/2500 [==============================] - 3s 1ms/step - loss: 0.2825 - accuracy: 0.8952\n",
      "Epoch 28/50\n",
      "2500/2500 [==============================] - 3s 1ms/step - loss: 0.2823 - accuracy: 0.8947\n",
      "Epoch 29/50\n",
      "2500/2500 [==============================] - 3s 1ms/step - loss: 0.2777 - accuracy: 0.8957\n",
      "Epoch 30/50\n",
      "2500/2500 [==============================] - 3s 1ms/step - loss: 0.2770 - accuracy: 0.8961\n",
      "Epoch 31/50\n",
      "2500/2500 [==============================] - 3s 1ms/step - loss: 0.2734 - accuracy: 0.8979\n",
      "Epoch 32/50\n",
      "2500/2500 [==============================] - 3s 1ms/step - loss: 0.2743 - accuracy: 0.8980\n",
      "Epoch 33/50\n",
      "2500/2500 [==============================] - 3s 1ms/step - loss: 0.2712 - accuracy: 0.8984\n",
      "Epoch 34/50\n",
      "2500/2500 [==============================] - 3s 1ms/step - loss: 0.2709 - accuracy: 0.8992\n",
      "Epoch 35/50\n",
      "2500/2500 [==============================] - 3s 1ms/step - loss: 0.2690 - accuracy: 0.8993\n",
      "Epoch 36/50\n",
      "2500/2500 [==============================] - 3s 1ms/step - loss: 0.2637 - accuracy: 0.9014\n",
      "Epoch 37/50\n",
      "2500/2500 [==============================] - 3s 1ms/step - loss: 0.2641 - accuracy: 0.9008\n",
      "Epoch 38/50\n",
      "2500/2500 [==============================] - 3s 1ms/step - loss: 0.2615 - accuracy: 0.9024\n",
      "Epoch 39/50\n",
      "2500/2500 [==============================] - 3s 1ms/step - loss: 0.2599 - accuracy: 0.9031\n",
      "Epoch 40/50\n",
      "2500/2500 [==============================] - 3s 1ms/step - loss: 0.2593 - accuracy: 0.9026\n",
      "Epoch 41/50\n",
      "2500/2500 [==============================] - 3s 1ms/step - loss: 0.2573 - accuracy: 0.9037\n",
      "Epoch 42/50\n",
      "2500/2500 [==============================] - 3s 1ms/step - loss: 0.2561 - accuracy: 0.9045\n",
      "Epoch 43/50\n",
      "2500/2500 [==============================] - 3s 1ms/step - loss: 0.2552 - accuracy: 0.9039\n",
      "Epoch 44/50\n",
      "2500/2500 [==============================] - 3s 1ms/step - loss: 0.2539 - accuracy: 0.9049\n",
      "Epoch 45/50\n",
      "2500/2500 [==============================] - 3s 1ms/step - loss: 0.2505 - accuracy: 0.9055\n",
      "Epoch 46/50\n",
      "2500/2500 [==============================] - 3s 1ms/step - loss: 0.2494 - accuracy: 0.9066\n",
      "Epoch 47/50\n",
      "2500/2500 [==============================] - 3s 1ms/step - loss: 0.2496 - accuracy: 0.9054\n",
      "Epoch 48/50\n",
      "2500/2500 [==============================] - 3s 1ms/step - loss: 0.2479 - accuracy: 0.9062\n",
      "Epoch 49/50\n",
      "2500/2500 [==============================] - 3s 1ms/step - loss: 0.2467 - accuracy: 0.9072\n",
      "Epoch 50/50\n",
      "2500/2500 [==============================] - 3s 1ms/step - loss: 0.2465 - accuracy: 0.9071\n",
      "Evaluate on test data\n",
      "157/157 [==============================] - 0s 1ms/step - loss: 0.3391 - accuracy: 0.8833\n",
      "test loss, test acc: [0.33914631605148315, 0.8833000063896179]\n",
      "\n",
      "\n",
      "              precision    recall  f1-score   support\n",
      "\n",
      "           0       0.86      0.85      0.85      5026\n",
      "           1       0.92      0.90      0.91      5009\n",
      "           2       0.82      0.85      0.84      4969\n",
      "           3       0.93      0.93      0.93      4996\n",
      "\n",
      "    accuracy                           0.88     20000\n",
      "   macro avg       0.88      0.88      0.88     20000\n",
      "weighted avg       0.88      0.88      0.88     20000\n",
      "\n"
     ]
    },
    {
     "data": {
      "text/plain": [
       "<AxesSubplot:title={'center':'Confusion Matrix'}>"
      ]
     },
     "execution_count": 370,
     "metadata": {},
     "output_type": "execute_result"
    },
    {
     "data": {
      "image/png": "[encoded data removed]",
      "text/plain": [
       "<Figure size 432x288 with 1 Axes>"
      ]
     },
     "metadata": {
      "needs_background": "light"
     },
     "output_type": "display_data"
    },
    {
     "data": {
      "image/png": "[encoded data removed]",
      "text/plain": [
       "<Figure size 576x432 with 2 Axes>"
      ]
     },
     "metadata": {
      "needs_background": "light"
     },
     "output_type": "display_data"
    }
   ],
   "source": [
    "import matplotlib.pyplot as plt\n",
    "import tensorflow as tf\n",
    "X = data_.drop([\"type\"], axis = 1)\n",
    "y = data_[\"type\"]\n",
    "def convert(x):\n",
    "    dict_ = {'benign': 0, 'defacement': 1, 'phishing': 2, 'malware': 3}\n",
    "    return dict_[x]\n",
    "y = y.apply(convert)\n",
    "X_train, X_test, y_train, y_test = train_test_split(X, y, test_size=0.2, random_state=42)\n",
    "deep_learning_model = tf.keras.Sequential([\n",
    "    tf.keras.layers.Dense(268, activation = \"relu\"),\n",
    "    tf.keras.layers.Dense(128, activation = \"relu\"),\n",
    "    tf.keras.layers.Dense(64, activation = \"relu\"),\n",
    "    tf.keras.layers.Dense(32, activation = \"relu\"),\n",
    "    tf.keras.layers.Dense(4,activation = \"softmax\")\n",
    "])\n",
    "\n",
    "deep_learning_model.compile(\n",
    "    optimizer='adam',\n",
    "    loss=tf.keras.losses.SparseCategoricalCrossentropy(),\n",
    "    metrics=['accuracy']\n",
    ")\n",
    "\n",
    "history = deep_learning_model.fit(X_train, y_train, epochs=50)\n",
    "print(\"Evaluate on test data\")\n",
    "results = deep_learning_model.evaluate(X_test, y_test, batch_size=128)\n",
    "print(\"test loss, test acc:\", results)\n",
    "pd.DataFrame(history.history).plot()\n",
    "print()\n",
    "print()\n",
    "import seaborn as sns\n",
    "from sklearn.metrics import classification_report, confusion_matrix\n",
    "\n",
    "y_pred = tf.math.argmax(deep_learning_model.predict(X_test), axis = 1)\n",
    "confusion_matrix_ = confusion_matrix(y_test, y_pred)\n",
    "classification_report_ = classification_report(y_test, y_pred , zero_division=1)\n",
    "print(classification_report_)\n",
    "plt.figure(figsize=(8, 6))\n",
    "plt.title(\"Confusion Matrix\")\n",
    "sns.heatmap(confusion_matrix_ ,annot = True)\n"
   ]
  },
  {
   "cell_type": "markdown",
   "id": "62227a04-7480-49b0-9eee-af4390677042",
   "metadata": {},
   "source": [
    "# A final inference function to take one randome url string and classify it with our final models"
   ]
  },
  {
   "cell_type": "code",
   "execution_count": 446,
   "id": "eef962e2-b406-4dc7-89be-0445f976452e",
   "metadata": {},
   "outputs": [],
   "source": [
    "def inference(string):\n",
    "    data = pd.DataFrame({\"url\":[string]})\n",
    "    data[\"qty_dot\"] = data[\"url\"].apply(count_dot)\n",
    "    data[\"qty_hyphen\"] = data[\"url\"].apply(count_hyphen)\n",
    "    data[\"qty_underline\"] = data[\"url\"].apply(count_underline)\n",
    "    data[\"qty_slash\"] = data[\"url\"].apply(count_slash)\n",
    "    data[\"qty_questionmark\"] = data[\"url\"].apply(count_questionmark)\n",
    "    data[\"qty_equalto\"] = data[\"url\"].apply(count_equalto)\n",
    "    data[\"qty_at\"] = data[\"url\"].apply(count_at)    \n",
    "    data[\"qty_and\"] = data[\"url\"].apply(count_and)\n",
    "    data[\"qty_exclamation\"] = data[\"url\"].apply(count_exclamation)\n",
    "    data[\"qty_space\"] = data[\"url\"].apply(count_space)\n",
    "    data[\"url_length\"] = data[\"url\"].apply(len)\n",
    "    data[\"qty_hostname\"] = data[\"url\"].apply(count_hostname)\n",
    "    data[\"domain_name\"] = data[\"url\"].apply(domain_name)\n",
    "    data[\"qty_or\"] = data[\"url\"].apply(count_or)\n",
    "    data[\"qty_tilde\"] = data[\"url\"].apply(count_tilde)\n",
    "    data[\"qty_comma\"] = data[\"url\"].apply(count_comma)\n",
    "    data[\"qty_plus\"] = data[\"url\"].apply(count_plus)\n",
    "    data[\"qty_asterisk\"] = data[\"url\"].apply(count_asterisk)\n",
    "    data[\"qty_hashtag\"] = data[\"url\"].apply(count_hashtag)\n",
    "    data[\"qty_dollar\"] = data[\"url\"].apply(count_dollar)\n",
    "    data[\"qty_percent\"] = data[\"url\"].apply(count_percent)\n",
    "    data[\"qty_dot_hostname\"] = data[\"url\"].apply(count_hostname_dot)\n",
    "    data[\"qty_hyphen_hostname\"] = data[\"url\"].apply(count_hostname_hyphen)\n",
    "    data[\"qty_underline_hostname\"] = data[\"url\"].apply(count_hostname_underline)\n",
    "    data[\"qty_questionmark_hostname\"] = data[\"url\"].apply(count_hostname_questionmark)\n",
    "    data[\"qty_equal_hostname\"] = data[\"url\"].apply(count_hostname_equal)\n",
    "    data[\"qty_at_hostname\"] = data[\"url\"].apply(count_hostname_at)\n",
    "    data[\"qty_and_hostname\"] = data[\"url\"].apply(count_hostname_and)\n",
    "    one_hot_encoded_data = pd.get_dummies(data['domain_name'], drop_first = True)\n",
    "    data.drop('domain_name',inplace = True, axis = 1)\n",
    "    data = pd.concat([data,one_hot_encoded_data], axis = 1)\n",
    "    import copy\n",
    "    new_features = copy.deepcopy(selected_feature_names)\n",
    "    new_features.remove('type')\n",
    "    columns_to_drop = [col for col in data.columns if col != 'url' and col not in new_features]\n",
    "    data.drop(columns_to_drop, inplace=True, axis=1)\n",
    "    for i in new_features:\n",
    "        if i not in data.columns:\n",
    "            data[i] = 0\n",
    "    data = data.drop('url', axis = 1)\n",
    "    dict_ = {0:'benign', 1:'defacement',2:'phishing',3:'malware'}\n",
    "    return dict_[tf.math.argmax(deep_learning_model.predict(data), axis = 1).numpy()[0]], grid_search_best_s_s.best_estimator_.predict(data)\n",
    "    "
   ]
  },
  {
   "cell_type": "code",
   "execution_count": 447,
   "id": "f2d9f85a-3882-4ece-a12c-61097871a002",
   "metadata": {},
   "outputs": [
    {
     "data": {
      "text/plain": [
       "('benign', array(['phishing'], dtype=object))"
      ]
     },
     "execution_count": 447,
     "metadata": {},
     "output_type": "execute_result"
    }
   ],
   "source": [
    "inference(\"https://quillbot.com/grammar-check\")"
   ]
  },
  {
   "cell_type": "code",
   "execution_count": null,
   "id": "a368acf6-2e39-43a6-bfa6-37e844f0c338",
   "metadata": {},
   "outputs": [],
   "source": []
  }
 ],
 "metadata": {
  "colab": {
   "provenance": []
  },
  "kernelspec": {
   "display_name": "Python 3",
   "language": "python",
   "name": "python3"
  },
  "language_info": {
   "codemirror_mode": {
    "name": "ipython",
    "version": 3
   },
   "file_extension": ".py",
   "mimetype": "text/x-python",
   "name": "python",
   "nbconvert_exporter": "python",
   "pygments_lexer": "ipython3",
   "version": "3.9.7"
  }
 },
 "nbformat": 4,
 "nbformat_minor": 5
}
